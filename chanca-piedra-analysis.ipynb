{
 "cells": [
  {
   "cell_type": "code",
   "execution_count": 1,
   "metadata": {},
   "outputs": [],
   "source": [
    "import pandas as pd\n",
    "import plotly.express as px\n",
    "import plotly.graph_objects as go\n",
    "from pathlib import Path\n",
    "import numpy as np"
   ]
  },
  {
   "cell_type": "code",
   "execution_count": 2,
   "metadata": {},
   "outputs": [],
   "source": [
    "PLOT_PARAMS = {\n",
    "    'width': 400,\n",
    "    'height': 200,\n",
    "    'margin': dict(l=50, r=50, t=50, b=50),\n",
    "    'title_font_size': 14\n",
    "}\n",
    "\n",
    "figfolder = \"docs/\"\n",
    "export_to_gdoc = False\n",
    "\n",
    "def get_text_color():\n",
    "    return 'black' if export_to_gdoc else 'white'\n",
    "\n",
    "def create_rating_distribution(df, medicine):\n",
    "    \"\"\"Create a bar plot for rating distribution of a single medicine.\"\"\"\n",
    "    bins = [1.0, 2.0, 3.0, 4.0, 5.0, 5.1]\n",
    "    counts, _ = np.histogram(df[df['Medicine'] == medicine]['Overall Rating'], bins=bins)\n",
    "    \n",
    "    fig = go.Figure(data=[\n",
    "        go.Bar(\n",
    "            x=[1, 2, 3, 4, 5],\n",
    "            y=counts,\n",
    "            width=0.8,\n",
    "            hovertemplate=(\n",
    "                \"Overall Rating: %{customdata}<br>\" +\n",
    "                \"Count: %{y}\" +\n",
    "                \"<extra></extra>\"\n",
    "            ),\n",
    "            customdata=[\"1-1.9\", \"2-2.9\", \"3-3.9\", \"4-4.9\", \"5\"]\n",
    "        )\n",
    "    ])\n",
    "\n",
    "    fig.update_layout(\n",
    "        title=f'Distribution of Ratings: {medicine}',\n",
    "        xaxis_title='Rating',\n",
    "        yaxis_title='Count',\n",
    "        template='plotly_white',\n",
    "        width=PLOT_PARAMS['width'],\n",
    "        height=PLOT_PARAMS['height'],\n",
    "        bargap=0.1,\n",
    "        margin=PLOT_PARAMS['margin'],\n",
    "        title_font_size=PLOT_PARAMS['title_font_size'],\n",
    "        xaxis=dict(\n",
    "            tickmode='array',\n",
    "            tickvals=[1, 2, 3, 4, 5],\n",
    "            ticktext=['1', '2', '3', '4', '5'],\n",
    "            range=[0.5, 5.5]\n",
    "        )\n",
    "    )\n",
    "    \n",
    "    return fig"
   ]
  },
  {
   "cell_type": "code",
   "execution_count": 4,
   "metadata": {},
   "outputs": [],
   "source": [
    "def create_grouped_rating_distribution(df):\n",
    "    \"\"\"Create a grouped bar plot comparing rating distributions across medicines.\"\"\"\n",
    "    all_data = []\n",
    "    for medicine in sorted(df['Medicine'].unique()):\n",
    "        medicine_data = df[df['Medicine'] == medicine]\n",
    "        bins = [1.0, 2.0, 3.0, 4.0, 5.0, 5.1]\n",
    "        counts, _ = np.histogram(medicine_data['Overall Rating'], bins=bins)\n",
    "        \n",
    "        percentages = (counts / len(medicine_data)) * 100\n",
    "        ratings_df = pd.DataFrame({\n",
    "            'Rating': [1, 2, 3, 4, 5],\n",
    "            'Percentage': percentages,\n",
    "            'Medicine': medicine,\n",
    "            'RatingRange': ['[1,2)', '[2,3)', '[3,4)', '[4,5)', '5']\n",
    "        })\n",
    "        all_data.append(ratings_df)\n",
    "\n",
    "    plot_df = pd.concat(all_data)\n",
    "    \n",
    "    fig = px.bar(plot_df, \n",
    "                 x='Rating', \n",
    "                 y='Percentage',\n",
    "                 color='Medicine',\n",
    "                 barmode='group',\n",
    "                 width=PLOT_PARAMS['width'] * 2.0,\n",
    "                 height=PLOT_PARAMS['height']* 2.0,)\n",
    "\n",
    "    fig.update_layout(\n",
    "        title='Distribution of ratings by product (percentage)',\n",
    "        xaxis_title='Rating',\n",
    "        yaxis_title='Percentage of Reviews',\n",
    "        template='plotly_white',\n",
    "        bargap=0.15,\n",
    "        bargroupgap=0.1,\n",
    "        margin=PLOT_PARAMS['margin'],\n",
    "        title_font_size=PLOT_PARAMS['title_font_size'],\n",
    "        xaxis=dict(\n",
    "            tickmode='array',\n",
    "            tickvals=[1, 2, 3, 4, 5],\n",
    "            ticktext=['[1,2)', '[2,3)', '[3,4)', '[4,5)', '5'],\n",
    "            range=[0.5, 5.5]\n",
    "        ),\n",
    "        legend=dict(\n",
    "            orientation='h',\n",
    "            yanchor='top',\n",
    "            y=-0.25,\n",
    "            xanchor='center',\n",
    "            x=0.5,\n",
    "            title=None\n",
    "        ),\n",
    "        # autosize=True,\n",
    "    )\n",
    "\n",
    "    for medicine_name in plot_df['Medicine'].unique():\n",
    "        medicine_data = plot_df[plot_df['Medicine'] == medicine_name]\n",
    "        fig.update_traces(\n",
    "            customdata=medicine_data[['Medicine', 'RatingRange']].values,\n",
    "            hovertemplate=(\n",
    "                \"%{customdata[0]}<br>\" +\n",
    "                \"Rating: %{customdata[1]}<br>\" +\n",
    "                \"Percentage: %{y:.1f}%\" +\n",
    "                \"<extra></extra>\"\n",
    "            ),\n",
    "            selector=dict(name=medicine_name)\n",
    "        )\n",
    "    \n",
    "    return fig"
   ]
  },
  {
   "cell_type": "code",
   "execution_count": 5,
   "metadata": {},
   "outputs": [],
   "source": [
    "def get_chanca_piedra_weights(df):\n",
    "    \"\"\"\n",
    "    Calculate weights for Chanca piedra reviews based on the true vs scraped distribution.\n",
    "    Returns a Series with the weight for each review.\n",
    "    \"\"\"\n",
    "    weights = pd.Series(1.0, index=df.index)\n",
    " \n",
    "    chanca_piedra_corrections = {\n",
    "    \"NaturalisimoLife Chanca Piedra 1600 mg\": {\n",
    "        \"scraped\": [82, 18, 37, 103, 146],  # 1-5 stars\n",
    "        \"actual\": [82, 18, 38, 103, 906]\n",
    "    },\n",
    "    \"EU Natural: \\\"Stone Breaker\\\" chanca piedra\": {\n",
    "        \"scraped\": [102, 44, 50, 100, 138],  # 1-5 stars\n",
    "        \"actual\": [123, 44, 50, 131, 918]\n",
    "    }\n",
    "}\n",
    "    for brand, data in chanca_piedra_corrections.items():\n",
    "        # Create mask for this specific brand\n",
    "        mask = (df['Medicine'] == 'Chanca piedra') & (df['Source'] == brand)\n",
    "        brand_reviews = df[mask]\n",
    "        \n",
    "        if len(brand_reviews) > 0:\n",
    "            # Create weight mapping for each star rating\n",
    "            for i in range(5):\n",
    "                scraped = data['scraped'][i]\n",
    "                actual = data['actual'][i]\n",
    "                if scraped > 0:  # Avoid division by zero\n",
    "                    weight = actual / scraped\n",
    "                    # Get indices where both conditions are true\n",
    "                    indices = df.index[mask & (df['Stars'] == (i + 1))]\n",
    "                    # Update weights for these indices\n",
    "                    weights.loc[indices] = weight\n",
    "    \n",
    "    return weights"
   ]
  },
  {
   "cell_type": "code",
   "execution_count": 11,
   "metadata": {},
   "outputs": [],
   "source": [
    "def calculate_weighted_stats(df, columns_to_analyze, medicines_to_exclude=None, medicine_mapping=None, all_medicines=None, is_amazon_data=False):\n",
    "    \"\"\"Calculate statistics for the given dataframe with configurable exclusions and mappings.\"\"\"\n",
    "    if medicines_to_exclude is None:\n",
    "        medicines_to_exclude = []\n",
    "    if medicine_mapping is None:\n",
    "        medicine_mapping = {}\n",
    "    \n",
    "    # Get weights for Chanca piedra reviews\n",
    "    weights = get_chanca_piedra_weights(df) if is_amazon_data else pd.Series(1.0, index=df.index)\n",
    "    \n",
    "    # Modify the groupby aggregation to use weights\n",
    "    summary = df.groupby('Medicine').agg(\n",
    "        total_reviews_weighted=('Medicine', lambda x: weights[x.index].sum()),  # Weighted count\n",
    "        total_reviews=('Medicine', 'size'),  # Actual count\n",
    "        **{\n",
    "            f'{col}_positive': (col, lambda x: sum(\n",
    "                weights[x.index[i]] for i, val in enumerate(x) \n",
    "                if val == 1 or (isinstance(val, str) and val.strip())\n",
    "            ))\n",
    "            for col in columns_to_analyze\n",
    "        },\n",
    "        **{\n",
    "            f'{col}_negative': (col, lambda x: sum(\n",
    "                weights[x.index[i]] for i, val in enumerate(x) \n",
    "                if val == 0\n",
    "            ))\n",
    "            for col in columns_to_analyze\n",
    "        }\n",
    "    ).reset_index()\n",
    "    \n",
    "    # Create a DataFrame with all medicines and zero counts\n",
    "    full_summary = pd.DataFrame({'Medicine': all_medicines or sorted(df['Medicine'].unique())})\n",
    "    full_summary = full_summary[~full_summary['Medicine'].isin(medicines_to_exclude)]\n",
    "    \n",
    "    # Merge with the actual data, filling missing values selectively\n",
    "    summary = pd.merge(\n",
    "        full_summary,\n",
    "        summary,\n",
    "        on='Medicine',\n",
    "        how='left'\n",
    "    )\n",
    "    \n",
    "    # Fill NaN values with 0, but preserve total_reviews as integer\n",
    "    summary['total_reviews'] = summary['total_reviews'].fillna(0).astype(int)\n",
    "    summary['total_reviews_weighted'] = summary['total_reviews_weighted'].fillna(0).astype(float)\n",
    "    for col in columns_to_analyze:\n",
    "        summary[f'{col}_positive'] = summary[f'{col}_positive'].fillna(0)\n",
    "        summary[f'{col}_negative'] = summary[f'{col}_negative'].fillna(0)\n",
    "    \n",
    "    for col in columns_to_analyze:\n",
    "        # Use weighted totals for percentage calculations\n",
    "        denominator = summary.apply(\n",
    "            lambda row: row['total_reviews_weighted'] if row['Medicine'] == 'Chanca piedra' else row['total_reviews'],\n",
    "            axis=1\n",
    "        )\n",
    "        \n",
    "        # Handle division by zero for percentage calculations\n",
    "        summary[f'{col}_positive_pct'] = (\n",
    "            summary[f'{col}_positive'] / denominator * 100\n",
    "        ).fillna(0).round(1)\n",
    "        summary[f'{col}_negative_pct'] = (\n",
    "            summary[f'{col}_negative'] / denominator * 100\n",
    "        ).fillna(0).round(1)\n",
    "        summary[f'{col}_no_info_pct'] = (\n",
    "            (denominator - summary[f'{col}_positive'] - summary[f'{col}_negative']) \n",
    "            / denominator * 100\n",
    "        ).fillna(0).round(1)\n",
    "    \n",
    "    transposed_data = {\n",
    "        ' ': ['<b>Total Reviews</b>'] + \n",
    "            sum([[f'<b>{col}</b>', \n",
    "                 '    Yes', \n",
    "                 '    No', \n",
    "                 '    No information'] \n",
    "                for col in columns_to_analyze], []),\n",
    "        **{medicine_mapping.get(row['Medicine'], row['Medicine']): [\n",
    "            int(row['total_reviews'] if row['Medicine'] != 'Chanca piedra' else row['total_reviews'])] + \n",
    "            sum([[\n",
    "                '',\n",
    "                row[f'{col}_positive_pct'],\n",
    "                row[f'{col}_negative_pct'],\n",
    "                row[f'{col}_no_info_pct']\n",
    "            ] for col in columns_to_analyze], [])\n",
    "           for _, row in summary.iterrows()}\n",
    "    }\n",
    "    \n",
    "    display_df = pd.DataFrame(transposed_data).set_index(' ')\n",
    "    return display_df"
   ]
  },
  {
   "cell_type": "code",
   "execution_count": 65,
   "metadata": {},
   "outputs": [],
   "source": [
    "def create_table(dfa, columns_to_analyze, medicines_to_exclude, medicine_mapping, filters=None, high_quality_reviews_only=False, is_amazon_data=False):\n",
    "    \"\"\"\n",
    "    Create table (with weighted statistics for Amazon reviews).\n",
    "    \"\"\"\n",
    "    \n",
    "    # Store the complete list of medicines before filtering\n",
    "    all_medicines = sorted(dfa['Medicine'].unique())\n",
    "    \n",
    "    # Apply filters\n",
    "    if filters is not None:\n",
    "        for column, value in filters.items():\n",
    "            dfa = dfa[dfa[column] == value]\n",
    "    elif high_quality_reviews_only:\n",
    "        dfa = dfa[dfa['Super high quality'] == 1]\n",
    "    \n",
    "    stats_df = calculate_weighted_stats(\n",
    "        dfa,\n",
    "        columns_to_analyze,\n",
    "        medicines_to_exclude=medicines_to_exclude,\n",
    "        medicine_mapping=medicine_mapping,\n",
    "        all_medicines=all_medicines,\n",
    "        is_amazon_data=is_amazon_data\n",
    "    )\n",
    "    \n",
    "    return stats_df"
   ]
  },
  {
   "cell_type": "code",
   "execution_count": 66,
   "metadata": {},
   "outputs": [],
   "source": [
    "def style_dataframe(df):\n",
    "    \"\"\"Apply consistent styling to the dataframe.\"\"\"\n",
    "    return df.style\\\n",
    "        .set_table_styles([\n",
    "            {'selector': '',\n",
    "             'props': [('color', get_text_color())]},\n",
    "        ])\\\n",
    "        .format(lambda x: f'{x:,.0f}' if isinstance(x, (int, float)) and str(x).isdigit() \n",
    "                else (f'{x:.0f}%' if isinstance(x, float) and x.is_integer() \n",
    "                else f'{x:.1f}%' if isinstance(x, float) \n",
    "                else x))"
   ]
  },
  {
   "cell_type": "code",
   "execution_count": 90,
   "metadata": {},
   "outputs": [],
   "source": [
    "columns_to_analyze = [\n",
    "    'Helps overall with kidney stones',\n",
    "    'Side effects mentioned',\n",
    "    'Works as a prophylactic',\n",
    "    'Asserts significant pain reduction',\n",
    "    'Mentions breaking of stones',\n",
    "    'Mentions shrinking of the stones',\n",
    "    'Mentions softening of stones',\n",
    "    'Stone passed with no or almost no pain',\n",
    "    'Helps overall with gallstones',\n",
    "]\n",
    "\n",
    "table_cases = {\n",
    "    'All Reviews': \"\",\n",
    "    'Super high quality': \"-high-quality\",\n",
    "    'Says that has suffered from condition for a long time (>1 year)': \"-long-time\",\n",
    "    'Someone who makes large amounts of stones (>10 total)': \"-stoner\"\n",
    "}"
   ]
  },
  {
   "cell_type": "markdown",
   "metadata": {},
   "source": [
    "# 1. WebMD Reviews Analysis"
   ]
  },
  {
   "cell_type": "code",
   "execution_count": 91,
   "metadata": {},
   "outputs": [
    {
     "name": "stdout",
     "output_type": "stream",
     "text": [
      "Successfully loaded 1567 rows of data\n"
     ]
    }
   ],
   "source": [
    "dfw = pd.read_csv('csv-files/Kidney Stone Reviews - Reviews - WebMD.csv')\n",
    "print(f\"Successfully loaded {len(dfw)} rows of data\")"
   ]
  },
  {
   "cell_type": "code",
   "execution_count": 92,
   "metadata": {},
   "outputs": [
    {
     "data": {
      "application/vnd.plotly.v1+json": {
       "config": {
        "plotlyServerURL": "https://plot.ly"
       },
       "data": [
        {
         "alignmentgroup": "True",
         "customdata": [
          [
           "Allopurinol",
           "[1,2)"
          ],
          [
           "Allopurinol",
           "[2,3)"
          ],
          [
           "Allopurinol",
           "[3,4)"
          ],
          [
           "Allopurinol",
           "[4,5)"
          ],
          [
           "Allopurinol",
           "5"
          ]
         ],
         "hovertemplate": "%{customdata[0]}<br>Rating: %{customdata[1]}<br>Percentage: %{y:.1f}%<extra></extra>",
         "legendgroup": "Allopurinol",
         "marker": {
          "color": "#636efa",
          "pattern": {
           "shape": ""
          }
         },
         "name": "Allopurinol",
         "offsetgroup": "Allopurinol",
         "orientation": "v",
         "showlegend": true,
         "textposition": "auto",
         "type": "bar",
         "x": [
          1,
          2,
          3,
          4,
          5
         ],
         "xaxis": "x",
         "y": [
          38.46153846153847,
          7.6923076923076925,
          7.6923076923076925,
          7.6923076923076925,
          38.46153846153847
         ],
         "yaxis": "y"
        },
        {
         "alignmentgroup": "True",
         "customdata": [
          [
           "Ashwagandha",
           "[1,2)"
          ],
          [
           "Ashwagandha",
           "[2,3)"
          ],
          [
           "Ashwagandha",
           "[3,4)"
          ],
          [
           "Ashwagandha",
           "[4,5)"
          ],
          [
           "Ashwagandha",
           "5"
          ]
         ],
         "hovertemplate": "%{customdata[0]}<br>Rating: %{customdata[1]}<br>Percentage: %{y:.1f}%<extra></extra>",
         "legendgroup": "Ashwagandha",
         "marker": {
          "color": "#EF553B",
          "pattern": {
           "shape": ""
          }
         },
         "name": "Ashwagandha",
         "offsetgroup": "Ashwagandha",
         "orientation": "v",
         "showlegend": true,
         "textposition": "auto",
         "type": "bar",
         "x": [
          1,
          2,
          3,
          4,
          5
         ],
         "xaxis": "x",
         "y": [
          17.712177121771216,
          14.022140221402212,
          11.07011070110701,
          23.616236162361623,
          33.579335793357934
         ],
         "yaxis": "y"
        },
        {
         "alignmentgroup": "True",
         "customdata": [
          [
           "Black seed",
           "[1,2)"
          ],
          [
           "Black seed",
           "[2,3)"
          ],
          [
           "Black seed",
           "[3,4)"
          ],
          [
           "Black seed",
           "[4,5)"
          ],
          [
           "Black seed",
           "5"
          ]
         ],
         "hovertemplate": "%{customdata[0]}<br>Rating: %{customdata[1]}<br>Percentage: %{y:.1f}%<extra></extra>",
         "legendgroup": "Black seed",
         "marker": {
          "color": "#00cc96",
          "pattern": {
           "shape": ""
          }
         },
         "name": "Black seed",
         "offsetgroup": "Black seed",
         "orientation": "v",
         "showlegend": true,
         "textposition": "auto",
         "type": "bar",
         "x": [
          1,
          2,
          3,
          4,
          5
         ],
         "xaxis": "x",
         "y": [
          11.688311688311687,
          7.792207792207792,
          6.493506493506493,
          25.97402597402597,
          48.05194805194805
         ],
         "yaxis": "y"
        },
        {
         "alignmentgroup": "True",
         "customdata": [
          [
           "Chanca piedra",
           "[1,2)"
          ],
          [
           "Chanca piedra",
           "[2,3)"
          ],
          [
           "Chanca piedra",
           "[3,4)"
          ],
          [
           "Chanca piedra",
           "[4,5)"
          ],
          [
           "Chanca piedra",
           "5"
          ]
         ],
         "hovertemplate": "%{customdata[0]}<br>Rating: %{customdata[1]}<br>Percentage: %{y:.1f}%<extra></extra>",
         "legendgroup": "Chanca piedra",
         "marker": {
          "color": "#ab63fa",
          "pattern": {
           "shape": ""
          }
         },
         "name": "Chanca piedra",
         "offsetgroup": "Chanca piedra",
         "orientation": "v",
         "showlegend": true,
         "textposition": "auto",
         "type": "bar",
         "x": [
          1,
          2,
          3,
          4,
          5
         ],
         "xaxis": "x",
         "y": [
          0,
          6.896551724137931,
          2.2988505747126435,
          12.643678160919542,
          78.16091954022988
         ],
         "yaxis": "y"
        },
        {
         "alignmentgroup": "True",
         "customdata": [
          [
           "Flomax",
           "[1,2)"
          ],
          [
           "Flomax",
           "[2,3)"
          ],
          [
           "Flomax",
           "[3,4)"
          ],
          [
           "Flomax",
           "[4,5)"
          ],
          [
           "Flomax",
           "5"
          ]
         ],
         "hovertemplate": "%{customdata[0]}<br>Rating: %{customdata[1]}<br>Percentage: %{y:.1f}%<extra></extra>",
         "legendgroup": "Flomax",
         "marker": {
          "color": "#FFA15A",
          "pattern": {
           "shape": ""
          }
         },
         "name": "Flomax",
         "offsetgroup": "Flomax",
         "orientation": "v",
         "showlegend": true,
         "textposition": "auto",
         "type": "bar",
         "x": [
          1,
          2,
          3,
          4,
          5
         ],
         "xaxis": "x",
         "y": [
          36.36363636363637,
          27.27272727272727,
          9.090909090909092,
          13.636363636363635,
          13.636363636363635
         ],
         "yaxis": "y"
        },
        {
         "alignmentgroup": "True",
         "customdata": [
          [
           "Garcinia",
           "[1,2)"
          ],
          [
           "Garcinia",
           "[2,3)"
          ],
          [
           "Garcinia",
           "[3,4)"
          ],
          [
           "Garcinia",
           "[4,5)"
          ],
          [
           "Garcinia",
           "5"
          ]
         ],
         "hovertemplate": "%{customdata[0]}<br>Rating: %{customdata[1]}<br>Percentage: %{y:.1f}%<extra></extra>",
         "legendgroup": "Garcinia",
         "marker": {
          "color": "#19d3f3",
          "pattern": {
           "shape": ""
          }
         },
         "name": "Garcinia",
         "offsetgroup": "Garcinia",
         "orientation": "v",
         "showlegend": true,
         "textposition": "auto",
         "type": "bar",
         "x": [
          1,
          2,
          3,
          4,
          5
         ],
         "xaxis": "x",
         "y": [
          34.753363228699556,
          28.139013452914796,
          10.986547085201794,
          13.004484304932735,
          13.11659192825112
         ],
         "yaxis": "y"
        },
        {
         "alignmentgroup": "True",
         "customdata": [
          [
           "Hydrochlorothiazide",
           "[1,2)"
          ],
          [
           "Hydrochlorothiazide",
           "[2,3)"
          ],
          [
           "Hydrochlorothiazide",
           "[3,4)"
          ],
          [
           "Hydrochlorothiazide",
           "[4,5)"
          ],
          [
           "Hydrochlorothiazide",
           "5"
          ]
         ],
         "hovertemplate": "%{customdata[0]}<br>Rating: %{customdata[1]}<br>Percentage: %{y:.1f}%<extra></extra>",
         "legendgroup": "Hydrochlorothiazide",
         "marker": {
          "color": "#FF6692",
          "pattern": {
           "shape": ""
          }
         },
         "name": "Hydrochlorothiazide",
         "offsetgroup": "Hydrochlorothiazide",
         "orientation": "v",
         "showlegend": true,
         "textposition": "auto",
         "type": "bar",
         "x": [
          1,
          2,
          3,
          4,
          5
         ],
         "xaxis": "x",
         "y": [
          15,
          20,
          20,
          25,
          20
         ],
         "yaxis": "y"
        },
        {
         "alignmentgroup": "True",
         "customdata": [
          [
           "Melatonin",
           "[1,2)"
          ],
          [
           "Melatonin",
           "[2,3)"
          ],
          [
           "Melatonin",
           "[3,4)"
          ],
          [
           "Melatonin",
           "[4,5)"
          ],
          [
           "Melatonin",
           "5"
          ]
         ],
         "hovertemplate": "%{customdata[0]}<br>Rating: %{customdata[1]}<br>Percentage: %{y:.1f}%<extra></extra>",
         "legendgroup": "Melatonin",
         "marker": {
          "color": "#B6E880",
          "pattern": {
           "shape": ""
          }
         },
         "name": "Melatonin",
         "offsetgroup": "Melatonin",
         "orientation": "v",
         "showlegend": true,
         "textposition": "auto",
         "type": "bar",
         "x": [
          1,
          2,
          3,
          4,
          5
         ],
         "xaxis": "x",
         "y": [
          14.906832298136646,
          14.906832298136646,
          19.875776397515526,
          23.60248447204969,
          26.70807453416149
         ],
         "yaxis": "y"
        },
        {
         "alignmentgroup": "True",
         "customdata": [
          [
           "Potassium citrate",
           "[1,2)"
          ],
          [
           "Potassium citrate",
           "[2,3)"
          ],
          [
           "Potassium citrate",
           "[3,4)"
          ],
          [
           "Potassium citrate",
           "[4,5)"
          ],
          [
           "Potassium citrate",
           "5"
          ]
         ],
         "hovertemplate": "%{customdata[0]}<br>Rating: %{customdata[1]}<br>Percentage: %{y:.1f}%<extra></extra>",
         "legendgroup": "Potassium citrate",
         "marker": {
          "color": "#FF97FF",
          "pattern": {
           "shape": ""
          }
         },
         "name": "Potassium citrate",
         "offsetgroup": "Potassium citrate",
         "orientation": "v",
         "showlegend": true,
         "textposition": "auto",
         "type": "bar",
         "x": [
          1,
          2,
          3,
          4,
          5
         ],
         "xaxis": "x",
         "y": [
          20.833333333333336,
          25,
          20.833333333333336,
          8.333333333333332,
          25
         ],
         "yaxis": "y"
        }
       ],
       "layout": {
        "bargap": 0.15,
        "bargroupgap": 0.1,
        "barmode": "group",
        "height": 400,
        "legend": {
         "orientation": "h",
         "title": {},
         "tracegroupgap": 0,
         "x": 0.5,
         "xanchor": "center",
         "y": -0.25,
         "yanchor": "top"
        },
        "margin": {
         "b": 50,
         "l": 50,
         "r": 50,
         "t": 50
        },
        "template": {
         "data": {
          "bar": [
           {
            "error_x": {
             "color": "#2a3f5f"
            },
            "error_y": {
             "color": "#2a3f5f"
            },
            "marker": {
             "line": {
              "color": "white",
              "width": 0.5
             },
             "pattern": {
              "fillmode": "overlay",
              "size": 10,
              "solidity": 0.2
             }
            },
            "type": "bar"
           }
          ],
          "barpolar": [
           {
            "marker": {
             "line": {
              "color": "white",
              "width": 0.5
             },
             "pattern": {
              "fillmode": "overlay",
              "size": 10,
              "solidity": 0.2
             }
            },
            "type": "barpolar"
           }
          ],
          "carpet": [
           {
            "aaxis": {
             "endlinecolor": "#2a3f5f",
             "gridcolor": "#C8D4E3",
             "linecolor": "#C8D4E3",
             "minorgridcolor": "#C8D4E3",
             "startlinecolor": "#2a3f5f"
            },
            "baxis": {
             "endlinecolor": "#2a3f5f",
             "gridcolor": "#C8D4E3",
             "linecolor": "#C8D4E3",
             "minorgridcolor": "#C8D4E3",
             "startlinecolor": "#2a3f5f"
            },
            "type": "carpet"
           }
          ],
          "choropleth": [
           {
            "colorbar": {
             "outlinewidth": 0,
             "ticks": ""
            },
            "type": "choropleth"
           }
          ],
          "contour": [
           {
            "colorbar": {
             "outlinewidth": 0,
             "ticks": ""
            },
            "colorscale": [
             [
              0,
              "#0d0887"
             ],
             [
              0.1111111111111111,
              "#46039f"
             ],
             [
              0.2222222222222222,
              "#7201a8"
             ],
             [
              0.3333333333333333,
              "#9c179e"
             ],
             [
              0.4444444444444444,
              "#bd3786"
             ],
             [
              0.5555555555555556,
              "#d8576b"
             ],
             [
              0.6666666666666666,
              "#ed7953"
             ],
             [
              0.7777777777777778,
              "#fb9f3a"
             ],
             [
              0.8888888888888888,
              "#fdca26"
             ],
             [
              1,
              "#f0f921"
             ]
            ],
            "type": "contour"
           }
          ],
          "contourcarpet": [
           {
            "colorbar": {
             "outlinewidth": 0,
             "ticks": ""
            },
            "type": "contourcarpet"
           }
          ],
          "heatmap": [
           {
            "colorbar": {
             "outlinewidth": 0,
             "ticks": ""
            },
            "colorscale": [
             [
              0,
              "#0d0887"
             ],
             [
              0.1111111111111111,
              "#46039f"
             ],
             [
              0.2222222222222222,
              "#7201a8"
             ],
             [
              0.3333333333333333,
              "#9c179e"
             ],
             [
              0.4444444444444444,
              "#bd3786"
             ],
             [
              0.5555555555555556,
              "#d8576b"
             ],
             [
              0.6666666666666666,
              "#ed7953"
             ],
             [
              0.7777777777777778,
              "#fb9f3a"
             ],
             [
              0.8888888888888888,
              "#fdca26"
             ],
             [
              1,
              "#f0f921"
             ]
            ],
            "type": "heatmap"
           }
          ],
          "heatmapgl": [
           {
            "colorbar": {
             "outlinewidth": 0,
             "ticks": ""
            },
            "colorscale": [
             [
              0,
              "#0d0887"
             ],
             [
              0.1111111111111111,
              "#46039f"
             ],
             [
              0.2222222222222222,
              "#7201a8"
             ],
             [
              0.3333333333333333,
              "#9c179e"
             ],
             [
              0.4444444444444444,
              "#bd3786"
             ],
             [
              0.5555555555555556,
              "#d8576b"
             ],
             [
              0.6666666666666666,
              "#ed7953"
             ],
             [
              0.7777777777777778,
              "#fb9f3a"
             ],
             [
              0.8888888888888888,
              "#fdca26"
             ],
             [
              1,
              "#f0f921"
             ]
            ],
            "type": "heatmapgl"
           }
          ],
          "histogram": [
           {
            "marker": {
             "pattern": {
              "fillmode": "overlay",
              "size": 10,
              "solidity": 0.2
             }
            },
            "type": "histogram"
           }
          ],
          "histogram2d": [
           {
            "colorbar": {
             "outlinewidth": 0,
             "ticks": ""
            },
            "colorscale": [
             [
              0,
              "#0d0887"
             ],
             [
              0.1111111111111111,
              "#46039f"
             ],
             [
              0.2222222222222222,
              "#7201a8"
             ],
             [
              0.3333333333333333,
              "#9c179e"
             ],
             [
              0.4444444444444444,
              "#bd3786"
             ],
             [
              0.5555555555555556,
              "#d8576b"
             ],
             [
              0.6666666666666666,
              "#ed7953"
             ],
             [
              0.7777777777777778,
              "#fb9f3a"
             ],
             [
              0.8888888888888888,
              "#fdca26"
             ],
             [
              1,
              "#f0f921"
             ]
            ],
            "type": "histogram2d"
           }
          ],
          "histogram2dcontour": [
           {
            "colorbar": {
             "outlinewidth": 0,
             "ticks": ""
            },
            "colorscale": [
             [
              0,
              "#0d0887"
             ],
             [
              0.1111111111111111,
              "#46039f"
             ],
             [
              0.2222222222222222,
              "#7201a8"
             ],
             [
              0.3333333333333333,
              "#9c179e"
             ],
             [
              0.4444444444444444,
              "#bd3786"
             ],
             [
              0.5555555555555556,
              "#d8576b"
             ],
             [
              0.6666666666666666,
              "#ed7953"
             ],
             [
              0.7777777777777778,
              "#fb9f3a"
             ],
             [
              0.8888888888888888,
              "#fdca26"
             ],
             [
              1,
              "#f0f921"
             ]
            ],
            "type": "histogram2dcontour"
           }
          ],
          "mesh3d": [
           {
            "colorbar": {
             "outlinewidth": 0,
             "ticks": ""
            },
            "type": "mesh3d"
           }
          ],
          "parcoords": [
           {
            "line": {
             "colorbar": {
              "outlinewidth": 0,
              "ticks": ""
             }
            },
            "type": "parcoords"
           }
          ],
          "pie": [
           {
            "automargin": true,
            "type": "pie"
           }
          ],
          "scatter": [
           {
            "fillpattern": {
             "fillmode": "overlay",
             "size": 10,
             "solidity": 0.2
            },
            "type": "scatter"
           }
          ],
          "scatter3d": [
           {
            "line": {
             "colorbar": {
              "outlinewidth": 0,
              "ticks": ""
             }
            },
            "marker": {
             "colorbar": {
              "outlinewidth": 0,
              "ticks": ""
             }
            },
            "type": "scatter3d"
           }
          ],
          "scattercarpet": [
           {
            "marker": {
             "colorbar": {
              "outlinewidth": 0,
              "ticks": ""
             }
            },
            "type": "scattercarpet"
           }
          ],
          "scattergeo": [
           {
            "marker": {
             "colorbar": {
              "outlinewidth": 0,
              "ticks": ""
             }
            },
            "type": "scattergeo"
           }
          ],
          "scattergl": [
           {
            "marker": {
             "colorbar": {
              "outlinewidth": 0,
              "ticks": ""
             }
            },
            "type": "scattergl"
           }
          ],
          "scattermapbox": [
           {
            "marker": {
             "colorbar": {
              "outlinewidth": 0,
              "ticks": ""
             }
            },
            "type": "scattermapbox"
           }
          ],
          "scatterpolar": [
           {
            "marker": {
             "colorbar": {
              "outlinewidth": 0,
              "ticks": ""
             }
            },
            "type": "scatterpolar"
           }
          ],
          "scatterpolargl": [
           {
            "marker": {
             "colorbar": {
              "outlinewidth": 0,
              "ticks": ""
             }
            },
            "type": "scatterpolargl"
           }
          ],
          "scatterternary": [
           {
            "marker": {
             "colorbar": {
              "outlinewidth": 0,
              "ticks": ""
             }
            },
            "type": "scatterternary"
           }
          ],
          "surface": [
           {
            "colorbar": {
             "outlinewidth": 0,
             "ticks": ""
            },
            "colorscale": [
             [
              0,
              "#0d0887"
             ],
             [
              0.1111111111111111,
              "#46039f"
             ],
             [
              0.2222222222222222,
              "#7201a8"
             ],
             [
              0.3333333333333333,
              "#9c179e"
             ],
             [
              0.4444444444444444,
              "#bd3786"
             ],
             [
              0.5555555555555556,
              "#d8576b"
             ],
             [
              0.6666666666666666,
              "#ed7953"
             ],
             [
              0.7777777777777778,
              "#fb9f3a"
             ],
             [
              0.8888888888888888,
              "#fdca26"
             ],
             [
              1,
              "#f0f921"
             ]
            ],
            "type": "surface"
           }
          ],
          "table": [
           {
            "cells": {
             "fill": {
              "color": "#EBF0F8"
             },
             "line": {
              "color": "white"
             }
            },
            "header": {
             "fill": {
              "color": "#C8D4E3"
             },
             "line": {
              "color": "white"
             }
            },
            "type": "table"
           }
          ]
         },
         "layout": {
          "annotationdefaults": {
           "arrowcolor": "#2a3f5f",
           "arrowhead": 0,
           "arrowwidth": 1
          },
          "autotypenumbers": "strict",
          "coloraxis": {
           "colorbar": {
            "outlinewidth": 0,
            "ticks": ""
           }
          },
          "colorscale": {
           "diverging": [
            [
             0,
             "#8e0152"
            ],
            [
             0.1,
             "#c51b7d"
            ],
            [
             0.2,
             "#de77ae"
            ],
            [
             0.3,
             "#f1b6da"
            ],
            [
             0.4,
             "#fde0ef"
            ],
            [
             0.5,
             "#f7f7f7"
            ],
            [
             0.6,
             "#e6f5d0"
            ],
            [
             0.7,
             "#b8e186"
            ],
            [
             0.8,
             "#7fbc41"
            ],
            [
             0.9,
             "#4d9221"
            ],
            [
             1,
             "#276419"
            ]
           ],
           "sequential": [
            [
             0,
             "#0d0887"
            ],
            [
             0.1111111111111111,
             "#46039f"
            ],
            [
             0.2222222222222222,
             "#7201a8"
            ],
            [
             0.3333333333333333,
             "#9c179e"
            ],
            [
             0.4444444444444444,
             "#bd3786"
            ],
            [
             0.5555555555555556,
             "#d8576b"
            ],
            [
             0.6666666666666666,
             "#ed7953"
            ],
            [
             0.7777777777777778,
             "#fb9f3a"
            ],
            [
             0.8888888888888888,
             "#fdca26"
            ],
            [
             1,
             "#f0f921"
            ]
           ],
           "sequentialminus": [
            [
             0,
             "#0d0887"
            ],
            [
             0.1111111111111111,
             "#46039f"
            ],
            [
             0.2222222222222222,
             "#7201a8"
            ],
            [
             0.3333333333333333,
             "#9c179e"
            ],
            [
             0.4444444444444444,
             "#bd3786"
            ],
            [
             0.5555555555555556,
             "#d8576b"
            ],
            [
             0.6666666666666666,
             "#ed7953"
            ],
            [
             0.7777777777777778,
             "#fb9f3a"
            ],
            [
             0.8888888888888888,
             "#fdca26"
            ],
            [
             1,
             "#f0f921"
            ]
           ]
          },
          "colorway": [
           "#636efa",
           "#EF553B",
           "#00cc96",
           "#ab63fa",
           "#FFA15A",
           "#19d3f3",
           "#FF6692",
           "#B6E880",
           "#FF97FF",
           "#FECB52"
          ],
          "font": {
           "color": "#2a3f5f"
          },
          "geo": {
           "bgcolor": "white",
           "lakecolor": "white",
           "landcolor": "white",
           "showlakes": true,
           "showland": true,
           "subunitcolor": "#C8D4E3"
          },
          "hoverlabel": {
           "align": "left"
          },
          "hovermode": "closest",
          "mapbox": {
           "style": "light"
          },
          "paper_bgcolor": "white",
          "plot_bgcolor": "white",
          "polar": {
           "angularaxis": {
            "gridcolor": "#EBF0F8",
            "linecolor": "#EBF0F8",
            "ticks": ""
           },
           "bgcolor": "white",
           "radialaxis": {
            "gridcolor": "#EBF0F8",
            "linecolor": "#EBF0F8",
            "ticks": ""
           }
          },
          "scene": {
           "xaxis": {
            "backgroundcolor": "white",
            "gridcolor": "#DFE8F3",
            "gridwidth": 2,
            "linecolor": "#EBF0F8",
            "showbackground": true,
            "ticks": "",
            "zerolinecolor": "#EBF0F8"
           },
           "yaxis": {
            "backgroundcolor": "white",
            "gridcolor": "#DFE8F3",
            "gridwidth": 2,
            "linecolor": "#EBF0F8",
            "showbackground": true,
            "ticks": "",
            "zerolinecolor": "#EBF0F8"
           },
           "zaxis": {
            "backgroundcolor": "white",
            "gridcolor": "#DFE8F3",
            "gridwidth": 2,
            "linecolor": "#EBF0F8",
            "showbackground": true,
            "ticks": "",
            "zerolinecolor": "#EBF0F8"
           }
          },
          "shapedefaults": {
           "line": {
            "color": "#2a3f5f"
           }
          },
          "ternary": {
           "aaxis": {
            "gridcolor": "#DFE8F3",
            "linecolor": "#A2B1C6",
            "ticks": ""
           },
           "baxis": {
            "gridcolor": "#DFE8F3",
            "linecolor": "#A2B1C6",
            "ticks": ""
           },
           "bgcolor": "white",
           "caxis": {
            "gridcolor": "#DFE8F3",
            "linecolor": "#A2B1C6",
            "ticks": ""
           }
          },
          "title": {
           "x": 0.05
          },
          "xaxis": {
           "automargin": true,
           "gridcolor": "#EBF0F8",
           "linecolor": "#EBF0F8",
           "ticks": "",
           "title": {
            "standoff": 15
           },
           "zerolinecolor": "#EBF0F8",
           "zerolinewidth": 2
          },
          "yaxis": {
           "automargin": true,
           "gridcolor": "#EBF0F8",
           "linecolor": "#EBF0F8",
           "ticks": "",
           "title": {
            "standoff": 15
           },
           "zerolinecolor": "#EBF0F8",
           "zerolinewidth": 2
          }
         }
        },
        "title": {
         "font": {
          "size": 14
         },
         "text": "Distribution of ratings by product (percentage)"
        },
        "width": 800,
        "xaxis": {
         "anchor": "y",
         "domain": [
          0,
          1
         ],
         "range": [
          0.5,
          5.5
         ],
         "tickmode": "array",
         "ticktext": [
          "[1,2)",
          "[2,3)",
          "[3,4)",
          "[4,5)",
          "5"
         ],
         "tickvals": [
          1,
          2,
          3,
          4,
          5
         ],
         "title": {
          "text": "Rating"
         }
        },
        "yaxis": {
         "anchor": "x",
         "domain": [
          0,
          1
         ],
         "title": {
          "text": "Percentage of Reviews"
         }
        }
       }
      }
     },
     "metadata": {},
     "output_type": "display_data"
    }
   ],
   "source": [
    "# Create grouped rating distribution\n",
    "fig = create_grouped_rating_distribution(dfw)\n",
    "fig.show()\n",
    "figname = \"webmd-treatment-distribution-rating\"\n",
    "# fig.write_html(figfolder+figname+\".html\")\n",
    "# fig.write_image(figfolder+figname+\".png\", scale=4)"
   ]
  },
  {
   "cell_type": "code",
   "execution_count": 100,
   "metadata": {},
   "outputs": [],
   "source": [
    "webmd_medicine_mapping = {\n",
    "    'Hydrochlorothiazide': 'HCTZ',\n",
    "    'Potassium Citrate': 'Potassium citrate'\n",
    "}\n",
    "\n",
    "webmd_medicines_to_exclude = ['Ashwagandha', 'Melatonin']\n",
    "\n",
    "# Generate and display statistics\n",
    "for key, val in table_cases.items():\n",
    "    if key == \"All Reviews\":\n",
    "        filters = None\n",
    "    else:\n",
    "        filters = {key: 1}\n",
    "    display_dfw = create_table(dfw, columns_to_analyze, webmd_medicines_to_exclude, webmd_medicine_mapping, filters=filters)\n",
    "    tablename = \"webmd-table-full-analysis\" + val\n",
    "    # display(style_dataframe(display_dfw))\n",
    "    display_dfw.to_html(figfolder + tablename + \".html\")"
   ]
  },
  {
   "cell_type": "markdown",
   "metadata": {},
   "source": [
    "# 2. Amazon Reviews Analysis"
   ]
  },
  {
   "cell_type": "code",
   "execution_count": 94,
   "metadata": {},
   "outputs": [
    {
     "name": "stdout",
     "output_type": "stream",
     "text": [
      "Successfully loaded 1456 rows of data\n"
     ]
    }
   ],
   "source": [
    "dfa = pd.read_csv('csv-files/Kidney Stone Reviews - Reviews - Amazon.csv')\n",
    "print(f\"Successfully loaded {len(dfa)} rows of data\")"
   ]
  },
  {
   "cell_type": "code",
   "execution_count": 99,
   "metadata": {},
   "outputs": [],
   "source": [
    "amazon_medicine_mapping = {\n",
    "    'Hydrochlorothiazide': 'HCTZ',\n",
    "}\n",
    "\n",
    "amazon_medicines_to_exclude = []\n",
    "\n",
    "# Generate and display statistics\n",
    "for key, val in table_cases.items():\n",
    "    if key == \"All Reviews\":\n",
    "        filters = None\n",
    "    else:\n",
    "        filters = {key: 1}\n",
    "    display_dfa = create_table(dfa, columns_to_analyze, webmd_medicines_to_exclude, webmd_medicine_mapping, filters=filters, is_amazon_data=True)\n",
    "    tablename = \"amazon-table-full-analysis\" + val\n",
    "    # display(style_dataframe(display_dfa))\n",
    "    display_dfa.to_html(figfolder + tablename + \".html\")"
   ]
  },
  {
   "cell_type": "markdown",
   "metadata": {},
   "source": [
    "# 3. Reddit Posts Analysis"
   ]
  },
  {
   "cell_type": "code",
   "execution_count": 96,
   "metadata": {},
   "outputs": [
    {
     "name": "stdout",
     "output_type": "stream",
     "text": [
      "Successfully loaded 2308 rows of data\n"
     ]
    }
   ],
   "source": [
    "dfr = pd.read_csv('csv-files/Kidney Stone Reviews - Reviews - Reddit.csv')\n",
    "print(f\"Successfully loaded {len(dfr)} rows of data\")"
   ]
  },
  {
   "cell_type": "code",
   "execution_count": null,
   "metadata": {},
   "outputs": [
    {
     "data": {
      "text/html": [
       "<style type=\"text/css\">\n",
       "#T_593c2  {\n",
       "  color: white;\n",
       "}\n",
       "</style>\n",
       "<table id=\"T_593c2\">\n",
       "  <thead>\n",
       "    <tr>\n",
       "      <th class=\"blank level0\" >&nbsp;</th>\n",
       "      <th id=\"T_593c2_level0_col0\" class=\"col_heading level0 col0\" >Allopurinol</th>\n",
       "      <th id=\"T_593c2_level0_col1\" class=\"col_heading level0 col1\" >Black seed</th>\n",
       "      <th id=\"T_593c2_level0_col2\" class=\"col_heading level0 col2\" >Chanca piedra</th>\n",
       "      <th id=\"T_593c2_level0_col3\" class=\"col_heading level0 col3\" >Flomax</th>\n",
       "      <th id=\"T_593c2_level0_col4\" class=\"col_heading level0 col4\" >Garcinia</th>\n",
       "      <th id=\"T_593c2_level0_col5\" class=\"col_heading level0 col5\" >HCTZ</th>\n",
       "      <th id=\"T_593c2_level0_col6\" class=\"col_heading level0 col6\" >Phosfood</th>\n",
       "      <th id=\"T_593c2_level0_col7\" class=\"col_heading level0 col7\" >Potassium citrate</th>\n",
       "      <th id=\"T_593c2_level0_col8\" class=\"col_heading level0 col8\" >Rowatinex</th>\n",
       "    </tr>\n",
       "    <tr>\n",
       "      <th class=\"index_name level0\" > </th>\n",
       "      <th class=\"blank col0\" >&nbsp;</th>\n",
       "      <th class=\"blank col1\" >&nbsp;</th>\n",
       "      <th class=\"blank col2\" >&nbsp;</th>\n",
       "      <th class=\"blank col3\" >&nbsp;</th>\n",
       "      <th class=\"blank col4\" >&nbsp;</th>\n",
       "      <th class=\"blank col5\" >&nbsp;</th>\n",
       "      <th class=\"blank col6\" >&nbsp;</th>\n",
       "      <th class=\"blank col7\" >&nbsp;</th>\n",
       "      <th class=\"blank col8\" >&nbsp;</th>\n",
       "    </tr>\n",
       "  </thead>\n",
       "  <tbody>\n",
       "    <tr>\n",
       "      <th id=\"T_593c2_level0_row0\" class=\"row_heading level0 row0\" ><b>Total Reviews</b></th>\n",
       "      <td id=\"T_593c2_row0_col0\" class=\"data row0 col0\" >49</td>\n",
       "      <td id=\"T_593c2_row0_col1\" class=\"data row0 col1\" >17</td>\n",
       "      <td id=\"T_593c2_row0_col2\" class=\"data row0 col2\" >492</td>\n",
       "      <td id=\"T_593c2_row0_col3\" class=\"data row0 col3\" >1,134</td>\n",
       "      <td id=\"T_593c2_row0_col4\" class=\"data row0 col4\" >38</td>\n",
       "      <td id=\"T_593c2_row0_col5\" class=\"data row0 col5\" >46</td>\n",
       "      <td id=\"T_593c2_row0_col6\" class=\"data row0 col6\" >2</td>\n",
       "      <td id=\"T_593c2_row0_col7\" class=\"data row0 col7\" >509</td>\n",
       "      <td id=\"T_593c2_row0_col8\" class=\"data row0 col8\" >21</td>\n",
       "    </tr>\n",
       "    <tr>\n",
       "      <th id=\"T_593c2_level0_row1\" class=\"row_heading level0 row1\" ><b>Helps overall with kidney stones</b></th>\n",
       "      <td id=\"T_593c2_row1_col0\" class=\"data row1 col0\" ></td>\n",
       "      <td id=\"T_593c2_row1_col1\" class=\"data row1 col1\" ></td>\n",
       "      <td id=\"T_593c2_row1_col2\" class=\"data row1 col2\" ></td>\n",
       "      <td id=\"T_593c2_row1_col3\" class=\"data row1 col3\" ></td>\n",
       "      <td id=\"T_593c2_row1_col4\" class=\"data row1 col4\" ></td>\n",
       "      <td id=\"T_593c2_row1_col5\" class=\"data row1 col5\" ></td>\n",
       "      <td id=\"T_593c2_row1_col6\" class=\"data row1 col6\" ></td>\n",
       "      <td id=\"T_593c2_row1_col7\" class=\"data row1 col7\" ></td>\n",
       "      <td id=\"T_593c2_row1_col8\" class=\"data row1 col8\" ></td>\n",
       "    </tr>\n",
       "    <tr>\n",
       "      <th id=\"T_593c2_level0_row2\" class=\"row_heading level0 row2\" >    Yes</th>\n",
       "      <td id=\"T_593c2_row2_col0\" class=\"data row2 col0\" >20.4%</td>\n",
       "      <td id=\"T_593c2_row2_col1\" class=\"data row2 col1\" >23.5%</td>\n",
       "      <td id=\"T_593c2_row2_col2\" class=\"data row2 col2\" >35.2%</td>\n",
       "      <td id=\"T_593c2_row2_col3\" class=\"data row2 col3\" >24.6%</td>\n",
       "      <td id=\"T_593c2_row2_col4\" class=\"data row2 col4\" >42.1%</td>\n",
       "      <td id=\"T_593c2_row2_col5\" class=\"data row2 col5\" >32.6%</td>\n",
       "      <td id=\"T_593c2_row2_col6\" class=\"data row2 col6\" >100%</td>\n",
       "      <td id=\"T_593c2_row2_col7\" class=\"data row2 col7\" >22%</td>\n",
       "      <td id=\"T_593c2_row2_col8\" class=\"data row2 col8\" >23.8%</td>\n",
       "    </tr>\n",
       "    <tr>\n",
       "      <th id=\"T_593c2_level0_row3\" class=\"row_heading level0 row3\" >    No</th>\n",
       "      <td id=\"T_593c2_row3_col0\" class=\"data row3 col0\" >2%</td>\n",
       "      <td id=\"T_593c2_row3_col1\" class=\"data row3 col1\" >5.9%</td>\n",
       "      <td id=\"T_593c2_row3_col2\" class=\"data row3 col2\" >9.8%</td>\n",
       "      <td id=\"T_593c2_row3_col3\" class=\"data row3 col3\" >11.8%</td>\n",
       "      <td id=\"T_593c2_row3_col4\" class=\"data row3 col4\" >0%</td>\n",
       "      <td id=\"T_593c2_row3_col5\" class=\"data row3 col5\" >4.3%</td>\n",
       "      <td id=\"T_593c2_row3_col6\" class=\"data row3 col6\" >0%</td>\n",
       "      <td id=\"T_593c2_row3_col7\" class=\"data row3 col7\" >8.6%</td>\n",
       "      <td id=\"T_593c2_row3_col8\" class=\"data row3 col8\" >19%</td>\n",
       "    </tr>\n",
       "    <tr>\n",
       "      <th id=\"T_593c2_level0_row4\" class=\"row_heading level0 row4\" >    No information</th>\n",
       "      <td id=\"T_593c2_row4_col0\" class=\"data row4 col0\" >77.6%</td>\n",
       "      <td id=\"T_593c2_row4_col1\" class=\"data row4 col1\" >70.6%</td>\n",
       "      <td id=\"T_593c2_row4_col2\" class=\"data row4 col2\" >55.1%</td>\n",
       "      <td id=\"T_593c2_row4_col3\" class=\"data row4 col3\" >63.6%</td>\n",
       "      <td id=\"T_593c2_row4_col4\" class=\"data row4 col4\" >57.9%</td>\n",
       "      <td id=\"T_593c2_row4_col5\" class=\"data row4 col5\" >63%</td>\n",
       "      <td id=\"T_593c2_row4_col6\" class=\"data row4 col6\" >0%</td>\n",
       "      <td id=\"T_593c2_row4_col7\" class=\"data row4 col7\" >69.4%</td>\n",
       "      <td id=\"T_593c2_row4_col8\" class=\"data row4 col8\" >57.1%</td>\n",
       "    </tr>\n",
       "    <tr>\n",
       "      <th id=\"T_593c2_level0_row5\" class=\"row_heading level0 row5\" ><b>Helps overall with gallstones</b></th>\n",
       "      <td id=\"T_593c2_row5_col0\" class=\"data row5 col0\" ></td>\n",
       "      <td id=\"T_593c2_row5_col1\" class=\"data row5 col1\" ></td>\n",
       "      <td id=\"T_593c2_row5_col2\" class=\"data row5 col2\" ></td>\n",
       "      <td id=\"T_593c2_row5_col3\" class=\"data row5 col3\" ></td>\n",
       "      <td id=\"T_593c2_row5_col4\" class=\"data row5 col4\" ></td>\n",
       "      <td id=\"T_593c2_row5_col5\" class=\"data row5 col5\" ></td>\n",
       "      <td id=\"T_593c2_row5_col6\" class=\"data row5 col6\" ></td>\n",
       "      <td id=\"T_593c2_row5_col7\" class=\"data row5 col7\" ></td>\n",
       "      <td id=\"T_593c2_row5_col8\" class=\"data row5 col8\" ></td>\n",
       "    </tr>\n",
       "    <tr>\n",
       "      <th id=\"T_593c2_level0_row6\" class=\"row_heading level0 row6\" >    Yes</th>\n",
       "      <td id=\"T_593c2_row6_col0\" class=\"data row6 col0\" >0%</td>\n",
       "      <td id=\"T_593c2_row6_col1\" class=\"data row6 col1\" >0%</td>\n",
       "      <td id=\"T_593c2_row6_col2\" class=\"data row6 col2\" >0%</td>\n",
       "      <td id=\"T_593c2_row6_col3\" class=\"data row6 col3\" >0%</td>\n",
       "      <td id=\"T_593c2_row6_col4\" class=\"data row6 col4\" >0%</td>\n",
       "      <td id=\"T_593c2_row6_col5\" class=\"data row6 col5\" >0%</td>\n",
       "      <td id=\"T_593c2_row6_col6\" class=\"data row6 col6\" >0%</td>\n",
       "      <td id=\"T_593c2_row6_col7\" class=\"data row6 col7\" >0%</td>\n",
       "      <td id=\"T_593c2_row6_col8\" class=\"data row6 col8\" >0%</td>\n",
       "    </tr>\n",
       "    <tr>\n",
       "      <th id=\"T_593c2_level0_row7\" class=\"row_heading level0 row7\" >    No</th>\n",
       "      <td id=\"T_593c2_row7_col0\" class=\"data row7 col0\" >0%</td>\n",
       "      <td id=\"T_593c2_row7_col1\" class=\"data row7 col1\" >0%</td>\n",
       "      <td id=\"T_593c2_row7_col2\" class=\"data row7 col2\" >0%</td>\n",
       "      <td id=\"T_593c2_row7_col3\" class=\"data row7 col3\" >0%</td>\n",
       "      <td id=\"T_593c2_row7_col4\" class=\"data row7 col4\" >0%</td>\n",
       "      <td id=\"T_593c2_row7_col5\" class=\"data row7 col5\" >0%</td>\n",
       "      <td id=\"T_593c2_row7_col6\" class=\"data row7 col6\" >0%</td>\n",
       "      <td id=\"T_593c2_row7_col7\" class=\"data row7 col7\" >0%</td>\n",
       "      <td id=\"T_593c2_row7_col8\" class=\"data row7 col8\" >0%</td>\n",
       "    </tr>\n",
       "    <tr>\n",
       "      <th id=\"T_593c2_level0_row8\" class=\"row_heading level0 row8\" >    No information</th>\n",
       "      <td id=\"T_593c2_row8_col0\" class=\"data row8 col0\" >100%</td>\n",
       "      <td id=\"T_593c2_row8_col1\" class=\"data row8 col1\" >100%</td>\n",
       "      <td id=\"T_593c2_row8_col2\" class=\"data row8 col2\" >100%</td>\n",
       "      <td id=\"T_593c2_row8_col3\" class=\"data row8 col3\" >100%</td>\n",
       "      <td id=\"T_593c2_row8_col4\" class=\"data row8 col4\" >100%</td>\n",
       "      <td id=\"T_593c2_row8_col5\" class=\"data row8 col5\" >100%</td>\n",
       "      <td id=\"T_593c2_row8_col6\" class=\"data row8 col6\" >100%</td>\n",
       "      <td id=\"T_593c2_row8_col7\" class=\"data row8 col7\" >100%</td>\n",
       "      <td id=\"T_593c2_row8_col8\" class=\"data row8 col8\" >100%</td>\n",
       "    </tr>\n",
       "    <tr>\n",
       "      <th id=\"T_593c2_level0_row9\" class=\"row_heading level0 row9\" ><b>Works as a prophylactic</b></th>\n",
       "      <td id=\"T_593c2_row9_col0\" class=\"data row9 col0\" ></td>\n",
       "      <td id=\"T_593c2_row9_col1\" class=\"data row9 col1\" ></td>\n",
       "      <td id=\"T_593c2_row9_col2\" class=\"data row9 col2\" ></td>\n",
       "      <td id=\"T_593c2_row9_col3\" class=\"data row9 col3\" ></td>\n",
       "      <td id=\"T_593c2_row9_col4\" class=\"data row9 col4\" ></td>\n",
       "      <td id=\"T_593c2_row9_col5\" class=\"data row9 col5\" ></td>\n",
       "      <td id=\"T_593c2_row9_col6\" class=\"data row9 col6\" ></td>\n",
       "      <td id=\"T_593c2_row9_col7\" class=\"data row9 col7\" ></td>\n",
       "      <td id=\"T_593c2_row9_col8\" class=\"data row9 col8\" ></td>\n",
       "    </tr>\n",
       "    <tr>\n",
       "      <th id=\"T_593c2_level0_row10\" class=\"row_heading level0 row10\" >    Yes</th>\n",
       "      <td id=\"T_593c2_row10_col0\" class=\"data row10 col0\" >18.4%</td>\n",
       "      <td id=\"T_593c2_row10_col1\" class=\"data row10 col1\" >11.8%</td>\n",
       "      <td id=\"T_593c2_row10_col2\" class=\"data row10 col2\" >4.5%</td>\n",
       "      <td id=\"T_593c2_row10_col3\" class=\"data row10 col3\" >0.5%</td>\n",
       "      <td id=\"T_593c2_row10_col4\" class=\"data row10 col4\" >13.2%</td>\n",
       "      <td id=\"T_593c2_row10_col5\" class=\"data row10 col5\" >23.9%</td>\n",
       "      <td id=\"T_593c2_row10_col6\" class=\"data row10 col6\" >0%</td>\n",
       "      <td id=\"T_593c2_row10_col7\" class=\"data row10 col7\" >11.2%</td>\n",
       "      <td id=\"T_593c2_row10_col8\" class=\"data row10 col8\" >0%</td>\n",
       "    </tr>\n",
       "    <tr>\n",
       "      <th id=\"T_593c2_level0_row11\" class=\"row_heading level0 row11\" >    No</th>\n",
       "      <td id=\"T_593c2_row11_col0\" class=\"data row11 col0\" >0%</td>\n",
       "      <td id=\"T_593c2_row11_col1\" class=\"data row11 col1\" >0%</td>\n",
       "      <td id=\"T_593c2_row11_col2\" class=\"data row11 col2\" >0.4%</td>\n",
       "      <td id=\"T_593c2_row11_col3\" class=\"data row11 col3\" >0.1%</td>\n",
       "      <td id=\"T_593c2_row11_col4\" class=\"data row11 col4\" >0%</td>\n",
       "      <td id=\"T_593c2_row11_col5\" class=\"data row11 col5\" >0%</td>\n",
       "      <td id=\"T_593c2_row11_col6\" class=\"data row11 col6\" >0%</td>\n",
       "      <td id=\"T_593c2_row11_col7\" class=\"data row11 col7\" >2.4%</td>\n",
       "      <td id=\"T_593c2_row11_col8\" class=\"data row11 col8\" >9.5%</td>\n",
       "    </tr>\n",
       "    <tr>\n",
       "      <th id=\"T_593c2_level0_row12\" class=\"row_heading level0 row12\" >    No information</th>\n",
       "      <td id=\"T_593c2_row12_col0\" class=\"data row12 col0\" >81.6%</td>\n",
       "      <td id=\"T_593c2_row12_col1\" class=\"data row12 col1\" >88.2%</td>\n",
       "      <td id=\"T_593c2_row12_col2\" class=\"data row12 col2\" >95.1%</td>\n",
       "      <td id=\"T_593c2_row12_col3\" class=\"data row12 col3\" >99.4%</td>\n",
       "      <td id=\"T_593c2_row12_col4\" class=\"data row12 col4\" >86.8%</td>\n",
       "      <td id=\"T_593c2_row12_col5\" class=\"data row12 col5\" >76.1%</td>\n",
       "      <td id=\"T_593c2_row12_col6\" class=\"data row12 col6\" >100%</td>\n",
       "      <td id=\"T_593c2_row12_col7\" class=\"data row12 col7\" >86.4%</td>\n",
       "      <td id=\"T_593c2_row12_col8\" class=\"data row12 col8\" >90.5%</td>\n",
       "    </tr>\n",
       "    <tr>\n",
       "      <th id=\"T_593c2_level0_row13\" class=\"row_heading level0 row13\" ><b>Side effects mentioned</b></th>\n",
       "      <td id=\"T_593c2_row13_col0\" class=\"data row13 col0\" ></td>\n",
       "      <td id=\"T_593c2_row13_col1\" class=\"data row13 col1\" ></td>\n",
       "      <td id=\"T_593c2_row13_col2\" class=\"data row13 col2\" ></td>\n",
       "      <td id=\"T_593c2_row13_col3\" class=\"data row13 col3\" ></td>\n",
       "      <td id=\"T_593c2_row13_col4\" class=\"data row13 col4\" ></td>\n",
       "      <td id=\"T_593c2_row13_col5\" class=\"data row13 col5\" ></td>\n",
       "      <td id=\"T_593c2_row13_col6\" class=\"data row13 col6\" ></td>\n",
       "      <td id=\"T_593c2_row13_col7\" class=\"data row13 col7\" ></td>\n",
       "      <td id=\"T_593c2_row13_col8\" class=\"data row13 col8\" ></td>\n",
       "    </tr>\n",
       "    <tr>\n",
       "      <th id=\"T_593c2_level0_row14\" class=\"row_heading level0 row14\" >    Yes</th>\n",
       "      <td id=\"T_593c2_row14_col0\" class=\"data row14 col0\" >12.2%</td>\n",
       "      <td id=\"T_593c2_row14_col1\" class=\"data row14 col1\" >0%</td>\n",
       "      <td id=\"T_593c2_row14_col2\" class=\"data row14 col2\" >6.5%</td>\n",
       "      <td id=\"T_593c2_row14_col3\" class=\"data row14 col3\" >21.9%</td>\n",
       "      <td id=\"T_593c2_row14_col4\" class=\"data row14 col4\" >13.2%</td>\n",
       "      <td id=\"T_593c2_row14_col5\" class=\"data row14 col5\" >8.7%</td>\n",
       "      <td id=\"T_593c2_row14_col6\" class=\"data row14 col6\" >0%</td>\n",
       "      <td id=\"T_593c2_row14_col7\" class=\"data row14 col7\" >13.4%</td>\n",
       "      <td id=\"T_593c2_row14_col8\" class=\"data row14 col8\" >14.3%</td>\n",
       "    </tr>\n",
       "    <tr>\n",
       "      <th id=\"T_593c2_level0_row15\" class=\"row_heading level0 row15\" >    No</th>\n",
       "      <td id=\"T_593c2_row15_col0\" class=\"data row15 col0\" >0%</td>\n",
       "      <td id=\"T_593c2_row15_col1\" class=\"data row15 col1\" >0%</td>\n",
       "      <td id=\"T_593c2_row15_col2\" class=\"data row15 col2\" >0%</td>\n",
       "      <td id=\"T_593c2_row15_col3\" class=\"data row15 col3\" >0%</td>\n",
       "      <td id=\"T_593c2_row15_col4\" class=\"data row15 col4\" >0%</td>\n",
       "      <td id=\"T_593c2_row15_col5\" class=\"data row15 col5\" >0%</td>\n",
       "      <td id=\"T_593c2_row15_col6\" class=\"data row15 col6\" >0%</td>\n",
       "      <td id=\"T_593c2_row15_col7\" class=\"data row15 col7\" >0%</td>\n",
       "      <td id=\"T_593c2_row15_col8\" class=\"data row15 col8\" >0%</td>\n",
       "    </tr>\n",
       "    <tr>\n",
       "      <th id=\"T_593c2_level0_row16\" class=\"row_heading level0 row16\" >    No information</th>\n",
       "      <td id=\"T_593c2_row16_col0\" class=\"data row16 col0\" >87.8%</td>\n",
       "      <td id=\"T_593c2_row16_col1\" class=\"data row16 col1\" >100%</td>\n",
       "      <td id=\"T_593c2_row16_col2\" class=\"data row16 col2\" >93.5%</td>\n",
       "      <td id=\"T_593c2_row16_col3\" class=\"data row16 col3\" >78.1%</td>\n",
       "      <td id=\"T_593c2_row16_col4\" class=\"data row16 col4\" >86.8%</td>\n",
       "      <td id=\"T_593c2_row16_col5\" class=\"data row16 col5\" >91.3%</td>\n",
       "      <td id=\"T_593c2_row16_col6\" class=\"data row16 col6\" >100%</td>\n",
       "      <td id=\"T_593c2_row16_col7\" class=\"data row16 col7\" >86.6%</td>\n",
       "      <td id=\"T_593c2_row16_col8\" class=\"data row16 col8\" >85.7%</td>\n",
       "    </tr>\n",
       "    <tr>\n",
       "      <th id=\"T_593c2_level0_row17\" class=\"row_heading level0 row17\" ><b>Asserts significant pain reduction</b></th>\n",
       "      <td id=\"T_593c2_row17_col0\" class=\"data row17 col0\" ></td>\n",
       "      <td id=\"T_593c2_row17_col1\" class=\"data row17 col1\" ></td>\n",
       "      <td id=\"T_593c2_row17_col2\" class=\"data row17 col2\" ></td>\n",
       "      <td id=\"T_593c2_row17_col3\" class=\"data row17 col3\" ></td>\n",
       "      <td id=\"T_593c2_row17_col4\" class=\"data row17 col4\" ></td>\n",
       "      <td id=\"T_593c2_row17_col5\" class=\"data row17 col5\" ></td>\n",
       "      <td id=\"T_593c2_row17_col6\" class=\"data row17 col6\" ></td>\n",
       "      <td id=\"T_593c2_row17_col7\" class=\"data row17 col7\" ></td>\n",
       "      <td id=\"T_593c2_row17_col8\" class=\"data row17 col8\" ></td>\n",
       "    </tr>\n",
       "    <tr>\n",
       "      <th id=\"T_593c2_level0_row18\" class=\"row_heading level0 row18\" >    Yes</th>\n",
       "      <td id=\"T_593c2_row18_col0\" class=\"data row18 col0\" >0%</td>\n",
       "      <td id=\"T_593c2_row18_col1\" class=\"data row18 col1\" >0%</td>\n",
       "      <td id=\"T_593c2_row18_col2\" class=\"data row18 col2\" >9.1%</td>\n",
       "      <td id=\"T_593c2_row18_col3\" class=\"data row18 col3\" >4.3%</td>\n",
       "      <td id=\"T_593c2_row18_col4\" class=\"data row18 col4\" >0%</td>\n",
       "      <td id=\"T_593c2_row18_col5\" class=\"data row18 col5\" >0%</td>\n",
       "      <td id=\"T_593c2_row18_col6\" class=\"data row18 col6\" >0%</td>\n",
       "      <td id=\"T_593c2_row18_col7\" class=\"data row18 col7\" >0.6%</td>\n",
       "      <td id=\"T_593c2_row18_col8\" class=\"data row18 col8\" >9.5%</td>\n",
       "    </tr>\n",
       "    <tr>\n",
       "      <th id=\"T_593c2_level0_row19\" class=\"row_heading level0 row19\" >    No</th>\n",
       "      <td id=\"T_593c2_row19_col0\" class=\"data row19 col0\" >0%</td>\n",
       "      <td id=\"T_593c2_row19_col1\" class=\"data row19 col1\" >0%</td>\n",
       "      <td id=\"T_593c2_row19_col2\" class=\"data row19 col2\" >0.8%</td>\n",
       "      <td id=\"T_593c2_row19_col3\" class=\"data row19 col3\" >1%</td>\n",
       "      <td id=\"T_593c2_row19_col4\" class=\"data row19 col4\" >0%</td>\n",
       "      <td id=\"T_593c2_row19_col5\" class=\"data row19 col5\" >0%</td>\n",
       "      <td id=\"T_593c2_row19_col6\" class=\"data row19 col6\" >0%</td>\n",
       "      <td id=\"T_593c2_row19_col7\" class=\"data row19 col7\" >0%</td>\n",
       "      <td id=\"T_593c2_row19_col8\" class=\"data row19 col8\" >0%</td>\n",
       "    </tr>\n",
       "    <tr>\n",
       "      <th id=\"T_593c2_level0_row20\" class=\"row_heading level0 row20\" >    No information</th>\n",
       "      <td id=\"T_593c2_row20_col0\" class=\"data row20 col0\" >100%</td>\n",
       "      <td id=\"T_593c2_row20_col1\" class=\"data row20 col1\" >100%</td>\n",
       "      <td id=\"T_593c2_row20_col2\" class=\"data row20 col2\" >90%</td>\n",
       "      <td id=\"T_593c2_row20_col3\" class=\"data row20 col3\" >94.7%</td>\n",
       "      <td id=\"T_593c2_row20_col4\" class=\"data row20 col4\" >100%</td>\n",
       "      <td id=\"T_593c2_row20_col5\" class=\"data row20 col5\" >100%</td>\n",
       "      <td id=\"T_593c2_row20_col6\" class=\"data row20 col6\" >100%</td>\n",
       "      <td id=\"T_593c2_row20_col7\" class=\"data row20 col7\" >99.4%</td>\n",
       "      <td id=\"T_593c2_row20_col8\" class=\"data row20 col8\" >90.5%</td>\n",
       "    </tr>\n",
       "    <tr>\n",
       "      <th id=\"T_593c2_level0_row21\" class=\"row_heading level0 row21\" ><b>Mentions breaking of stones</b></th>\n",
       "      <td id=\"T_593c2_row21_col0\" class=\"data row21 col0\" ></td>\n",
       "      <td id=\"T_593c2_row21_col1\" class=\"data row21 col1\" ></td>\n",
       "      <td id=\"T_593c2_row21_col2\" class=\"data row21 col2\" ></td>\n",
       "      <td id=\"T_593c2_row21_col3\" class=\"data row21 col3\" ></td>\n",
       "      <td id=\"T_593c2_row21_col4\" class=\"data row21 col4\" ></td>\n",
       "      <td id=\"T_593c2_row21_col5\" class=\"data row21 col5\" ></td>\n",
       "      <td id=\"T_593c2_row21_col6\" class=\"data row21 col6\" ></td>\n",
       "      <td id=\"T_593c2_row21_col7\" class=\"data row21 col7\" ></td>\n",
       "      <td id=\"T_593c2_row21_col8\" class=\"data row21 col8\" ></td>\n",
       "    </tr>\n",
       "    <tr>\n",
       "      <th id=\"T_593c2_level0_row22\" class=\"row_heading level0 row22\" >    Yes</th>\n",
       "      <td id=\"T_593c2_row22_col0\" class=\"data row22 col0\" >0%</td>\n",
       "      <td id=\"T_593c2_row22_col1\" class=\"data row22 col1\" >0%</td>\n",
       "      <td id=\"T_593c2_row22_col2\" class=\"data row22 col2\" >6.5%</td>\n",
       "      <td id=\"T_593c2_row22_col3\" class=\"data row22 col3\" >0%</td>\n",
       "      <td id=\"T_593c2_row22_col4\" class=\"data row22 col4\" >0%</td>\n",
       "      <td id=\"T_593c2_row22_col5\" class=\"data row22 col5\" >0%</td>\n",
       "      <td id=\"T_593c2_row22_col6\" class=\"data row22 col6\" >0%</td>\n",
       "      <td id=\"T_593c2_row22_col7\" class=\"data row22 col7\" >0.4%</td>\n",
       "      <td id=\"T_593c2_row22_col8\" class=\"data row22 col8\" >0%</td>\n",
       "    </tr>\n",
       "    <tr>\n",
       "      <th id=\"T_593c2_level0_row23\" class=\"row_heading level0 row23\" >    No</th>\n",
       "      <td id=\"T_593c2_row23_col0\" class=\"data row23 col0\" >0%</td>\n",
       "      <td id=\"T_593c2_row23_col1\" class=\"data row23 col1\" >0%</td>\n",
       "      <td id=\"T_593c2_row23_col2\" class=\"data row23 col2\" >0.8%</td>\n",
       "      <td id=\"T_593c2_row23_col3\" class=\"data row23 col3\" >0.1%</td>\n",
       "      <td id=\"T_593c2_row23_col4\" class=\"data row23 col4\" >0%</td>\n",
       "      <td id=\"T_593c2_row23_col5\" class=\"data row23 col5\" >0%</td>\n",
       "      <td id=\"T_593c2_row23_col6\" class=\"data row23 col6\" >0%</td>\n",
       "      <td id=\"T_593c2_row23_col7\" class=\"data row23 col7\" >0.2%</td>\n",
       "      <td id=\"T_593c2_row23_col8\" class=\"data row23 col8\" >0%</td>\n",
       "    </tr>\n",
       "    <tr>\n",
       "      <th id=\"T_593c2_level0_row24\" class=\"row_heading level0 row24\" >    No information</th>\n",
       "      <td id=\"T_593c2_row24_col0\" class=\"data row24 col0\" >100%</td>\n",
       "      <td id=\"T_593c2_row24_col1\" class=\"data row24 col1\" >100%</td>\n",
       "      <td id=\"T_593c2_row24_col2\" class=\"data row24 col2\" >92.7%</td>\n",
       "      <td id=\"T_593c2_row24_col3\" class=\"data row24 col3\" >99.9%</td>\n",
       "      <td id=\"T_593c2_row24_col4\" class=\"data row24 col4\" >100%</td>\n",
       "      <td id=\"T_593c2_row24_col5\" class=\"data row24 col5\" >100%</td>\n",
       "      <td id=\"T_593c2_row24_col6\" class=\"data row24 col6\" >100%</td>\n",
       "      <td id=\"T_593c2_row24_col7\" class=\"data row24 col7\" >99.4%</td>\n",
       "      <td id=\"T_593c2_row24_col8\" class=\"data row24 col8\" >100%</td>\n",
       "    </tr>\n",
       "    <tr>\n",
       "      <th id=\"T_593c2_level0_row25\" class=\"row_heading level0 row25\" ><b>Mentions shrinking of the stones</b></th>\n",
       "      <td id=\"T_593c2_row25_col0\" class=\"data row25 col0\" ></td>\n",
       "      <td id=\"T_593c2_row25_col1\" class=\"data row25 col1\" ></td>\n",
       "      <td id=\"T_593c2_row25_col2\" class=\"data row25 col2\" ></td>\n",
       "      <td id=\"T_593c2_row25_col3\" class=\"data row25 col3\" ></td>\n",
       "      <td id=\"T_593c2_row25_col4\" class=\"data row25 col4\" ></td>\n",
       "      <td id=\"T_593c2_row25_col5\" class=\"data row25 col5\" ></td>\n",
       "      <td id=\"T_593c2_row25_col6\" class=\"data row25 col6\" ></td>\n",
       "      <td id=\"T_593c2_row25_col7\" class=\"data row25 col7\" ></td>\n",
       "      <td id=\"T_593c2_row25_col8\" class=\"data row25 col8\" ></td>\n",
       "    </tr>\n",
       "    <tr>\n",
       "      <th id=\"T_593c2_level0_row26\" class=\"row_heading level0 row26\" >    Yes</th>\n",
       "      <td id=\"T_593c2_row26_col0\" class=\"data row26 col0\" >2%</td>\n",
       "      <td id=\"T_593c2_row26_col1\" class=\"data row26 col1\" >5.9%</td>\n",
       "      <td id=\"T_593c2_row26_col2\" class=\"data row26 col2\" >2%</td>\n",
       "      <td id=\"T_593c2_row26_col3\" class=\"data row26 col3\" >0.3%</td>\n",
       "      <td id=\"T_593c2_row26_col4\" class=\"data row26 col4\" >5.3%</td>\n",
       "      <td id=\"T_593c2_row26_col5\" class=\"data row26 col5\" >0%</td>\n",
       "      <td id=\"T_593c2_row26_col6\" class=\"data row26 col6\" >0%</td>\n",
       "      <td id=\"T_593c2_row26_col7\" class=\"data row26 col7\" >0.6%</td>\n",
       "      <td id=\"T_593c2_row26_col8\" class=\"data row26 col8\" >4.8%</td>\n",
       "    </tr>\n",
       "    <tr>\n",
       "      <th id=\"T_593c2_level0_row27\" class=\"row_heading level0 row27\" >    No</th>\n",
       "      <td id=\"T_593c2_row27_col0\" class=\"data row27 col0\" >0%</td>\n",
       "      <td id=\"T_593c2_row27_col1\" class=\"data row27 col1\" >0%</td>\n",
       "      <td id=\"T_593c2_row27_col2\" class=\"data row27 col2\" >0.8%</td>\n",
       "      <td id=\"T_593c2_row27_col3\" class=\"data row27 col3\" >0%</td>\n",
       "      <td id=\"T_593c2_row27_col4\" class=\"data row27 col4\" >0%</td>\n",
       "      <td id=\"T_593c2_row27_col5\" class=\"data row27 col5\" >0%</td>\n",
       "      <td id=\"T_593c2_row27_col6\" class=\"data row27 col6\" >0%</td>\n",
       "      <td id=\"T_593c2_row27_col7\" class=\"data row27 col7\" >0%</td>\n",
       "      <td id=\"T_593c2_row27_col8\" class=\"data row27 col8\" >0%</td>\n",
       "    </tr>\n",
       "    <tr>\n",
       "      <th id=\"T_593c2_level0_row28\" class=\"row_heading level0 row28\" >    No information</th>\n",
       "      <td id=\"T_593c2_row28_col0\" class=\"data row28 col0\" >98%</td>\n",
       "      <td id=\"T_593c2_row28_col1\" class=\"data row28 col1\" >94.1%</td>\n",
       "      <td id=\"T_593c2_row28_col2\" class=\"data row28 col2\" >97.2%</td>\n",
       "      <td id=\"T_593c2_row28_col3\" class=\"data row28 col3\" >99.7%</td>\n",
       "      <td id=\"T_593c2_row28_col4\" class=\"data row28 col4\" >94.7%</td>\n",
       "      <td id=\"T_593c2_row28_col5\" class=\"data row28 col5\" >100%</td>\n",
       "      <td id=\"T_593c2_row28_col6\" class=\"data row28 col6\" >100%</td>\n",
       "      <td id=\"T_593c2_row28_col7\" class=\"data row28 col7\" >99.4%</td>\n",
       "      <td id=\"T_593c2_row28_col8\" class=\"data row28 col8\" >95.2%</td>\n",
       "    </tr>\n",
       "    <tr>\n",
       "      <th id=\"T_593c2_level0_row29\" class=\"row_heading level0 row29\" ><b>Mentions softening of stones</b></th>\n",
       "      <td id=\"T_593c2_row29_col0\" class=\"data row29 col0\" ></td>\n",
       "      <td id=\"T_593c2_row29_col1\" class=\"data row29 col1\" ></td>\n",
       "      <td id=\"T_593c2_row29_col2\" class=\"data row29 col2\" ></td>\n",
       "      <td id=\"T_593c2_row29_col3\" class=\"data row29 col3\" ></td>\n",
       "      <td id=\"T_593c2_row29_col4\" class=\"data row29 col4\" ></td>\n",
       "      <td id=\"T_593c2_row29_col5\" class=\"data row29 col5\" ></td>\n",
       "      <td id=\"T_593c2_row29_col6\" class=\"data row29 col6\" ></td>\n",
       "      <td id=\"T_593c2_row29_col7\" class=\"data row29 col7\" ></td>\n",
       "      <td id=\"T_593c2_row29_col8\" class=\"data row29 col8\" ></td>\n",
       "    </tr>\n",
       "    <tr>\n",
       "      <th id=\"T_593c2_level0_row30\" class=\"row_heading level0 row30\" >    Yes</th>\n",
       "      <td id=\"T_593c2_row30_col0\" class=\"data row30 col0\" >0%</td>\n",
       "      <td id=\"T_593c2_row30_col1\" class=\"data row30 col1\" >0%</td>\n",
       "      <td id=\"T_593c2_row30_col2\" class=\"data row30 col2\" >1.2%</td>\n",
       "      <td id=\"T_593c2_row30_col3\" class=\"data row30 col3\" >0%</td>\n",
       "      <td id=\"T_593c2_row30_col4\" class=\"data row30 col4\" >0%</td>\n",
       "      <td id=\"T_593c2_row30_col5\" class=\"data row30 col5\" >0%</td>\n",
       "      <td id=\"T_593c2_row30_col6\" class=\"data row30 col6\" >0%</td>\n",
       "      <td id=\"T_593c2_row30_col7\" class=\"data row30 col7\" >0.6%</td>\n",
       "      <td id=\"T_593c2_row30_col8\" class=\"data row30 col8\" >0%</td>\n",
       "    </tr>\n",
       "    <tr>\n",
       "      <th id=\"T_593c2_level0_row31\" class=\"row_heading level0 row31\" >    No</th>\n",
       "      <td id=\"T_593c2_row31_col0\" class=\"data row31 col0\" >0%</td>\n",
       "      <td id=\"T_593c2_row31_col1\" class=\"data row31 col1\" >0%</td>\n",
       "      <td id=\"T_593c2_row31_col2\" class=\"data row31 col2\" >0%</td>\n",
       "      <td id=\"T_593c2_row31_col3\" class=\"data row31 col3\" >0%</td>\n",
       "      <td id=\"T_593c2_row31_col4\" class=\"data row31 col4\" >0%</td>\n",
       "      <td id=\"T_593c2_row31_col5\" class=\"data row31 col5\" >0%</td>\n",
       "      <td id=\"T_593c2_row31_col6\" class=\"data row31 col6\" >0%</td>\n",
       "      <td id=\"T_593c2_row31_col7\" class=\"data row31 col7\" >0%</td>\n",
       "      <td id=\"T_593c2_row31_col8\" class=\"data row31 col8\" >0%</td>\n",
       "    </tr>\n",
       "    <tr>\n",
       "      <th id=\"T_593c2_level0_row32\" class=\"row_heading level0 row32\" >    No information</th>\n",
       "      <td id=\"T_593c2_row32_col0\" class=\"data row32 col0\" >100%</td>\n",
       "      <td id=\"T_593c2_row32_col1\" class=\"data row32 col1\" >100%</td>\n",
       "      <td id=\"T_593c2_row32_col2\" class=\"data row32 col2\" >98.8%</td>\n",
       "      <td id=\"T_593c2_row32_col3\" class=\"data row32 col3\" >100%</td>\n",
       "      <td id=\"T_593c2_row32_col4\" class=\"data row32 col4\" >100%</td>\n",
       "      <td id=\"T_593c2_row32_col5\" class=\"data row32 col5\" >100%</td>\n",
       "      <td id=\"T_593c2_row32_col6\" class=\"data row32 col6\" >100%</td>\n",
       "      <td id=\"T_593c2_row32_col7\" class=\"data row32 col7\" >99.4%</td>\n",
       "      <td id=\"T_593c2_row32_col8\" class=\"data row32 col8\" >100%</td>\n",
       "    </tr>\n",
       "    <tr>\n",
       "      <th id=\"T_593c2_level0_row33\" class=\"row_heading level0 row33\" ><b>Stone passed with no or almost no pain</b></th>\n",
       "      <td id=\"T_593c2_row33_col0\" class=\"data row33 col0\" ></td>\n",
       "      <td id=\"T_593c2_row33_col1\" class=\"data row33 col1\" ></td>\n",
       "      <td id=\"T_593c2_row33_col2\" class=\"data row33 col2\" ></td>\n",
       "      <td id=\"T_593c2_row33_col3\" class=\"data row33 col3\" ></td>\n",
       "      <td id=\"T_593c2_row33_col4\" class=\"data row33 col4\" ></td>\n",
       "      <td id=\"T_593c2_row33_col5\" class=\"data row33 col5\" ></td>\n",
       "      <td id=\"T_593c2_row33_col6\" class=\"data row33 col6\" ></td>\n",
       "      <td id=\"T_593c2_row33_col7\" class=\"data row33 col7\" ></td>\n",
       "      <td id=\"T_593c2_row33_col8\" class=\"data row33 col8\" ></td>\n",
       "    </tr>\n",
       "    <tr>\n",
       "      <th id=\"T_593c2_level0_row34\" class=\"row_heading level0 row34\" >    Yes</th>\n",
       "      <td id=\"T_593c2_row34_col0\" class=\"data row34 col0\" >2%</td>\n",
       "      <td id=\"T_593c2_row34_col1\" class=\"data row34 col1\" >0%</td>\n",
       "      <td id=\"T_593c2_row34_col2\" class=\"data row34 col2\" >2.8%</td>\n",
       "      <td id=\"T_593c2_row34_col3\" class=\"data row34 col3\" >1.9%</td>\n",
       "      <td id=\"T_593c2_row34_col4\" class=\"data row34 col4\" >2.6%</td>\n",
       "      <td id=\"T_593c2_row34_col5\" class=\"data row34 col5\" >0%</td>\n",
       "      <td id=\"T_593c2_row34_col6\" class=\"data row34 col6\" >0%</td>\n",
       "      <td id=\"T_593c2_row34_col7\" class=\"data row34 col7\" >0.6%</td>\n",
       "      <td id=\"T_593c2_row34_col8\" class=\"data row34 col8\" >9.5%</td>\n",
       "    </tr>\n",
       "    <tr>\n",
       "      <th id=\"T_593c2_level0_row35\" class=\"row_heading level0 row35\" >    No</th>\n",
       "      <td id=\"T_593c2_row35_col0\" class=\"data row35 col0\" >0%</td>\n",
       "      <td id=\"T_593c2_row35_col1\" class=\"data row35 col1\" >0%</td>\n",
       "      <td id=\"T_593c2_row35_col2\" class=\"data row35 col2\" >0.2%</td>\n",
       "      <td id=\"T_593c2_row35_col3\" class=\"data row35 col3\" >0.2%</td>\n",
       "      <td id=\"T_593c2_row35_col4\" class=\"data row35 col4\" >0%</td>\n",
       "      <td id=\"T_593c2_row35_col5\" class=\"data row35 col5\" >0%</td>\n",
       "      <td id=\"T_593c2_row35_col6\" class=\"data row35 col6\" >0%</td>\n",
       "      <td id=\"T_593c2_row35_col7\" class=\"data row35 col7\" >0%</td>\n",
       "      <td id=\"T_593c2_row35_col8\" class=\"data row35 col8\" >0%</td>\n",
       "    </tr>\n",
       "    <tr>\n",
       "      <th id=\"T_593c2_level0_row36\" class=\"row_heading level0 row36\" >    No information</th>\n",
       "      <td id=\"T_593c2_row36_col0\" class=\"data row36 col0\" >98%</td>\n",
       "      <td id=\"T_593c2_row36_col1\" class=\"data row36 col1\" >100%</td>\n",
       "      <td id=\"T_593c2_row36_col2\" class=\"data row36 col2\" >97%</td>\n",
       "      <td id=\"T_593c2_row36_col3\" class=\"data row36 col3\" >97.9%</td>\n",
       "      <td id=\"T_593c2_row36_col4\" class=\"data row36 col4\" >97.4%</td>\n",
       "      <td id=\"T_593c2_row36_col5\" class=\"data row36 col5\" >100%</td>\n",
       "      <td id=\"T_593c2_row36_col6\" class=\"data row36 col6\" >100%</td>\n",
       "      <td id=\"T_593c2_row36_col7\" class=\"data row36 col7\" >99.4%</td>\n",
       "      <td id=\"T_593c2_row36_col8\" class=\"data row36 col8\" >90.5%</td>\n",
       "    </tr>\n",
       "  </tbody>\n",
       "</table>\n"
      ],
      "text/plain": [
       "<pandas.io.formats.style.Styler at 0x11da73110>"
      ]
     },
     "metadata": {},
     "output_type": "display_data"
    },
    {
     "data": {
      "text/html": [
       "<style type=\"text/css\">\n",
       "#T_c5bda  {\n",
       "  color: white;\n",
       "}\n",
       "</style>\n",
       "<table id=\"T_c5bda\">\n",
       "  <thead>\n",
       "    <tr>\n",
       "      <th class=\"blank level0\" >&nbsp;</th>\n",
       "      <th id=\"T_c5bda_level0_col0\" class=\"col_heading level0 col0\" >Allopurinol</th>\n",
       "      <th id=\"T_c5bda_level0_col1\" class=\"col_heading level0 col1\" >Black seed</th>\n",
       "      <th id=\"T_c5bda_level0_col2\" class=\"col_heading level0 col2\" >Chanca piedra</th>\n",
       "      <th id=\"T_c5bda_level0_col3\" class=\"col_heading level0 col3\" >Flomax</th>\n",
       "      <th id=\"T_c5bda_level0_col4\" class=\"col_heading level0 col4\" >Garcinia</th>\n",
       "      <th id=\"T_c5bda_level0_col5\" class=\"col_heading level0 col5\" >HCTZ</th>\n",
       "      <th id=\"T_c5bda_level0_col6\" class=\"col_heading level0 col6\" >Phosfood</th>\n",
       "      <th id=\"T_c5bda_level0_col7\" class=\"col_heading level0 col7\" >Potassium citrate</th>\n",
       "      <th id=\"T_c5bda_level0_col8\" class=\"col_heading level0 col8\" >Rowatinex</th>\n",
       "    </tr>\n",
       "    <tr>\n",
       "      <th class=\"index_name level0\" > </th>\n",
       "      <th class=\"blank col0\" >&nbsp;</th>\n",
       "      <th class=\"blank col1\" >&nbsp;</th>\n",
       "      <th class=\"blank col2\" >&nbsp;</th>\n",
       "      <th class=\"blank col3\" >&nbsp;</th>\n",
       "      <th class=\"blank col4\" >&nbsp;</th>\n",
       "      <th class=\"blank col5\" >&nbsp;</th>\n",
       "      <th class=\"blank col6\" >&nbsp;</th>\n",
       "      <th class=\"blank col7\" >&nbsp;</th>\n",
       "      <th class=\"blank col8\" >&nbsp;</th>\n",
       "    </tr>\n",
       "  </thead>\n",
       "  <tbody>\n",
       "    <tr>\n",
       "      <th id=\"T_c5bda_level0_row0\" class=\"row_heading level0 row0\" ><b>Total Reviews</b></th>\n",
       "      <td id=\"T_c5bda_row0_col0\" class=\"data row0 col0\" >23</td>\n",
       "      <td id=\"T_c5bda_row0_col1\" class=\"data row0 col1\" >5</td>\n",
       "      <td id=\"T_c5bda_row0_col2\" class=\"data row0 col2\" >154</td>\n",
       "      <td id=\"T_c5bda_row0_col3\" class=\"data row0 col3\" >489</td>\n",
       "      <td id=\"T_c5bda_row0_col4\" class=\"data row0 col4\" >7</td>\n",
       "      <td id=\"T_c5bda_row0_col5\" class=\"data row0 col5\" >7</td>\n",
       "      <td id=\"T_c5bda_row0_col6\" class=\"data row0 col6\" >0</td>\n",
       "      <td id=\"T_c5bda_row0_col7\" class=\"data row0 col7\" >235</td>\n",
       "      <td id=\"T_c5bda_row0_col8\" class=\"data row0 col8\" >6</td>\n",
       "    </tr>\n",
       "    <tr>\n",
       "      <th id=\"T_c5bda_level0_row1\" class=\"row_heading level0 row1\" ><b>Helps overall with kidney stones</b></th>\n",
       "      <td id=\"T_c5bda_row1_col0\" class=\"data row1 col0\" ></td>\n",
       "      <td id=\"T_c5bda_row1_col1\" class=\"data row1 col1\" ></td>\n",
       "      <td id=\"T_c5bda_row1_col2\" class=\"data row1 col2\" ></td>\n",
       "      <td id=\"T_c5bda_row1_col3\" class=\"data row1 col3\" ></td>\n",
       "      <td id=\"T_c5bda_row1_col4\" class=\"data row1 col4\" ></td>\n",
       "      <td id=\"T_c5bda_row1_col5\" class=\"data row1 col5\" ></td>\n",
       "      <td id=\"T_c5bda_row1_col6\" class=\"data row1 col6\" ></td>\n",
       "      <td id=\"T_c5bda_row1_col7\" class=\"data row1 col7\" ></td>\n",
       "      <td id=\"T_c5bda_row1_col8\" class=\"data row1 col8\" ></td>\n",
       "    </tr>\n",
       "    <tr>\n",
       "      <th id=\"T_c5bda_level0_row2\" class=\"row_heading level0 row2\" >    Yes</th>\n",
       "      <td id=\"T_c5bda_row2_col0\" class=\"data row2 col0\" >26.1%</td>\n",
       "      <td id=\"T_c5bda_row2_col1\" class=\"data row2 col1\" >40%</td>\n",
       "      <td id=\"T_c5bda_row2_col2\" class=\"data row2 col2\" >45.5%</td>\n",
       "      <td id=\"T_c5bda_row2_col3\" class=\"data row2 col3\" >26.2%</td>\n",
       "      <td id=\"T_c5bda_row2_col4\" class=\"data row2 col4\" >28.6%</td>\n",
       "      <td id=\"T_c5bda_row2_col5\" class=\"data row2 col5\" >14.3%</td>\n",
       "      <td id=\"T_c5bda_row2_col6\" class=\"data row2 col6\" >0%</td>\n",
       "      <td id=\"T_c5bda_row2_col7\" class=\"data row2 col7\" >28.1%</td>\n",
       "      <td id=\"T_c5bda_row2_col8\" class=\"data row2 col8\" >50%</td>\n",
       "    </tr>\n",
       "    <tr>\n",
       "      <th id=\"T_c5bda_level0_row3\" class=\"row_heading level0 row3\" >    No</th>\n",
       "      <td id=\"T_c5bda_row3_col0\" class=\"data row3 col0\" >4.3%</td>\n",
       "      <td id=\"T_c5bda_row3_col1\" class=\"data row3 col1\" >0%</td>\n",
       "      <td id=\"T_c5bda_row3_col2\" class=\"data row3 col2\" >11%</td>\n",
       "      <td id=\"T_c5bda_row3_col3\" class=\"data row3 col3\" >12.9%</td>\n",
       "      <td id=\"T_c5bda_row3_col4\" class=\"data row3 col4\" >0%</td>\n",
       "      <td id=\"T_c5bda_row3_col5\" class=\"data row3 col5\" >0%</td>\n",
       "      <td id=\"T_c5bda_row3_col6\" class=\"data row3 col6\" >0%</td>\n",
       "      <td id=\"T_c5bda_row3_col7\" class=\"data row3 col7\" >10.6%</td>\n",
       "      <td id=\"T_c5bda_row3_col8\" class=\"data row3 col8\" >16.7%</td>\n",
       "    </tr>\n",
       "    <tr>\n",
       "      <th id=\"T_c5bda_level0_row4\" class=\"row_heading level0 row4\" >    No information</th>\n",
       "      <td id=\"T_c5bda_row4_col0\" class=\"data row4 col0\" >69.6%</td>\n",
       "      <td id=\"T_c5bda_row4_col1\" class=\"data row4 col1\" >60%</td>\n",
       "      <td id=\"T_c5bda_row4_col2\" class=\"data row4 col2\" >43.5%</td>\n",
       "      <td id=\"T_c5bda_row4_col3\" class=\"data row4 col3\" >60.9%</td>\n",
       "      <td id=\"T_c5bda_row4_col4\" class=\"data row4 col4\" >71.4%</td>\n",
       "      <td id=\"T_c5bda_row4_col5\" class=\"data row4 col5\" >85.7%</td>\n",
       "      <td id=\"T_c5bda_row4_col6\" class=\"data row4 col6\" >0%</td>\n",
       "      <td id=\"T_c5bda_row4_col7\" class=\"data row4 col7\" >61.3%</td>\n",
       "      <td id=\"T_c5bda_row4_col8\" class=\"data row4 col8\" >33.3%</td>\n",
       "    </tr>\n",
       "    <tr>\n",
       "      <th id=\"T_c5bda_level0_row5\" class=\"row_heading level0 row5\" ><b>Helps overall with gallstones</b></th>\n",
       "      <td id=\"T_c5bda_row5_col0\" class=\"data row5 col0\" ></td>\n",
       "      <td id=\"T_c5bda_row5_col1\" class=\"data row5 col1\" ></td>\n",
       "      <td id=\"T_c5bda_row5_col2\" class=\"data row5 col2\" ></td>\n",
       "      <td id=\"T_c5bda_row5_col3\" class=\"data row5 col3\" ></td>\n",
       "      <td id=\"T_c5bda_row5_col4\" class=\"data row5 col4\" ></td>\n",
       "      <td id=\"T_c5bda_row5_col5\" class=\"data row5 col5\" ></td>\n",
       "      <td id=\"T_c5bda_row5_col6\" class=\"data row5 col6\" ></td>\n",
       "      <td id=\"T_c5bda_row5_col7\" class=\"data row5 col7\" ></td>\n",
       "      <td id=\"T_c5bda_row5_col8\" class=\"data row5 col8\" ></td>\n",
       "    </tr>\n",
       "    <tr>\n",
       "      <th id=\"T_c5bda_level0_row6\" class=\"row_heading level0 row6\" >    Yes</th>\n",
       "      <td id=\"T_c5bda_row6_col0\" class=\"data row6 col0\" >0%</td>\n",
       "      <td id=\"T_c5bda_row6_col1\" class=\"data row6 col1\" >0%</td>\n",
       "      <td id=\"T_c5bda_row6_col2\" class=\"data row6 col2\" >0%</td>\n",
       "      <td id=\"T_c5bda_row6_col3\" class=\"data row6 col3\" >0%</td>\n",
       "      <td id=\"T_c5bda_row6_col4\" class=\"data row6 col4\" >0%</td>\n",
       "      <td id=\"T_c5bda_row6_col5\" class=\"data row6 col5\" >0%</td>\n",
       "      <td id=\"T_c5bda_row6_col6\" class=\"data row6 col6\" >0%</td>\n",
       "      <td id=\"T_c5bda_row6_col7\" class=\"data row6 col7\" >0%</td>\n",
       "      <td id=\"T_c5bda_row6_col8\" class=\"data row6 col8\" >0%</td>\n",
       "    </tr>\n",
       "    <tr>\n",
       "      <th id=\"T_c5bda_level0_row7\" class=\"row_heading level0 row7\" >    No</th>\n",
       "      <td id=\"T_c5bda_row7_col0\" class=\"data row7 col0\" >0%</td>\n",
       "      <td id=\"T_c5bda_row7_col1\" class=\"data row7 col1\" >0%</td>\n",
       "      <td id=\"T_c5bda_row7_col2\" class=\"data row7 col2\" >0%</td>\n",
       "      <td id=\"T_c5bda_row7_col3\" class=\"data row7 col3\" >0%</td>\n",
       "      <td id=\"T_c5bda_row7_col4\" class=\"data row7 col4\" >0%</td>\n",
       "      <td id=\"T_c5bda_row7_col5\" class=\"data row7 col5\" >0%</td>\n",
       "      <td id=\"T_c5bda_row7_col6\" class=\"data row7 col6\" >0%</td>\n",
       "      <td id=\"T_c5bda_row7_col7\" class=\"data row7 col7\" >0%</td>\n",
       "      <td id=\"T_c5bda_row7_col8\" class=\"data row7 col8\" >0%</td>\n",
       "    </tr>\n",
       "    <tr>\n",
       "      <th id=\"T_c5bda_level0_row8\" class=\"row_heading level0 row8\" >    No information</th>\n",
       "      <td id=\"T_c5bda_row8_col0\" class=\"data row8 col0\" >100%</td>\n",
       "      <td id=\"T_c5bda_row8_col1\" class=\"data row8 col1\" >100%</td>\n",
       "      <td id=\"T_c5bda_row8_col2\" class=\"data row8 col2\" >100%</td>\n",
       "      <td id=\"T_c5bda_row8_col3\" class=\"data row8 col3\" >100%</td>\n",
       "      <td id=\"T_c5bda_row8_col4\" class=\"data row8 col4\" >100%</td>\n",
       "      <td id=\"T_c5bda_row8_col5\" class=\"data row8 col5\" >100%</td>\n",
       "      <td id=\"T_c5bda_row8_col6\" class=\"data row8 col6\" >0%</td>\n",
       "      <td id=\"T_c5bda_row8_col7\" class=\"data row8 col7\" >100%</td>\n",
       "      <td id=\"T_c5bda_row8_col8\" class=\"data row8 col8\" >100%</td>\n",
       "    </tr>\n",
       "    <tr>\n",
       "      <th id=\"T_c5bda_level0_row9\" class=\"row_heading level0 row9\" ><b>Works as a prophylactic</b></th>\n",
       "      <td id=\"T_c5bda_row9_col0\" class=\"data row9 col0\" ></td>\n",
       "      <td id=\"T_c5bda_row9_col1\" class=\"data row9 col1\" ></td>\n",
       "      <td id=\"T_c5bda_row9_col2\" class=\"data row9 col2\" ></td>\n",
       "      <td id=\"T_c5bda_row9_col3\" class=\"data row9 col3\" ></td>\n",
       "      <td id=\"T_c5bda_row9_col4\" class=\"data row9 col4\" ></td>\n",
       "      <td id=\"T_c5bda_row9_col5\" class=\"data row9 col5\" ></td>\n",
       "      <td id=\"T_c5bda_row9_col6\" class=\"data row9 col6\" ></td>\n",
       "      <td id=\"T_c5bda_row9_col7\" class=\"data row9 col7\" ></td>\n",
       "      <td id=\"T_c5bda_row9_col8\" class=\"data row9 col8\" ></td>\n",
       "    </tr>\n",
       "    <tr>\n",
       "      <th id=\"T_c5bda_level0_row10\" class=\"row_heading level0 row10\" >    Yes</th>\n",
       "      <td id=\"T_c5bda_row10_col0\" class=\"data row10 col0\" >26.1%</td>\n",
       "      <td id=\"T_c5bda_row10_col1\" class=\"data row10 col1\" >20%</td>\n",
       "      <td id=\"T_c5bda_row10_col2\" class=\"data row10 col2\" >9.1%</td>\n",
       "      <td id=\"T_c5bda_row10_col3\" class=\"data row10 col3\" >1.2%</td>\n",
       "      <td id=\"T_c5bda_row10_col4\" class=\"data row10 col4\" >0%</td>\n",
       "      <td id=\"T_c5bda_row10_col5\" class=\"data row10 col5\" >14.3%</td>\n",
       "      <td id=\"T_c5bda_row10_col6\" class=\"data row10 col6\" >0%</td>\n",
       "      <td id=\"T_c5bda_row10_col7\" class=\"data row10 col7\" >14.9%</td>\n",
       "      <td id=\"T_c5bda_row10_col8\" class=\"data row10 col8\" >0%</td>\n",
       "    </tr>\n",
       "    <tr>\n",
       "      <th id=\"T_c5bda_level0_row11\" class=\"row_heading level0 row11\" >    No</th>\n",
       "      <td id=\"T_c5bda_row11_col0\" class=\"data row11 col0\" >0%</td>\n",
       "      <td id=\"T_c5bda_row11_col1\" class=\"data row11 col1\" >0%</td>\n",
       "      <td id=\"T_c5bda_row11_col2\" class=\"data row11 col2\" >0.6%</td>\n",
       "      <td id=\"T_c5bda_row11_col3\" class=\"data row11 col3\" >0%</td>\n",
       "      <td id=\"T_c5bda_row11_col4\" class=\"data row11 col4\" >0%</td>\n",
       "      <td id=\"T_c5bda_row11_col5\" class=\"data row11 col5\" >0%</td>\n",
       "      <td id=\"T_c5bda_row11_col6\" class=\"data row11 col6\" >0%</td>\n",
       "      <td id=\"T_c5bda_row11_col7\" class=\"data row11 col7\" >2.6%</td>\n",
       "      <td id=\"T_c5bda_row11_col8\" class=\"data row11 col8\" >0%</td>\n",
       "    </tr>\n",
       "    <tr>\n",
       "      <th id=\"T_c5bda_level0_row12\" class=\"row_heading level0 row12\" >    No information</th>\n",
       "      <td id=\"T_c5bda_row12_col0\" class=\"data row12 col0\" >73.9%</td>\n",
       "      <td id=\"T_c5bda_row12_col1\" class=\"data row12 col1\" >80%</td>\n",
       "      <td id=\"T_c5bda_row12_col2\" class=\"data row12 col2\" >90.3%</td>\n",
       "      <td id=\"T_c5bda_row12_col3\" class=\"data row12 col3\" >98.8%</td>\n",
       "      <td id=\"T_c5bda_row12_col4\" class=\"data row12 col4\" >100%</td>\n",
       "      <td id=\"T_c5bda_row12_col5\" class=\"data row12 col5\" >85.7%</td>\n",
       "      <td id=\"T_c5bda_row12_col6\" class=\"data row12 col6\" >0%</td>\n",
       "      <td id=\"T_c5bda_row12_col7\" class=\"data row12 col7\" >82.6%</td>\n",
       "      <td id=\"T_c5bda_row12_col8\" class=\"data row12 col8\" >100%</td>\n",
       "    </tr>\n",
       "    <tr>\n",
       "      <th id=\"T_c5bda_level0_row13\" class=\"row_heading level0 row13\" ><b>Side effects mentioned</b></th>\n",
       "      <td id=\"T_c5bda_row13_col0\" class=\"data row13 col0\" ></td>\n",
       "      <td id=\"T_c5bda_row13_col1\" class=\"data row13 col1\" ></td>\n",
       "      <td id=\"T_c5bda_row13_col2\" class=\"data row13 col2\" ></td>\n",
       "      <td id=\"T_c5bda_row13_col3\" class=\"data row13 col3\" ></td>\n",
       "      <td id=\"T_c5bda_row13_col4\" class=\"data row13 col4\" ></td>\n",
       "      <td id=\"T_c5bda_row13_col5\" class=\"data row13 col5\" ></td>\n",
       "      <td id=\"T_c5bda_row13_col6\" class=\"data row13 col6\" ></td>\n",
       "      <td id=\"T_c5bda_row13_col7\" class=\"data row13 col7\" ></td>\n",
       "      <td id=\"T_c5bda_row13_col8\" class=\"data row13 col8\" ></td>\n",
       "    </tr>\n",
       "    <tr>\n",
       "      <th id=\"T_c5bda_level0_row14\" class=\"row_heading level0 row14\" >    Yes</th>\n",
       "      <td id=\"T_c5bda_row14_col0\" class=\"data row14 col0\" >8.7%</td>\n",
       "      <td id=\"T_c5bda_row14_col1\" class=\"data row14 col1\" >0%</td>\n",
       "      <td id=\"T_c5bda_row14_col2\" class=\"data row14 col2\" >11%</td>\n",
       "      <td id=\"T_c5bda_row14_col3\" class=\"data row14 col3\" >21.5%</td>\n",
       "      <td id=\"T_c5bda_row14_col4\" class=\"data row14 col4\" >42.9%</td>\n",
       "      <td id=\"T_c5bda_row14_col5\" class=\"data row14 col5\" >14.3%</td>\n",
       "      <td id=\"T_c5bda_row14_col6\" class=\"data row14 col6\" >0%</td>\n",
       "      <td id=\"T_c5bda_row14_col7\" class=\"data row14 col7\" >14.9%</td>\n",
       "      <td id=\"T_c5bda_row14_col8\" class=\"data row14 col8\" >0%</td>\n",
       "    </tr>\n",
       "    <tr>\n",
       "      <th id=\"T_c5bda_level0_row15\" class=\"row_heading level0 row15\" >    No</th>\n",
       "      <td id=\"T_c5bda_row15_col0\" class=\"data row15 col0\" >0%</td>\n",
       "      <td id=\"T_c5bda_row15_col1\" class=\"data row15 col1\" >0%</td>\n",
       "      <td id=\"T_c5bda_row15_col2\" class=\"data row15 col2\" >0%</td>\n",
       "      <td id=\"T_c5bda_row15_col3\" class=\"data row15 col3\" >0%</td>\n",
       "      <td id=\"T_c5bda_row15_col4\" class=\"data row15 col4\" >0%</td>\n",
       "      <td id=\"T_c5bda_row15_col5\" class=\"data row15 col5\" >0%</td>\n",
       "      <td id=\"T_c5bda_row15_col6\" class=\"data row15 col6\" >0%</td>\n",
       "      <td id=\"T_c5bda_row15_col7\" class=\"data row15 col7\" >0%</td>\n",
       "      <td id=\"T_c5bda_row15_col8\" class=\"data row15 col8\" >0%</td>\n",
       "    </tr>\n",
       "    <tr>\n",
       "      <th id=\"T_c5bda_level0_row16\" class=\"row_heading level0 row16\" >    No information</th>\n",
       "      <td id=\"T_c5bda_row16_col0\" class=\"data row16 col0\" >91.3%</td>\n",
       "      <td id=\"T_c5bda_row16_col1\" class=\"data row16 col1\" >100%</td>\n",
       "      <td id=\"T_c5bda_row16_col2\" class=\"data row16 col2\" >89%</td>\n",
       "      <td id=\"T_c5bda_row16_col3\" class=\"data row16 col3\" >78.5%</td>\n",
       "      <td id=\"T_c5bda_row16_col4\" class=\"data row16 col4\" >57.1%</td>\n",
       "      <td id=\"T_c5bda_row16_col5\" class=\"data row16 col5\" >85.7%</td>\n",
       "      <td id=\"T_c5bda_row16_col6\" class=\"data row16 col6\" >0%</td>\n",
       "      <td id=\"T_c5bda_row16_col7\" class=\"data row16 col7\" >85.1%</td>\n",
       "      <td id=\"T_c5bda_row16_col8\" class=\"data row16 col8\" >100%</td>\n",
       "    </tr>\n",
       "    <tr>\n",
       "      <th id=\"T_c5bda_level0_row17\" class=\"row_heading level0 row17\" ><b>Asserts significant pain reduction</b></th>\n",
       "      <td id=\"T_c5bda_row17_col0\" class=\"data row17 col0\" ></td>\n",
       "      <td id=\"T_c5bda_row17_col1\" class=\"data row17 col1\" ></td>\n",
       "      <td id=\"T_c5bda_row17_col2\" class=\"data row17 col2\" ></td>\n",
       "      <td id=\"T_c5bda_row17_col3\" class=\"data row17 col3\" ></td>\n",
       "      <td id=\"T_c5bda_row17_col4\" class=\"data row17 col4\" ></td>\n",
       "      <td id=\"T_c5bda_row17_col5\" class=\"data row17 col5\" ></td>\n",
       "      <td id=\"T_c5bda_row17_col6\" class=\"data row17 col6\" ></td>\n",
       "      <td id=\"T_c5bda_row17_col7\" class=\"data row17 col7\" ></td>\n",
       "      <td id=\"T_c5bda_row17_col8\" class=\"data row17 col8\" ></td>\n",
       "    </tr>\n",
       "    <tr>\n",
       "      <th id=\"T_c5bda_level0_row18\" class=\"row_heading level0 row18\" >    Yes</th>\n",
       "      <td id=\"T_c5bda_row18_col0\" class=\"data row18 col0\" >0%</td>\n",
       "      <td id=\"T_c5bda_row18_col1\" class=\"data row18 col1\" >0%</td>\n",
       "      <td id=\"T_c5bda_row18_col2\" class=\"data row18 col2\" >13%</td>\n",
       "      <td id=\"T_c5bda_row18_col3\" class=\"data row18 col3\" >6.1%</td>\n",
       "      <td id=\"T_c5bda_row18_col4\" class=\"data row18 col4\" >0%</td>\n",
       "      <td id=\"T_c5bda_row18_col5\" class=\"data row18 col5\" >0%</td>\n",
       "      <td id=\"T_c5bda_row18_col6\" class=\"data row18 col6\" >0%</td>\n",
       "      <td id=\"T_c5bda_row18_col7\" class=\"data row18 col7\" >0.9%</td>\n",
       "      <td id=\"T_c5bda_row18_col8\" class=\"data row18 col8\" >16.7%</td>\n",
       "    </tr>\n",
       "    <tr>\n",
       "      <th id=\"T_c5bda_level0_row19\" class=\"row_heading level0 row19\" >    No</th>\n",
       "      <td id=\"T_c5bda_row19_col0\" class=\"data row19 col0\" >0%</td>\n",
       "      <td id=\"T_c5bda_row19_col1\" class=\"data row19 col1\" >0%</td>\n",
       "      <td id=\"T_c5bda_row19_col2\" class=\"data row19 col2\" >1.9%</td>\n",
       "      <td id=\"T_c5bda_row19_col3\" class=\"data row19 col3\" >1%</td>\n",
       "      <td id=\"T_c5bda_row19_col4\" class=\"data row19 col4\" >0%</td>\n",
       "      <td id=\"T_c5bda_row19_col5\" class=\"data row19 col5\" >0%</td>\n",
       "      <td id=\"T_c5bda_row19_col6\" class=\"data row19 col6\" >0%</td>\n",
       "      <td id=\"T_c5bda_row19_col7\" class=\"data row19 col7\" >0%</td>\n",
       "      <td id=\"T_c5bda_row19_col8\" class=\"data row19 col8\" >0%</td>\n",
       "    </tr>\n",
       "    <tr>\n",
       "      <th id=\"T_c5bda_level0_row20\" class=\"row_heading level0 row20\" >    No information</th>\n",
       "      <td id=\"T_c5bda_row20_col0\" class=\"data row20 col0\" >100%</td>\n",
       "      <td id=\"T_c5bda_row20_col1\" class=\"data row20 col1\" >100%</td>\n",
       "      <td id=\"T_c5bda_row20_col2\" class=\"data row20 col2\" >85.1%</td>\n",
       "      <td id=\"T_c5bda_row20_col3\" class=\"data row20 col3\" >92.8%</td>\n",
       "      <td id=\"T_c5bda_row20_col4\" class=\"data row20 col4\" >100%</td>\n",
       "      <td id=\"T_c5bda_row20_col5\" class=\"data row20 col5\" >100%</td>\n",
       "      <td id=\"T_c5bda_row20_col6\" class=\"data row20 col6\" >0%</td>\n",
       "      <td id=\"T_c5bda_row20_col7\" class=\"data row20 col7\" >99.1%</td>\n",
       "      <td id=\"T_c5bda_row20_col8\" class=\"data row20 col8\" >83.3%</td>\n",
       "    </tr>\n",
       "    <tr>\n",
       "      <th id=\"T_c5bda_level0_row21\" class=\"row_heading level0 row21\" ><b>Mentions breaking of stones</b></th>\n",
       "      <td id=\"T_c5bda_row21_col0\" class=\"data row21 col0\" ></td>\n",
       "      <td id=\"T_c5bda_row21_col1\" class=\"data row21 col1\" ></td>\n",
       "      <td id=\"T_c5bda_row21_col2\" class=\"data row21 col2\" ></td>\n",
       "      <td id=\"T_c5bda_row21_col3\" class=\"data row21 col3\" ></td>\n",
       "      <td id=\"T_c5bda_row21_col4\" class=\"data row21 col4\" ></td>\n",
       "      <td id=\"T_c5bda_row21_col5\" class=\"data row21 col5\" ></td>\n",
       "      <td id=\"T_c5bda_row21_col6\" class=\"data row21 col6\" ></td>\n",
       "      <td id=\"T_c5bda_row21_col7\" class=\"data row21 col7\" ></td>\n",
       "      <td id=\"T_c5bda_row21_col8\" class=\"data row21 col8\" ></td>\n",
       "    </tr>\n",
       "    <tr>\n",
       "      <th id=\"T_c5bda_level0_row22\" class=\"row_heading level0 row22\" >    Yes</th>\n",
       "      <td id=\"T_c5bda_row22_col0\" class=\"data row22 col0\" >0%</td>\n",
       "      <td id=\"T_c5bda_row22_col1\" class=\"data row22 col1\" >0%</td>\n",
       "      <td id=\"T_c5bda_row22_col2\" class=\"data row22 col2\" >11%</td>\n",
       "      <td id=\"T_c5bda_row22_col3\" class=\"data row22 col3\" >0%</td>\n",
       "      <td id=\"T_c5bda_row22_col4\" class=\"data row22 col4\" >0%</td>\n",
       "      <td id=\"T_c5bda_row22_col5\" class=\"data row22 col5\" >0%</td>\n",
       "      <td id=\"T_c5bda_row22_col6\" class=\"data row22 col6\" >0%</td>\n",
       "      <td id=\"T_c5bda_row22_col7\" class=\"data row22 col7\" >0.9%</td>\n",
       "      <td id=\"T_c5bda_row22_col8\" class=\"data row22 col8\" >0%</td>\n",
       "    </tr>\n",
       "    <tr>\n",
       "      <th id=\"T_c5bda_level0_row23\" class=\"row_heading level0 row23\" >    No</th>\n",
       "      <td id=\"T_c5bda_row23_col0\" class=\"data row23 col0\" >0%</td>\n",
       "      <td id=\"T_c5bda_row23_col1\" class=\"data row23 col1\" >0%</td>\n",
       "      <td id=\"T_c5bda_row23_col2\" class=\"data row23 col2\" >1.9%</td>\n",
       "      <td id=\"T_c5bda_row23_col3\" class=\"data row23 col3\" >0%</td>\n",
       "      <td id=\"T_c5bda_row23_col4\" class=\"data row23 col4\" >0%</td>\n",
       "      <td id=\"T_c5bda_row23_col5\" class=\"data row23 col5\" >0%</td>\n",
       "      <td id=\"T_c5bda_row23_col6\" class=\"data row23 col6\" >0%</td>\n",
       "      <td id=\"T_c5bda_row23_col7\" class=\"data row23 col7\" >0.4%</td>\n",
       "      <td id=\"T_c5bda_row23_col8\" class=\"data row23 col8\" >0%</td>\n",
       "    </tr>\n",
       "    <tr>\n",
       "      <th id=\"T_c5bda_level0_row24\" class=\"row_heading level0 row24\" >    No information</th>\n",
       "      <td id=\"T_c5bda_row24_col0\" class=\"data row24 col0\" >100%</td>\n",
       "      <td id=\"T_c5bda_row24_col1\" class=\"data row24 col1\" >100%</td>\n",
       "      <td id=\"T_c5bda_row24_col2\" class=\"data row24 col2\" >87%</td>\n",
       "      <td id=\"T_c5bda_row24_col3\" class=\"data row24 col3\" >100%</td>\n",
       "      <td id=\"T_c5bda_row24_col4\" class=\"data row24 col4\" >100%</td>\n",
       "      <td id=\"T_c5bda_row24_col5\" class=\"data row24 col5\" >100%</td>\n",
       "      <td id=\"T_c5bda_row24_col6\" class=\"data row24 col6\" >0%</td>\n",
       "      <td id=\"T_c5bda_row24_col7\" class=\"data row24 col7\" >98.7%</td>\n",
       "      <td id=\"T_c5bda_row24_col8\" class=\"data row24 col8\" >100%</td>\n",
       "    </tr>\n",
       "    <tr>\n",
       "      <th id=\"T_c5bda_level0_row25\" class=\"row_heading level0 row25\" ><b>Mentions shrinking of the stones</b></th>\n",
       "      <td id=\"T_c5bda_row25_col0\" class=\"data row25 col0\" ></td>\n",
       "      <td id=\"T_c5bda_row25_col1\" class=\"data row25 col1\" ></td>\n",
       "      <td id=\"T_c5bda_row25_col2\" class=\"data row25 col2\" ></td>\n",
       "      <td id=\"T_c5bda_row25_col3\" class=\"data row25 col3\" ></td>\n",
       "      <td id=\"T_c5bda_row25_col4\" class=\"data row25 col4\" ></td>\n",
       "      <td id=\"T_c5bda_row25_col5\" class=\"data row25 col5\" ></td>\n",
       "      <td id=\"T_c5bda_row25_col6\" class=\"data row25 col6\" ></td>\n",
       "      <td id=\"T_c5bda_row25_col7\" class=\"data row25 col7\" ></td>\n",
       "      <td id=\"T_c5bda_row25_col8\" class=\"data row25 col8\" ></td>\n",
       "    </tr>\n",
       "    <tr>\n",
       "      <th id=\"T_c5bda_level0_row26\" class=\"row_heading level0 row26\" >    Yes</th>\n",
       "      <td id=\"T_c5bda_row26_col0\" class=\"data row26 col0\" >0%</td>\n",
       "      <td id=\"T_c5bda_row26_col1\" class=\"data row26 col1\" >20%</td>\n",
       "      <td id=\"T_c5bda_row26_col2\" class=\"data row26 col2\" >5.2%</td>\n",
       "      <td id=\"T_c5bda_row26_col3\" class=\"data row26 col3\" >0.4%</td>\n",
       "      <td id=\"T_c5bda_row26_col4\" class=\"data row26 col4\" >14.3%</td>\n",
       "      <td id=\"T_c5bda_row26_col5\" class=\"data row26 col5\" >0%</td>\n",
       "      <td id=\"T_c5bda_row26_col6\" class=\"data row26 col6\" >0%</td>\n",
       "      <td id=\"T_c5bda_row26_col7\" class=\"data row26 col7\" >0.9%</td>\n",
       "      <td id=\"T_c5bda_row26_col8\" class=\"data row26 col8\" >16.7%</td>\n",
       "    </tr>\n",
       "    <tr>\n",
       "      <th id=\"T_c5bda_level0_row27\" class=\"row_heading level0 row27\" >    No</th>\n",
       "      <td id=\"T_c5bda_row27_col0\" class=\"data row27 col0\" >0%</td>\n",
       "      <td id=\"T_c5bda_row27_col1\" class=\"data row27 col1\" >0%</td>\n",
       "      <td id=\"T_c5bda_row27_col2\" class=\"data row27 col2\" >1.9%</td>\n",
       "      <td id=\"T_c5bda_row27_col3\" class=\"data row27 col3\" >0%</td>\n",
       "      <td id=\"T_c5bda_row27_col4\" class=\"data row27 col4\" >0%</td>\n",
       "      <td id=\"T_c5bda_row27_col5\" class=\"data row27 col5\" >0%</td>\n",
       "      <td id=\"T_c5bda_row27_col6\" class=\"data row27 col6\" >0%</td>\n",
       "      <td id=\"T_c5bda_row27_col7\" class=\"data row27 col7\" >0%</td>\n",
       "      <td id=\"T_c5bda_row27_col8\" class=\"data row27 col8\" >0%</td>\n",
       "    </tr>\n",
       "    <tr>\n",
       "      <th id=\"T_c5bda_level0_row28\" class=\"row_heading level0 row28\" >    No information</th>\n",
       "      <td id=\"T_c5bda_row28_col0\" class=\"data row28 col0\" >100%</td>\n",
       "      <td id=\"T_c5bda_row28_col1\" class=\"data row28 col1\" >80%</td>\n",
       "      <td id=\"T_c5bda_row28_col2\" class=\"data row28 col2\" >92.9%</td>\n",
       "      <td id=\"T_c5bda_row28_col3\" class=\"data row28 col3\" >99.6%</td>\n",
       "      <td id=\"T_c5bda_row28_col4\" class=\"data row28 col4\" >85.7%</td>\n",
       "      <td id=\"T_c5bda_row28_col5\" class=\"data row28 col5\" >100%</td>\n",
       "      <td id=\"T_c5bda_row28_col6\" class=\"data row28 col6\" >0%</td>\n",
       "      <td id=\"T_c5bda_row28_col7\" class=\"data row28 col7\" >99.1%</td>\n",
       "      <td id=\"T_c5bda_row28_col8\" class=\"data row28 col8\" >83.3%</td>\n",
       "    </tr>\n",
       "    <tr>\n",
       "      <th id=\"T_c5bda_level0_row29\" class=\"row_heading level0 row29\" ><b>Mentions softening of stones</b></th>\n",
       "      <td id=\"T_c5bda_row29_col0\" class=\"data row29 col0\" ></td>\n",
       "      <td id=\"T_c5bda_row29_col1\" class=\"data row29 col1\" ></td>\n",
       "      <td id=\"T_c5bda_row29_col2\" class=\"data row29 col2\" ></td>\n",
       "      <td id=\"T_c5bda_row29_col3\" class=\"data row29 col3\" ></td>\n",
       "      <td id=\"T_c5bda_row29_col4\" class=\"data row29 col4\" ></td>\n",
       "      <td id=\"T_c5bda_row29_col5\" class=\"data row29 col5\" ></td>\n",
       "      <td id=\"T_c5bda_row29_col6\" class=\"data row29 col6\" ></td>\n",
       "      <td id=\"T_c5bda_row29_col7\" class=\"data row29 col7\" ></td>\n",
       "      <td id=\"T_c5bda_row29_col8\" class=\"data row29 col8\" ></td>\n",
       "    </tr>\n",
       "    <tr>\n",
       "      <th id=\"T_c5bda_level0_row30\" class=\"row_heading level0 row30\" >    Yes</th>\n",
       "      <td id=\"T_c5bda_row30_col0\" class=\"data row30 col0\" >0%</td>\n",
       "      <td id=\"T_c5bda_row30_col1\" class=\"data row30 col1\" >0%</td>\n",
       "      <td id=\"T_c5bda_row30_col2\" class=\"data row30 col2\" >1.3%</td>\n",
       "      <td id=\"T_c5bda_row30_col3\" class=\"data row30 col3\" >0%</td>\n",
       "      <td id=\"T_c5bda_row30_col4\" class=\"data row30 col4\" >0%</td>\n",
       "      <td id=\"T_c5bda_row30_col5\" class=\"data row30 col5\" >0%</td>\n",
       "      <td id=\"T_c5bda_row30_col6\" class=\"data row30 col6\" >0%</td>\n",
       "      <td id=\"T_c5bda_row30_col7\" class=\"data row30 col7\" >0.4%</td>\n",
       "      <td id=\"T_c5bda_row30_col8\" class=\"data row30 col8\" >0%</td>\n",
       "    </tr>\n",
       "    <tr>\n",
       "      <th id=\"T_c5bda_level0_row31\" class=\"row_heading level0 row31\" >    No</th>\n",
       "      <td id=\"T_c5bda_row31_col0\" class=\"data row31 col0\" >0%</td>\n",
       "      <td id=\"T_c5bda_row31_col1\" class=\"data row31 col1\" >0%</td>\n",
       "      <td id=\"T_c5bda_row31_col2\" class=\"data row31 col2\" >0%</td>\n",
       "      <td id=\"T_c5bda_row31_col3\" class=\"data row31 col3\" >0%</td>\n",
       "      <td id=\"T_c5bda_row31_col4\" class=\"data row31 col4\" >0%</td>\n",
       "      <td id=\"T_c5bda_row31_col5\" class=\"data row31 col5\" >0%</td>\n",
       "      <td id=\"T_c5bda_row31_col6\" class=\"data row31 col6\" >0%</td>\n",
       "      <td id=\"T_c5bda_row31_col7\" class=\"data row31 col7\" >0%</td>\n",
       "      <td id=\"T_c5bda_row31_col8\" class=\"data row31 col8\" >0%</td>\n",
       "    </tr>\n",
       "    <tr>\n",
       "      <th id=\"T_c5bda_level0_row32\" class=\"row_heading level0 row32\" >    No information</th>\n",
       "      <td id=\"T_c5bda_row32_col0\" class=\"data row32 col0\" >100%</td>\n",
       "      <td id=\"T_c5bda_row32_col1\" class=\"data row32 col1\" >100%</td>\n",
       "      <td id=\"T_c5bda_row32_col2\" class=\"data row32 col2\" >98.7%</td>\n",
       "      <td id=\"T_c5bda_row32_col3\" class=\"data row32 col3\" >100%</td>\n",
       "      <td id=\"T_c5bda_row32_col4\" class=\"data row32 col4\" >100%</td>\n",
       "      <td id=\"T_c5bda_row32_col5\" class=\"data row32 col5\" >100%</td>\n",
       "      <td id=\"T_c5bda_row32_col6\" class=\"data row32 col6\" >0%</td>\n",
       "      <td id=\"T_c5bda_row32_col7\" class=\"data row32 col7\" >99.6%</td>\n",
       "      <td id=\"T_c5bda_row32_col8\" class=\"data row32 col8\" >100%</td>\n",
       "    </tr>\n",
       "    <tr>\n",
       "      <th id=\"T_c5bda_level0_row33\" class=\"row_heading level0 row33\" ><b>Stone passed with no or almost no pain</b></th>\n",
       "      <td id=\"T_c5bda_row33_col0\" class=\"data row33 col0\" ></td>\n",
       "      <td id=\"T_c5bda_row33_col1\" class=\"data row33 col1\" ></td>\n",
       "      <td id=\"T_c5bda_row33_col2\" class=\"data row33 col2\" ></td>\n",
       "      <td id=\"T_c5bda_row33_col3\" class=\"data row33 col3\" ></td>\n",
       "      <td id=\"T_c5bda_row33_col4\" class=\"data row33 col4\" ></td>\n",
       "      <td id=\"T_c5bda_row33_col5\" class=\"data row33 col5\" ></td>\n",
       "      <td id=\"T_c5bda_row33_col6\" class=\"data row33 col6\" ></td>\n",
       "      <td id=\"T_c5bda_row33_col7\" class=\"data row33 col7\" ></td>\n",
       "      <td id=\"T_c5bda_row33_col8\" class=\"data row33 col8\" ></td>\n",
       "    </tr>\n",
       "    <tr>\n",
       "      <th id=\"T_c5bda_level0_row34\" class=\"row_heading level0 row34\" >    Yes</th>\n",
       "      <td id=\"T_c5bda_row34_col0\" class=\"data row34 col0\" >4.3%</td>\n",
       "      <td id=\"T_c5bda_row34_col1\" class=\"data row34 col1\" >0%</td>\n",
       "      <td id=\"T_c5bda_row34_col2\" class=\"data row34 col2\" >7.1%</td>\n",
       "      <td id=\"T_c5bda_row34_col3\" class=\"data row34 col3\" >3.1%</td>\n",
       "      <td id=\"T_c5bda_row34_col4\" class=\"data row34 col4\" >0%</td>\n",
       "      <td id=\"T_c5bda_row34_col5\" class=\"data row34 col5\" >0%</td>\n",
       "      <td id=\"T_c5bda_row34_col6\" class=\"data row34 col6\" >0%</td>\n",
       "      <td id=\"T_c5bda_row34_col7\" class=\"data row34 col7\" >1.3%</td>\n",
       "      <td id=\"T_c5bda_row34_col8\" class=\"data row34 col8\" >16.7%</td>\n",
       "    </tr>\n",
       "    <tr>\n",
       "      <th id=\"T_c5bda_level0_row35\" class=\"row_heading level0 row35\" >    No</th>\n",
       "      <td id=\"T_c5bda_row35_col0\" class=\"data row35 col0\" >0%</td>\n",
       "      <td id=\"T_c5bda_row35_col1\" class=\"data row35 col1\" >0%</td>\n",
       "      <td id=\"T_c5bda_row35_col2\" class=\"data row35 col2\" >0%</td>\n",
       "      <td id=\"T_c5bda_row35_col3\" class=\"data row35 col3\" >0.2%</td>\n",
       "      <td id=\"T_c5bda_row35_col4\" class=\"data row35 col4\" >0%</td>\n",
       "      <td id=\"T_c5bda_row35_col5\" class=\"data row35 col5\" >0%</td>\n",
       "      <td id=\"T_c5bda_row35_col6\" class=\"data row35 col6\" >0%</td>\n",
       "      <td id=\"T_c5bda_row35_col7\" class=\"data row35 col7\" >0%</td>\n",
       "      <td id=\"T_c5bda_row35_col8\" class=\"data row35 col8\" >0%</td>\n",
       "    </tr>\n",
       "    <tr>\n",
       "      <th id=\"T_c5bda_level0_row36\" class=\"row_heading level0 row36\" >    No information</th>\n",
       "      <td id=\"T_c5bda_row36_col0\" class=\"data row36 col0\" >95.7%</td>\n",
       "      <td id=\"T_c5bda_row36_col1\" class=\"data row36 col1\" >100%</td>\n",
       "      <td id=\"T_c5bda_row36_col2\" class=\"data row36 col2\" >92.9%</td>\n",
       "      <td id=\"T_c5bda_row36_col3\" class=\"data row36 col3\" >96.7%</td>\n",
       "      <td id=\"T_c5bda_row36_col4\" class=\"data row36 col4\" >100%</td>\n",
       "      <td id=\"T_c5bda_row36_col5\" class=\"data row36 col5\" >100%</td>\n",
       "      <td id=\"T_c5bda_row36_col6\" class=\"data row36 col6\" >0%</td>\n",
       "      <td id=\"T_c5bda_row36_col7\" class=\"data row36 col7\" >98.7%</td>\n",
       "      <td id=\"T_c5bda_row36_col8\" class=\"data row36 col8\" >83.3%</td>\n",
       "    </tr>\n",
       "  </tbody>\n",
       "</table>\n"
      ],
      "text/plain": [
       "<pandas.io.formats.style.Styler at 0x11fd53d40>"
      ]
     },
     "metadata": {},
     "output_type": "display_data"
    },
    {
     "data": {
      "text/html": [
       "<style type=\"text/css\">\n",
       "#T_a8411  {\n",
       "  color: white;\n",
       "}\n",
       "</style>\n",
       "<table id=\"T_a8411\">\n",
       "  <thead>\n",
       "    <tr>\n",
       "      <th class=\"blank level0\" >&nbsp;</th>\n",
       "      <th id=\"T_a8411_level0_col0\" class=\"col_heading level0 col0\" >Allopurinol</th>\n",
       "      <th id=\"T_a8411_level0_col1\" class=\"col_heading level0 col1\" >Black seed</th>\n",
       "      <th id=\"T_a8411_level0_col2\" class=\"col_heading level0 col2\" >Chanca piedra</th>\n",
       "      <th id=\"T_a8411_level0_col3\" class=\"col_heading level0 col3\" >Flomax</th>\n",
       "      <th id=\"T_a8411_level0_col4\" class=\"col_heading level0 col4\" >Garcinia</th>\n",
       "      <th id=\"T_a8411_level0_col5\" class=\"col_heading level0 col5\" >HCTZ</th>\n",
       "      <th id=\"T_a8411_level0_col6\" class=\"col_heading level0 col6\" >Phosfood</th>\n",
       "      <th id=\"T_a8411_level0_col7\" class=\"col_heading level0 col7\" >Potassium citrate</th>\n",
       "      <th id=\"T_a8411_level0_col8\" class=\"col_heading level0 col8\" >Rowatinex</th>\n",
       "    </tr>\n",
       "    <tr>\n",
       "      <th class=\"index_name level0\" > </th>\n",
       "      <th class=\"blank col0\" >&nbsp;</th>\n",
       "      <th class=\"blank col1\" >&nbsp;</th>\n",
       "      <th class=\"blank col2\" >&nbsp;</th>\n",
       "      <th class=\"blank col3\" >&nbsp;</th>\n",
       "      <th class=\"blank col4\" >&nbsp;</th>\n",
       "      <th class=\"blank col5\" >&nbsp;</th>\n",
       "      <th class=\"blank col6\" >&nbsp;</th>\n",
       "      <th class=\"blank col7\" >&nbsp;</th>\n",
       "      <th class=\"blank col8\" >&nbsp;</th>\n",
       "    </tr>\n",
       "  </thead>\n",
       "  <tbody>\n",
       "    <tr>\n",
       "      <th id=\"T_a8411_level0_row0\" class=\"row_heading level0 row0\" ><b>Total Reviews</b></th>\n",
       "      <td id=\"T_a8411_row0_col0\" class=\"data row0 col0\" >14</td>\n",
       "      <td id=\"T_a8411_row0_col1\" class=\"data row0 col1\" >0</td>\n",
       "      <td id=\"T_a8411_row0_col2\" class=\"data row0 col2\" >64</td>\n",
       "      <td id=\"T_a8411_row0_col3\" class=\"data row0 col3\" >165</td>\n",
       "      <td id=\"T_a8411_row0_col4\" class=\"data row0 col4\" >6</td>\n",
       "      <td id=\"T_a8411_row0_col5\" class=\"data row0 col5\" >8</td>\n",
       "      <td id=\"T_a8411_row0_col6\" class=\"data row0 col6\" >0</td>\n",
       "      <td id=\"T_a8411_row0_col7\" class=\"data row0 col7\" >116</td>\n",
       "      <td id=\"T_a8411_row0_col8\" class=\"data row0 col8\" >7</td>\n",
       "    </tr>\n",
       "    <tr>\n",
       "      <th id=\"T_a8411_level0_row1\" class=\"row_heading level0 row1\" ><b>Helps overall with kidney stones</b></th>\n",
       "      <td id=\"T_a8411_row1_col0\" class=\"data row1 col0\" ></td>\n",
       "      <td id=\"T_a8411_row1_col1\" class=\"data row1 col1\" ></td>\n",
       "      <td id=\"T_a8411_row1_col2\" class=\"data row1 col2\" ></td>\n",
       "      <td id=\"T_a8411_row1_col3\" class=\"data row1 col3\" ></td>\n",
       "      <td id=\"T_a8411_row1_col4\" class=\"data row1 col4\" ></td>\n",
       "      <td id=\"T_a8411_row1_col5\" class=\"data row1 col5\" ></td>\n",
       "      <td id=\"T_a8411_row1_col6\" class=\"data row1 col6\" ></td>\n",
       "      <td id=\"T_a8411_row1_col7\" class=\"data row1 col7\" ></td>\n",
       "      <td id=\"T_a8411_row1_col8\" class=\"data row1 col8\" ></td>\n",
       "    </tr>\n",
       "    <tr>\n",
       "      <th id=\"T_a8411_level0_row2\" class=\"row_heading level0 row2\" >    Yes</th>\n",
       "      <td id=\"T_a8411_row2_col0\" class=\"data row2 col0\" >42.9%</td>\n",
       "      <td id=\"T_a8411_row2_col1\" class=\"data row2 col1\" >0%</td>\n",
       "      <td id=\"T_a8411_row2_col2\" class=\"data row2 col2\" >57.8%</td>\n",
       "      <td id=\"T_a8411_row2_col3\" class=\"data row2 col3\" >33.9%</td>\n",
       "      <td id=\"T_a8411_row2_col4\" class=\"data row2 col4\" >83.3%</td>\n",
       "      <td id=\"T_a8411_row2_col5\" class=\"data row2 col5\" >50%</td>\n",
       "      <td id=\"T_a8411_row2_col6\" class=\"data row2 col6\" >0%</td>\n",
       "      <td id=\"T_a8411_row2_col7\" class=\"data row2 col7\" >30.2%</td>\n",
       "      <td id=\"T_a8411_row2_col8\" class=\"data row2 col8\" >28.6%</td>\n",
       "    </tr>\n",
       "    <tr>\n",
       "      <th id=\"T_a8411_level0_row3\" class=\"row_heading level0 row3\" >    No</th>\n",
       "      <td id=\"T_a8411_row3_col0\" class=\"data row3 col0\" >0%</td>\n",
       "      <td id=\"T_a8411_row3_col1\" class=\"data row3 col1\" >0%</td>\n",
       "      <td id=\"T_a8411_row3_col2\" class=\"data row3 col2\" >12.5%</td>\n",
       "      <td id=\"T_a8411_row3_col3\" class=\"data row3 col3\" >16.4%</td>\n",
       "      <td id=\"T_a8411_row3_col4\" class=\"data row3 col4\" >0%</td>\n",
       "      <td id=\"T_a8411_row3_col5\" class=\"data row3 col5\" >0%</td>\n",
       "      <td id=\"T_a8411_row3_col6\" class=\"data row3 col6\" >0%</td>\n",
       "      <td id=\"T_a8411_row3_col7\" class=\"data row3 col7\" >19.8%</td>\n",
       "      <td id=\"T_a8411_row3_col8\" class=\"data row3 col8\" >42.9%</td>\n",
       "    </tr>\n",
       "    <tr>\n",
       "      <th id=\"T_a8411_level0_row4\" class=\"row_heading level0 row4\" >    No information</th>\n",
       "      <td id=\"T_a8411_row4_col0\" class=\"data row4 col0\" >57.1%</td>\n",
       "      <td id=\"T_a8411_row4_col1\" class=\"data row4 col1\" >0%</td>\n",
       "      <td id=\"T_a8411_row4_col2\" class=\"data row4 col2\" >29.7%</td>\n",
       "      <td id=\"T_a8411_row4_col3\" class=\"data row4 col3\" >49.7%</td>\n",
       "      <td id=\"T_a8411_row4_col4\" class=\"data row4 col4\" >16.7%</td>\n",
       "      <td id=\"T_a8411_row4_col5\" class=\"data row4 col5\" >50%</td>\n",
       "      <td id=\"T_a8411_row4_col6\" class=\"data row4 col6\" >0%</td>\n",
       "      <td id=\"T_a8411_row4_col7\" class=\"data row4 col7\" >50%</td>\n",
       "      <td id=\"T_a8411_row4_col8\" class=\"data row4 col8\" >28.6%</td>\n",
       "    </tr>\n",
       "    <tr>\n",
       "      <th id=\"T_a8411_level0_row5\" class=\"row_heading level0 row5\" ><b>Helps overall with gallstones</b></th>\n",
       "      <td id=\"T_a8411_row5_col0\" class=\"data row5 col0\" ></td>\n",
       "      <td id=\"T_a8411_row5_col1\" class=\"data row5 col1\" ></td>\n",
       "      <td id=\"T_a8411_row5_col2\" class=\"data row5 col2\" ></td>\n",
       "      <td id=\"T_a8411_row5_col3\" class=\"data row5 col3\" ></td>\n",
       "      <td id=\"T_a8411_row5_col4\" class=\"data row5 col4\" ></td>\n",
       "      <td id=\"T_a8411_row5_col5\" class=\"data row5 col5\" ></td>\n",
       "      <td id=\"T_a8411_row5_col6\" class=\"data row5 col6\" ></td>\n",
       "      <td id=\"T_a8411_row5_col7\" class=\"data row5 col7\" ></td>\n",
       "      <td id=\"T_a8411_row5_col8\" class=\"data row5 col8\" ></td>\n",
       "    </tr>\n",
       "    <tr>\n",
       "      <th id=\"T_a8411_level0_row6\" class=\"row_heading level0 row6\" >    Yes</th>\n",
       "      <td id=\"T_a8411_row6_col0\" class=\"data row6 col0\" >0%</td>\n",
       "      <td id=\"T_a8411_row6_col1\" class=\"data row6 col1\" >0%</td>\n",
       "      <td id=\"T_a8411_row6_col2\" class=\"data row6 col2\" >0%</td>\n",
       "      <td id=\"T_a8411_row6_col3\" class=\"data row6 col3\" >0%</td>\n",
       "      <td id=\"T_a8411_row6_col4\" class=\"data row6 col4\" >0%</td>\n",
       "      <td id=\"T_a8411_row6_col5\" class=\"data row6 col5\" >0%</td>\n",
       "      <td id=\"T_a8411_row6_col6\" class=\"data row6 col6\" >0%</td>\n",
       "      <td id=\"T_a8411_row6_col7\" class=\"data row6 col7\" >0%</td>\n",
       "      <td id=\"T_a8411_row6_col8\" class=\"data row6 col8\" >0%</td>\n",
       "    </tr>\n",
       "    <tr>\n",
       "      <th id=\"T_a8411_level0_row7\" class=\"row_heading level0 row7\" >    No</th>\n",
       "      <td id=\"T_a8411_row7_col0\" class=\"data row7 col0\" >0%</td>\n",
       "      <td id=\"T_a8411_row7_col1\" class=\"data row7 col1\" >0%</td>\n",
       "      <td id=\"T_a8411_row7_col2\" class=\"data row7 col2\" >0%</td>\n",
       "      <td id=\"T_a8411_row7_col3\" class=\"data row7 col3\" >0%</td>\n",
       "      <td id=\"T_a8411_row7_col4\" class=\"data row7 col4\" >0%</td>\n",
       "      <td id=\"T_a8411_row7_col5\" class=\"data row7 col5\" >0%</td>\n",
       "      <td id=\"T_a8411_row7_col6\" class=\"data row7 col6\" >0%</td>\n",
       "      <td id=\"T_a8411_row7_col7\" class=\"data row7 col7\" >0%</td>\n",
       "      <td id=\"T_a8411_row7_col8\" class=\"data row7 col8\" >0%</td>\n",
       "    </tr>\n",
       "    <tr>\n",
       "      <th id=\"T_a8411_level0_row8\" class=\"row_heading level0 row8\" >    No information</th>\n",
       "      <td id=\"T_a8411_row8_col0\" class=\"data row8 col0\" >100%</td>\n",
       "      <td id=\"T_a8411_row8_col1\" class=\"data row8 col1\" >0%</td>\n",
       "      <td id=\"T_a8411_row8_col2\" class=\"data row8 col2\" >100%</td>\n",
       "      <td id=\"T_a8411_row8_col3\" class=\"data row8 col3\" >100%</td>\n",
       "      <td id=\"T_a8411_row8_col4\" class=\"data row8 col4\" >100%</td>\n",
       "      <td id=\"T_a8411_row8_col5\" class=\"data row8 col5\" >100%</td>\n",
       "      <td id=\"T_a8411_row8_col6\" class=\"data row8 col6\" >0%</td>\n",
       "      <td id=\"T_a8411_row8_col7\" class=\"data row8 col7\" >100%</td>\n",
       "      <td id=\"T_a8411_row8_col8\" class=\"data row8 col8\" >100%</td>\n",
       "    </tr>\n",
       "    <tr>\n",
       "      <th id=\"T_a8411_level0_row9\" class=\"row_heading level0 row9\" ><b>Works as a prophylactic</b></th>\n",
       "      <td id=\"T_a8411_row9_col0\" class=\"data row9 col0\" ></td>\n",
       "      <td id=\"T_a8411_row9_col1\" class=\"data row9 col1\" ></td>\n",
       "      <td id=\"T_a8411_row9_col2\" class=\"data row9 col2\" ></td>\n",
       "      <td id=\"T_a8411_row9_col3\" class=\"data row9 col3\" ></td>\n",
       "      <td id=\"T_a8411_row9_col4\" class=\"data row9 col4\" ></td>\n",
       "      <td id=\"T_a8411_row9_col5\" class=\"data row9 col5\" ></td>\n",
       "      <td id=\"T_a8411_row9_col6\" class=\"data row9 col6\" ></td>\n",
       "      <td id=\"T_a8411_row9_col7\" class=\"data row9 col7\" ></td>\n",
       "      <td id=\"T_a8411_row9_col8\" class=\"data row9 col8\" ></td>\n",
       "    </tr>\n",
       "    <tr>\n",
       "      <th id=\"T_a8411_level0_row10\" class=\"row_heading level0 row10\" >    Yes</th>\n",
       "      <td id=\"T_a8411_row10_col0\" class=\"data row10 col0\" >42.9%</td>\n",
       "      <td id=\"T_a8411_row10_col1\" class=\"data row10 col1\" >0%</td>\n",
       "      <td id=\"T_a8411_row10_col2\" class=\"data row10 col2\" >23.4%</td>\n",
       "      <td id=\"T_a8411_row10_col3\" class=\"data row10 col3\" >3.6%</td>\n",
       "      <td id=\"T_a8411_row10_col4\" class=\"data row10 col4\" >33.3%</td>\n",
       "      <td id=\"T_a8411_row10_col5\" class=\"data row10 col5\" >50%</td>\n",
       "      <td id=\"T_a8411_row10_col6\" class=\"data row10 col6\" >0%</td>\n",
       "      <td id=\"T_a8411_row10_col7\" class=\"data row10 col7\" >19%</td>\n",
       "      <td id=\"T_a8411_row10_col8\" class=\"data row10 col8\" >0%</td>\n",
       "    </tr>\n",
       "    <tr>\n",
       "      <th id=\"T_a8411_level0_row11\" class=\"row_heading level0 row11\" >    No</th>\n",
       "      <td id=\"T_a8411_row11_col0\" class=\"data row11 col0\" >0%</td>\n",
       "      <td id=\"T_a8411_row11_col1\" class=\"data row11 col1\" >0%</td>\n",
       "      <td id=\"T_a8411_row11_col2\" class=\"data row11 col2\" >3.1%</td>\n",
       "      <td id=\"T_a8411_row11_col3\" class=\"data row11 col3\" >0%</td>\n",
       "      <td id=\"T_a8411_row11_col4\" class=\"data row11 col4\" >0%</td>\n",
       "      <td id=\"T_a8411_row11_col5\" class=\"data row11 col5\" >0%</td>\n",
       "      <td id=\"T_a8411_row11_col6\" class=\"data row11 col6\" >0%</td>\n",
       "      <td id=\"T_a8411_row11_col7\" class=\"data row11 col7\" >7.8%</td>\n",
       "      <td id=\"T_a8411_row11_col8\" class=\"data row11 col8\" >14.3%</td>\n",
       "    </tr>\n",
       "    <tr>\n",
       "      <th id=\"T_a8411_level0_row12\" class=\"row_heading level0 row12\" >    No information</th>\n",
       "      <td id=\"T_a8411_row12_col0\" class=\"data row12 col0\" >57.1%</td>\n",
       "      <td id=\"T_a8411_row12_col1\" class=\"data row12 col1\" >0%</td>\n",
       "      <td id=\"T_a8411_row12_col2\" class=\"data row12 col2\" >73.4%</td>\n",
       "      <td id=\"T_a8411_row12_col3\" class=\"data row12 col3\" >96.4%</td>\n",
       "      <td id=\"T_a8411_row12_col4\" class=\"data row12 col4\" >66.7%</td>\n",
       "      <td id=\"T_a8411_row12_col5\" class=\"data row12 col5\" >50%</td>\n",
       "      <td id=\"T_a8411_row12_col6\" class=\"data row12 col6\" >0%</td>\n",
       "      <td id=\"T_a8411_row12_col7\" class=\"data row12 col7\" >73.3%</td>\n",
       "      <td id=\"T_a8411_row12_col8\" class=\"data row12 col8\" >85.7%</td>\n",
       "    </tr>\n",
       "    <tr>\n",
       "      <th id=\"T_a8411_level0_row13\" class=\"row_heading level0 row13\" ><b>Side effects mentioned</b></th>\n",
       "      <td id=\"T_a8411_row13_col0\" class=\"data row13 col0\" ></td>\n",
       "      <td id=\"T_a8411_row13_col1\" class=\"data row13 col1\" ></td>\n",
       "      <td id=\"T_a8411_row13_col2\" class=\"data row13 col2\" ></td>\n",
       "      <td id=\"T_a8411_row13_col3\" class=\"data row13 col3\" ></td>\n",
       "      <td id=\"T_a8411_row13_col4\" class=\"data row13 col4\" ></td>\n",
       "      <td id=\"T_a8411_row13_col5\" class=\"data row13 col5\" ></td>\n",
       "      <td id=\"T_a8411_row13_col6\" class=\"data row13 col6\" ></td>\n",
       "      <td id=\"T_a8411_row13_col7\" class=\"data row13 col7\" ></td>\n",
       "      <td id=\"T_a8411_row13_col8\" class=\"data row13 col8\" ></td>\n",
       "    </tr>\n",
       "    <tr>\n",
       "      <th id=\"T_a8411_level0_row14\" class=\"row_heading level0 row14\" >    Yes</th>\n",
       "      <td id=\"T_a8411_row14_col0\" class=\"data row14 col0\" >21.4%</td>\n",
       "      <td id=\"T_a8411_row14_col1\" class=\"data row14 col1\" >0%</td>\n",
       "      <td id=\"T_a8411_row14_col2\" class=\"data row14 col2\" >15.6%</td>\n",
       "      <td id=\"T_a8411_row14_col3\" class=\"data row14 col3\" >15.2%</td>\n",
       "      <td id=\"T_a8411_row14_col4\" class=\"data row14 col4\" >0%</td>\n",
       "      <td id=\"T_a8411_row14_col5\" class=\"data row14 col5\" >12.5%</td>\n",
       "      <td id=\"T_a8411_row14_col6\" class=\"data row14 col6\" >0%</td>\n",
       "      <td id=\"T_a8411_row14_col7\" class=\"data row14 col7\" >14.7%</td>\n",
       "      <td id=\"T_a8411_row14_col8\" class=\"data row14 col8\" >0%</td>\n",
       "    </tr>\n",
       "    <tr>\n",
       "      <th id=\"T_a8411_level0_row15\" class=\"row_heading level0 row15\" >    No</th>\n",
       "      <td id=\"T_a8411_row15_col0\" class=\"data row15 col0\" >0%</td>\n",
       "      <td id=\"T_a8411_row15_col1\" class=\"data row15 col1\" >0%</td>\n",
       "      <td id=\"T_a8411_row15_col2\" class=\"data row15 col2\" >0%</td>\n",
       "      <td id=\"T_a8411_row15_col3\" class=\"data row15 col3\" >0%</td>\n",
       "      <td id=\"T_a8411_row15_col4\" class=\"data row15 col4\" >0%</td>\n",
       "      <td id=\"T_a8411_row15_col5\" class=\"data row15 col5\" >0%</td>\n",
       "      <td id=\"T_a8411_row15_col6\" class=\"data row15 col6\" >0%</td>\n",
       "      <td id=\"T_a8411_row15_col7\" class=\"data row15 col7\" >0%</td>\n",
       "      <td id=\"T_a8411_row15_col8\" class=\"data row15 col8\" >0%</td>\n",
       "    </tr>\n",
       "    <tr>\n",
       "      <th id=\"T_a8411_level0_row16\" class=\"row_heading level0 row16\" >    No information</th>\n",
       "      <td id=\"T_a8411_row16_col0\" class=\"data row16 col0\" >78.6%</td>\n",
       "      <td id=\"T_a8411_row16_col1\" class=\"data row16 col1\" >0%</td>\n",
       "      <td id=\"T_a8411_row16_col2\" class=\"data row16 col2\" >84.4%</td>\n",
       "      <td id=\"T_a8411_row16_col3\" class=\"data row16 col3\" >84.8%</td>\n",
       "      <td id=\"T_a8411_row16_col4\" class=\"data row16 col4\" >100%</td>\n",
       "      <td id=\"T_a8411_row16_col5\" class=\"data row16 col5\" >87.5%</td>\n",
       "      <td id=\"T_a8411_row16_col6\" class=\"data row16 col6\" >0%</td>\n",
       "      <td id=\"T_a8411_row16_col7\" class=\"data row16 col7\" >85.3%</td>\n",
       "      <td id=\"T_a8411_row16_col8\" class=\"data row16 col8\" >100%</td>\n",
       "    </tr>\n",
       "    <tr>\n",
       "      <th id=\"T_a8411_level0_row17\" class=\"row_heading level0 row17\" ><b>Asserts significant pain reduction</b></th>\n",
       "      <td id=\"T_a8411_row17_col0\" class=\"data row17 col0\" ></td>\n",
       "      <td id=\"T_a8411_row17_col1\" class=\"data row17 col1\" ></td>\n",
       "      <td id=\"T_a8411_row17_col2\" class=\"data row17 col2\" ></td>\n",
       "      <td id=\"T_a8411_row17_col3\" class=\"data row17 col3\" ></td>\n",
       "      <td id=\"T_a8411_row17_col4\" class=\"data row17 col4\" ></td>\n",
       "      <td id=\"T_a8411_row17_col5\" class=\"data row17 col5\" ></td>\n",
       "      <td id=\"T_a8411_row17_col6\" class=\"data row17 col6\" ></td>\n",
       "      <td id=\"T_a8411_row17_col7\" class=\"data row17 col7\" ></td>\n",
       "      <td id=\"T_a8411_row17_col8\" class=\"data row17 col8\" ></td>\n",
       "    </tr>\n",
       "    <tr>\n",
       "      <th id=\"T_a8411_level0_row18\" class=\"row_heading level0 row18\" >    Yes</th>\n",
       "      <td id=\"T_a8411_row18_col0\" class=\"data row18 col0\" >0%</td>\n",
       "      <td id=\"T_a8411_row18_col1\" class=\"data row18 col1\" >0%</td>\n",
       "      <td id=\"T_a8411_row18_col2\" class=\"data row18 col2\" >15.6%</td>\n",
       "      <td id=\"T_a8411_row18_col3\" class=\"data row18 col3\" >5.5%</td>\n",
       "      <td id=\"T_a8411_row18_col4\" class=\"data row18 col4\" >0%</td>\n",
       "      <td id=\"T_a8411_row18_col5\" class=\"data row18 col5\" >0%</td>\n",
       "      <td id=\"T_a8411_row18_col6\" class=\"data row18 col6\" >0%</td>\n",
       "      <td id=\"T_a8411_row18_col7\" class=\"data row18 col7\" >1.7%</td>\n",
       "      <td id=\"T_a8411_row18_col8\" class=\"data row18 col8\" >14.3%</td>\n",
       "    </tr>\n",
       "    <tr>\n",
       "      <th id=\"T_a8411_level0_row19\" class=\"row_heading level0 row19\" >    No</th>\n",
       "      <td id=\"T_a8411_row19_col0\" class=\"data row19 col0\" >0%</td>\n",
       "      <td id=\"T_a8411_row19_col1\" class=\"data row19 col1\" >0%</td>\n",
       "      <td id=\"T_a8411_row19_col2\" class=\"data row19 col2\" >0%</td>\n",
       "      <td id=\"T_a8411_row19_col3\" class=\"data row19 col3\" >2.4%</td>\n",
       "      <td id=\"T_a8411_row19_col4\" class=\"data row19 col4\" >0%</td>\n",
       "      <td id=\"T_a8411_row19_col5\" class=\"data row19 col5\" >0%</td>\n",
       "      <td id=\"T_a8411_row19_col6\" class=\"data row19 col6\" >0%</td>\n",
       "      <td id=\"T_a8411_row19_col7\" class=\"data row19 col7\" >0%</td>\n",
       "      <td id=\"T_a8411_row19_col8\" class=\"data row19 col8\" >0%</td>\n",
       "    </tr>\n",
       "    <tr>\n",
       "      <th id=\"T_a8411_level0_row20\" class=\"row_heading level0 row20\" >    No information</th>\n",
       "      <td id=\"T_a8411_row20_col0\" class=\"data row20 col0\" >100%</td>\n",
       "      <td id=\"T_a8411_row20_col1\" class=\"data row20 col1\" >0%</td>\n",
       "      <td id=\"T_a8411_row20_col2\" class=\"data row20 col2\" >84.4%</td>\n",
       "      <td id=\"T_a8411_row20_col3\" class=\"data row20 col3\" >92.1%</td>\n",
       "      <td id=\"T_a8411_row20_col4\" class=\"data row20 col4\" >100%</td>\n",
       "      <td id=\"T_a8411_row20_col5\" class=\"data row20 col5\" >100%</td>\n",
       "      <td id=\"T_a8411_row20_col6\" class=\"data row20 col6\" >0%</td>\n",
       "      <td id=\"T_a8411_row20_col7\" class=\"data row20 col7\" >98.3%</td>\n",
       "      <td id=\"T_a8411_row20_col8\" class=\"data row20 col8\" >85.7%</td>\n",
       "    </tr>\n",
       "    <tr>\n",
       "      <th id=\"T_a8411_level0_row21\" class=\"row_heading level0 row21\" ><b>Mentions breaking of stones</b></th>\n",
       "      <td id=\"T_a8411_row21_col0\" class=\"data row21 col0\" ></td>\n",
       "      <td id=\"T_a8411_row21_col1\" class=\"data row21 col1\" ></td>\n",
       "      <td id=\"T_a8411_row21_col2\" class=\"data row21 col2\" ></td>\n",
       "      <td id=\"T_a8411_row21_col3\" class=\"data row21 col3\" ></td>\n",
       "      <td id=\"T_a8411_row21_col4\" class=\"data row21 col4\" ></td>\n",
       "      <td id=\"T_a8411_row21_col5\" class=\"data row21 col5\" ></td>\n",
       "      <td id=\"T_a8411_row21_col6\" class=\"data row21 col6\" ></td>\n",
       "      <td id=\"T_a8411_row21_col7\" class=\"data row21 col7\" ></td>\n",
       "      <td id=\"T_a8411_row21_col8\" class=\"data row21 col8\" ></td>\n",
       "    </tr>\n",
       "    <tr>\n",
       "      <th id=\"T_a8411_level0_row22\" class=\"row_heading level0 row22\" >    Yes</th>\n",
       "      <td id=\"T_a8411_row22_col0\" class=\"data row22 col0\" >0%</td>\n",
       "      <td id=\"T_a8411_row22_col1\" class=\"data row22 col1\" >0%</td>\n",
       "      <td id=\"T_a8411_row22_col2\" class=\"data row22 col2\" >10.9%</td>\n",
       "      <td id=\"T_a8411_row22_col3\" class=\"data row22 col3\" >0%</td>\n",
       "      <td id=\"T_a8411_row22_col4\" class=\"data row22 col4\" >0%</td>\n",
       "      <td id=\"T_a8411_row22_col5\" class=\"data row22 col5\" >0%</td>\n",
       "      <td id=\"T_a8411_row22_col6\" class=\"data row22 col6\" >0%</td>\n",
       "      <td id=\"T_a8411_row22_col7\" class=\"data row22 col7\" >0%</td>\n",
       "      <td id=\"T_a8411_row22_col8\" class=\"data row22 col8\" >0%</td>\n",
       "    </tr>\n",
       "    <tr>\n",
       "      <th id=\"T_a8411_level0_row23\" class=\"row_heading level0 row23\" >    No</th>\n",
       "      <td id=\"T_a8411_row23_col0\" class=\"data row23 col0\" >0%</td>\n",
       "      <td id=\"T_a8411_row23_col1\" class=\"data row23 col1\" >0%</td>\n",
       "      <td id=\"T_a8411_row23_col2\" class=\"data row23 col2\" >3.1%</td>\n",
       "      <td id=\"T_a8411_row23_col3\" class=\"data row23 col3\" >0%</td>\n",
       "      <td id=\"T_a8411_row23_col4\" class=\"data row23 col4\" >0%</td>\n",
       "      <td id=\"T_a8411_row23_col5\" class=\"data row23 col5\" >0%</td>\n",
       "      <td id=\"T_a8411_row23_col6\" class=\"data row23 col6\" >0%</td>\n",
       "      <td id=\"T_a8411_row23_col7\" class=\"data row23 col7\" >0%</td>\n",
       "      <td id=\"T_a8411_row23_col8\" class=\"data row23 col8\" >0%</td>\n",
       "    </tr>\n",
       "    <tr>\n",
       "      <th id=\"T_a8411_level0_row24\" class=\"row_heading level0 row24\" >    No information</th>\n",
       "      <td id=\"T_a8411_row24_col0\" class=\"data row24 col0\" >100%</td>\n",
       "      <td id=\"T_a8411_row24_col1\" class=\"data row24 col1\" >0%</td>\n",
       "      <td id=\"T_a8411_row24_col2\" class=\"data row24 col2\" >85.9%</td>\n",
       "      <td id=\"T_a8411_row24_col3\" class=\"data row24 col3\" >100%</td>\n",
       "      <td id=\"T_a8411_row24_col4\" class=\"data row24 col4\" >100%</td>\n",
       "      <td id=\"T_a8411_row24_col5\" class=\"data row24 col5\" >100%</td>\n",
       "      <td id=\"T_a8411_row24_col6\" class=\"data row24 col6\" >0%</td>\n",
       "      <td id=\"T_a8411_row24_col7\" class=\"data row24 col7\" >100%</td>\n",
       "      <td id=\"T_a8411_row24_col8\" class=\"data row24 col8\" >100%</td>\n",
       "    </tr>\n",
       "    <tr>\n",
       "      <th id=\"T_a8411_level0_row25\" class=\"row_heading level0 row25\" ><b>Mentions shrinking of the stones</b></th>\n",
       "      <td id=\"T_a8411_row25_col0\" class=\"data row25 col0\" ></td>\n",
       "      <td id=\"T_a8411_row25_col1\" class=\"data row25 col1\" ></td>\n",
       "      <td id=\"T_a8411_row25_col2\" class=\"data row25 col2\" ></td>\n",
       "      <td id=\"T_a8411_row25_col3\" class=\"data row25 col3\" ></td>\n",
       "      <td id=\"T_a8411_row25_col4\" class=\"data row25 col4\" ></td>\n",
       "      <td id=\"T_a8411_row25_col5\" class=\"data row25 col5\" ></td>\n",
       "      <td id=\"T_a8411_row25_col6\" class=\"data row25 col6\" ></td>\n",
       "      <td id=\"T_a8411_row25_col7\" class=\"data row25 col7\" ></td>\n",
       "      <td id=\"T_a8411_row25_col8\" class=\"data row25 col8\" ></td>\n",
       "    </tr>\n",
       "    <tr>\n",
       "      <th id=\"T_a8411_level0_row26\" class=\"row_heading level0 row26\" >    Yes</th>\n",
       "      <td id=\"T_a8411_row26_col0\" class=\"data row26 col0\" >0%</td>\n",
       "      <td id=\"T_a8411_row26_col1\" class=\"data row26 col1\" >0%</td>\n",
       "      <td id=\"T_a8411_row26_col2\" class=\"data row26 col2\" >4.7%</td>\n",
       "      <td id=\"T_a8411_row26_col3\" class=\"data row26 col3\" >0.6%</td>\n",
       "      <td id=\"T_a8411_row26_col4\" class=\"data row26 col4\" >0%</td>\n",
       "      <td id=\"T_a8411_row26_col5\" class=\"data row26 col5\" >0%</td>\n",
       "      <td id=\"T_a8411_row26_col6\" class=\"data row26 col6\" >0%</td>\n",
       "      <td id=\"T_a8411_row26_col7\" class=\"data row26 col7\" >0.9%</td>\n",
       "      <td id=\"T_a8411_row26_col8\" class=\"data row26 col8\" >14.3%</td>\n",
       "    </tr>\n",
       "    <tr>\n",
       "      <th id=\"T_a8411_level0_row27\" class=\"row_heading level0 row27\" >    No</th>\n",
       "      <td id=\"T_a8411_row27_col0\" class=\"data row27 col0\" >0%</td>\n",
       "      <td id=\"T_a8411_row27_col1\" class=\"data row27 col1\" >0%</td>\n",
       "      <td id=\"T_a8411_row27_col2\" class=\"data row27 col2\" >3.1%</td>\n",
       "      <td id=\"T_a8411_row27_col3\" class=\"data row27 col3\" >0%</td>\n",
       "      <td id=\"T_a8411_row27_col4\" class=\"data row27 col4\" >0%</td>\n",
       "      <td id=\"T_a8411_row27_col5\" class=\"data row27 col5\" >0%</td>\n",
       "      <td id=\"T_a8411_row27_col6\" class=\"data row27 col6\" >0%</td>\n",
       "      <td id=\"T_a8411_row27_col7\" class=\"data row27 col7\" >0%</td>\n",
       "      <td id=\"T_a8411_row27_col8\" class=\"data row27 col8\" >0%</td>\n",
       "    </tr>\n",
       "    <tr>\n",
       "      <th id=\"T_a8411_level0_row28\" class=\"row_heading level0 row28\" >    No information</th>\n",
       "      <td id=\"T_a8411_row28_col0\" class=\"data row28 col0\" >100%</td>\n",
       "      <td id=\"T_a8411_row28_col1\" class=\"data row28 col1\" >0%</td>\n",
       "      <td id=\"T_a8411_row28_col2\" class=\"data row28 col2\" >92.2%</td>\n",
       "      <td id=\"T_a8411_row28_col3\" class=\"data row28 col3\" >99.4%</td>\n",
       "      <td id=\"T_a8411_row28_col4\" class=\"data row28 col4\" >100%</td>\n",
       "      <td id=\"T_a8411_row28_col5\" class=\"data row28 col5\" >100%</td>\n",
       "      <td id=\"T_a8411_row28_col6\" class=\"data row28 col6\" >0%</td>\n",
       "      <td id=\"T_a8411_row28_col7\" class=\"data row28 col7\" >99.1%</td>\n",
       "      <td id=\"T_a8411_row28_col8\" class=\"data row28 col8\" >85.7%</td>\n",
       "    </tr>\n",
       "    <tr>\n",
       "      <th id=\"T_a8411_level0_row29\" class=\"row_heading level0 row29\" ><b>Mentions softening of stones</b></th>\n",
       "      <td id=\"T_a8411_row29_col0\" class=\"data row29 col0\" ></td>\n",
       "      <td id=\"T_a8411_row29_col1\" class=\"data row29 col1\" ></td>\n",
       "      <td id=\"T_a8411_row29_col2\" class=\"data row29 col2\" ></td>\n",
       "      <td id=\"T_a8411_row29_col3\" class=\"data row29 col3\" ></td>\n",
       "      <td id=\"T_a8411_row29_col4\" class=\"data row29 col4\" ></td>\n",
       "      <td id=\"T_a8411_row29_col5\" class=\"data row29 col5\" ></td>\n",
       "      <td id=\"T_a8411_row29_col6\" class=\"data row29 col6\" ></td>\n",
       "      <td id=\"T_a8411_row29_col7\" class=\"data row29 col7\" ></td>\n",
       "      <td id=\"T_a8411_row29_col8\" class=\"data row29 col8\" ></td>\n",
       "    </tr>\n",
       "    <tr>\n",
       "      <th id=\"T_a8411_level0_row30\" class=\"row_heading level0 row30\" >    Yes</th>\n",
       "      <td id=\"T_a8411_row30_col0\" class=\"data row30 col0\" >0%</td>\n",
       "      <td id=\"T_a8411_row30_col1\" class=\"data row30 col1\" >0%</td>\n",
       "      <td id=\"T_a8411_row30_col2\" class=\"data row30 col2\" >1.6%</td>\n",
       "      <td id=\"T_a8411_row30_col3\" class=\"data row30 col3\" >0%</td>\n",
       "      <td id=\"T_a8411_row30_col4\" class=\"data row30 col4\" >0%</td>\n",
       "      <td id=\"T_a8411_row30_col5\" class=\"data row30 col5\" >0%</td>\n",
       "      <td id=\"T_a8411_row30_col6\" class=\"data row30 col6\" >0%</td>\n",
       "      <td id=\"T_a8411_row30_col7\" class=\"data row30 col7\" >1.7%</td>\n",
       "      <td id=\"T_a8411_row30_col8\" class=\"data row30 col8\" >0%</td>\n",
       "    </tr>\n",
       "    <tr>\n",
       "      <th id=\"T_a8411_level0_row31\" class=\"row_heading level0 row31\" >    No</th>\n",
       "      <td id=\"T_a8411_row31_col0\" class=\"data row31 col0\" >0%</td>\n",
       "      <td id=\"T_a8411_row31_col1\" class=\"data row31 col1\" >0%</td>\n",
       "      <td id=\"T_a8411_row31_col2\" class=\"data row31 col2\" >0%</td>\n",
       "      <td id=\"T_a8411_row31_col3\" class=\"data row31 col3\" >0%</td>\n",
       "      <td id=\"T_a8411_row31_col4\" class=\"data row31 col4\" >0%</td>\n",
       "      <td id=\"T_a8411_row31_col5\" class=\"data row31 col5\" >0%</td>\n",
       "      <td id=\"T_a8411_row31_col6\" class=\"data row31 col6\" >0%</td>\n",
       "      <td id=\"T_a8411_row31_col7\" class=\"data row31 col7\" >0%</td>\n",
       "      <td id=\"T_a8411_row31_col8\" class=\"data row31 col8\" >0%</td>\n",
       "    </tr>\n",
       "    <tr>\n",
       "      <th id=\"T_a8411_level0_row32\" class=\"row_heading level0 row32\" >    No information</th>\n",
       "      <td id=\"T_a8411_row32_col0\" class=\"data row32 col0\" >100%</td>\n",
       "      <td id=\"T_a8411_row32_col1\" class=\"data row32 col1\" >0%</td>\n",
       "      <td id=\"T_a8411_row32_col2\" class=\"data row32 col2\" >98.4%</td>\n",
       "      <td id=\"T_a8411_row32_col3\" class=\"data row32 col3\" >100%</td>\n",
       "      <td id=\"T_a8411_row32_col4\" class=\"data row32 col4\" >100%</td>\n",
       "      <td id=\"T_a8411_row32_col5\" class=\"data row32 col5\" >100%</td>\n",
       "      <td id=\"T_a8411_row32_col6\" class=\"data row32 col6\" >0%</td>\n",
       "      <td id=\"T_a8411_row32_col7\" class=\"data row32 col7\" >98.3%</td>\n",
       "      <td id=\"T_a8411_row32_col8\" class=\"data row32 col8\" >100%</td>\n",
       "    </tr>\n",
       "    <tr>\n",
       "      <th id=\"T_a8411_level0_row33\" class=\"row_heading level0 row33\" ><b>Stone passed with no or almost no pain</b></th>\n",
       "      <td id=\"T_a8411_row33_col0\" class=\"data row33 col0\" ></td>\n",
       "      <td id=\"T_a8411_row33_col1\" class=\"data row33 col1\" ></td>\n",
       "      <td id=\"T_a8411_row33_col2\" class=\"data row33 col2\" ></td>\n",
       "      <td id=\"T_a8411_row33_col3\" class=\"data row33 col3\" ></td>\n",
       "      <td id=\"T_a8411_row33_col4\" class=\"data row33 col4\" ></td>\n",
       "      <td id=\"T_a8411_row33_col5\" class=\"data row33 col5\" ></td>\n",
       "      <td id=\"T_a8411_row33_col6\" class=\"data row33 col6\" ></td>\n",
       "      <td id=\"T_a8411_row33_col7\" class=\"data row33 col7\" ></td>\n",
       "      <td id=\"T_a8411_row33_col8\" class=\"data row33 col8\" ></td>\n",
       "    </tr>\n",
       "    <tr>\n",
       "      <th id=\"T_a8411_level0_row34\" class=\"row_heading level0 row34\" >    Yes</th>\n",
       "      <td id=\"T_a8411_row34_col0\" class=\"data row34 col0\" >7.1%</td>\n",
       "      <td id=\"T_a8411_row34_col1\" class=\"data row34 col1\" >0%</td>\n",
       "      <td id=\"T_a8411_row34_col2\" class=\"data row34 col2\" >7.8%</td>\n",
       "      <td id=\"T_a8411_row34_col3\" class=\"data row34 col3\" >1.8%</td>\n",
       "      <td id=\"T_a8411_row34_col4\" class=\"data row34 col4\" >16.7%</td>\n",
       "      <td id=\"T_a8411_row34_col5\" class=\"data row34 col5\" >0%</td>\n",
       "      <td id=\"T_a8411_row34_col6\" class=\"data row34 col6\" >0%</td>\n",
       "      <td id=\"T_a8411_row34_col7\" class=\"data row34 col7\" >0.9%</td>\n",
       "      <td id=\"T_a8411_row34_col8\" class=\"data row34 col8\" >14.3%</td>\n",
       "    </tr>\n",
       "    <tr>\n",
       "      <th id=\"T_a8411_level0_row35\" class=\"row_heading level0 row35\" >    No</th>\n",
       "      <td id=\"T_a8411_row35_col0\" class=\"data row35 col0\" >0%</td>\n",
       "      <td id=\"T_a8411_row35_col1\" class=\"data row35 col1\" >0%</td>\n",
       "      <td id=\"T_a8411_row35_col2\" class=\"data row35 col2\" >0%</td>\n",
       "      <td id=\"T_a8411_row35_col3\" class=\"data row35 col3\" >0%</td>\n",
       "      <td id=\"T_a8411_row35_col4\" class=\"data row35 col4\" >0%</td>\n",
       "      <td id=\"T_a8411_row35_col5\" class=\"data row35 col5\" >0%</td>\n",
       "      <td id=\"T_a8411_row35_col6\" class=\"data row35 col6\" >0%</td>\n",
       "      <td id=\"T_a8411_row35_col7\" class=\"data row35 col7\" >0%</td>\n",
       "      <td id=\"T_a8411_row35_col8\" class=\"data row35 col8\" >0%</td>\n",
       "    </tr>\n",
       "    <tr>\n",
       "      <th id=\"T_a8411_level0_row36\" class=\"row_heading level0 row36\" >    No information</th>\n",
       "      <td id=\"T_a8411_row36_col0\" class=\"data row36 col0\" >92.9%</td>\n",
       "      <td id=\"T_a8411_row36_col1\" class=\"data row36 col1\" >0%</td>\n",
       "      <td id=\"T_a8411_row36_col2\" class=\"data row36 col2\" >92.2%</td>\n",
       "      <td id=\"T_a8411_row36_col3\" class=\"data row36 col3\" >98.2%</td>\n",
       "      <td id=\"T_a8411_row36_col4\" class=\"data row36 col4\" >83.3%</td>\n",
       "      <td id=\"T_a8411_row36_col5\" class=\"data row36 col5\" >100%</td>\n",
       "      <td id=\"T_a8411_row36_col6\" class=\"data row36 col6\" >0%</td>\n",
       "      <td id=\"T_a8411_row36_col7\" class=\"data row36 col7\" >99.1%</td>\n",
       "      <td id=\"T_a8411_row36_col8\" class=\"data row36 col8\" >85.7%</td>\n",
       "    </tr>\n",
       "  </tbody>\n",
       "</table>\n"
      ],
      "text/plain": [
       "<pandas.io.formats.style.Styler at 0x11eb8f7d0>"
      ]
     },
     "metadata": {},
     "output_type": "display_data"
    },
    {
     "data": {
      "text/html": [
       "<style type=\"text/css\">\n",
       "#T_217ac  {\n",
       "  color: white;\n",
       "}\n",
       "</style>\n",
       "<table id=\"T_217ac\">\n",
       "  <thead>\n",
       "    <tr>\n",
       "      <th class=\"blank level0\" >&nbsp;</th>\n",
       "      <th id=\"T_217ac_level0_col0\" class=\"col_heading level0 col0\" >Allopurinol</th>\n",
       "      <th id=\"T_217ac_level0_col1\" class=\"col_heading level0 col1\" >Black seed</th>\n",
       "      <th id=\"T_217ac_level0_col2\" class=\"col_heading level0 col2\" >Chanca piedra</th>\n",
       "      <th id=\"T_217ac_level0_col3\" class=\"col_heading level0 col3\" >Flomax</th>\n",
       "      <th id=\"T_217ac_level0_col4\" class=\"col_heading level0 col4\" >Garcinia</th>\n",
       "      <th id=\"T_217ac_level0_col5\" class=\"col_heading level0 col5\" >HCTZ</th>\n",
       "      <th id=\"T_217ac_level0_col6\" class=\"col_heading level0 col6\" >Phosfood</th>\n",
       "      <th id=\"T_217ac_level0_col7\" class=\"col_heading level0 col7\" >Potassium citrate</th>\n",
       "      <th id=\"T_217ac_level0_col8\" class=\"col_heading level0 col8\" >Rowatinex</th>\n",
       "    </tr>\n",
       "    <tr>\n",
       "      <th class=\"index_name level0\" > </th>\n",
       "      <th class=\"blank col0\" >&nbsp;</th>\n",
       "      <th class=\"blank col1\" >&nbsp;</th>\n",
       "      <th class=\"blank col2\" >&nbsp;</th>\n",
       "      <th class=\"blank col3\" >&nbsp;</th>\n",
       "      <th class=\"blank col4\" >&nbsp;</th>\n",
       "      <th class=\"blank col5\" >&nbsp;</th>\n",
       "      <th class=\"blank col6\" >&nbsp;</th>\n",
       "      <th class=\"blank col7\" >&nbsp;</th>\n",
       "      <th class=\"blank col8\" >&nbsp;</th>\n",
       "    </tr>\n",
       "  </thead>\n",
       "  <tbody>\n",
       "    <tr>\n",
       "      <th id=\"T_217ac_level0_row0\" class=\"row_heading level0 row0\" ><b>Total Reviews</b></th>\n",
       "      <td id=\"T_217ac_row0_col0\" class=\"data row0 col0\" >11</td>\n",
       "      <td id=\"T_217ac_row0_col1\" class=\"data row0 col1\" >2</td>\n",
       "      <td id=\"T_217ac_row0_col2\" class=\"data row0 col2\" >38</td>\n",
       "      <td id=\"T_217ac_row0_col3\" class=\"data row0 col3\" >143</td>\n",
       "      <td id=\"T_217ac_row0_col4\" class=\"data row0 col4\" >7</td>\n",
       "      <td id=\"T_217ac_row0_col5\" class=\"data row0 col5\" >3</td>\n",
       "      <td id=\"T_217ac_row0_col6\" class=\"data row0 col6\" >0</td>\n",
       "      <td id=\"T_217ac_row0_col7\" class=\"data row0 col7\" >103</td>\n",
       "      <td id=\"T_217ac_row0_col8\" class=\"data row0 col8\" >4</td>\n",
       "    </tr>\n",
       "    <tr>\n",
       "      <th id=\"T_217ac_level0_row1\" class=\"row_heading level0 row1\" ><b>Helps overall with kidney stones</b></th>\n",
       "      <td id=\"T_217ac_row1_col0\" class=\"data row1 col0\" ></td>\n",
       "      <td id=\"T_217ac_row1_col1\" class=\"data row1 col1\" ></td>\n",
       "      <td id=\"T_217ac_row1_col2\" class=\"data row1 col2\" ></td>\n",
       "      <td id=\"T_217ac_row1_col3\" class=\"data row1 col3\" ></td>\n",
       "      <td id=\"T_217ac_row1_col4\" class=\"data row1 col4\" ></td>\n",
       "      <td id=\"T_217ac_row1_col5\" class=\"data row1 col5\" ></td>\n",
       "      <td id=\"T_217ac_row1_col6\" class=\"data row1 col6\" ></td>\n",
       "      <td id=\"T_217ac_row1_col7\" class=\"data row1 col7\" ></td>\n",
       "      <td id=\"T_217ac_row1_col8\" class=\"data row1 col8\" ></td>\n",
       "    </tr>\n",
       "    <tr>\n",
       "      <th id=\"T_217ac_level0_row2\" class=\"row_heading level0 row2\" >    Yes</th>\n",
       "      <td id=\"T_217ac_row2_col0\" class=\"data row2 col0\" >36.4%</td>\n",
       "      <td id=\"T_217ac_row2_col1\" class=\"data row2 col1\" >50%</td>\n",
       "      <td id=\"T_217ac_row2_col2\" class=\"data row2 col2\" >73.7%</td>\n",
       "      <td id=\"T_217ac_row2_col3\" class=\"data row2 col3\" >44.1%</td>\n",
       "      <td id=\"T_217ac_row2_col4\" class=\"data row2 col4\" >85.7%</td>\n",
       "      <td id=\"T_217ac_row2_col5\" class=\"data row2 col5\" >66.7%</td>\n",
       "      <td id=\"T_217ac_row2_col6\" class=\"data row2 col6\" >0%</td>\n",
       "      <td id=\"T_217ac_row2_col7\" class=\"data row2 col7\" >26.2%</td>\n",
       "      <td id=\"T_217ac_row2_col8\" class=\"data row2 col8\" >25%</td>\n",
       "    </tr>\n",
       "    <tr>\n",
       "      <th id=\"T_217ac_level0_row3\" class=\"row_heading level0 row3\" >    No</th>\n",
       "      <td id=\"T_217ac_row3_col0\" class=\"data row3 col0\" >0%</td>\n",
       "      <td id=\"T_217ac_row3_col1\" class=\"data row3 col1\" >0%</td>\n",
       "      <td id=\"T_217ac_row3_col2\" class=\"data row3 col2\" >5.3%</td>\n",
       "      <td id=\"T_217ac_row3_col3\" class=\"data row3 col3\" >17.5%</td>\n",
       "      <td id=\"T_217ac_row3_col4\" class=\"data row3 col4\" >0%</td>\n",
       "      <td id=\"T_217ac_row3_col5\" class=\"data row3 col5\" >0%</td>\n",
       "      <td id=\"T_217ac_row3_col6\" class=\"data row3 col6\" >0%</td>\n",
       "      <td id=\"T_217ac_row3_col7\" class=\"data row3 col7\" >21.4%</td>\n",
       "      <td id=\"T_217ac_row3_col8\" class=\"data row3 col8\" >25%</td>\n",
       "    </tr>\n",
       "    <tr>\n",
       "      <th id=\"T_217ac_level0_row4\" class=\"row_heading level0 row4\" >    No information</th>\n",
       "      <td id=\"T_217ac_row4_col0\" class=\"data row4 col0\" >63.6%</td>\n",
       "      <td id=\"T_217ac_row4_col1\" class=\"data row4 col1\" >50%</td>\n",
       "      <td id=\"T_217ac_row4_col2\" class=\"data row4 col2\" >21.1%</td>\n",
       "      <td id=\"T_217ac_row4_col3\" class=\"data row4 col3\" >38.5%</td>\n",
       "      <td id=\"T_217ac_row4_col4\" class=\"data row4 col4\" >14.3%</td>\n",
       "      <td id=\"T_217ac_row4_col5\" class=\"data row4 col5\" >33.3%</td>\n",
       "      <td id=\"T_217ac_row4_col6\" class=\"data row4 col6\" >0%</td>\n",
       "      <td id=\"T_217ac_row4_col7\" class=\"data row4 col7\" >52.4%</td>\n",
       "      <td id=\"T_217ac_row4_col8\" class=\"data row4 col8\" >50%</td>\n",
       "    </tr>\n",
       "    <tr>\n",
       "      <th id=\"T_217ac_level0_row5\" class=\"row_heading level0 row5\" ><b>Helps overall with gallstones</b></th>\n",
       "      <td id=\"T_217ac_row5_col0\" class=\"data row5 col0\" ></td>\n",
       "      <td id=\"T_217ac_row5_col1\" class=\"data row5 col1\" ></td>\n",
       "      <td id=\"T_217ac_row5_col2\" class=\"data row5 col2\" ></td>\n",
       "      <td id=\"T_217ac_row5_col3\" class=\"data row5 col3\" ></td>\n",
       "      <td id=\"T_217ac_row5_col4\" class=\"data row5 col4\" ></td>\n",
       "      <td id=\"T_217ac_row5_col5\" class=\"data row5 col5\" ></td>\n",
       "      <td id=\"T_217ac_row5_col6\" class=\"data row5 col6\" ></td>\n",
       "      <td id=\"T_217ac_row5_col7\" class=\"data row5 col7\" ></td>\n",
       "      <td id=\"T_217ac_row5_col8\" class=\"data row5 col8\" ></td>\n",
       "    </tr>\n",
       "    <tr>\n",
       "      <th id=\"T_217ac_level0_row6\" class=\"row_heading level0 row6\" >    Yes</th>\n",
       "      <td id=\"T_217ac_row6_col0\" class=\"data row6 col0\" >0%</td>\n",
       "      <td id=\"T_217ac_row6_col1\" class=\"data row6 col1\" >0%</td>\n",
       "      <td id=\"T_217ac_row6_col2\" class=\"data row6 col2\" >0%</td>\n",
       "      <td id=\"T_217ac_row6_col3\" class=\"data row6 col3\" >0%</td>\n",
       "      <td id=\"T_217ac_row6_col4\" class=\"data row6 col4\" >0%</td>\n",
       "      <td id=\"T_217ac_row6_col5\" class=\"data row6 col5\" >0%</td>\n",
       "      <td id=\"T_217ac_row6_col6\" class=\"data row6 col6\" >0%</td>\n",
       "      <td id=\"T_217ac_row6_col7\" class=\"data row6 col7\" >0%</td>\n",
       "      <td id=\"T_217ac_row6_col8\" class=\"data row6 col8\" >0%</td>\n",
       "    </tr>\n",
       "    <tr>\n",
       "      <th id=\"T_217ac_level0_row7\" class=\"row_heading level0 row7\" >    No</th>\n",
       "      <td id=\"T_217ac_row7_col0\" class=\"data row7 col0\" >0%</td>\n",
       "      <td id=\"T_217ac_row7_col1\" class=\"data row7 col1\" >0%</td>\n",
       "      <td id=\"T_217ac_row7_col2\" class=\"data row7 col2\" >0%</td>\n",
       "      <td id=\"T_217ac_row7_col3\" class=\"data row7 col3\" >0%</td>\n",
       "      <td id=\"T_217ac_row7_col4\" class=\"data row7 col4\" >0%</td>\n",
       "      <td id=\"T_217ac_row7_col5\" class=\"data row7 col5\" >0%</td>\n",
       "      <td id=\"T_217ac_row7_col6\" class=\"data row7 col6\" >0%</td>\n",
       "      <td id=\"T_217ac_row7_col7\" class=\"data row7 col7\" >0%</td>\n",
       "      <td id=\"T_217ac_row7_col8\" class=\"data row7 col8\" >0%</td>\n",
       "    </tr>\n",
       "    <tr>\n",
       "      <th id=\"T_217ac_level0_row8\" class=\"row_heading level0 row8\" >    No information</th>\n",
       "      <td id=\"T_217ac_row8_col0\" class=\"data row8 col0\" >100%</td>\n",
       "      <td id=\"T_217ac_row8_col1\" class=\"data row8 col1\" >100%</td>\n",
       "      <td id=\"T_217ac_row8_col2\" class=\"data row8 col2\" >100%</td>\n",
       "      <td id=\"T_217ac_row8_col3\" class=\"data row8 col3\" >100%</td>\n",
       "      <td id=\"T_217ac_row8_col4\" class=\"data row8 col4\" >100%</td>\n",
       "      <td id=\"T_217ac_row8_col5\" class=\"data row8 col5\" >100%</td>\n",
       "      <td id=\"T_217ac_row8_col6\" class=\"data row8 col6\" >0%</td>\n",
       "      <td id=\"T_217ac_row8_col7\" class=\"data row8 col7\" >100%</td>\n",
       "      <td id=\"T_217ac_row8_col8\" class=\"data row8 col8\" >100%</td>\n",
       "    </tr>\n",
       "    <tr>\n",
       "      <th id=\"T_217ac_level0_row9\" class=\"row_heading level0 row9\" ><b>Works as a prophylactic</b></th>\n",
       "      <td id=\"T_217ac_row9_col0\" class=\"data row9 col0\" ></td>\n",
       "      <td id=\"T_217ac_row9_col1\" class=\"data row9 col1\" ></td>\n",
       "      <td id=\"T_217ac_row9_col2\" class=\"data row9 col2\" ></td>\n",
       "      <td id=\"T_217ac_row9_col3\" class=\"data row9 col3\" ></td>\n",
       "      <td id=\"T_217ac_row9_col4\" class=\"data row9 col4\" ></td>\n",
       "      <td id=\"T_217ac_row9_col5\" class=\"data row9 col5\" ></td>\n",
       "      <td id=\"T_217ac_row9_col6\" class=\"data row9 col6\" ></td>\n",
       "      <td id=\"T_217ac_row9_col7\" class=\"data row9 col7\" ></td>\n",
       "      <td id=\"T_217ac_row9_col8\" class=\"data row9 col8\" ></td>\n",
       "    </tr>\n",
       "    <tr>\n",
       "      <th id=\"T_217ac_level0_row10\" class=\"row_heading level0 row10\" >    Yes</th>\n",
       "      <td id=\"T_217ac_row10_col0\" class=\"data row10 col0\" >36.4%</td>\n",
       "      <td id=\"T_217ac_row10_col1\" class=\"data row10 col1\" >0%</td>\n",
       "      <td id=\"T_217ac_row10_col2\" class=\"data row10 col2\" >39.5%</td>\n",
       "      <td id=\"T_217ac_row10_col3\" class=\"data row10 col3\" >4.2%</td>\n",
       "      <td id=\"T_217ac_row10_col4\" class=\"data row10 col4\" >28.6%</td>\n",
       "      <td id=\"T_217ac_row10_col5\" class=\"data row10 col5\" >33.3%</td>\n",
       "      <td id=\"T_217ac_row10_col6\" class=\"data row10 col6\" >0%</td>\n",
       "      <td id=\"T_217ac_row10_col7\" class=\"data row10 col7\" >15.5%</td>\n",
       "      <td id=\"T_217ac_row10_col8\" class=\"data row10 col8\" >0%</td>\n",
       "    </tr>\n",
       "    <tr>\n",
       "      <th id=\"T_217ac_level0_row11\" class=\"row_heading level0 row11\" >    No</th>\n",
       "      <td id=\"T_217ac_row11_col0\" class=\"data row11 col0\" >0%</td>\n",
       "      <td id=\"T_217ac_row11_col1\" class=\"data row11 col1\" >0%</td>\n",
       "      <td id=\"T_217ac_row11_col2\" class=\"data row11 col2\" >0%</td>\n",
       "      <td id=\"T_217ac_row11_col3\" class=\"data row11 col3\" >0%</td>\n",
       "      <td id=\"T_217ac_row11_col4\" class=\"data row11 col4\" >0%</td>\n",
       "      <td id=\"T_217ac_row11_col5\" class=\"data row11 col5\" >0%</td>\n",
       "      <td id=\"T_217ac_row11_col6\" class=\"data row11 col6\" >0%</td>\n",
       "      <td id=\"T_217ac_row11_col7\" class=\"data row11 col7\" >8.7%</td>\n",
       "      <td id=\"T_217ac_row11_col8\" class=\"data row11 col8\" >25%</td>\n",
       "    </tr>\n",
       "    <tr>\n",
       "      <th id=\"T_217ac_level0_row12\" class=\"row_heading level0 row12\" >    No information</th>\n",
       "      <td id=\"T_217ac_row12_col0\" class=\"data row12 col0\" >63.6%</td>\n",
       "      <td id=\"T_217ac_row12_col1\" class=\"data row12 col1\" >100%</td>\n",
       "      <td id=\"T_217ac_row12_col2\" class=\"data row12 col2\" >60.5%</td>\n",
       "      <td id=\"T_217ac_row12_col3\" class=\"data row12 col3\" >95.8%</td>\n",
       "      <td id=\"T_217ac_row12_col4\" class=\"data row12 col4\" >71.4%</td>\n",
       "      <td id=\"T_217ac_row12_col5\" class=\"data row12 col5\" >66.7%</td>\n",
       "      <td id=\"T_217ac_row12_col6\" class=\"data row12 col6\" >0%</td>\n",
       "      <td id=\"T_217ac_row12_col7\" class=\"data row12 col7\" >75.7%</td>\n",
       "      <td id=\"T_217ac_row12_col8\" class=\"data row12 col8\" >75%</td>\n",
       "    </tr>\n",
       "    <tr>\n",
       "      <th id=\"T_217ac_level0_row13\" class=\"row_heading level0 row13\" ><b>Side effects mentioned</b></th>\n",
       "      <td id=\"T_217ac_row13_col0\" class=\"data row13 col0\" ></td>\n",
       "      <td id=\"T_217ac_row13_col1\" class=\"data row13 col1\" ></td>\n",
       "      <td id=\"T_217ac_row13_col2\" class=\"data row13 col2\" ></td>\n",
       "      <td id=\"T_217ac_row13_col3\" class=\"data row13 col3\" ></td>\n",
       "      <td id=\"T_217ac_row13_col4\" class=\"data row13 col4\" ></td>\n",
       "      <td id=\"T_217ac_row13_col5\" class=\"data row13 col5\" ></td>\n",
       "      <td id=\"T_217ac_row13_col6\" class=\"data row13 col6\" ></td>\n",
       "      <td id=\"T_217ac_row13_col7\" class=\"data row13 col7\" ></td>\n",
       "      <td id=\"T_217ac_row13_col8\" class=\"data row13 col8\" ></td>\n",
       "    </tr>\n",
       "    <tr>\n",
       "      <th id=\"T_217ac_level0_row14\" class=\"row_heading level0 row14\" >    Yes</th>\n",
       "      <td id=\"T_217ac_row14_col0\" class=\"data row14 col0\" >18.2%</td>\n",
       "      <td id=\"T_217ac_row14_col1\" class=\"data row14 col1\" >0%</td>\n",
       "      <td id=\"T_217ac_row14_col2\" class=\"data row14 col2\" >7.9%</td>\n",
       "      <td id=\"T_217ac_row14_col3\" class=\"data row14 col3\" >14%</td>\n",
       "      <td id=\"T_217ac_row14_col4\" class=\"data row14 col4\" >14.3%</td>\n",
       "      <td id=\"T_217ac_row14_col5\" class=\"data row14 col5\" >0%</td>\n",
       "      <td id=\"T_217ac_row14_col6\" class=\"data row14 col6\" >0%</td>\n",
       "      <td id=\"T_217ac_row14_col7\" class=\"data row14 col7\" >12.6%</td>\n",
       "      <td id=\"T_217ac_row14_col8\" class=\"data row14 col8\" >0%</td>\n",
       "    </tr>\n",
       "    <tr>\n",
       "      <th id=\"T_217ac_level0_row15\" class=\"row_heading level0 row15\" >    No</th>\n",
       "      <td id=\"T_217ac_row15_col0\" class=\"data row15 col0\" >0%</td>\n",
       "      <td id=\"T_217ac_row15_col1\" class=\"data row15 col1\" >0%</td>\n",
       "      <td id=\"T_217ac_row15_col2\" class=\"data row15 col2\" >0%</td>\n",
       "      <td id=\"T_217ac_row15_col3\" class=\"data row15 col3\" >0%</td>\n",
       "      <td id=\"T_217ac_row15_col4\" class=\"data row15 col4\" >0%</td>\n",
       "      <td id=\"T_217ac_row15_col5\" class=\"data row15 col5\" >0%</td>\n",
       "      <td id=\"T_217ac_row15_col6\" class=\"data row15 col6\" >0%</td>\n",
       "      <td id=\"T_217ac_row15_col7\" class=\"data row15 col7\" >0%</td>\n",
       "      <td id=\"T_217ac_row15_col8\" class=\"data row15 col8\" >0%</td>\n",
       "    </tr>\n",
       "    <tr>\n",
       "      <th id=\"T_217ac_level0_row16\" class=\"row_heading level0 row16\" >    No information</th>\n",
       "      <td id=\"T_217ac_row16_col0\" class=\"data row16 col0\" >81.8%</td>\n",
       "      <td id=\"T_217ac_row16_col1\" class=\"data row16 col1\" >100%</td>\n",
       "      <td id=\"T_217ac_row16_col2\" class=\"data row16 col2\" >92.1%</td>\n",
       "      <td id=\"T_217ac_row16_col3\" class=\"data row16 col3\" >86%</td>\n",
       "      <td id=\"T_217ac_row16_col4\" class=\"data row16 col4\" >85.7%</td>\n",
       "      <td id=\"T_217ac_row16_col5\" class=\"data row16 col5\" >100%</td>\n",
       "      <td id=\"T_217ac_row16_col6\" class=\"data row16 col6\" >0%</td>\n",
       "      <td id=\"T_217ac_row16_col7\" class=\"data row16 col7\" >87.4%</td>\n",
       "      <td id=\"T_217ac_row16_col8\" class=\"data row16 col8\" >100%</td>\n",
       "    </tr>\n",
       "    <tr>\n",
       "      <th id=\"T_217ac_level0_row17\" class=\"row_heading level0 row17\" ><b>Asserts significant pain reduction</b></th>\n",
       "      <td id=\"T_217ac_row17_col0\" class=\"data row17 col0\" ></td>\n",
       "      <td id=\"T_217ac_row17_col1\" class=\"data row17 col1\" ></td>\n",
       "      <td id=\"T_217ac_row17_col2\" class=\"data row17 col2\" ></td>\n",
       "      <td id=\"T_217ac_row17_col3\" class=\"data row17 col3\" ></td>\n",
       "      <td id=\"T_217ac_row17_col4\" class=\"data row17 col4\" ></td>\n",
       "      <td id=\"T_217ac_row17_col5\" class=\"data row17 col5\" ></td>\n",
       "      <td id=\"T_217ac_row17_col6\" class=\"data row17 col6\" ></td>\n",
       "      <td id=\"T_217ac_row17_col7\" class=\"data row17 col7\" ></td>\n",
       "      <td id=\"T_217ac_row17_col8\" class=\"data row17 col8\" ></td>\n",
       "    </tr>\n",
       "    <tr>\n",
       "      <th id=\"T_217ac_level0_row18\" class=\"row_heading level0 row18\" >    Yes</th>\n",
       "      <td id=\"T_217ac_row18_col0\" class=\"data row18 col0\" >0%</td>\n",
       "      <td id=\"T_217ac_row18_col1\" class=\"data row18 col1\" >0%</td>\n",
       "      <td id=\"T_217ac_row18_col2\" class=\"data row18 col2\" >15.8%</td>\n",
       "      <td id=\"T_217ac_row18_col3\" class=\"data row18 col3\" >6.3%</td>\n",
       "      <td id=\"T_217ac_row18_col4\" class=\"data row18 col4\" >0%</td>\n",
       "      <td id=\"T_217ac_row18_col5\" class=\"data row18 col5\" >0%</td>\n",
       "      <td id=\"T_217ac_row18_col6\" class=\"data row18 col6\" >0%</td>\n",
       "      <td id=\"T_217ac_row18_col7\" class=\"data row18 col7\" >1.9%</td>\n",
       "      <td id=\"T_217ac_row18_col8\" class=\"data row18 col8\" >0%</td>\n",
       "    </tr>\n",
       "    <tr>\n",
       "      <th id=\"T_217ac_level0_row19\" class=\"row_heading level0 row19\" >    No</th>\n",
       "      <td id=\"T_217ac_row19_col0\" class=\"data row19 col0\" >0%</td>\n",
       "      <td id=\"T_217ac_row19_col1\" class=\"data row19 col1\" >0%</td>\n",
       "      <td id=\"T_217ac_row19_col2\" class=\"data row19 col2\" >0%</td>\n",
       "      <td id=\"T_217ac_row19_col3\" class=\"data row19 col3\" >1.4%</td>\n",
       "      <td id=\"T_217ac_row19_col4\" class=\"data row19 col4\" >0%</td>\n",
       "      <td id=\"T_217ac_row19_col5\" class=\"data row19 col5\" >0%</td>\n",
       "      <td id=\"T_217ac_row19_col6\" class=\"data row19 col6\" >0%</td>\n",
       "      <td id=\"T_217ac_row19_col7\" class=\"data row19 col7\" >0%</td>\n",
       "      <td id=\"T_217ac_row19_col8\" class=\"data row19 col8\" >0%</td>\n",
       "    </tr>\n",
       "    <tr>\n",
       "      <th id=\"T_217ac_level0_row20\" class=\"row_heading level0 row20\" >    No information</th>\n",
       "      <td id=\"T_217ac_row20_col0\" class=\"data row20 col0\" >100%</td>\n",
       "      <td id=\"T_217ac_row20_col1\" class=\"data row20 col1\" >100%</td>\n",
       "      <td id=\"T_217ac_row20_col2\" class=\"data row20 col2\" >84.2%</td>\n",
       "      <td id=\"T_217ac_row20_col3\" class=\"data row20 col3\" >92.3%</td>\n",
       "      <td id=\"T_217ac_row20_col4\" class=\"data row20 col4\" >100%</td>\n",
       "      <td id=\"T_217ac_row20_col5\" class=\"data row20 col5\" >100%</td>\n",
       "      <td id=\"T_217ac_row20_col6\" class=\"data row20 col6\" >0%</td>\n",
       "      <td id=\"T_217ac_row20_col7\" class=\"data row20 col7\" >98.1%</td>\n",
       "      <td id=\"T_217ac_row20_col8\" class=\"data row20 col8\" >100%</td>\n",
       "    </tr>\n",
       "    <tr>\n",
       "      <th id=\"T_217ac_level0_row21\" class=\"row_heading level0 row21\" ><b>Mentions breaking of stones</b></th>\n",
       "      <td id=\"T_217ac_row21_col0\" class=\"data row21 col0\" ></td>\n",
       "      <td id=\"T_217ac_row21_col1\" class=\"data row21 col1\" ></td>\n",
       "      <td id=\"T_217ac_row21_col2\" class=\"data row21 col2\" ></td>\n",
       "      <td id=\"T_217ac_row21_col3\" class=\"data row21 col3\" ></td>\n",
       "      <td id=\"T_217ac_row21_col4\" class=\"data row21 col4\" ></td>\n",
       "      <td id=\"T_217ac_row21_col5\" class=\"data row21 col5\" ></td>\n",
       "      <td id=\"T_217ac_row21_col6\" class=\"data row21 col6\" ></td>\n",
       "      <td id=\"T_217ac_row21_col7\" class=\"data row21 col7\" ></td>\n",
       "      <td id=\"T_217ac_row21_col8\" class=\"data row21 col8\" ></td>\n",
       "    </tr>\n",
       "    <tr>\n",
       "      <th id=\"T_217ac_level0_row22\" class=\"row_heading level0 row22\" >    Yes</th>\n",
       "      <td id=\"T_217ac_row22_col0\" class=\"data row22 col0\" >0%</td>\n",
       "      <td id=\"T_217ac_row22_col1\" class=\"data row22 col1\" >0%</td>\n",
       "      <td id=\"T_217ac_row22_col2\" class=\"data row22 col2\" >15.8%</td>\n",
       "      <td id=\"T_217ac_row22_col3\" class=\"data row22 col3\" >0%</td>\n",
       "      <td id=\"T_217ac_row22_col4\" class=\"data row22 col4\" >0%</td>\n",
       "      <td id=\"T_217ac_row22_col5\" class=\"data row22 col5\" >0%</td>\n",
       "      <td id=\"T_217ac_row22_col6\" class=\"data row22 col6\" >0%</td>\n",
       "      <td id=\"T_217ac_row22_col7\" class=\"data row22 col7\" >0%</td>\n",
       "      <td id=\"T_217ac_row22_col8\" class=\"data row22 col8\" >0%</td>\n",
       "    </tr>\n",
       "    <tr>\n",
       "      <th id=\"T_217ac_level0_row23\" class=\"row_heading level0 row23\" >    No</th>\n",
       "      <td id=\"T_217ac_row23_col0\" class=\"data row23 col0\" >0%</td>\n",
       "      <td id=\"T_217ac_row23_col1\" class=\"data row23 col1\" >0%</td>\n",
       "      <td id=\"T_217ac_row23_col2\" class=\"data row23 col2\" >2.6%</td>\n",
       "      <td id=\"T_217ac_row23_col3\" class=\"data row23 col3\" >0%</td>\n",
       "      <td id=\"T_217ac_row23_col4\" class=\"data row23 col4\" >0%</td>\n",
       "      <td id=\"T_217ac_row23_col5\" class=\"data row23 col5\" >0%</td>\n",
       "      <td id=\"T_217ac_row23_col6\" class=\"data row23 col6\" >0%</td>\n",
       "      <td id=\"T_217ac_row23_col7\" class=\"data row23 col7\" >0%</td>\n",
       "      <td id=\"T_217ac_row23_col8\" class=\"data row23 col8\" >0%</td>\n",
       "    </tr>\n",
       "    <tr>\n",
       "      <th id=\"T_217ac_level0_row24\" class=\"row_heading level0 row24\" >    No information</th>\n",
       "      <td id=\"T_217ac_row24_col0\" class=\"data row24 col0\" >100%</td>\n",
       "      <td id=\"T_217ac_row24_col1\" class=\"data row24 col1\" >100%</td>\n",
       "      <td id=\"T_217ac_row24_col2\" class=\"data row24 col2\" >81.6%</td>\n",
       "      <td id=\"T_217ac_row24_col3\" class=\"data row24 col3\" >100%</td>\n",
       "      <td id=\"T_217ac_row24_col4\" class=\"data row24 col4\" >100%</td>\n",
       "      <td id=\"T_217ac_row24_col5\" class=\"data row24 col5\" >100%</td>\n",
       "      <td id=\"T_217ac_row24_col6\" class=\"data row24 col6\" >0%</td>\n",
       "      <td id=\"T_217ac_row24_col7\" class=\"data row24 col7\" >100%</td>\n",
       "      <td id=\"T_217ac_row24_col8\" class=\"data row24 col8\" >100%</td>\n",
       "    </tr>\n",
       "    <tr>\n",
       "      <th id=\"T_217ac_level0_row25\" class=\"row_heading level0 row25\" ><b>Mentions shrinking of the stones</b></th>\n",
       "      <td id=\"T_217ac_row25_col0\" class=\"data row25 col0\" ></td>\n",
       "      <td id=\"T_217ac_row25_col1\" class=\"data row25 col1\" ></td>\n",
       "      <td id=\"T_217ac_row25_col2\" class=\"data row25 col2\" ></td>\n",
       "      <td id=\"T_217ac_row25_col3\" class=\"data row25 col3\" ></td>\n",
       "      <td id=\"T_217ac_row25_col4\" class=\"data row25 col4\" ></td>\n",
       "      <td id=\"T_217ac_row25_col5\" class=\"data row25 col5\" ></td>\n",
       "      <td id=\"T_217ac_row25_col6\" class=\"data row25 col6\" ></td>\n",
       "      <td id=\"T_217ac_row25_col7\" class=\"data row25 col7\" ></td>\n",
       "      <td id=\"T_217ac_row25_col8\" class=\"data row25 col8\" ></td>\n",
       "    </tr>\n",
       "    <tr>\n",
       "      <th id=\"T_217ac_level0_row26\" class=\"row_heading level0 row26\" >    Yes</th>\n",
       "      <td id=\"T_217ac_row26_col0\" class=\"data row26 col0\" >0%</td>\n",
       "      <td id=\"T_217ac_row26_col1\" class=\"data row26 col1\" >50%</td>\n",
       "      <td id=\"T_217ac_row26_col2\" class=\"data row26 col2\" >5.3%</td>\n",
       "      <td id=\"T_217ac_row26_col3\" class=\"data row26 col3\" >0.7%</td>\n",
       "      <td id=\"T_217ac_row26_col4\" class=\"data row26 col4\" >14.3%</td>\n",
       "      <td id=\"T_217ac_row26_col5\" class=\"data row26 col5\" >0%</td>\n",
       "      <td id=\"T_217ac_row26_col6\" class=\"data row26 col6\" >0%</td>\n",
       "      <td id=\"T_217ac_row26_col7\" class=\"data row26 col7\" >1.9%</td>\n",
       "      <td id=\"T_217ac_row26_col8\" class=\"data row26 col8\" >0%</td>\n",
       "    </tr>\n",
       "    <tr>\n",
       "      <th id=\"T_217ac_level0_row27\" class=\"row_heading level0 row27\" >    No</th>\n",
       "      <td id=\"T_217ac_row27_col0\" class=\"data row27 col0\" >0%</td>\n",
       "      <td id=\"T_217ac_row27_col1\" class=\"data row27 col1\" >0%</td>\n",
       "      <td id=\"T_217ac_row27_col2\" class=\"data row27 col2\" >2.6%</td>\n",
       "      <td id=\"T_217ac_row27_col3\" class=\"data row27 col3\" >0%</td>\n",
       "      <td id=\"T_217ac_row27_col4\" class=\"data row27 col4\" >0%</td>\n",
       "      <td id=\"T_217ac_row27_col5\" class=\"data row27 col5\" >0%</td>\n",
       "      <td id=\"T_217ac_row27_col6\" class=\"data row27 col6\" >0%</td>\n",
       "      <td id=\"T_217ac_row27_col7\" class=\"data row27 col7\" >0%</td>\n",
       "      <td id=\"T_217ac_row27_col8\" class=\"data row27 col8\" >0%</td>\n",
       "    </tr>\n",
       "    <tr>\n",
       "      <th id=\"T_217ac_level0_row28\" class=\"row_heading level0 row28\" >    No information</th>\n",
       "      <td id=\"T_217ac_row28_col0\" class=\"data row28 col0\" >100%</td>\n",
       "      <td id=\"T_217ac_row28_col1\" class=\"data row28 col1\" >50%</td>\n",
       "      <td id=\"T_217ac_row28_col2\" class=\"data row28 col2\" >92.1%</td>\n",
       "      <td id=\"T_217ac_row28_col3\" class=\"data row28 col3\" >99.3%</td>\n",
       "      <td id=\"T_217ac_row28_col4\" class=\"data row28 col4\" >85.7%</td>\n",
       "      <td id=\"T_217ac_row28_col5\" class=\"data row28 col5\" >100%</td>\n",
       "      <td id=\"T_217ac_row28_col6\" class=\"data row28 col6\" >0%</td>\n",
       "      <td id=\"T_217ac_row28_col7\" class=\"data row28 col7\" >98.1%</td>\n",
       "      <td id=\"T_217ac_row28_col8\" class=\"data row28 col8\" >100%</td>\n",
       "    </tr>\n",
       "    <tr>\n",
       "      <th id=\"T_217ac_level0_row29\" class=\"row_heading level0 row29\" ><b>Mentions softening of stones</b></th>\n",
       "      <td id=\"T_217ac_row29_col0\" class=\"data row29 col0\" ></td>\n",
       "      <td id=\"T_217ac_row29_col1\" class=\"data row29 col1\" ></td>\n",
       "      <td id=\"T_217ac_row29_col2\" class=\"data row29 col2\" ></td>\n",
       "      <td id=\"T_217ac_row29_col3\" class=\"data row29 col3\" ></td>\n",
       "      <td id=\"T_217ac_row29_col4\" class=\"data row29 col4\" ></td>\n",
       "      <td id=\"T_217ac_row29_col5\" class=\"data row29 col5\" ></td>\n",
       "      <td id=\"T_217ac_row29_col6\" class=\"data row29 col6\" ></td>\n",
       "      <td id=\"T_217ac_row29_col7\" class=\"data row29 col7\" ></td>\n",
       "      <td id=\"T_217ac_row29_col8\" class=\"data row29 col8\" ></td>\n",
       "    </tr>\n",
       "    <tr>\n",
       "      <th id=\"T_217ac_level0_row30\" class=\"row_heading level0 row30\" >    Yes</th>\n",
       "      <td id=\"T_217ac_row30_col0\" class=\"data row30 col0\" >0%</td>\n",
       "      <td id=\"T_217ac_row30_col1\" class=\"data row30 col1\" >0%</td>\n",
       "      <td id=\"T_217ac_row30_col2\" class=\"data row30 col2\" >2.6%</td>\n",
       "      <td id=\"T_217ac_row30_col3\" class=\"data row30 col3\" >0%</td>\n",
       "      <td id=\"T_217ac_row30_col4\" class=\"data row30 col4\" >0%</td>\n",
       "      <td id=\"T_217ac_row30_col5\" class=\"data row30 col5\" >0%</td>\n",
       "      <td id=\"T_217ac_row30_col6\" class=\"data row30 col6\" >0%</td>\n",
       "      <td id=\"T_217ac_row30_col7\" class=\"data row30 col7\" >1.9%</td>\n",
       "      <td id=\"T_217ac_row30_col8\" class=\"data row30 col8\" >0%</td>\n",
       "    </tr>\n",
       "    <tr>\n",
       "      <th id=\"T_217ac_level0_row31\" class=\"row_heading level0 row31\" >    No</th>\n",
       "      <td id=\"T_217ac_row31_col0\" class=\"data row31 col0\" >0%</td>\n",
       "      <td id=\"T_217ac_row31_col1\" class=\"data row31 col1\" >0%</td>\n",
       "      <td id=\"T_217ac_row31_col2\" class=\"data row31 col2\" >0%</td>\n",
       "      <td id=\"T_217ac_row31_col3\" class=\"data row31 col3\" >0%</td>\n",
       "      <td id=\"T_217ac_row31_col4\" class=\"data row31 col4\" >0%</td>\n",
       "      <td id=\"T_217ac_row31_col5\" class=\"data row31 col5\" >0%</td>\n",
       "      <td id=\"T_217ac_row31_col6\" class=\"data row31 col6\" >0%</td>\n",
       "      <td id=\"T_217ac_row31_col7\" class=\"data row31 col7\" >0%</td>\n",
       "      <td id=\"T_217ac_row31_col8\" class=\"data row31 col8\" >0%</td>\n",
       "    </tr>\n",
       "    <tr>\n",
       "      <th id=\"T_217ac_level0_row32\" class=\"row_heading level0 row32\" >    No information</th>\n",
       "      <td id=\"T_217ac_row32_col0\" class=\"data row32 col0\" >100%</td>\n",
       "      <td id=\"T_217ac_row32_col1\" class=\"data row32 col1\" >100%</td>\n",
       "      <td id=\"T_217ac_row32_col2\" class=\"data row32 col2\" >97.4%</td>\n",
       "      <td id=\"T_217ac_row32_col3\" class=\"data row32 col3\" >100%</td>\n",
       "      <td id=\"T_217ac_row32_col4\" class=\"data row32 col4\" >100%</td>\n",
       "      <td id=\"T_217ac_row32_col5\" class=\"data row32 col5\" >100%</td>\n",
       "      <td id=\"T_217ac_row32_col6\" class=\"data row32 col6\" >0%</td>\n",
       "      <td id=\"T_217ac_row32_col7\" class=\"data row32 col7\" >98.1%</td>\n",
       "      <td id=\"T_217ac_row32_col8\" class=\"data row32 col8\" >100%</td>\n",
       "    </tr>\n",
       "    <tr>\n",
       "      <th id=\"T_217ac_level0_row33\" class=\"row_heading level0 row33\" ><b>Stone passed with no or almost no pain</b></th>\n",
       "      <td id=\"T_217ac_row33_col0\" class=\"data row33 col0\" ></td>\n",
       "      <td id=\"T_217ac_row33_col1\" class=\"data row33 col1\" ></td>\n",
       "      <td id=\"T_217ac_row33_col2\" class=\"data row33 col2\" ></td>\n",
       "      <td id=\"T_217ac_row33_col3\" class=\"data row33 col3\" ></td>\n",
       "      <td id=\"T_217ac_row33_col4\" class=\"data row33 col4\" ></td>\n",
       "      <td id=\"T_217ac_row33_col5\" class=\"data row33 col5\" ></td>\n",
       "      <td id=\"T_217ac_row33_col6\" class=\"data row33 col6\" ></td>\n",
       "      <td id=\"T_217ac_row33_col7\" class=\"data row33 col7\" ></td>\n",
       "      <td id=\"T_217ac_row33_col8\" class=\"data row33 col8\" ></td>\n",
       "    </tr>\n",
       "    <tr>\n",
       "      <th id=\"T_217ac_level0_row34\" class=\"row_heading level0 row34\" >    Yes</th>\n",
       "      <td id=\"T_217ac_row34_col0\" class=\"data row34 col0\" >9.1%</td>\n",
       "      <td id=\"T_217ac_row34_col1\" class=\"data row34 col1\" >0%</td>\n",
       "      <td id=\"T_217ac_row34_col2\" class=\"data row34 col2\" >7.9%</td>\n",
       "      <td id=\"T_217ac_row34_col3\" class=\"data row34 col3\" >1.4%</td>\n",
       "      <td id=\"T_217ac_row34_col4\" class=\"data row34 col4\" >14.3%</td>\n",
       "      <td id=\"T_217ac_row34_col5\" class=\"data row34 col5\" >0%</td>\n",
       "      <td id=\"T_217ac_row34_col6\" class=\"data row34 col6\" >0%</td>\n",
       "      <td id=\"T_217ac_row34_col7\" class=\"data row34 col7\" >1%</td>\n",
       "      <td id=\"T_217ac_row34_col8\" class=\"data row34 col8\" >0%</td>\n",
       "    </tr>\n",
       "    <tr>\n",
       "      <th id=\"T_217ac_level0_row35\" class=\"row_heading level0 row35\" >    No</th>\n",
       "      <td id=\"T_217ac_row35_col0\" class=\"data row35 col0\" >0%</td>\n",
       "      <td id=\"T_217ac_row35_col1\" class=\"data row35 col1\" >0%</td>\n",
       "      <td id=\"T_217ac_row35_col2\" class=\"data row35 col2\" >0%</td>\n",
       "      <td id=\"T_217ac_row35_col3\" class=\"data row35 col3\" >0%</td>\n",
       "      <td id=\"T_217ac_row35_col4\" class=\"data row35 col4\" >0%</td>\n",
       "      <td id=\"T_217ac_row35_col5\" class=\"data row35 col5\" >0%</td>\n",
       "      <td id=\"T_217ac_row35_col6\" class=\"data row35 col6\" >0%</td>\n",
       "      <td id=\"T_217ac_row35_col7\" class=\"data row35 col7\" >0%</td>\n",
       "      <td id=\"T_217ac_row35_col8\" class=\"data row35 col8\" >0%</td>\n",
       "    </tr>\n",
       "    <tr>\n",
       "      <th id=\"T_217ac_level0_row36\" class=\"row_heading level0 row36\" >    No information</th>\n",
       "      <td id=\"T_217ac_row36_col0\" class=\"data row36 col0\" >90.9%</td>\n",
       "      <td id=\"T_217ac_row36_col1\" class=\"data row36 col1\" >100%</td>\n",
       "      <td id=\"T_217ac_row36_col2\" class=\"data row36 col2\" >92.1%</td>\n",
       "      <td id=\"T_217ac_row36_col3\" class=\"data row36 col3\" >98.6%</td>\n",
       "      <td id=\"T_217ac_row36_col4\" class=\"data row36 col4\" >85.7%</td>\n",
       "      <td id=\"T_217ac_row36_col5\" class=\"data row36 col5\" >100%</td>\n",
       "      <td id=\"T_217ac_row36_col6\" class=\"data row36 col6\" >0%</td>\n",
       "      <td id=\"T_217ac_row36_col7\" class=\"data row36 col7\" >99%</td>\n",
       "      <td id=\"T_217ac_row36_col8\" class=\"data row36 col8\" >100%</td>\n",
       "    </tr>\n",
       "  </tbody>\n",
       "</table>\n"
      ],
      "text/plain": [
       "<pandas.io.formats.style.Styler at 0x11c0b3710>"
      ]
     },
     "metadata": {},
     "output_type": "display_data"
    }
   ],
   "source": [
    "reddit_medicine_mapping = {\n",
    "    'Hydrochlorothiazide': 'HCTZ',\n",
    "}\n",
    "\n",
    "reddit_medicines_to_exclude = []\n",
    "\n",
    "# Generate and display statistics\n",
    "for key, val in table_cases.items():\n",
    "    if key == \"All Reviews\":\n",
    "        filters = None\n",
    "    else:\n",
    "        filters = {key: 1}\n",
    "    display_dfr = create_table(dfr, columns_to_analyze, reddit_medicines_to_exclude, reddit_medicine_mapping, filters=filters)\n",
    "    tablename = \"reddit-table-full-analysis\" + val\n",
    "    # display(style_dataframe(display_dfr))\n",
    "    display_dfr.to_html(figfolder + tablename + \".html\")"
   ]
  },
  {
   "cell_type": "markdown",
   "metadata": {},
   "source": [
    "# 4. Side effects"
   ]
  },
  {
   "cell_type": "code",
   "execution_count": 77,
   "metadata": {},
   "outputs": [
    {
     "data": {
      "application/vnd.plotly.v1+json": {
       "config": {
        "plotlyServerURL": "https://plot.ly"
       },
       "data": [
        {
         "alignmentgroup": "True",
         "customdata": [
          [
           "Allopurinol",
           "Pain"
          ],
          [
           "Allopurinol",
           "Skin/Allergic"
          ],
          [
           "Allopurinol",
           "Neurological/Cognitive"
          ],
          [
           "Allopurinol",
           "Mood/Mental"
          ],
          [
           "Allopurinol",
           "Endocrine/Metabolic"
          ],
          [
           "Allopurinol",
           "Gastrointestinal"
          ],
          [
           "Allopurinol",
           "Cardiovascular"
          ],
          [
           "Allopurinol",
           "Respiratory"
          ],
          [
           "Allopurinol",
           "Other"
          ],
          [
           "Allopurinol",
           "Sleep/Fatigue"
          ]
         ],
         "hovertemplate": "%{customdata[0]}<br>Category: %{customdata[1]}<br>Count: %{y}<extra></extra>",
         "legendgroup": "Allopurinol",
         "marker": {
          "color": "#636efa",
          "pattern": {
           "shape": ""
          }
         },
         "name": "Allopurinol",
         "offsetgroup": "Allopurinol",
         "orientation": "v",
         "showlegend": true,
         "textposition": "auto",
         "type": "bar",
         "x": [
          "Pain",
          "Skin/Allergic",
          "Neurological/Cognitive",
          "Mood/Mental",
          "Endocrine/Metabolic",
          "Gastrointestinal",
          "Cardiovascular",
          "Respiratory",
          "Other",
          "Sleep/Fatigue"
         ],
         "xaxis": "x",
         "y": [
          6,
          3,
          3,
          3,
          3,
          2,
          2,
          1,
          1,
          1
         ],
         "yaxis": "y"
        },
        {
         "alignmentgroup": "True",
         "customdata": [
          [
           "Ashwagandha",
           "Mood/Mental"
          ],
          [
           "Ashwagandha",
           "Gastrointestinal"
          ],
          [
           "Ashwagandha",
           "Sleep/Fatigue"
          ],
          [
           "Ashwagandha",
           "Neurological/Cognitive"
          ],
          [
           "Ashwagandha",
           "Skin/Allergic"
          ],
          [
           "Ashwagandha",
           "Endocrine/Metabolic"
          ],
          [
           "Ashwagandha",
           "Urinary/Sexual"
          ],
          [
           "Ashwagandha",
           "Cardiovascular"
          ],
          [
           "Ashwagandha",
           "Pain"
          ],
          [
           "Ashwagandha",
           "Respiratory"
          ],
          [
           "Ashwagandha",
           "Other"
          ]
         ],
         "hovertemplate": "%{customdata[0]}<br>Category: %{customdata[1]}<br>Count: %{y}<extra></extra>",
         "legendgroup": "Ashwagandha",
         "marker": {
          "color": "#EF553B",
          "pattern": {
           "shape": ""
          }
         },
         "name": "Ashwagandha",
         "offsetgroup": "Ashwagandha",
         "orientation": "v",
         "showlegend": true,
         "textposition": "auto",
         "type": "bar",
         "x": [
          "Mood/Mental",
          "Gastrointestinal",
          "Sleep/Fatigue",
          "Neurological/Cognitive",
          "Skin/Allergic",
          "Endocrine/Metabolic",
          "Urinary/Sexual",
          "Cardiovascular",
          "Pain",
          "Respiratory",
          "Other"
         ],
         "xaxis": "x",
         "y": [
          79,
          74,
          49,
          41,
          18,
          16,
          11,
          10,
          10,
          3,
          2
         ],
         "yaxis": "y"
        },
        {
         "alignmentgroup": "True",
         "customdata": [
          [
           "Black seed",
           "Gastrointestinal"
          ],
          [
           "Black seed",
           "Neurological/Cognitive"
          ],
          [
           "Black seed",
           "Pain"
          ],
          [
           "Black seed",
           "Skin/Allergic"
          ],
          [
           "Black seed",
           "Sleep/Fatigue"
          ],
          [
           "Black seed",
           "Cardiovascular"
          ],
          [
           "Black seed",
           "Endocrine/Metabolic"
          ],
          [
           "Black seed",
           "Respiratory"
          ]
         ],
         "hovertemplate": "%{customdata[0]}<br>Category: %{customdata[1]}<br>Count: %{y}<extra></extra>",
         "legendgroup": "Black seed",
         "marker": {
          "color": "#00cc96",
          "pattern": {
           "shape": ""
          }
         },
         "name": "Black seed",
         "offsetgroup": "Black seed",
         "orientation": "v",
         "showlegend": true,
         "textposition": "auto",
         "type": "bar",
         "x": [
          "Gastrointestinal",
          "Neurological/Cognitive",
          "Pain",
          "Skin/Allergic",
          "Sleep/Fatigue",
          "Cardiovascular",
          "Endocrine/Metabolic",
          "Respiratory"
         ],
         "xaxis": "x",
         "y": [
          17,
          5,
          4,
          3,
          2,
          2,
          1,
          1
         ],
         "yaxis": "y"
        },
        {
         "alignmentgroup": "True",
         "customdata": [
          [
           "Chanca piedra",
           "Gastrointestinal"
          ],
          [
           "Chanca piedra",
           "Urinary/Sexual"
          ],
          [
           "Chanca piedra",
           "Pain"
          ],
          [
           "Chanca piedra",
           "Endocrine/Metabolic"
          ],
          [
           "Chanca piedra",
           "Neurological/Cognitive"
          ],
          [
           "Chanca piedra",
           "Cardiovascular"
          ],
          [
           "Chanca piedra",
           "Sleep/Fatigue"
          ],
          [
           "Chanca piedra",
           "Skin/Allergic"
          ]
         ],
         "hovertemplate": "%{customdata[0]}<br>Category: %{customdata[1]}<br>Count: %{y}<extra></extra>",
         "legendgroup": "Chanca piedra",
         "marker": {
          "color": "#ab63fa",
          "pattern": {
           "shape": ""
          }
         },
         "name": "Chanca piedra",
         "offsetgroup": "Chanca piedra",
         "orientation": "v",
         "showlegend": true,
         "textposition": "auto",
         "type": "bar",
         "x": [
          "Gastrointestinal",
          "Urinary/Sexual",
          "Pain",
          "Endocrine/Metabolic",
          "Neurological/Cognitive",
          "Cardiovascular",
          "Sleep/Fatigue",
          "Skin/Allergic"
         ],
         "xaxis": "x",
         "y": [
          61,
          26,
          17,
          11,
          9,
          8,
          4,
          4
         ],
         "yaxis": "y"
        },
        {
         "alignmentgroup": "True",
         "customdata": [
          [
           "Flomax",
           "Neurological/Cognitive"
          ],
          [
           "Flomax",
           "Urinary/Sexual"
          ],
          [
           "Flomax",
           "Cardiovascular"
          ],
          [
           "Flomax",
           "Respiratory"
          ],
          [
           "Flomax",
           "Gastrointestinal"
          ],
          [
           "Flomax",
           "Pain"
          ],
          [
           "Flomax",
           "Sleep/Fatigue"
          ],
          [
           "Flomax",
           "Mood/Mental"
          ],
          [
           "Flomax",
           "Skin/Allergic"
          ],
          [
           "Flomax",
           "Endocrine/Metabolic"
          ],
          [
           "Flomax",
           "Other"
          ]
         ],
         "hovertemplate": "%{customdata[0]}<br>Category: %{customdata[1]}<br>Count: %{y}<extra></extra>",
         "legendgroup": "Flomax",
         "marker": {
          "color": "#FFA15A",
          "pattern": {
           "shape": ""
          }
         },
         "name": "Flomax",
         "offsetgroup": "Flomax",
         "orientation": "v",
         "showlegend": true,
         "textposition": "auto",
         "type": "bar",
         "x": [
          "Neurological/Cognitive",
          "Urinary/Sexual",
          "Cardiovascular",
          "Respiratory",
          "Gastrointestinal",
          "Pain",
          "Sleep/Fatigue",
          "Mood/Mental",
          "Skin/Allergic",
          "Endocrine/Metabolic",
          "Other"
         ],
         "xaxis": "x",
         "y": [
          156,
          89,
          54,
          45,
          43,
          43,
          40,
          20,
          16,
          7,
          2
         ],
         "yaxis": "y"
        },
        {
         "alignmentgroup": "True",
         "customdata": [
          [
           "Garcinia",
           "Gastrointestinal"
          ],
          [
           "Garcinia",
           "Neurological/Cognitive"
          ],
          [
           "Garcinia",
           "Endocrine/Metabolic"
          ],
          [
           "Garcinia",
           "Pain"
          ],
          [
           "Garcinia",
           "Sleep/Fatigue"
          ],
          [
           "Garcinia",
           "Skin/Allergic"
          ],
          [
           "Garcinia",
           "Cardiovascular"
          ],
          [
           "Garcinia",
           "Respiratory"
          ],
          [
           "Garcinia",
           "Urinary/Sexual"
          ],
          [
           "Garcinia",
           "Mood/Mental"
          ],
          [
           "Garcinia",
           "Other"
          ]
         ],
         "hovertemplate": "%{customdata[0]}<br>Category: %{customdata[1]}<br>Count: %{y}<extra></extra>",
         "legendgroup": "Garcinia",
         "marker": {
          "color": "#19d3f3",
          "pattern": {
           "shape": ""
          }
         },
         "name": "Garcinia",
         "offsetgroup": "Garcinia",
         "orientation": "v",
         "showlegend": true,
         "textposition": "auto",
         "type": "bar",
         "x": [
          "Gastrointestinal",
          "Neurological/Cognitive",
          "Endocrine/Metabolic",
          "Pain",
          "Sleep/Fatigue",
          "Skin/Allergic",
          "Cardiovascular",
          "Respiratory",
          "Urinary/Sexual",
          "Mood/Mental",
          "Other"
         ],
         "xaxis": "x",
         "y": [
          380,
          145,
          99,
          71,
          51,
          36,
          34,
          27,
          26,
          18,
          10
         ],
         "yaxis": "y"
        },
        {
         "alignmentgroup": "True",
         "customdata": [
          [
           "Hydrochlorothiazide",
           "Neurological/Cognitive"
          ],
          [
           "Hydrochlorothiazide",
           "Endocrine/Metabolic"
          ],
          [
           "Hydrochlorothiazide",
           "Pain"
          ],
          [
           "Hydrochlorothiazide",
           "Other"
          ],
          [
           "Hydrochlorothiazide",
           "Cardiovascular"
          ],
          [
           "Hydrochlorothiazide",
           "Urinary/Sexual"
          ],
          [
           "Hydrochlorothiazide",
           "Skin/Allergic"
          ],
          [
           "Hydrochlorothiazide",
           "Gastrointestinal"
          ],
          [
           "Hydrochlorothiazide",
           "Sleep/Fatigue"
          ]
         ],
         "hovertemplate": "%{customdata[0]}<br>Category: %{customdata[1]}<br>Count: %{y}<extra></extra>",
         "legendgroup": "Hydrochlorothiazide",
         "marker": {
          "color": "#FF6692",
          "pattern": {
           "shape": ""
          }
         },
         "name": "Hydrochlorothiazide",
         "offsetgroup": "Hydrochlorothiazide",
         "orientation": "v",
         "showlegend": true,
         "textposition": "auto",
         "type": "bar",
         "x": [
          "Neurological/Cognitive",
          "Endocrine/Metabolic",
          "Pain",
          "Other",
          "Cardiovascular",
          "Urinary/Sexual",
          "Skin/Allergic",
          "Gastrointestinal",
          "Sleep/Fatigue"
         ],
         "xaxis": "x",
         "y": [
          12,
          3,
          3,
          3,
          2,
          2,
          2,
          1,
          1
         ],
         "yaxis": "y"
        },
        {
         "alignmentgroup": "True",
         "customdata": [
          [
           "Melatonin",
           "Sleep/Fatigue"
          ],
          [
           "Melatonin",
           "Neurological/Cognitive"
          ],
          [
           "Melatonin",
           "Gastrointestinal"
          ],
          [
           "Melatonin",
           "Mood/Mental"
          ],
          [
           "Melatonin",
           "Endocrine/Metabolic"
          ],
          [
           "Melatonin",
           "Pain"
          ],
          [
           "Melatonin",
           "Cardiovascular"
          ],
          [
           "Melatonin",
           "Skin/Allergic"
          ],
          [
           "Melatonin",
           "Urinary/Sexual"
          ]
         ],
         "hovertemplate": "%{customdata[0]}<br>Category: %{customdata[1]}<br>Count: %{y}<extra></extra>",
         "legendgroup": "Melatonin",
         "marker": {
          "color": "#B6E880",
          "pattern": {
           "shape": ""
          }
         },
         "name": "Melatonin",
         "offsetgroup": "Melatonin",
         "orientation": "v",
         "showlegend": true,
         "textposition": "auto",
         "type": "bar",
         "x": [
          "Sleep/Fatigue",
          "Neurological/Cognitive",
          "Gastrointestinal",
          "Mood/Mental",
          "Endocrine/Metabolic",
          "Pain",
          "Cardiovascular",
          "Skin/Allergic",
          "Urinary/Sexual"
         ],
         "xaxis": "x",
         "y": [
          51,
          46,
          25,
          21,
          7,
          7,
          5,
          2,
          1
         ],
         "yaxis": "y"
        },
        {
         "alignmentgroup": "True",
         "customdata": [
          [
           "Phosfood",
           "Endocrine/Metabolic"
          ],
          [
           "Phosfood",
           "Neurological/Cognitive"
          ]
         ],
         "hovertemplate": "%{customdata[0]}<br>Category: %{customdata[1]}<br>Count: %{y}<extra></extra>",
         "legendgroup": "Phosfood",
         "marker": {
          "color": "#FF97FF",
          "pattern": {
           "shape": ""
          }
         },
         "name": "Phosfood",
         "offsetgroup": "Phosfood",
         "orientation": "v",
         "showlegend": true,
         "textposition": "auto",
         "type": "bar",
         "x": [
          "Endocrine/Metabolic",
          "Neurological/Cognitive"
         ],
         "xaxis": "x",
         "y": [
          2,
          1
         ],
         "yaxis": "y"
        },
        {
         "alignmentgroup": "True",
         "customdata": [
          [
           "Potassium citrate",
           "Gastrointestinal"
          ],
          [
           "Potassium citrate",
           "Neurological/Cognitive"
          ],
          [
           "Potassium citrate",
           "Pain"
          ],
          [
           "Potassium citrate",
           "Urinary/Sexual"
          ],
          [
           "Potassium citrate",
           "Endocrine/Metabolic"
          ],
          [
           "Potassium citrate",
           "Cardiovascular"
          ],
          [
           "Potassium citrate",
           "Mood/Mental"
          ],
          [
           "Potassium citrate",
           "Sleep/Fatigue"
          ],
          [
           "Potassium citrate",
           "Other"
          ],
          [
           "Potassium citrate",
           "Skin/Allergic"
          ],
          [
           "Potassium citrate",
           "Respiratory"
          ]
         ],
         "hovertemplate": "%{customdata[0]}<br>Category: %{customdata[1]}<br>Count: %{y}<extra></extra>",
         "legendgroup": "Potassium citrate",
         "marker": {
          "color": "#FECB52",
          "pattern": {
           "shape": ""
          }
         },
         "name": "Potassium citrate",
         "offsetgroup": "Potassium citrate",
         "orientation": "v",
         "showlegend": true,
         "textposition": "auto",
         "type": "bar",
         "x": [
          "Gastrointestinal",
          "Neurological/Cognitive",
          "Pain",
          "Urinary/Sexual",
          "Endocrine/Metabolic",
          "Cardiovascular",
          "Mood/Mental",
          "Sleep/Fatigue",
          "Other",
          "Skin/Allergic",
          "Respiratory"
         ],
         "xaxis": "x",
         "y": [
          63,
          16,
          11,
          11,
          10,
          9,
          6,
          4,
          1,
          1,
          1
         ],
         "yaxis": "y"
        },
        {
         "alignmentgroup": "True",
         "customdata": [
          [
           "Rowatinex",
           "Urinary/Sexual"
          ],
          [
           "Rowatinex",
           "Gastrointestinal"
          ],
          [
           "Rowatinex",
           "Sleep/Fatigue"
          ],
          [
           "Rowatinex",
           "Endocrine/Metabolic"
          ],
          [
           "Rowatinex",
           "Pain"
          ],
          [
           "Rowatinex",
           "Mood/Mental"
          ],
          [
           "Rowatinex",
           "Neurological/Cognitive"
          ],
          [
           "Rowatinex",
           "Cardiovascular"
          ]
         ],
         "hovertemplate": "%{customdata[0]}<br>Category: %{customdata[1]}<br>Count: %{y}<extra></extra>",
         "legendgroup": "Rowatinex",
         "marker": {
          "color": "#636efa",
          "pattern": {
           "shape": ""
          }
         },
         "name": "Rowatinex",
         "offsetgroup": "Rowatinex",
         "orientation": "v",
         "showlegend": true,
         "textposition": "auto",
         "type": "bar",
         "x": [
          "Urinary/Sexual",
          "Gastrointestinal",
          "Sleep/Fatigue",
          "Endocrine/Metabolic",
          "Pain",
          "Mood/Mental",
          "Neurological/Cognitive",
          "Cardiovascular"
         ],
         "xaxis": "x",
         "y": [
          3,
          2,
          2,
          1,
          1,
          1,
          1,
          1
         ],
         "yaxis": "y"
        }
       ],
       "layout": {
        "bargap": 0.15,
        "bargroupgap": 0.1,
        "barmode": "group",
        "height": 400,
        "legend": {
         "orientation": "h",
         "title": {},
         "tracegroupgap": 0,
         "x": 0.5,
         "xanchor": "center",
         "y": -0.7,
         "yanchor": "top"
        },
        "margin": {
         "t": 60
        },
        "template": {
         "data": {
          "bar": [
           {
            "error_x": {
             "color": "#2a3f5f"
            },
            "error_y": {
             "color": "#2a3f5f"
            },
            "marker": {
             "line": {
              "color": "white",
              "width": 0.5
             },
             "pattern": {
              "fillmode": "overlay",
              "size": 10,
              "solidity": 0.2
             }
            },
            "type": "bar"
           }
          ],
          "barpolar": [
           {
            "marker": {
             "line": {
              "color": "white",
              "width": 0.5
             },
             "pattern": {
              "fillmode": "overlay",
              "size": 10,
              "solidity": 0.2
             }
            },
            "type": "barpolar"
           }
          ],
          "carpet": [
           {
            "aaxis": {
             "endlinecolor": "#2a3f5f",
             "gridcolor": "#C8D4E3",
             "linecolor": "#C8D4E3",
             "minorgridcolor": "#C8D4E3",
             "startlinecolor": "#2a3f5f"
            },
            "baxis": {
             "endlinecolor": "#2a3f5f",
             "gridcolor": "#C8D4E3",
             "linecolor": "#C8D4E3",
             "minorgridcolor": "#C8D4E3",
             "startlinecolor": "#2a3f5f"
            },
            "type": "carpet"
           }
          ],
          "choropleth": [
           {
            "colorbar": {
             "outlinewidth": 0,
             "ticks": ""
            },
            "type": "choropleth"
           }
          ],
          "contour": [
           {
            "colorbar": {
             "outlinewidth": 0,
             "ticks": ""
            },
            "colorscale": [
             [
              0,
              "#0d0887"
             ],
             [
              0.1111111111111111,
              "#46039f"
             ],
             [
              0.2222222222222222,
              "#7201a8"
             ],
             [
              0.3333333333333333,
              "#9c179e"
             ],
             [
              0.4444444444444444,
              "#bd3786"
             ],
             [
              0.5555555555555556,
              "#d8576b"
             ],
             [
              0.6666666666666666,
              "#ed7953"
             ],
             [
              0.7777777777777778,
              "#fb9f3a"
             ],
             [
              0.8888888888888888,
              "#fdca26"
             ],
             [
              1,
              "#f0f921"
             ]
            ],
            "type": "contour"
           }
          ],
          "contourcarpet": [
           {
            "colorbar": {
             "outlinewidth": 0,
             "ticks": ""
            },
            "type": "contourcarpet"
           }
          ],
          "heatmap": [
           {
            "colorbar": {
             "outlinewidth": 0,
             "ticks": ""
            },
            "colorscale": [
             [
              0,
              "#0d0887"
             ],
             [
              0.1111111111111111,
              "#46039f"
             ],
             [
              0.2222222222222222,
              "#7201a8"
             ],
             [
              0.3333333333333333,
              "#9c179e"
             ],
             [
              0.4444444444444444,
              "#bd3786"
             ],
             [
              0.5555555555555556,
              "#d8576b"
             ],
             [
              0.6666666666666666,
              "#ed7953"
             ],
             [
              0.7777777777777778,
              "#fb9f3a"
             ],
             [
              0.8888888888888888,
              "#fdca26"
             ],
             [
              1,
              "#f0f921"
             ]
            ],
            "type": "heatmap"
           }
          ],
          "heatmapgl": [
           {
            "colorbar": {
             "outlinewidth": 0,
             "ticks": ""
            },
            "colorscale": [
             [
              0,
              "#0d0887"
             ],
             [
              0.1111111111111111,
              "#46039f"
             ],
             [
              0.2222222222222222,
              "#7201a8"
             ],
             [
              0.3333333333333333,
              "#9c179e"
             ],
             [
              0.4444444444444444,
              "#bd3786"
             ],
             [
              0.5555555555555556,
              "#d8576b"
             ],
             [
              0.6666666666666666,
              "#ed7953"
             ],
             [
              0.7777777777777778,
              "#fb9f3a"
             ],
             [
              0.8888888888888888,
              "#fdca26"
             ],
             [
              1,
              "#f0f921"
             ]
            ],
            "type": "heatmapgl"
           }
          ],
          "histogram": [
           {
            "marker": {
             "pattern": {
              "fillmode": "overlay",
              "size": 10,
              "solidity": 0.2
             }
            },
            "type": "histogram"
           }
          ],
          "histogram2d": [
           {
            "colorbar": {
             "outlinewidth": 0,
             "ticks": ""
            },
            "colorscale": [
             [
              0,
              "#0d0887"
             ],
             [
              0.1111111111111111,
              "#46039f"
             ],
             [
              0.2222222222222222,
              "#7201a8"
             ],
             [
              0.3333333333333333,
              "#9c179e"
             ],
             [
              0.4444444444444444,
              "#bd3786"
             ],
             [
              0.5555555555555556,
              "#d8576b"
             ],
             [
              0.6666666666666666,
              "#ed7953"
             ],
             [
              0.7777777777777778,
              "#fb9f3a"
             ],
             [
              0.8888888888888888,
              "#fdca26"
             ],
             [
              1,
              "#f0f921"
             ]
            ],
            "type": "histogram2d"
           }
          ],
          "histogram2dcontour": [
           {
            "colorbar": {
             "outlinewidth": 0,
             "ticks": ""
            },
            "colorscale": [
             [
              0,
              "#0d0887"
             ],
             [
              0.1111111111111111,
              "#46039f"
             ],
             [
              0.2222222222222222,
              "#7201a8"
             ],
             [
              0.3333333333333333,
              "#9c179e"
             ],
             [
              0.4444444444444444,
              "#bd3786"
             ],
             [
              0.5555555555555556,
              "#d8576b"
             ],
             [
              0.6666666666666666,
              "#ed7953"
             ],
             [
              0.7777777777777778,
              "#fb9f3a"
             ],
             [
              0.8888888888888888,
              "#fdca26"
             ],
             [
              1,
              "#f0f921"
             ]
            ],
            "type": "histogram2dcontour"
           }
          ],
          "mesh3d": [
           {
            "colorbar": {
             "outlinewidth": 0,
             "ticks": ""
            },
            "type": "mesh3d"
           }
          ],
          "parcoords": [
           {
            "line": {
             "colorbar": {
              "outlinewidth": 0,
              "ticks": ""
             }
            },
            "type": "parcoords"
           }
          ],
          "pie": [
           {
            "automargin": true,
            "type": "pie"
           }
          ],
          "scatter": [
           {
            "fillpattern": {
             "fillmode": "overlay",
             "size": 10,
             "solidity": 0.2
            },
            "type": "scatter"
           }
          ],
          "scatter3d": [
           {
            "line": {
             "colorbar": {
              "outlinewidth": 0,
              "ticks": ""
             }
            },
            "marker": {
             "colorbar": {
              "outlinewidth": 0,
              "ticks": ""
             }
            },
            "type": "scatter3d"
           }
          ],
          "scattercarpet": [
           {
            "marker": {
             "colorbar": {
              "outlinewidth": 0,
              "ticks": ""
             }
            },
            "type": "scattercarpet"
           }
          ],
          "scattergeo": [
           {
            "marker": {
             "colorbar": {
              "outlinewidth": 0,
              "ticks": ""
             }
            },
            "type": "scattergeo"
           }
          ],
          "scattergl": [
           {
            "marker": {
             "colorbar": {
              "outlinewidth": 0,
              "ticks": ""
             }
            },
            "type": "scattergl"
           }
          ],
          "scattermapbox": [
           {
            "marker": {
             "colorbar": {
              "outlinewidth": 0,
              "ticks": ""
             }
            },
            "type": "scattermapbox"
           }
          ],
          "scatterpolar": [
           {
            "marker": {
             "colorbar": {
              "outlinewidth": 0,
              "ticks": ""
             }
            },
            "type": "scatterpolar"
           }
          ],
          "scatterpolargl": [
           {
            "marker": {
             "colorbar": {
              "outlinewidth": 0,
              "ticks": ""
             }
            },
            "type": "scatterpolargl"
           }
          ],
          "scatterternary": [
           {
            "marker": {
             "colorbar": {
              "outlinewidth": 0,
              "ticks": ""
             }
            },
            "type": "scatterternary"
           }
          ],
          "surface": [
           {
            "colorbar": {
             "outlinewidth": 0,
             "ticks": ""
            },
            "colorscale": [
             [
              0,
              "#0d0887"
             ],
             [
              0.1111111111111111,
              "#46039f"
             ],
             [
              0.2222222222222222,
              "#7201a8"
             ],
             [
              0.3333333333333333,
              "#9c179e"
             ],
             [
              0.4444444444444444,
              "#bd3786"
             ],
             [
              0.5555555555555556,
              "#d8576b"
             ],
             [
              0.6666666666666666,
              "#ed7953"
             ],
             [
              0.7777777777777778,
              "#fb9f3a"
             ],
             [
              0.8888888888888888,
              "#fdca26"
             ],
             [
              1,
              "#f0f921"
             ]
            ],
            "type": "surface"
           }
          ],
          "table": [
           {
            "cells": {
             "fill": {
              "color": "#EBF0F8"
             },
             "line": {
              "color": "white"
             }
            },
            "header": {
             "fill": {
              "color": "#C8D4E3"
             },
             "line": {
              "color": "white"
             }
            },
            "type": "table"
           }
          ]
         },
         "layout": {
          "annotationdefaults": {
           "arrowcolor": "#2a3f5f",
           "arrowhead": 0,
           "arrowwidth": 1
          },
          "autotypenumbers": "strict",
          "coloraxis": {
           "colorbar": {
            "outlinewidth": 0,
            "ticks": ""
           }
          },
          "colorscale": {
           "diverging": [
            [
             0,
             "#8e0152"
            ],
            [
             0.1,
             "#c51b7d"
            ],
            [
             0.2,
             "#de77ae"
            ],
            [
             0.3,
             "#f1b6da"
            ],
            [
             0.4,
             "#fde0ef"
            ],
            [
             0.5,
             "#f7f7f7"
            ],
            [
             0.6,
             "#e6f5d0"
            ],
            [
             0.7,
             "#b8e186"
            ],
            [
             0.8,
             "#7fbc41"
            ],
            [
             0.9,
             "#4d9221"
            ],
            [
             1,
             "#276419"
            ]
           ],
           "sequential": [
            [
             0,
             "#0d0887"
            ],
            [
             0.1111111111111111,
             "#46039f"
            ],
            [
             0.2222222222222222,
             "#7201a8"
            ],
            [
             0.3333333333333333,
             "#9c179e"
            ],
            [
             0.4444444444444444,
             "#bd3786"
            ],
            [
             0.5555555555555556,
             "#d8576b"
            ],
            [
             0.6666666666666666,
             "#ed7953"
            ],
            [
             0.7777777777777778,
             "#fb9f3a"
            ],
            [
             0.8888888888888888,
             "#fdca26"
            ],
            [
             1,
             "#f0f921"
            ]
           ],
           "sequentialminus": [
            [
             0,
             "#0d0887"
            ],
            [
             0.1111111111111111,
             "#46039f"
            ],
            [
             0.2222222222222222,
             "#7201a8"
            ],
            [
             0.3333333333333333,
             "#9c179e"
            ],
            [
             0.4444444444444444,
             "#bd3786"
            ],
            [
             0.5555555555555556,
             "#d8576b"
            ],
            [
             0.6666666666666666,
             "#ed7953"
            ],
            [
             0.7777777777777778,
             "#fb9f3a"
            ],
            [
             0.8888888888888888,
             "#fdca26"
            ],
            [
             1,
             "#f0f921"
            ]
           ]
          },
          "colorway": [
           "#636efa",
           "#EF553B",
           "#00cc96",
           "#ab63fa",
           "#FFA15A",
           "#19d3f3",
           "#FF6692",
           "#B6E880",
           "#FF97FF",
           "#FECB52"
          ],
          "font": {
           "color": "#2a3f5f"
          },
          "geo": {
           "bgcolor": "white",
           "lakecolor": "white",
           "landcolor": "white",
           "showlakes": true,
           "showland": true,
           "subunitcolor": "#C8D4E3"
          },
          "hoverlabel": {
           "align": "left"
          },
          "hovermode": "closest",
          "mapbox": {
           "style": "light"
          },
          "paper_bgcolor": "white",
          "plot_bgcolor": "white",
          "polar": {
           "angularaxis": {
            "gridcolor": "#EBF0F8",
            "linecolor": "#EBF0F8",
            "ticks": ""
           },
           "bgcolor": "white",
           "radialaxis": {
            "gridcolor": "#EBF0F8",
            "linecolor": "#EBF0F8",
            "ticks": ""
           }
          },
          "scene": {
           "xaxis": {
            "backgroundcolor": "white",
            "gridcolor": "#DFE8F3",
            "gridwidth": 2,
            "linecolor": "#EBF0F8",
            "showbackground": true,
            "ticks": "",
            "zerolinecolor": "#EBF0F8"
           },
           "yaxis": {
            "backgroundcolor": "white",
            "gridcolor": "#DFE8F3",
            "gridwidth": 2,
            "linecolor": "#EBF0F8",
            "showbackground": true,
            "ticks": "",
            "zerolinecolor": "#EBF0F8"
           },
           "zaxis": {
            "backgroundcolor": "white",
            "gridcolor": "#DFE8F3",
            "gridwidth": 2,
            "linecolor": "#EBF0F8",
            "showbackground": true,
            "ticks": "",
            "zerolinecolor": "#EBF0F8"
           }
          },
          "shapedefaults": {
           "line": {
            "color": "#2a3f5f"
           }
          },
          "ternary": {
           "aaxis": {
            "gridcolor": "#DFE8F3",
            "linecolor": "#A2B1C6",
            "ticks": ""
           },
           "baxis": {
            "gridcolor": "#DFE8F3",
            "linecolor": "#A2B1C6",
            "ticks": ""
           },
           "bgcolor": "white",
           "caxis": {
            "gridcolor": "#DFE8F3",
            "linecolor": "#A2B1C6",
            "ticks": ""
           }
          },
          "title": {
           "x": 0.05
          },
          "xaxis": {
           "automargin": true,
           "gridcolor": "#EBF0F8",
           "linecolor": "#EBF0F8",
           "ticks": "",
           "title": {
            "standoff": 15
           },
           "zerolinecolor": "#EBF0F8",
           "zerolinewidth": 2
          },
          "yaxis": {
           "automargin": true,
           "gridcolor": "#EBF0F8",
           "linecolor": "#EBF0F8",
           "ticks": "",
           "title": {
            "standoff": 15
           },
           "zerolinecolor": "#EBF0F8",
           "zerolinewidth": 2
          }
         }
        },
        "title": {
         "font": {
          "size": 14
         },
         "text": "Distribution of side effect categories by product (total count)",
         "y": 0.95,
         "yanchor": "bottom"
        },
        "width": 800,
        "xaxis": {
         "anchor": "y",
         "domain": [
          0,
          1
         ],
         "tickangle": 45,
         "title": {}
        },
        "yaxis": {
         "anchor": "x",
         "domain": [
          0,
          1
         ],
         "title": {
          "text": "Number of Side Effects"
         }
        }
       }
      }
     },
     "metadata": {},
     "output_type": "display_data"
    }
   ],
   "source": [
    "def create_category_distribution(df, use_counts=False):\n",
    "    \"\"\"Create a grouped bar plot comparing side effect category distributions across medicines.\n",
    "    \n",
    "    Args:\n",
    "        df: DataFrame with the side effects data\n",
    "        use_counts: If True, show actual counts. If False, show percentages.\n",
    "    \"\"\"\n",
    "    all_data = []\n",
    "    for product in sorted(df['Product'].unique()):\n",
    "        product_data = df[df['Product'] == product]\n",
    "        category_counts = product_data['Category'].value_counts()\n",
    "        \n",
    "        if use_counts:\n",
    "            values = category_counts.values\n",
    "        else:\n",
    "            values = (category_counts / len(product_data)) * 100\n",
    "            \n",
    "        category_df = pd.DataFrame({\n",
    "            'Category': category_counts.index,\n",
    "            'Value': values,\n",
    "            'Product': product\n",
    "        })\n",
    "        all_data.append(category_df)\n",
    "\n",
    "    plot_df = pd.concat(all_data)\n",
    "    \n",
    "    fig = px.bar(plot_df, \n",
    "                 x='Category', \n",
    "                 y='Value',\n",
    "                 color='Product',\n",
    "                 barmode='group',\n",
    "                 width=PLOT_PARAMS['width'] * 2.0,\n",
    "                 height=PLOT_PARAMS['height'] * 2.0)\n",
    "\n",
    "    # Determine title and axis labels based on the mode\n",
    "    metric = \"total count\" if use_counts else \"percentage\"\n",
    "    y_axis_label = \"Number of Side Effects\" if use_counts else \"Percentage of Side Effects\"\n",
    "    \n",
    "    fig.update_layout(\n",
    "        title=dict(\n",
    "            text=f'Distribution of side effect categories by product ({metric})',\n",
    "            y=0.95,\n",
    "            yanchor='bottom'\n",
    "        ),\n",
    "        xaxis_title= None,\n",
    "        yaxis_title=y_axis_label,\n",
    "        template='plotly_white',\n",
    "        bargap=0.15,\n",
    "        bargroupgap=0.1,\n",
    "        # margin=PLOT_PARAMS['margin'],\n",
    "        title_font_size=PLOT_PARAMS['title_font_size'],\n",
    "        xaxis=dict(tickangle=45),\n",
    "        legend=dict(\n",
    "            orientation='h',\n",
    "            yanchor='top',\n",
    "            y=-.7,\n",
    "            xanchor='center',\n",
    "            x=0.5,\n",
    "            title=None\n",
    "        )\n",
    "    )\n",
    "\n",
    "    for product_name in plot_df['Product'].unique():\n",
    "        product_data = plot_df[plot_df['Product'] == product_name]\n",
    "        hover_value = \"Count: %{y}\" if use_counts else \"Percentage: %{y:.1f}%\"\n",
    "        fig.update_traces(\n",
    "            customdata=product_data[['Product', 'Category']].values,\n",
    "            hovertemplate=(\n",
    "                \"%{customdata[0]}<br>\" +\n",
    "                \"Category: %{customdata[1]}<br>\" +\n",
    "                hover_value +\n",
    "                \"<extra></extra>\"\n",
    "            ),\n",
    "            selector=dict(name=product_name)\n",
    "        )\n",
    "    \n",
    "    return fig\n",
    "\n",
    "def create_subcategory_distribution(df, category, use_counts=False):\n",
    "    \"\"\"Create a grouped bar plot for subcategories within a specific category.\n",
    "    \n",
    "    Args:\n",
    "        df: DataFrame with the side effects data\n",
    "        category: The main category to analyze\n",
    "        use_counts: If True, show actual counts. If False, show percentages.\n",
    "    \"\"\"\n",
    "    category_data = df[df['Category'] == category]\n",
    "    \n",
    "    all_data = []\n",
    "    for product in sorted(category_data['Product'].unique()):\n",
    "        product_data = category_data[category_data['Product'] == product]\n",
    "        subcategory_counts = product_data['Subcategory'].value_counts()\n",
    "        \n",
    "        if use_counts:\n",
    "            values = subcategory_counts.values\n",
    "        else:\n",
    "            # Calculate percentage relative to total side effects for the product\n",
    "            values = (subcategory_counts / len(df[df['Product'] == product])) * 100\n",
    "            \n",
    "        subcategory_df = pd.DataFrame({\n",
    "            'Subcategory': subcategory_counts.index,\n",
    "            'Value': values,\n",
    "            'Product': product\n",
    "        })\n",
    "        all_data.append(subcategory_df)\n",
    "\n",
    "    plot_df = pd.concat(all_data)\n",
    "    \n",
    "    fig = px.bar(plot_df, \n",
    "                 x='Subcategory', \n",
    "                 y='Value',\n",
    "                 color='Product',\n",
    "                 barmode='group',\n",
    "                 width=PLOT_PARAMS['width'] * 2.0,\n",
    "                 height=PLOT_PARAMS['height'] * 2.0)\n",
    "\n",
    "    # Determine title and axis labels based on the mode\n",
    "    metric = \"total count\" if use_counts else \"percentage\"\n",
    "    y_axis_label = \"Number of Side Effects\" if use_counts else \"Percentage of Side Effects\"\n",
    "    \n",
    "    fig.update_layout(\n",
    "        title=dict(\n",
    "            text=f'Distribution of {category} subcategories by product ({metric})',\n",
    "            y=0.95,\n",
    "            yanchor='bottom'\n",
    "        ),\n",
    "        xaxis_title=None,\n",
    "        yaxis_title=y_axis_label,\n",
    "        template='plotly_white',\n",
    "        bargap=0.15,\n",
    "        bargroupgap=0.1,\n",
    "        # margin=PLOT_PARAMS['margin'],\n",
    "        title_font_size=PLOT_PARAMS['title_font_size'],\n",
    "        xaxis=dict(tickangle=45),\n",
    "        legend=dict(\n",
    "            orientation='h',\n",
    "            yanchor='top',\n",
    "            y=-0.7,\n",
    "            xanchor='center',\n",
    "            x=0.5,\n",
    "            title=None\n",
    "        )\n",
    "    )\n",
    "\n",
    "    for product_name in plot_df['Product'].unique():\n",
    "        product_data = plot_df[plot_df['Product'] == product_name]\n",
    "        hover_value = \"Count: %{y}\" if use_counts else \"Percentage: %{y:.1f}%\"\n",
    "        fig.update_traces(\n",
    "            customdata=product_data[['Product', 'Subcategory']].values,\n",
    "            hovertemplate=(\n",
    "                \"%{customdata[0]}<br>\" +\n",
    "                \"Subcategory: %{customdata[1]}<br>\" +\n",
    "                hover_value +\n",
    "                \"<extra></extra>\"\n",
    "            ),\n",
    "            selector=dict(name=product_name)\n",
    "        )\n",
    "    \n",
    "    return fig\n",
    "\n",
    "def sanitize_filename(category):\n",
    "    \"\"\"Convert category name to filename-friendly format.\"\"\"\n",
    "    # Replace forward slashes and other special characters with hyphens\n",
    "    sanitized = category.lower().replace('/', '-').replace(' ', '-')\n",
    "    # Remove any other potentially problematic characters\n",
    "    sanitized = ''.join(c for c in sanitized if c.isalnum() or c == '-')\n",
    "    return sanitized\n",
    "\n",
    "PLOT_PARAMS = {\n",
    "    'width': 400,\n",
    "    'height': 200,\n",
    "    'margin': dict(l=50, r=50, t=50, b=50),\n",
    "    'title_font_size': 14\n",
    "}\n",
    "\n",
    "# Usage:\n",
    "df = pd.read_csv('csv-files/Kidney Stone Reviews - Summary - Side effects.csv')\n",
    "# Create main category distribution\n",
    "use_counts = True\n",
    "metric = \"total-count\" if use_counts else \"percentage\"\n",
    "fig_categories = create_category_distribution(df, use_counts=use_counts)\n",
    "fig_categories.show()\n",
    "# fig_categories.write_html(figfolder + \"side-effects-category-distribution-\" + metric + \".html\")\n",
    "\n",
    "for use_counts in [True, False]:\n",
    "    metric = \"total-count\" if use_counts else \"percentage\"\n",
    "    \n",
    "    # Create and save main category distribution\n",
    "    fig_categories = create_category_distribution(df, use_counts=use_counts)\n",
    "    fig_categories.write_html(figfolder + f\"side-effects-category-distribution-{metric}.html\")\n",
    "    \n",
    "    # Get all unique categories and create plots for each\n",
    "    categories = sorted(df['Category'].unique())\n",
    "    \n",
    "    for category in categories:\n",
    "        # Create filename-friendly version of category name\n",
    "        category_filename = sanitize_filename(category)\n",
    "        \n",
    "        # Create and save subcategory distribution\n",
    "        fig_subcategories = create_subcategory_distribution(df, category, use_counts=use_counts)\n",
    "        filename = f\"side-effects-{category_filename}-subcategories-{metric}.html\"\n",
    "        # fig_subcategories.write_html(\n",
    "        #     figfolder + f\"side-effects-{category_filename}-subcategories-{metric}.html\"\n",
    "        # )"
   ]
  },
  {
   "cell_type": "code",
   "execution_count": 78,
   "metadata": {},
   "outputs": [
    {
     "data": {
      "application/vnd.plotly.v1+json": {
       "config": {
        "plotlyServerURL": "https://plot.ly"
       },
       "data": [
        {
         "alignmentgroup": "True",
         "customdata": [
          [
           62
          ],
          [
           271
          ],
          [
           94
          ],
          [
           1772
          ],
          [
           1156
          ],
          [
           930
          ],
          [
           66
          ],
          [
           161
          ],
          [
           666
          ],
          [
           111
          ]
         ],
         "hovertemplate": "Product: %{x}<br>Severity: Mild<br>Percentage: %{y:.1f}%<br>Total Reviews: %{customdata[0]:,}<extra></extra>",
         "legendgroup": "Mild",
         "marker": {
          "color": "#4caf50",
          "pattern": {
           "shape": ""
          }
         },
         "name": "Mild",
         "offsetgroup": "Mild",
         "orientation": "v",
         "showlegend": true,
         "textposition": "auto",
         "type": "bar",
         "x": [
          "Allopurinol",
          "Ashwagandha",
          "Black seed",
          "Chanca piedra",
          "Flomax",
          "Garcinia",
          "Hydrochlorothiazide",
          "Melatonin",
          "Potassium citrate",
          "Rowatinex"
         ],
         "xaxis": "x",
         "y": [
          0.8388,
          11.494408945686901,
          6.08,
          1.1509285714285715,
          5.536194174757282,
          14.072240802675585,
          0.8882758620689656,
          8.695272727272727,
          3.6885714285714286,
          2.625
         ],
         "yaxis": "y"
        },
        {
         "alignmentgroup": "True",
         "customdata": [
          [
           62
          ],
          [
           271
          ],
          [
           94
          ],
          [
           1772
          ],
          [
           1156
          ],
          [
           930
          ],
          [
           66
          ],
          [
           161
          ],
          [
           666
          ],
          [
           111
          ]
         ],
         "hovertemplate": "Product: %{x}<br>Severity: Medium<br>Percentage: %{y:.1f}%<br>Total Reviews: %{customdata[0]:,}<extra></extra>",
         "legendgroup": "Medium",
         "marker": {
          "color": "#ffc107",
          "pattern": {
           "shape": ""
          }
         },
         "name": "Medium",
         "offsetgroup": "Medium",
         "orientation": "v",
         "showlegend": true,
         "textposition": "auto",
         "type": "bar",
         "x": [
          "Allopurinol",
          "Ashwagandha",
          "Black seed",
          "Chanca piedra",
          "Flomax",
          "Garcinia",
          "Hydrochlorothiazide",
          "Melatonin",
          "Potassium citrate",
          "Rowatinex"
         ],
         "xaxis": "x",
         "y": [
          19.2924,
          30.34523961661342,
          10.336,
          1.9369285714285716,
          15.888427184466018,
          26.989297658862878,
          23.095172413793104,
          19.745515151515153,
          8.153684210526315,
          1.875
         ],
         "yaxis": "y"
        },
        {
         "alignmentgroup": "True",
         "customdata": [
          [
           62
          ],
          [
           271
          ],
          [
           94
          ],
          [
           1772
          ],
          [
           1156
          ],
          [
           930
          ],
          [
           66
          ],
          [
           161
          ],
          [
           42
          ],
          [
           666
          ]
         ],
         "hovertemplate": "Product: %{x}<br>Severity: Severe<br>Percentage: %{y:.1f}%<br>Total Reviews: %{customdata[0]:,}<extra></extra>",
         "legendgroup": "Severe",
         "marker": {
          "color": "#f44336",
          "pattern": {
           "shape": ""
          }
         },
         "name": "Severe",
         "offsetgroup": "Severe",
         "orientation": "v",
         "showlegend": true,
         "textposition": "auto",
         "type": "bar",
         "x": [
          "Allopurinol",
          "Ashwagandha",
          "Black seed",
          "Chanca piedra",
          "Flomax",
          "Garcinia",
          "Hydrochlorothiazide",
          "Melatonin",
          "Phosfood",
          "Potassium citrate"
         ],
         "xaxis": "x",
         "y": [
          0.8388,
          6.13035143769968,
          4.864,
          0.8421428571428571,
          1.7553786407766991,
          6.038461538461538,
          1.7765517241379312,
          1.4492121212121212,
          7.14,
          1.0677443609022557
         ],
         "yaxis": "y"
        }
       ],
       "layout": {
        "barmode": "stack",
        "height": 400,
        "legend": {
         "orientation": "h",
         "title": {},
         "tracegroupgap": 0,
         "x": 0.5,
         "xanchor": "center",
         "y": -0.5,
         "yanchor": "top"
        },
        "margin": {
         "t": 60
        },
        "template": {
         "data": {
          "bar": [
           {
            "error_x": {
             "color": "#2a3f5f"
            },
            "error_y": {
             "color": "#2a3f5f"
            },
            "marker": {
             "line": {
              "color": "white",
              "width": 0.5
             },
             "pattern": {
              "fillmode": "overlay",
              "size": 10,
              "solidity": 0.2
             }
            },
            "type": "bar"
           }
          ],
          "barpolar": [
           {
            "marker": {
             "line": {
              "color": "white",
              "width": 0.5
             },
             "pattern": {
              "fillmode": "overlay",
              "size": 10,
              "solidity": 0.2
             }
            },
            "type": "barpolar"
           }
          ],
          "carpet": [
           {
            "aaxis": {
             "endlinecolor": "#2a3f5f",
             "gridcolor": "#C8D4E3",
             "linecolor": "#C8D4E3",
             "minorgridcolor": "#C8D4E3",
             "startlinecolor": "#2a3f5f"
            },
            "baxis": {
             "endlinecolor": "#2a3f5f",
             "gridcolor": "#C8D4E3",
             "linecolor": "#C8D4E3",
             "minorgridcolor": "#C8D4E3",
             "startlinecolor": "#2a3f5f"
            },
            "type": "carpet"
           }
          ],
          "choropleth": [
           {
            "colorbar": {
             "outlinewidth": 0,
             "ticks": ""
            },
            "type": "choropleth"
           }
          ],
          "contour": [
           {
            "colorbar": {
             "outlinewidth": 0,
             "ticks": ""
            },
            "colorscale": [
             [
              0,
              "#0d0887"
             ],
             [
              0.1111111111111111,
              "#46039f"
             ],
             [
              0.2222222222222222,
              "#7201a8"
             ],
             [
              0.3333333333333333,
              "#9c179e"
             ],
             [
              0.4444444444444444,
              "#bd3786"
             ],
             [
              0.5555555555555556,
              "#d8576b"
             ],
             [
              0.6666666666666666,
              "#ed7953"
             ],
             [
              0.7777777777777778,
              "#fb9f3a"
             ],
             [
              0.8888888888888888,
              "#fdca26"
             ],
             [
              1,
              "#f0f921"
             ]
            ],
            "type": "contour"
           }
          ],
          "contourcarpet": [
           {
            "colorbar": {
             "outlinewidth": 0,
             "ticks": ""
            },
            "type": "contourcarpet"
           }
          ],
          "heatmap": [
           {
            "colorbar": {
             "outlinewidth": 0,
             "ticks": ""
            },
            "colorscale": [
             [
              0,
              "#0d0887"
             ],
             [
              0.1111111111111111,
              "#46039f"
             ],
             [
              0.2222222222222222,
              "#7201a8"
             ],
             [
              0.3333333333333333,
              "#9c179e"
             ],
             [
              0.4444444444444444,
              "#bd3786"
             ],
             [
              0.5555555555555556,
              "#d8576b"
             ],
             [
              0.6666666666666666,
              "#ed7953"
             ],
             [
              0.7777777777777778,
              "#fb9f3a"
             ],
             [
              0.8888888888888888,
              "#fdca26"
             ],
             [
              1,
              "#f0f921"
             ]
            ],
            "type": "heatmap"
           }
          ],
          "heatmapgl": [
           {
            "colorbar": {
             "outlinewidth": 0,
             "ticks": ""
            },
            "colorscale": [
             [
              0,
              "#0d0887"
             ],
             [
              0.1111111111111111,
              "#46039f"
             ],
             [
              0.2222222222222222,
              "#7201a8"
             ],
             [
              0.3333333333333333,
              "#9c179e"
             ],
             [
              0.4444444444444444,
              "#bd3786"
             ],
             [
              0.5555555555555556,
              "#d8576b"
             ],
             [
              0.6666666666666666,
              "#ed7953"
             ],
             [
              0.7777777777777778,
              "#fb9f3a"
             ],
             [
              0.8888888888888888,
              "#fdca26"
             ],
             [
              1,
              "#f0f921"
             ]
            ],
            "type": "heatmapgl"
           }
          ],
          "histogram": [
           {
            "marker": {
             "pattern": {
              "fillmode": "overlay",
              "size": 10,
              "solidity": 0.2
             }
            },
            "type": "histogram"
           }
          ],
          "histogram2d": [
           {
            "colorbar": {
             "outlinewidth": 0,
             "ticks": ""
            },
            "colorscale": [
             [
              0,
              "#0d0887"
             ],
             [
              0.1111111111111111,
              "#46039f"
             ],
             [
              0.2222222222222222,
              "#7201a8"
             ],
             [
              0.3333333333333333,
              "#9c179e"
             ],
             [
              0.4444444444444444,
              "#bd3786"
             ],
             [
              0.5555555555555556,
              "#d8576b"
             ],
             [
              0.6666666666666666,
              "#ed7953"
             ],
             [
              0.7777777777777778,
              "#fb9f3a"
             ],
             [
              0.8888888888888888,
              "#fdca26"
             ],
             [
              1,
              "#f0f921"
             ]
            ],
            "type": "histogram2d"
           }
          ],
          "histogram2dcontour": [
           {
            "colorbar": {
             "outlinewidth": 0,
             "ticks": ""
            },
            "colorscale": [
             [
              0,
              "#0d0887"
             ],
             [
              0.1111111111111111,
              "#46039f"
             ],
             [
              0.2222222222222222,
              "#7201a8"
             ],
             [
              0.3333333333333333,
              "#9c179e"
             ],
             [
              0.4444444444444444,
              "#bd3786"
             ],
             [
              0.5555555555555556,
              "#d8576b"
             ],
             [
              0.6666666666666666,
              "#ed7953"
             ],
             [
              0.7777777777777778,
              "#fb9f3a"
             ],
             [
              0.8888888888888888,
              "#fdca26"
             ],
             [
              1,
              "#f0f921"
             ]
            ],
            "type": "histogram2dcontour"
           }
          ],
          "mesh3d": [
           {
            "colorbar": {
             "outlinewidth": 0,
             "ticks": ""
            },
            "type": "mesh3d"
           }
          ],
          "parcoords": [
           {
            "line": {
             "colorbar": {
              "outlinewidth": 0,
              "ticks": ""
             }
            },
            "type": "parcoords"
           }
          ],
          "pie": [
           {
            "automargin": true,
            "type": "pie"
           }
          ],
          "scatter": [
           {
            "fillpattern": {
             "fillmode": "overlay",
             "size": 10,
             "solidity": 0.2
            },
            "type": "scatter"
           }
          ],
          "scatter3d": [
           {
            "line": {
             "colorbar": {
              "outlinewidth": 0,
              "ticks": ""
             }
            },
            "marker": {
             "colorbar": {
              "outlinewidth": 0,
              "ticks": ""
             }
            },
            "type": "scatter3d"
           }
          ],
          "scattercarpet": [
           {
            "marker": {
             "colorbar": {
              "outlinewidth": 0,
              "ticks": ""
             }
            },
            "type": "scattercarpet"
           }
          ],
          "scattergeo": [
           {
            "marker": {
             "colorbar": {
              "outlinewidth": 0,
              "ticks": ""
             }
            },
            "type": "scattergeo"
           }
          ],
          "scattergl": [
           {
            "marker": {
             "colorbar": {
              "outlinewidth": 0,
              "ticks": ""
             }
            },
            "type": "scattergl"
           }
          ],
          "scattermapbox": [
           {
            "marker": {
             "colorbar": {
              "outlinewidth": 0,
              "ticks": ""
             }
            },
            "type": "scattermapbox"
           }
          ],
          "scatterpolar": [
           {
            "marker": {
             "colorbar": {
              "outlinewidth": 0,
              "ticks": ""
             }
            },
            "type": "scatterpolar"
           }
          ],
          "scatterpolargl": [
           {
            "marker": {
             "colorbar": {
              "outlinewidth": 0,
              "ticks": ""
             }
            },
            "type": "scatterpolargl"
           }
          ],
          "scatterternary": [
           {
            "marker": {
             "colorbar": {
              "outlinewidth": 0,
              "ticks": ""
             }
            },
            "type": "scatterternary"
           }
          ],
          "surface": [
           {
            "colorbar": {
             "outlinewidth": 0,
             "ticks": ""
            },
            "colorscale": [
             [
              0,
              "#0d0887"
             ],
             [
              0.1111111111111111,
              "#46039f"
             ],
             [
              0.2222222222222222,
              "#7201a8"
             ],
             [
              0.3333333333333333,
              "#9c179e"
             ],
             [
              0.4444444444444444,
              "#bd3786"
             ],
             [
              0.5555555555555556,
              "#d8576b"
             ],
             [
              0.6666666666666666,
              "#ed7953"
             ],
             [
              0.7777777777777778,
              "#fb9f3a"
             ],
             [
              0.8888888888888888,
              "#fdca26"
             ],
             [
              1,
              "#f0f921"
             ]
            ],
            "type": "surface"
           }
          ],
          "table": [
           {
            "cells": {
             "fill": {
              "color": "#EBF0F8"
             },
             "line": {
              "color": "white"
             }
            },
            "header": {
             "fill": {
              "color": "#C8D4E3"
             },
             "line": {
              "color": "white"
             }
            },
            "type": "table"
           }
          ]
         },
         "layout": {
          "annotationdefaults": {
           "arrowcolor": "#2a3f5f",
           "arrowhead": 0,
           "arrowwidth": 1
          },
          "autotypenumbers": "strict",
          "coloraxis": {
           "colorbar": {
            "outlinewidth": 0,
            "ticks": ""
           }
          },
          "colorscale": {
           "diverging": [
            [
             0,
             "#8e0152"
            ],
            [
             0.1,
             "#c51b7d"
            ],
            [
             0.2,
             "#de77ae"
            ],
            [
             0.3,
             "#f1b6da"
            ],
            [
             0.4,
             "#fde0ef"
            ],
            [
             0.5,
             "#f7f7f7"
            ],
            [
             0.6,
             "#e6f5d0"
            ],
            [
             0.7,
             "#b8e186"
            ],
            [
             0.8,
             "#7fbc41"
            ],
            [
             0.9,
             "#4d9221"
            ],
            [
             1,
             "#276419"
            ]
           ],
           "sequential": [
            [
             0,
             "#0d0887"
            ],
            [
             0.1111111111111111,
             "#46039f"
            ],
            [
             0.2222222222222222,
             "#7201a8"
            ],
            [
             0.3333333333333333,
             "#9c179e"
            ],
            [
             0.4444444444444444,
             "#bd3786"
            ],
            [
             0.5555555555555556,
             "#d8576b"
            ],
            [
             0.6666666666666666,
             "#ed7953"
            ],
            [
             0.7777777777777778,
             "#fb9f3a"
            ],
            [
             0.8888888888888888,
             "#fdca26"
            ],
            [
             1,
             "#f0f921"
            ]
           ],
           "sequentialminus": [
            [
             0,
             "#0d0887"
            ],
            [
             0.1111111111111111,
             "#46039f"
            ],
            [
             0.2222222222222222,
             "#7201a8"
            ],
            [
             0.3333333333333333,
             "#9c179e"
            ],
            [
             0.4444444444444444,
             "#bd3786"
            ],
            [
             0.5555555555555556,
             "#d8576b"
            ],
            [
             0.6666666666666666,
             "#ed7953"
            ],
            [
             0.7777777777777778,
             "#fb9f3a"
            ],
            [
             0.8888888888888888,
             "#fdca26"
            ],
            [
             1,
             "#f0f921"
            ]
           ]
          },
          "colorway": [
           "#636efa",
           "#EF553B",
           "#00cc96",
           "#ab63fa",
           "#FFA15A",
           "#19d3f3",
           "#FF6692",
           "#B6E880",
           "#FF97FF",
           "#FECB52"
          ],
          "font": {
           "color": "#2a3f5f"
          },
          "geo": {
           "bgcolor": "white",
           "lakecolor": "white",
           "landcolor": "white",
           "showlakes": true,
           "showland": true,
           "subunitcolor": "#C8D4E3"
          },
          "hoverlabel": {
           "align": "left"
          },
          "hovermode": "closest",
          "mapbox": {
           "style": "light"
          },
          "paper_bgcolor": "white",
          "plot_bgcolor": "white",
          "polar": {
           "angularaxis": {
            "gridcolor": "#EBF0F8",
            "linecolor": "#EBF0F8",
            "ticks": ""
           },
           "bgcolor": "white",
           "radialaxis": {
            "gridcolor": "#EBF0F8",
            "linecolor": "#EBF0F8",
            "ticks": ""
           }
          },
          "scene": {
           "xaxis": {
            "backgroundcolor": "white",
            "gridcolor": "#DFE8F3",
            "gridwidth": 2,
            "linecolor": "#EBF0F8",
            "showbackground": true,
            "ticks": "",
            "zerolinecolor": "#EBF0F8"
           },
           "yaxis": {
            "backgroundcolor": "white",
            "gridcolor": "#DFE8F3",
            "gridwidth": 2,
            "linecolor": "#EBF0F8",
            "showbackground": true,
            "ticks": "",
            "zerolinecolor": "#EBF0F8"
           },
           "zaxis": {
            "backgroundcolor": "white",
            "gridcolor": "#DFE8F3",
            "gridwidth": 2,
            "linecolor": "#EBF0F8",
            "showbackground": true,
            "ticks": "",
            "zerolinecolor": "#EBF0F8"
           }
          },
          "shapedefaults": {
           "line": {
            "color": "#2a3f5f"
           }
          },
          "ternary": {
           "aaxis": {
            "gridcolor": "#DFE8F3",
            "linecolor": "#A2B1C6",
            "ticks": ""
           },
           "baxis": {
            "gridcolor": "#DFE8F3",
            "linecolor": "#A2B1C6",
            "ticks": ""
           },
           "bgcolor": "white",
           "caxis": {
            "gridcolor": "#DFE8F3",
            "linecolor": "#A2B1C6",
            "ticks": ""
           }
          },
          "title": {
           "x": 0.05
          },
          "xaxis": {
           "automargin": true,
           "gridcolor": "#EBF0F8",
           "linecolor": "#EBF0F8",
           "ticks": "",
           "title": {
            "standoff": 15
           },
           "zerolinecolor": "#EBF0F8",
           "zerolinewidth": 2
          },
          "yaxis": {
           "automargin": true,
           "gridcolor": "#EBF0F8",
           "linecolor": "#EBF0F8",
           "ticks": "",
           "title": {
            "standoff": 15
           },
           "zerolinecolor": "#EBF0F8",
           "zerolinewidth": 2
          }
         }
        },
        "title": {
         "font": {
          "size": 14
         },
         "text": "Distribution of side effect severity by product",
         "y": 0.95,
         "yanchor": "bottom"
        },
        "width": 800,
        "xaxis": {
         "anchor": "y",
         "domain": [
          0,
          1
         ],
         "tickangle": 45,
         "title": {}
        },
        "yaxis": {
         "anchor": "x",
         "domain": [
          0,
          1
         ],
         "title": {
          "text": "Percentage of Total Reviews"
         }
        }
       }
      }
     },
     "metadata": {},
     "output_type": "display_data"
    }
   ],
   "source": [
    "def create_severity_distribution(df):\n",
    "    \"\"\"Create a stacked bar plot showing severity distributions across medicines.\n",
    "    \n",
    "    Args:\n",
    "        df: DataFrame with the side effects data\n",
    "    \"\"\"\n",
    "    # Define adjustment factors for each product (target total percentages)\n",
    "    adjustment_factors = {\n",
    "        'Allopurinol': 20.97,\n",
    "        'Chanca piedra': 3.93,\n",
    "        'Flomax': 23.18,\n",
    "        'Hydrochlorothiazide': 25.76,\n",
    "        'Potassium citrate': 12.91,\n",
    "        'Ashwagandha': 47.97,\n",
    "        'Melatonin': 29.89,\n",
    "        'Black seed': 21.28,\n",
    "        'Garcinia': 47.10,\n",
    "        'Phosfood': 7.14,\n",
    "        'Rowatinex': 4.50\n",
    "    }\n",
    "    \n",
    "    # Define total reviews for each product\n",
    "    total_reviews = {\n",
    "        'Allopurinol': 62,\n",
    "        'Chanca piedra': 1772,\n",
    "        'Flomax': 1156,\n",
    "        'Hydrochlorothiazide': 66,\n",
    "        'Potassium citrate': 666,\n",
    "        'Ashwagandha': 271,\n",
    "        'Melatonin': 161,\n",
    "        'Black seed': 94,\n",
    "        'Garcinia': 930,\n",
    "        'Phosfood': 42,\n",
    "        'Rowatinex': 111\n",
    "    }\n",
    "    \n",
    "    # Create severity mapping\n",
    "    severity_mapping = {\n",
    "        1: 'Mild',\n",
    "        2: 'Medium',\n",
    "        3: 'Severe'\n",
    "    }\n",
    "    \n",
    "    # Define color scheme (traffic light colors)\n",
    "    color_scheme = {\n",
    "        'Mild': '#4caf50',    # Green\n",
    "        'Medium': '#ffc107',  # Amber/Yellow\n",
    "        'Severe': '#f44336'   # Red\n",
    "    }\n",
    "    \n",
    "    all_data = []\n",
    "    for product in sorted(df['Product'].unique()):\n",
    "        product_data = df[df['Product'] == product]\n",
    "        severity_counts = product_data['Severity'].value_counts()\n",
    "        \n",
    "        # Calculate relative proportions within each product\n",
    "        proportions = severity_counts / len(product_data)\n",
    "        \n",
    "        # Scale the proportions to match the target total percentage\n",
    "        target_total = adjustment_factors[product]\n",
    "        values = proportions * target_total\n",
    "            \n",
    "        severity_df = pd.DataFrame({\n",
    "            'Severity': [severity_mapping[i] for i in severity_counts.index],\n",
    "            'Value': values,\n",
    "            'Product': product,\n",
    "            'TotalReviews': total_reviews[product]  # Add total reviews to the DataFrame\n",
    "        })\n",
    "        all_data.append(severity_df)\n",
    "\n",
    "    plot_df = pd.concat(all_data)\n",
    "    \n",
    "    # Ensure proper ordering of severity levels\n",
    "    severity_order = ['Mild', 'Medium', 'Severe']\n",
    "    \n",
    "    fig = px.bar(plot_df, \n",
    "                 x='Product', \n",
    "                 y='Value',\n",
    "                 color='Severity',\n",
    "                 category_orders={'Severity': severity_order},\n",
    "                 color_discrete_map=color_scheme,\n",
    "                 barmode='stack',\n",
    "                 width=PLOT_PARAMS['width'] * 2.0,\n",
    "                 height=PLOT_PARAMS['height'] * 2.0)\n",
    "\n",
    "    fig.update_layout(\n",
    "        title=dict(\n",
    "            text='Distribution of side effect severity by product',\n",
    "            y=0.95,\n",
    "            yanchor='bottom',\n",
    "            font_size=PLOT_PARAMS['title_font_size'],\n",
    "        ),\n",
    "        xaxis_title=None,\n",
    "        yaxis_title='Percentage of Total Reviews',\n",
    "        template='plotly_white',\n",
    "        xaxis=dict(tickangle=45),\n",
    "        legend=dict(\n",
    "            orientation='h',\n",
    "            yanchor='top',\n",
    "            y=-.5,\n",
    "            xanchor='center',\n",
    "            x=0.5,\n",
    "            title=None\n",
    "        )\n",
    "    )\n",
    "\n",
    "    # Update hover template\n",
    "    for severity in severity_order:\n",
    "        fig.update_traces(\n",
    "            customdata=plot_df[plot_df['Severity'] == severity][['TotalReviews']],\n",
    "            hovertemplate=(\n",
    "                \"Product: %{x}<br>\" +\n",
    "                \"Severity: \" + severity + \"<br>\" +\n",
    "                \"Percentage: %{y:.1f}%<br>\" +\n",
    "                \"Total Reviews: %{customdata[0]:,}\" +\n",
    "                \"<extra></extra>\"\n",
    "            ),\n",
    "            selector=dict(name=severity)\n",
    "        )\n",
    "    \n",
    "    return fig\n",
    "\n",
    "# Usage:\n",
    "df = pd.read_csv('csv-files/Kidney Stone Reviews - Summary - Side effects.csv')\n",
    "fig_severity = create_severity_distribution(df)\n",
    "fig_severity.show()\n",
    "# fig_severity.write_html(figfolder + \"side-effects-severity-distribution.html\")"
   ]
  },
  {
   "cell_type": "code",
   "execution_count": 10,
   "metadata": {},
   "outputs": [],
   "source": [
    "def create_sunburst_distribution(df, product, use_counts=False):\n",
    "    \"\"\"Create a sunburst chart showing the distribution of side effects for a single product.\"\"\"\n",
    "    # Filter data for the specific product\n",
    "    product_data = df[df['Product'] == product]\n",
    "    \n",
    "    # Create hierarchy data\n",
    "    categories = product_data.groupby('Category')['Side effect'].count().reset_index()\n",
    "    subcategories = product_data.groupby(['Category', 'Subcategory'])['Side effect'].count().reset_index()\n",
    "    \n",
    "    # Calculate values based on use_counts parameter\n",
    "    total_effects = len(product_data)\n",
    "    if not use_counts:\n",
    "        categories['Side effect'] = categories['Side effect'] / total_effects * 100\n",
    "        subcategories['Side effect'] = subcategories['Side effect'] / total_effects * 100\n",
    "    \n",
    "    # Prepare data for sunburst chart, ensuring unique names\n",
    "    # center_label = f\"{product} side effects\"\n",
    "    center_label = \"\"\n",
    "    \n",
    "    # Modify labels to ensure uniqueness between categories and subcategories\n",
    "    subcategories_modified = subcategories.copy()\n",
    "    subcategories_modified.loc[subcategories_modified['Subcategory'] == 'Other', 'Subcategory'] = \\\n",
    "        subcategories_modified.loc[subcategories_modified['Subcategory'] == 'Other', 'Category'] + ' - Other'\n",
    "    \n",
    "    labels = [center_label] + \\\n",
    "            categories['Category'].tolist() + \\\n",
    "            subcategories_modified['Subcategory'].tolist()\n",
    "            \n",
    "    parents = [''] + \\\n",
    "             [center_label] * len(categories) + \\\n",
    "             subcategories_modified['Category'].tolist()\n",
    "             \n",
    "    values = [total_effects if use_counts else 100] + \\\n",
    "            categories['Side effect'].tolist() + \\\n",
    "            subcategories['Side effect'].tolist()\n",
    "    \n",
    "    # Create figure\n",
    "    fig = go.Figure(go.Sunburst(\n",
    "        labels=labels,\n",
    "        parents=parents,\n",
    "        values=values,\n",
    "        branchvalues='total',\n",
    "        hovertemplate=('Category: %{label}<br>' +\n",
    "                      ('Count: %{value:,.0f}' if use_counts else 'Percentage: %{value:.1f}%') +\n",
    "                      '<extra></extra>'),\n",
    "    ))\n",
    "    \n",
    "    metric = \"counts\" if use_counts else \"percentage\"\n",
    "    \n",
    "    fig.update_layout(\n",
    "        title=dict(\n",
    "            # text=f'Distribution of side effects for {product}',\n",
    "            text=None,\n",
    "            y=0.95,\n",
    "            yanchor='bottom'\n",
    "        ),\n",
    "        width=PLOT_PARAMS['width'] * 2.0,\n",
    "        height=PLOT_PARAMS['height'] * 2.0,\n",
    "        margin=PLOT_PARAMS['margin'],\n",
    "        template='plotly_white',\n",
    "        title_font_size=PLOT_PARAMS['title_font_size'],\n",
    "        sunburstcolorway=px.colors.qualitative.Prism\n",
    "    )\n",
    "    \n",
    "    return fig\n",
    "\n",
    "PLOT_PARAMS = {\n",
    "    'width': 400,\n",
    "    'height': 400,\n",
    "    'margin': dict(l=50, r=50, t=50, b=50),  # increased top margin from 50 to 100\n",
    "    'title_font_size': 14\n",
    "}\n",
    "# Usage:\n",
    "for product in df['Product'].unique():\n",
    "    fig = create_sunburst_distribution(df, product, use_counts=True)\n",
    "    if fig is not None:\n",
    "        product_file = product.lower().replace(' ', '-')\n",
    "        filename = f\"side-effects-sunburst-counts-{product_file}.html\"\n",
    "        # fig.show()\n",
    "        fig.write_html(figfolder + filename)"
   ]
  },
  {
   "cell_type": "code",
   "execution_count": 71,
   "metadata": {},
   "outputs": [
    {
     "data": {
      "text/html": [
       "<style type=\"text/css\">\n",
       "#T_f3740  {\n",
       "  color: #000000;\n",
       "}\n",
       "</style>\n",
       "<table id=\"T_f3740\">\n",
       "  <thead>\n",
       "    <tr>\n",
       "      <th id=\"T_f3740_level0_col0\" class=\"col_heading level0 col0\" >Name</th>\n",
       "      <th id=\"T_f3740_level0_col1\" class=\"col_heading level0 col1\" >Overall Rating</th>\n",
       "      <th id=\"T_f3740_level0_col2\" class=\"col_heading level0 col2\" >Num. Reviews</th>\n",
       "    </tr>\n",
       "  </thead>\n",
       "  <tbody>\n",
       "    <tr>\n",
       "      <td id=\"T_f3740_row0_col0\" class=\"data row0 col0\" >Lysine</td>\n",
       "      <td id=\"T_f3740_row0_col1\" class=\"data row0 col1\" >4.7</td>\n",
       "      <td id=\"T_f3740_row0_col2\" class=\"data row0 col2\" >419</td>\n",
       "    </tr>\n",
       "    <tr>\n",
       "      <td id=\"T_f3740_row1_col0\" class=\"data row1 col0\" >Chanca Piedra</td>\n",
       "      <td id=\"T_f3740_row1_col1\" class=\"data row1 col1\" >4.6</td>\n",
       "      <td id=\"T_f3740_row1_col2\" class=\"data row1 col2\" >113</td>\n",
       "    </tr>\n",
       "    <tr>\n",
       "      <td id=\"T_f3740_row2_col0\" class=\"data row2 col0\" >Colloidal Silver</td>\n",
       "      <td id=\"T_f3740_row2_col1\" class=\"data row2 col1\" >4.6</td>\n",
       "      <td id=\"T_f3740_row2_col2\" class=\"data row2 col2\" >185</td>\n",
       "    </tr>\n",
       "    <tr>\n",
       "      <td id=\"T_f3740_row3_col0\" class=\"data row3 col0\" >Kratom</td>\n",
       "      <td id=\"T_f3740_row3_col1\" class=\"data row3 col1\" >4.6</td>\n",
       "      <td id=\"T_f3740_row3_col2\" class=\"data row3 col2\" >1,727</td>\n",
       "    </tr>\n",
       "    <tr>\n",
       "      <td id=\"T_f3740_row4_col0\" class=\"data row4 col0\" >D-Mannose</td>\n",
       "      <td id=\"T_f3740_row4_col1\" class=\"data row4 col1\" >4.5</td>\n",
       "      <td id=\"T_f3740_row4_col2\" class=\"data row4 col2\" >238</td>\n",
       "    </tr>\n",
       "    <tr>\n",
       "      <td id=\"T_f3740_row5_col0\" class=\"data row5 col0\" >Evening Primrose Oil</td>\n",
       "      <td id=\"T_f3740_row5_col1\" class=\"data row5 col1\" >4.5</td>\n",
       "      <td id=\"T_f3740_row5_col2\" class=\"data row5 col2\" >132</td>\n",
       "    </tr>\n",
       "    <tr>\n",
       "      <td id=\"T_f3740_row6_col0\" class=\"data row6 col0\" >Methylsulfonylmethane (MSM)</td>\n",
       "      <td id=\"T_f3740_row6_col1\" class=\"data row6 col1\" >4.5</td>\n",
       "      <td id=\"T_f3740_row6_col2\" class=\"data row6 col2\" >197</td>\n",
       "    </tr>\n",
       "    <tr>\n",
       "      <td id=\"T_f3740_row7_col0\" class=\"data row7 col0\" >Oscillococcinum</td>\n",
       "      <td id=\"T_f3740_row7_col1\" class=\"data row7 col1\" >4.5</td>\n",
       "      <td id=\"T_f3740_row7_col2\" class=\"data row7 col2\" >203</td>\n",
       "    </tr>\n",
       "    <tr>\n",
       "      <td id=\"T_f3740_row8_col0\" class=\"data row8 col0\" >Dimethylsulfoxide (DMSO)</td>\n",
       "      <td id=\"T_f3740_row8_col1\" class=\"data row8 col1\" >4.4</td>\n",
       "      <td id=\"T_f3740_row8_col2\" class=\"data row8 col2\" >103</td>\n",
       "    </tr>\n",
       "    <tr>\n",
       "      <td id=\"T_f3740_row9_col0\" class=\"data row9 col0\" >N-Acetyl Cysteine (NAC)</td>\n",
       "      <td id=\"T_f3740_row9_col1\" class=\"data row9 col1\" >4.4</td>\n",
       "      <td id=\"T_f3740_row9_col2\" class=\"data row9 col2\" >120</td>\n",
       "    </tr>\n",
       "  </tbody>\n",
       "</table>\n"
      ],
      "text/plain": [
       "<pandas.io.formats.style.Styler at 0x131aca4b0>"
      ]
     },
     "metadata": {},
     "output_type": "display_data"
    }
   ],
   "source": [
    "# Create the data\n",
    "data_10 = {\n",
    "    'Name': [\n",
    "        'Cetylated Fatty Acids (CFAs)',\n",
    "        'Banaba',\n",
    "        'Black Walnut',\n",
    "        'Cascara Sagrada',\n",
    "        'Holy Basil',\n",
    "        'Marshmallow',\n",
    "        'Palmitoylethanolamide (PEA)',\n",
    "        'Apricot Kernel',\n",
    "        'Arrowroot',\n",
    "        'Carbon 60 (C60)'\n",
    "    ],\n",
    "    'Overall Rating': [5.0, 4.9, 4.9, 4.8, 4.8, 4.8, 4.8, 4.7, 4.7, 4.7],\n",
    "    'Num. Reviews': [13, 11, 11, 31, 50, 13, 18, 37, 10, 21]\n",
    "}\n",
    "\n",
    "data_50 = {\n",
    "    'Name': [\n",
    "        'Holy Basil',\n",
    "        'Elderberry',\n",
    "        'Lysine',\n",
    "        'Witch Hazel',\n",
    "        'Chanca Piedra',\n",
    "        'Colloidal Silver',\n",
    "        'Kratom',\n",
    "        'Mullein',\n",
    "        'Taurine',\n",
    "        'Butterbur'\n",
    "    ],\n",
    "    'Overall Rating': [4.8, 4.7, 4.7, 4.7, 4.6, 4.6, 4.6, 4.6, 4.6, 4.5],\n",
    "    'Num. Reviews': [50, 50, 419, 60, 113, 185, 1727, 60, 56, 74]\n",
    "}\n",
    "\n",
    "data_100 = {\n",
    "    'Name': [\n",
    "        'Lysine',\n",
    "        'Chanca Piedra',\n",
    "        'Colloidal Silver',\n",
    "        'Kratom',\n",
    "        'D-Mannose',\n",
    "        'Evening Primrose Oil',\n",
    "        'Methylsulfonylmethane (MSM)',\n",
    "        'Oscillococcinum',\n",
    "        'Dimethylsulfoxide (DMSO)',\n",
    "        'N-Acetyl Cysteine (NAC)'\n",
    "    ],\n",
    "    'Overall Rating': [4.7, 4.6, 4.6, 4.6, 4.5, 4.5, 4.5, 4.5, 4.4, 4.4],\n",
    "    'Num. Reviews': [419, 113, 185, 1727, 238, 132, 197, 203, 103, 120]\n",
    "}\n",
    "\n",
    "min_reviews = 100\n",
    "variable_name = f\"data_{min_reviews}\"  # This creates the string \"data_10\"\n",
    "df = pd.DataFrame(globals()[variable_name]).reset_index(drop=True)  # This looks up the variable named \"data_10\"\n",
    "\n",
    "def style_dataframe(df):\n",
    "    \"\"\"Apply consistent styling to the dataframe.\"\"\"\n",
    "    return df.style\\\n",
    "        .set_table_styles([\n",
    "            {'selector': '',\n",
    "             'props': [('color', '#000000')]},  # Using black text like your other tables\n",
    "        ])\\\n",
    "        .format({\n",
    "            'Overall Rating': '{:.1f}',  # Format to 1 decimal place\n",
    "            'Num. Reviews': '{:,}'       # Add thousands separator if needed\n",
    "        }).hide(axis='index')\n",
    "\n",
    "# Style and save the table\n",
    "styled_df = style_dataframe(df)\n",
    "styled_df.to_html(figfolder + 'supplements-rating-table-' + str(min_reviews) + '.html', index=False)\n",
    "display(styled_df)"
   ]
  }
 ],
 "metadata": {
  "kernelspec": {
   "display_name": "chanca-env",
   "language": "python",
   "name": "python3"
  },
  "language_info": {
   "codemirror_mode": {
    "name": "ipython",
    "version": 3
   },
   "file_extension": ".py",
   "mimetype": "text/x-python",
   "name": "python",
   "nbconvert_exporter": "python",
   "pygments_lexer": "ipython3",
   "version": "3.12.8"
  }
 },
 "nbformat": 4,
 "nbformat_minor": 4
}
