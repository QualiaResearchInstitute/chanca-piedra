{
 "cells": [
  {
   "cell_type": "code",
   "execution_count": 1,
   "metadata": {},
   "outputs": [],
   "source": [
    "import pandas as pd\n",
    "import plotly.express as px\n",
    "import plotly.graph_objects as go\n",
    "from pathlib import Path\n",
    "import numpy as np"
   ]
  },
  {
   "cell_type": "code",
   "execution_count": 2,
   "metadata": {},
   "outputs": [],
   "source": [
    "PLOT_PARAMS = {\n",
    "    'width': 400,\n",
    "    'height': 200,\n",
    "    'margin': dict(l=50, r=50, t=50, b=50),\n",
    "    'title_font_size': 14\n",
    "}\n",
    "\n",
    "figfolder = \"docs/\"\n",
    "export_to_gdoc = False\n",
    "\n",
    "def get_text_color():\n",
    "    return 'black' if export_to_gdoc else 'white'\n",
    "\n",
    "def create_rating_distribution(df, medicine):\n",
    "    \"\"\"Create a bar plot for rating distribution of a single medicine.\"\"\"\n",
    "    bins = [1.0, 2.0, 3.0, 4.0, 5.0, 5.1]\n",
    "    counts, _ = np.histogram(df[df['Medicine'] == medicine]['Overall Rating'], bins=bins)\n",
    "    \n",
    "    fig = go.Figure(data=[\n",
    "        go.Bar(\n",
    "            x=[1, 2, 3, 4, 5],\n",
    "            y=counts,\n",
    "            width=0.8,\n",
    "            hovertemplate=(\n",
    "                \"Overall Rating: %{customdata}<br>\" +\n",
    "                \"Count: %{y}\" +\n",
    "                \"<extra></extra>\"\n",
    "            ),\n",
    "            customdata=[\"1-1.9\", \"2-2.9\", \"3-3.9\", \"4-4.9\", \"5\"]\n",
    "        )\n",
    "    ])\n",
    "\n",
    "    fig.update_layout(\n",
    "        title=f'Distribution of Ratings: {medicine}',\n",
    "        xaxis_title='Rating',\n",
    "        yaxis_title='Count',\n",
    "        template='plotly_white',\n",
    "        width=PLOT_PARAMS['width'],\n",
    "        height=PLOT_PARAMS['height'],\n",
    "        bargap=0.1,\n",
    "        margin=PLOT_PARAMS['margin'],\n",
    "        title_font_size=PLOT_PARAMS['title_font_size'],\n",
    "        xaxis=dict(\n",
    "            tickmode='array',\n",
    "            tickvals=[1, 2, 3, 4, 5],\n",
    "            ticktext=['1', '2', '3', '4', '5'],\n",
    "            range=[0.5, 5.5]\n",
    "        )\n",
    "    )\n",
    "    \n",
    "    return fig"
   ]
  },
  {
   "cell_type": "code",
   "execution_count": 4,
   "metadata": {},
   "outputs": [],
   "source": [
    "def create_grouped_rating_distribution(df):\n",
    "    \"\"\"Create a grouped bar plot comparing rating distributions across medicines.\"\"\"\n",
    "    all_data = []\n",
    "    for medicine in sorted(df['Medicine'].unique()):\n",
    "        medicine_data = df[df['Medicine'] == medicine]\n",
    "        bins = [1.0, 2.0, 3.0, 4.0, 5.0, 5.1]\n",
    "        counts, _ = np.histogram(medicine_data['Overall Rating'], bins=bins)\n",
    "        \n",
    "        percentages = (counts / len(medicine_data)) * 100\n",
    "        ratings_df = pd.DataFrame({\n",
    "            'Rating': [1, 2, 3, 4, 5],\n",
    "            'Percentage': percentages,\n",
    "            'Medicine': medicine,\n",
    "            'RatingRange': ['[1,2)', '[2,3)', '[3,4)', '[4,5)', '5']\n",
    "        })\n",
    "        all_data.append(ratings_df)\n",
    "\n",
    "    plot_df = pd.concat(all_data)\n",
    "    \n",
    "    fig = px.bar(plot_df, \n",
    "                 x='Rating', \n",
    "                 y='Percentage',\n",
    "                 color='Medicine',\n",
    "                 barmode='group',\n",
    "                 width=PLOT_PARAMS['width'] * 2.0,\n",
    "                 height=PLOT_PARAMS['height']* 2.0,)\n",
    "\n",
    "    fig.update_layout(\n",
    "        title='Distribution of ratings by product (percentage)',\n",
    "        xaxis_title='Rating',\n",
    "        yaxis_title='Percentage of Reviews',\n",
    "        template='plotly_white',\n",
    "        bargap=0.15,\n",
    "        bargroupgap=0.1,\n",
    "        margin=PLOT_PARAMS['margin'],\n",
    "        title_font_size=PLOT_PARAMS['title_font_size'],\n",
    "        xaxis=dict(\n",
    "            tickmode='array',\n",
    "            tickvals=[1, 2, 3, 4, 5],\n",
    "            ticktext=['[1,2)', '[2,3)', '[3,4)', '[4,5)', '5'],\n",
    "            range=[0.5, 5.5]\n",
    "        ),\n",
    "        legend=dict(\n",
    "            orientation='h',\n",
    "            yanchor='top',\n",
    "            y=-0.25,\n",
    "            xanchor='center',\n",
    "            x=0.5,\n",
    "            title=None\n",
    "        ),\n",
    "        # autosize=True,\n",
    "    )\n",
    "\n",
    "    for medicine_name in plot_df['Medicine'].unique():\n",
    "        medicine_data = plot_df[plot_df['Medicine'] == medicine_name]\n",
    "        fig.update_traces(\n",
    "            customdata=medicine_data[['Medicine', 'RatingRange']].values,\n",
    "            hovertemplate=(\n",
    "                \"%{customdata[0]}<br>\" +\n",
    "                \"Rating: %{customdata[1]}<br>\" +\n",
    "                \"Percentage: %{y:.1f}%\" +\n",
    "                \"<extra></extra>\"\n",
    "            ),\n",
    "            selector=dict(name=medicine_name)\n",
    "        )\n",
    "    \n",
    "    return fig"
   ]
  },
  {
   "cell_type": "code",
   "execution_count": 5,
   "metadata": {},
   "outputs": [],
   "source": [
    "def get_chanca_piedra_weights(df):\n",
    "    \"\"\"\n",
    "    Calculate weights for Chanca piedra reviews based on the true vs scraped distribution.\n",
    "    Returns a Series with the weight for each review.\n",
    "    \"\"\"\n",
    "    weights = pd.Series(1.0, index=df.index)\n",
    " \n",
    "    chanca_piedra_corrections = {\n",
    "    \"NaturalisimoLife Chanca Piedra 1600 mg\": {\n",
    "        \"scraped\": [82, 18, 37, 103, 146],  # 1-5 stars\n",
    "        \"actual\": [82, 18, 38, 103, 906]\n",
    "    },\n",
    "    \"EU Natural: \\\"Stone Breaker\\\" chanca piedra\": {\n",
    "        \"scraped\": [102, 44, 50, 100, 138],  # 1-5 stars\n",
    "        \"actual\": [123, 44, 50, 131, 918]\n",
    "    }\n",
    "}\n",
    "    for brand, data in chanca_piedra_corrections.items():\n",
    "        # Create mask for this specific brand\n",
    "        mask = (df['Medicine'] == 'Chanca piedra') & (df['Source'] == brand)\n",
    "        brand_reviews = df[mask]\n",
    "        \n",
    "        if len(brand_reviews) > 0:\n",
    "            # Create weight mapping for each star rating\n",
    "            for i in range(5):\n",
    "                scraped = data['scraped'][i]\n",
    "                actual = data['actual'][i]\n",
    "                if scraped > 0:  # Avoid division by zero\n",
    "                    weight = actual / scraped\n",
    "                    # Get indices where both conditions are true\n",
    "                    indices = df.index[mask & (df['Stars'] == (i + 1))]\n",
    "                    # Update weights for these indices\n",
    "                    weights.loc[indices] = weight\n",
    "    \n",
    "    return weights"
   ]
  },
  {
   "cell_type": "code",
   "execution_count": 11,
   "metadata": {},
   "outputs": [],
   "source": [
    "def calculate_weighted_stats(df, columns_to_analyze, medicines_to_exclude=None, medicine_mapping=None, all_medicines=None, is_amazon_data=False):\n",
    "    \"\"\"Calculate statistics for the given dataframe with configurable exclusions and mappings.\"\"\"\n",
    "    if medicines_to_exclude is None:\n",
    "        medicines_to_exclude = []\n",
    "    if medicine_mapping is None:\n",
    "        medicine_mapping = {}\n",
    "    \n",
    "    # Get weights for Chanca piedra reviews\n",
    "    weights = get_chanca_piedra_weights(df) if is_amazon_data else pd.Series(1.0, index=df.index)\n",
    "    \n",
    "    # Modify the groupby aggregation to use weights\n",
    "    summary = df.groupby('Medicine').agg(\n",
    "        total_reviews_weighted=('Medicine', lambda x: weights[x.index].sum()),  # Weighted count\n",
    "        total_reviews=('Medicine', 'size'),  # Actual count\n",
    "        **{\n",
    "            f'{col}_positive': (col, lambda x: sum(\n",
    "                weights[x.index[i]] for i, val in enumerate(x) \n",
    "                if val == 1 or (isinstance(val, str) and val.strip())\n",
    "            ))\n",
    "            for col in columns_to_analyze\n",
    "        },\n",
    "        **{\n",
    "            f'{col}_negative': (col, lambda x: sum(\n",
    "                weights[x.index[i]] for i, val in enumerate(x) \n",
    "                if val == 0\n",
    "            ))\n",
    "            for col in columns_to_analyze\n",
    "        }\n",
    "    ).reset_index()\n",
    "    \n",
    "    # Create a DataFrame with all medicines and zero counts\n",
    "    full_summary = pd.DataFrame({'Medicine': all_medicines or sorted(df['Medicine'].unique())})\n",
    "    full_summary = full_summary[~full_summary['Medicine'].isin(medicines_to_exclude)]\n",
    "    \n",
    "    # Merge with the actual data, filling missing values selectively\n",
    "    summary = pd.merge(\n",
    "        full_summary,\n",
    "        summary,\n",
    "        on='Medicine',\n",
    "        how='left'\n",
    "    )\n",
    "    \n",
    "    # Fill NaN values with 0, but preserve total_reviews as integer\n",
    "    summary['total_reviews'] = summary['total_reviews'].fillna(0).astype(int)\n",
    "    summary['total_reviews_weighted'] = summary['total_reviews_weighted'].fillna(0).astype(float)\n",
    "    for col in columns_to_analyze:\n",
    "        summary[f'{col}_positive'] = summary[f'{col}_positive'].fillna(0)\n",
    "        summary[f'{col}_negative'] = summary[f'{col}_negative'].fillna(0)\n",
    "    \n",
    "    for col in columns_to_analyze:\n",
    "        # Use weighted totals for percentage calculations\n",
    "        denominator = summary.apply(\n",
    "            lambda row: row['total_reviews_weighted'] if row['Medicine'] == 'Chanca piedra' else row['total_reviews'],\n",
    "            axis=1\n",
    "        )\n",
    "        \n",
    "        # Handle division by zero for percentage calculations\n",
    "        summary[f'{col}_positive_pct'] = (\n",
    "            summary[f'{col}_positive'] / denominator * 100\n",
    "        ).fillna(0).round(1)\n",
    "        summary[f'{col}_negative_pct'] = (\n",
    "            summary[f'{col}_negative'] / denominator * 100\n",
    "        ).fillna(0).round(1)\n",
    "        summary[f'{col}_no_info_pct'] = (\n",
    "            (denominator - summary[f'{col}_positive'] - summary[f'{col}_negative']) \n",
    "            / denominator * 100\n",
    "        ).fillna(0).round(1)\n",
    "    \n",
    "    transposed_data = {\n",
    "        ' ': ['<b>Total Reviews</b>'] + \n",
    "            sum([[f'<b>{col}</b>', \n",
    "                 '    Yes', \n",
    "                 '    No', \n",
    "                 '    No information'] \n",
    "                for col in columns_to_analyze], []),\n",
    "        **{medicine_mapping.get(row['Medicine'], row['Medicine']): [\n",
    "            int(row['total_reviews'] if row['Medicine'] != 'Chanca piedra' else row['total_reviews'])] + \n",
    "            sum([[\n",
    "                '',\n",
    "                row[f'{col}_positive_pct'],\n",
    "                row[f'{col}_negative_pct'],\n",
    "                row[f'{col}_no_info_pct']\n",
    "            ] for col in columns_to_analyze], [])\n",
    "           for _, row in summary.iterrows()}\n",
    "    }\n",
    "    \n",
    "    display_df = pd.DataFrame(transposed_data).set_index(' ')\n",
    "    return display_df"
   ]
  },
  {
   "cell_type": "code",
   "execution_count": 65,
   "metadata": {},
   "outputs": [],
   "source": [
    "def create_table(dfa, columns_to_analyze, medicines_to_exclude, medicine_mapping, filters=None, high_quality_reviews_only=False, is_amazon_data=False):\n",
    "    \"\"\"\n",
    "    Create table (with weighted statistics for Amazon reviews).\n",
    "    \"\"\"\n",
    "    \n",
    "    # Store the complete list of medicines before filtering\n",
    "    all_medicines = sorted(dfa['Medicine'].unique())\n",
    "    \n",
    "    # Apply filters\n",
    "    if filters is not None:\n",
    "        for column, value in filters.items():\n",
    "            dfa = dfa[dfa[column] == value]\n",
    "    elif high_quality_reviews_only:\n",
    "        dfa = dfa[dfa['Super high quality'] == 1]\n",
    "    \n",
    "    stats_df = calculate_weighted_stats(\n",
    "        dfa,\n",
    "        columns_to_analyze,\n",
    "        medicines_to_exclude=medicines_to_exclude,\n",
    "        medicine_mapping=medicine_mapping,\n",
    "        all_medicines=all_medicines,\n",
    "        is_amazon_data=is_amazon_data\n",
    "    )\n",
    "    \n",
    "    return stats_df"
   ]
  },
  {
   "cell_type": "code",
   "execution_count": 66,
   "metadata": {},
   "outputs": [],
   "source": [
    "def style_dataframe(df):\n",
    "    \"\"\"Apply consistent styling to the dataframe.\"\"\"\n",
    "    return df.style\\\n",
    "        .set_table_styles([\n",
    "            {'selector': '',\n",
    "             'props': [('color', get_text_color())]},\n",
    "        ])\\\n",
    "        .format(lambda x: f'{x:,.0f}' if isinstance(x, (int, float)) and str(x).isdigit() \n",
    "                else (f'{x:.0f}%' if isinstance(x, float) and x.is_integer() \n",
    "                else f'{x:.1f}%' if isinstance(x, float) \n",
    "                else x))"
   ]
  },
  {
   "cell_type": "code",
   "execution_count": 67,
   "metadata": {},
   "outputs": [],
   "source": [
    "columns_to_analyze = [\n",
    "    'Helps overall with kidney stones',\n",
    "    'Works as a prophylactic',\n",
    "    'Side effects mentioned',\n",
    "    'Asserts significant pain reduction',\n",
    "    'Mentions breaking of stones',\n",
    "    'Mentions shrinking of the stones',\n",
    "    'Mentions softening of stones',\n",
    "    'Stone passed with no or almost no pain',\n",
    "]\n",
    "\n",
    "table_cases = {\n",
    "    'All Reviews': \"\",\n",
    "    'Super high quality': \"-high-quality\",\n",
    "    'Says that has suffered from condition for a long time (>1 year)': \"-long-time\",\n",
    "    'Someone who makes large amounts of stones (>10 total)': \"-stoner\"\n",
    "}"
   ]
  },
  {
   "cell_type": "markdown",
   "metadata": {},
   "source": [
    "# 1. WebMD reviews"
   ]
  },
  {
   "cell_type": "code",
   "execution_count": 84,
   "metadata": {},
   "outputs": [
    {
     "name": "stdout",
     "output_type": "stream",
     "text": [
      "Successfully loaded 1567 rows of data\n"
     ]
    }
   ],
   "source": [
    "dfw = pd.read_csv('csv-files/Kidney Stone Reviews - Reviews - WebMD.csv')\n",
    "print(f\"Successfully loaded {len(dfw)} rows of data\")"
   ]
  },
  {
   "cell_type": "code",
   "execution_count": 85,
   "metadata": {},
   "outputs": [
    {
     "data": {
      "application/vnd.plotly.v1+json": {
       "config": {
        "plotlyServerURL": "https://plot.ly"
       },
       "data": [
        {
         "alignmentgroup": "True",
         "customdata": [
          [
           "Allopurinol",
           "[1,2)"
          ],
          [
           "Allopurinol",
           "[2,3)"
          ],
          [
           "Allopurinol",
           "[3,4)"
          ],
          [
           "Allopurinol",
           "[4,5)"
          ],
          [
           "Allopurinol",
           "5"
          ]
         ],
         "hovertemplate": "%{customdata[0]}<br>Rating: %{customdata[1]}<br>Percentage: %{y:.1f}%<extra></extra>",
         "legendgroup": "Allopurinol",
         "marker": {
          "color": "#636efa",
          "pattern": {
           "shape": ""
          }
         },
         "name": "Allopurinol",
         "offsetgroup": "Allopurinol",
         "orientation": "v",
         "showlegend": true,
         "textposition": "auto",
         "type": "bar",
         "x": [
          1,
          2,
          3,
          4,
          5
         ],
         "xaxis": "x",
         "y": [
          38.46153846153847,
          7.6923076923076925,
          7.6923076923076925,
          7.6923076923076925,
          38.46153846153847
         ],
         "yaxis": "y"
        },
        {
         "alignmentgroup": "True",
         "customdata": [
          [
           "Ashwagandha",
           "[1,2)"
          ],
          [
           "Ashwagandha",
           "[2,3)"
          ],
          [
           "Ashwagandha",
           "[3,4)"
          ],
          [
           "Ashwagandha",
           "[4,5)"
          ],
          [
           "Ashwagandha",
           "5"
          ]
         ],
         "hovertemplate": "%{customdata[0]}<br>Rating: %{customdata[1]}<br>Percentage: %{y:.1f}%<extra></extra>",
         "legendgroup": "Ashwagandha",
         "marker": {
          "color": "#EF553B",
          "pattern": {
           "shape": ""
          }
         },
         "name": "Ashwagandha",
         "offsetgroup": "Ashwagandha",
         "orientation": "v",
         "showlegend": true,
         "textposition": "auto",
         "type": "bar",
         "x": [
          1,
          2,
          3,
          4,
          5
         ],
         "xaxis": "x",
         "y": [
          17.712177121771216,
          14.022140221402212,
          11.07011070110701,
          23.616236162361623,
          33.579335793357934
         ],
         "yaxis": "y"
        },
        {
         "alignmentgroup": "True",
         "customdata": [
          [
           "Black seed",
           "[1,2)"
          ],
          [
           "Black seed",
           "[2,3)"
          ],
          [
           "Black seed",
           "[3,4)"
          ],
          [
           "Black seed",
           "[4,5)"
          ],
          [
           "Black seed",
           "5"
          ]
         ],
         "hovertemplate": "%{customdata[0]}<br>Rating: %{customdata[1]}<br>Percentage: %{y:.1f}%<extra></extra>",
         "legendgroup": "Black seed",
         "marker": {
          "color": "#00cc96",
          "pattern": {
           "shape": ""
          }
         },
         "name": "Black seed",
         "offsetgroup": "Black seed",
         "orientation": "v",
         "showlegend": true,
         "textposition": "auto",
         "type": "bar",
         "x": [
          1,
          2,
          3,
          4,
          5
         ],
         "xaxis": "x",
         "y": [
          11.688311688311687,
          7.792207792207792,
          6.493506493506493,
          25.97402597402597,
          48.05194805194805
         ],
         "yaxis": "y"
        },
        {
         "alignmentgroup": "True",
         "customdata": [
          [
           "Chanca piedra",
           "[1,2)"
          ],
          [
           "Chanca piedra",
           "[2,3)"
          ],
          [
           "Chanca piedra",
           "[3,4)"
          ],
          [
           "Chanca piedra",
           "[4,5)"
          ],
          [
           "Chanca piedra",
           "5"
          ]
         ],
         "hovertemplate": "%{customdata[0]}<br>Rating: %{customdata[1]}<br>Percentage: %{y:.1f}%<extra></extra>",
         "legendgroup": "Chanca piedra",
         "marker": {
          "color": "#ab63fa",
          "pattern": {
           "shape": ""
          }
         },
         "name": "Chanca piedra",
         "offsetgroup": "Chanca piedra",
         "orientation": "v",
         "showlegend": true,
         "textposition": "auto",
         "type": "bar",
         "x": [
          1,
          2,
          3,
          4,
          5
         ],
         "xaxis": "x",
         "y": [
          0,
          6.896551724137931,
          2.2988505747126435,
          12.643678160919542,
          78.16091954022988
         ],
         "yaxis": "y"
        },
        {
         "alignmentgroup": "True",
         "customdata": [
          [
           "Flomax",
           "[1,2)"
          ],
          [
           "Flomax",
           "[2,3)"
          ],
          [
           "Flomax",
           "[3,4)"
          ],
          [
           "Flomax",
           "[4,5)"
          ],
          [
           "Flomax",
           "5"
          ]
         ],
         "hovertemplate": "%{customdata[0]}<br>Rating: %{customdata[1]}<br>Percentage: %{y:.1f}%<extra></extra>",
         "legendgroup": "Flomax",
         "marker": {
          "color": "#FFA15A",
          "pattern": {
           "shape": ""
          }
         },
         "name": "Flomax",
         "offsetgroup": "Flomax",
         "orientation": "v",
         "showlegend": true,
         "textposition": "auto",
         "type": "bar",
         "x": [
          1,
          2,
          3,
          4,
          5
         ],
         "xaxis": "x",
         "y": [
          36.36363636363637,
          27.27272727272727,
          9.090909090909092,
          13.636363636363635,
          13.636363636363635
         ],
         "yaxis": "y"
        },
        {
         "alignmentgroup": "True",
         "customdata": [
          [
           "Garcinia",
           "[1,2)"
          ],
          [
           "Garcinia",
           "[2,3)"
          ],
          [
           "Garcinia",
           "[3,4)"
          ],
          [
           "Garcinia",
           "[4,5)"
          ],
          [
           "Garcinia",
           "5"
          ]
         ],
         "hovertemplate": "%{customdata[0]}<br>Rating: %{customdata[1]}<br>Percentage: %{y:.1f}%<extra></extra>",
         "legendgroup": "Garcinia",
         "marker": {
          "color": "#19d3f3",
          "pattern": {
           "shape": ""
          }
         },
         "name": "Garcinia",
         "offsetgroup": "Garcinia",
         "orientation": "v",
         "showlegend": true,
         "textposition": "auto",
         "type": "bar",
         "x": [
          1,
          2,
          3,
          4,
          5
         ],
         "xaxis": "x",
         "y": [
          34.753363228699556,
          28.139013452914796,
          10.986547085201794,
          13.004484304932735,
          13.11659192825112
         ],
         "yaxis": "y"
        },
        {
         "alignmentgroup": "True",
         "customdata": [
          [
           "Hydrochlorothiazide",
           "[1,2)"
          ],
          [
           "Hydrochlorothiazide",
           "[2,3)"
          ],
          [
           "Hydrochlorothiazide",
           "[3,4)"
          ],
          [
           "Hydrochlorothiazide",
           "[4,5)"
          ],
          [
           "Hydrochlorothiazide",
           "5"
          ]
         ],
         "hovertemplate": "%{customdata[0]}<br>Rating: %{customdata[1]}<br>Percentage: %{y:.1f}%<extra></extra>",
         "legendgroup": "Hydrochlorothiazide",
         "marker": {
          "color": "#FF6692",
          "pattern": {
           "shape": ""
          }
         },
         "name": "Hydrochlorothiazide",
         "offsetgroup": "Hydrochlorothiazide",
         "orientation": "v",
         "showlegend": true,
         "textposition": "auto",
         "type": "bar",
         "x": [
          1,
          2,
          3,
          4,
          5
         ],
         "xaxis": "x",
         "y": [
          15,
          20,
          20,
          25,
          20
         ],
         "yaxis": "y"
        },
        {
         "alignmentgroup": "True",
         "customdata": [
          [
           "Melatonin",
           "[1,2)"
          ],
          [
           "Melatonin",
           "[2,3)"
          ],
          [
           "Melatonin",
           "[3,4)"
          ],
          [
           "Melatonin",
           "[4,5)"
          ],
          [
           "Melatonin",
           "5"
          ]
         ],
         "hovertemplate": "%{customdata[0]}<br>Rating: %{customdata[1]}<br>Percentage: %{y:.1f}%<extra></extra>",
         "legendgroup": "Melatonin",
         "marker": {
          "color": "#B6E880",
          "pattern": {
           "shape": ""
          }
         },
         "name": "Melatonin",
         "offsetgroup": "Melatonin",
         "orientation": "v",
         "showlegend": true,
         "textposition": "auto",
         "type": "bar",
         "x": [
          1,
          2,
          3,
          4,
          5
         ],
         "xaxis": "x",
         "y": [
          14.906832298136646,
          14.906832298136646,
          19.875776397515526,
          23.60248447204969,
          26.70807453416149
         ],
         "yaxis": "y"
        },
        {
         "alignmentgroup": "True",
         "customdata": [
          [
           "Potassium citrate",
           "[1,2)"
          ],
          [
           "Potassium citrate",
           "[2,3)"
          ],
          [
           "Potassium citrate",
           "[3,4)"
          ],
          [
           "Potassium citrate",
           "[4,5)"
          ],
          [
           "Potassium citrate",
           "5"
          ]
         ],
         "hovertemplate": "%{customdata[0]}<br>Rating: %{customdata[1]}<br>Percentage: %{y:.1f}%<extra></extra>",
         "legendgroup": "Potassium citrate",
         "marker": {
          "color": "#FF97FF",
          "pattern": {
           "shape": ""
          }
         },
         "name": "Potassium citrate",
         "offsetgroup": "Potassium citrate",
         "orientation": "v",
         "showlegend": true,
         "textposition": "auto",
         "type": "bar",
         "x": [
          1,
          2,
          3,
          4,
          5
         ],
         "xaxis": "x",
         "y": [
          20.833333333333336,
          25,
          20.833333333333336,
          8.333333333333332,
          25
         ],
         "yaxis": "y"
        }
       ],
       "layout": {
        "bargap": 0.15,
        "bargroupgap": 0.1,
        "barmode": "group",
        "height": 400,
        "legend": {
         "orientation": "h",
         "title": {},
         "tracegroupgap": 0,
         "x": 0.5,
         "xanchor": "center",
         "y": -0.25,
         "yanchor": "top"
        },
        "margin": {
         "b": 50,
         "l": 50,
         "r": 50,
         "t": 50
        },
        "template": {
         "data": {
          "bar": [
           {
            "error_x": {
             "color": "#2a3f5f"
            },
            "error_y": {
             "color": "#2a3f5f"
            },
            "marker": {
             "line": {
              "color": "white",
              "width": 0.5
             },
             "pattern": {
              "fillmode": "overlay",
              "size": 10,
              "solidity": 0.2
             }
            },
            "type": "bar"
           }
          ],
          "barpolar": [
           {
            "marker": {
             "line": {
              "color": "white",
              "width": 0.5
             },
             "pattern": {
              "fillmode": "overlay",
              "size": 10,
              "solidity": 0.2
             }
            },
            "type": "barpolar"
           }
          ],
          "carpet": [
           {
            "aaxis": {
             "endlinecolor": "#2a3f5f",
             "gridcolor": "#C8D4E3",
             "linecolor": "#C8D4E3",
             "minorgridcolor": "#C8D4E3",
             "startlinecolor": "#2a3f5f"
            },
            "baxis": {
             "endlinecolor": "#2a3f5f",
             "gridcolor": "#C8D4E3",
             "linecolor": "#C8D4E3",
             "minorgridcolor": "#C8D4E3",
             "startlinecolor": "#2a3f5f"
            },
            "type": "carpet"
           }
          ],
          "choropleth": [
           {
            "colorbar": {
             "outlinewidth": 0,
             "ticks": ""
            },
            "type": "choropleth"
           }
          ],
          "contour": [
           {
            "colorbar": {
             "outlinewidth": 0,
             "ticks": ""
            },
            "colorscale": [
             [
              0,
              "#0d0887"
             ],
             [
              0.1111111111111111,
              "#46039f"
             ],
             [
              0.2222222222222222,
              "#7201a8"
             ],
             [
              0.3333333333333333,
              "#9c179e"
             ],
             [
              0.4444444444444444,
              "#bd3786"
             ],
             [
              0.5555555555555556,
              "#d8576b"
             ],
             [
              0.6666666666666666,
              "#ed7953"
             ],
             [
              0.7777777777777778,
              "#fb9f3a"
             ],
             [
              0.8888888888888888,
              "#fdca26"
             ],
             [
              1,
              "#f0f921"
             ]
            ],
            "type": "contour"
           }
          ],
          "contourcarpet": [
           {
            "colorbar": {
             "outlinewidth": 0,
             "ticks": ""
            },
            "type": "contourcarpet"
           }
          ],
          "heatmap": [
           {
            "colorbar": {
             "outlinewidth": 0,
             "ticks": ""
            },
            "colorscale": [
             [
              0,
              "#0d0887"
             ],
             [
              0.1111111111111111,
              "#46039f"
             ],
             [
              0.2222222222222222,
              "#7201a8"
             ],
             [
              0.3333333333333333,
              "#9c179e"
             ],
             [
              0.4444444444444444,
              "#bd3786"
             ],
             [
              0.5555555555555556,
              "#d8576b"
             ],
             [
              0.6666666666666666,
              "#ed7953"
             ],
             [
              0.7777777777777778,
              "#fb9f3a"
             ],
             [
              0.8888888888888888,
              "#fdca26"
             ],
             [
              1,
              "#f0f921"
             ]
            ],
            "type": "heatmap"
           }
          ],
          "heatmapgl": [
           {
            "colorbar": {
             "outlinewidth": 0,
             "ticks": ""
            },
            "colorscale": [
             [
              0,
              "#0d0887"
             ],
             [
              0.1111111111111111,
              "#46039f"
             ],
             [
              0.2222222222222222,
              "#7201a8"
             ],
             [
              0.3333333333333333,
              "#9c179e"
             ],
             [
              0.4444444444444444,
              "#bd3786"
             ],
             [
              0.5555555555555556,
              "#d8576b"
             ],
             [
              0.6666666666666666,
              "#ed7953"
             ],
             [
              0.7777777777777778,
              "#fb9f3a"
             ],
             [
              0.8888888888888888,
              "#fdca26"
             ],
             [
              1,
              "#f0f921"
             ]
            ],
            "type": "heatmapgl"
           }
          ],
          "histogram": [
           {
            "marker": {
             "pattern": {
              "fillmode": "overlay",
              "size": 10,
              "solidity": 0.2
             }
            },
            "type": "histogram"
           }
          ],
          "histogram2d": [
           {
            "colorbar": {
             "outlinewidth": 0,
             "ticks": ""
            },
            "colorscale": [
             [
              0,
              "#0d0887"
             ],
             [
              0.1111111111111111,
              "#46039f"
             ],
             [
              0.2222222222222222,
              "#7201a8"
             ],
             [
              0.3333333333333333,
              "#9c179e"
             ],
             [
              0.4444444444444444,
              "#bd3786"
             ],
             [
              0.5555555555555556,
              "#d8576b"
             ],
             [
              0.6666666666666666,
              "#ed7953"
             ],
             [
              0.7777777777777778,
              "#fb9f3a"
             ],
             [
              0.8888888888888888,
              "#fdca26"
             ],
             [
              1,
              "#f0f921"
             ]
            ],
            "type": "histogram2d"
           }
          ],
          "histogram2dcontour": [
           {
            "colorbar": {
             "outlinewidth": 0,
             "ticks": ""
            },
            "colorscale": [
             [
              0,
              "#0d0887"
             ],
             [
              0.1111111111111111,
              "#46039f"
             ],
             [
              0.2222222222222222,
              "#7201a8"
             ],
             [
              0.3333333333333333,
              "#9c179e"
             ],
             [
              0.4444444444444444,
              "#bd3786"
             ],
             [
              0.5555555555555556,
              "#d8576b"
             ],
             [
              0.6666666666666666,
              "#ed7953"
             ],
             [
              0.7777777777777778,
              "#fb9f3a"
             ],
             [
              0.8888888888888888,
              "#fdca26"
             ],
             [
              1,
              "#f0f921"
             ]
            ],
            "type": "histogram2dcontour"
           }
          ],
          "mesh3d": [
           {
            "colorbar": {
             "outlinewidth": 0,
             "ticks": ""
            },
            "type": "mesh3d"
           }
          ],
          "parcoords": [
           {
            "line": {
             "colorbar": {
              "outlinewidth": 0,
              "ticks": ""
             }
            },
            "type": "parcoords"
           }
          ],
          "pie": [
           {
            "automargin": true,
            "type": "pie"
           }
          ],
          "scatter": [
           {
            "fillpattern": {
             "fillmode": "overlay",
             "size": 10,
             "solidity": 0.2
            },
            "type": "scatter"
           }
          ],
          "scatter3d": [
           {
            "line": {
             "colorbar": {
              "outlinewidth": 0,
              "ticks": ""
             }
            },
            "marker": {
             "colorbar": {
              "outlinewidth": 0,
              "ticks": ""
             }
            },
            "type": "scatter3d"
           }
          ],
          "scattercarpet": [
           {
            "marker": {
             "colorbar": {
              "outlinewidth": 0,
              "ticks": ""
             }
            },
            "type": "scattercarpet"
           }
          ],
          "scattergeo": [
           {
            "marker": {
             "colorbar": {
              "outlinewidth": 0,
              "ticks": ""
             }
            },
            "type": "scattergeo"
           }
          ],
          "scattergl": [
           {
            "marker": {
             "colorbar": {
              "outlinewidth": 0,
              "ticks": ""
             }
            },
            "type": "scattergl"
           }
          ],
          "scattermapbox": [
           {
            "marker": {
             "colorbar": {
              "outlinewidth": 0,
              "ticks": ""
             }
            },
            "type": "scattermapbox"
           }
          ],
          "scatterpolar": [
           {
            "marker": {
             "colorbar": {
              "outlinewidth": 0,
              "ticks": ""
             }
            },
            "type": "scatterpolar"
           }
          ],
          "scatterpolargl": [
           {
            "marker": {
             "colorbar": {
              "outlinewidth": 0,
              "ticks": ""
             }
            },
            "type": "scatterpolargl"
           }
          ],
          "scatterternary": [
           {
            "marker": {
             "colorbar": {
              "outlinewidth": 0,
              "ticks": ""
             }
            },
            "type": "scatterternary"
           }
          ],
          "surface": [
           {
            "colorbar": {
             "outlinewidth": 0,
             "ticks": ""
            },
            "colorscale": [
             [
              0,
              "#0d0887"
             ],
             [
              0.1111111111111111,
              "#46039f"
             ],
             [
              0.2222222222222222,
              "#7201a8"
             ],
             [
              0.3333333333333333,
              "#9c179e"
             ],
             [
              0.4444444444444444,
              "#bd3786"
             ],
             [
              0.5555555555555556,
              "#d8576b"
             ],
             [
              0.6666666666666666,
              "#ed7953"
             ],
             [
              0.7777777777777778,
              "#fb9f3a"
             ],
             [
              0.8888888888888888,
              "#fdca26"
             ],
             [
              1,
              "#f0f921"
             ]
            ],
            "type": "surface"
           }
          ],
          "table": [
           {
            "cells": {
             "fill": {
              "color": "#EBF0F8"
             },
             "line": {
              "color": "white"
             }
            },
            "header": {
             "fill": {
              "color": "#C8D4E3"
             },
             "line": {
              "color": "white"
             }
            },
            "type": "table"
           }
          ]
         },
         "layout": {
          "annotationdefaults": {
           "arrowcolor": "#2a3f5f",
           "arrowhead": 0,
           "arrowwidth": 1
          },
          "autotypenumbers": "strict",
          "coloraxis": {
           "colorbar": {
            "outlinewidth": 0,
            "ticks": ""
           }
          },
          "colorscale": {
           "diverging": [
            [
             0,
             "#8e0152"
            ],
            [
             0.1,
             "#c51b7d"
            ],
            [
             0.2,
             "#de77ae"
            ],
            [
             0.3,
             "#f1b6da"
            ],
            [
             0.4,
             "#fde0ef"
            ],
            [
             0.5,
             "#f7f7f7"
            ],
            [
             0.6,
             "#e6f5d0"
            ],
            [
             0.7,
             "#b8e186"
            ],
            [
             0.8,
             "#7fbc41"
            ],
            [
             0.9,
             "#4d9221"
            ],
            [
             1,
             "#276419"
            ]
           ],
           "sequential": [
            [
             0,
             "#0d0887"
            ],
            [
             0.1111111111111111,
             "#46039f"
            ],
            [
             0.2222222222222222,
             "#7201a8"
            ],
            [
             0.3333333333333333,
             "#9c179e"
            ],
            [
             0.4444444444444444,
             "#bd3786"
            ],
            [
             0.5555555555555556,
             "#d8576b"
            ],
            [
             0.6666666666666666,
             "#ed7953"
            ],
            [
             0.7777777777777778,
             "#fb9f3a"
            ],
            [
             0.8888888888888888,
             "#fdca26"
            ],
            [
             1,
             "#f0f921"
            ]
           ],
           "sequentialminus": [
            [
             0,
             "#0d0887"
            ],
            [
             0.1111111111111111,
             "#46039f"
            ],
            [
             0.2222222222222222,
             "#7201a8"
            ],
            [
             0.3333333333333333,
             "#9c179e"
            ],
            [
             0.4444444444444444,
             "#bd3786"
            ],
            [
             0.5555555555555556,
             "#d8576b"
            ],
            [
             0.6666666666666666,
             "#ed7953"
            ],
            [
             0.7777777777777778,
             "#fb9f3a"
            ],
            [
             0.8888888888888888,
             "#fdca26"
            ],
            [
             1,
             "#f0f921"
            ]
           ]
          },
          "colorway": [
           "#636efa",
           "#EF553B",
           "#00cc96",
           "#ab63fa",
           "#FFA15A",
           "#19d3f3",
           "#FF6692",
           "#B6E880",
           "#FF97FF",
           "#FECB52"
          ],
          "font": {
           "color": "#2a3f5f"
          },
          "geo": {
           "bgcolor": "white",
           "lakecolor": "white",
           "landcolor": "white",
           "showlakes": true,
           "showland": true,
           "subunitcolor": "#C8D4E3"
          },
          "hoverlabel": {
           "align": "left"
          },
          "hovermode": "closest",
          "mapbox": {
           "style": "light"
          },
          "paper_bgcolor": "white",
          "plot_bgcolor": "white",
          "polar": {
           "angularaxis": {
            "gridcolor": "#EBF0F8",
            "linecolor": "#EBF0F8",
            "ticks": ""
           },
           "bgcolor": "white",
           "radialaxis": {
            "gridcolor": "#EBF0F8",
            "linecolor": "#EBF0F8",
            "ticks": ""
           }
          },
          "scene": {
           "xaxis": {
            "backgroundcolor": "white",
            "gridcolor": "#DFE8F3",
            "gridwidth": 2,
            "linecolor": "#EBF0F8",
            "showbackground": true,
            "ticks": "",
            "zerolinecolor": "#EBF0F8"
           },
           "yaxis": {
            "backgroundcolor": "white",
            "gridcolor": "#DFE8F3",
            "gridwidth": 2,
            "linecolor": "#EBF0F8",
            "showbackground": true,
            "ticks": "",
            "zerolinecolor": "#EBF0F8"
           },
           "zaxis": {
            "backgroundcolor": "white",
            "gridcolor": "#DFE8F3",
            "gridwidth": 2,
            "linecolor": "#EBF0F8",
            "showbackground": true,
            "ticks": "",
            "zerolinecolor": "#EBF0F8"
           }
          },
          "shapedefaults": {
           "line": {
            "color": "#2a3f5f"
           }
          },
          "ternary": {
           "aaxis": {
            "gridcolor": "#DFE8F3",
            "linecolor": "#A2B1C6",
            "ticks": ""
           },
           "baxis": {
            "gridcolor": "#DFE8F3",
            "linecolor": "#A2B1C6",
            "ticks": ""
           },
           "bgcolor": "white",
           "caxis": {
            "gridcolor": "#DFE8F3",
            "linecolor": "#A2B1C6",
            "ticks": ""
           }
          },
          "title": {
           "x": 0.05
          },
          "xaxis": {
           "automargin": true,
           "gridcolor": "#EBF0F8",
           "linecolor": "#EBF0F8",
           "ticks": "",
           "title": {
            "standoff": 15
           },
           "zerolinecolor": "#EBF0F8",
           "zerolinewidth": 2
          },
          "yaxis": {
           "automargin": true,
           "gridcolor": "#EBF0F8",
           "linecolor": "#EBF0F8",
           "ticks": "",
           "title": {
            "standoff": 15
           },
           "zerolinecolor": "#EBF0F8",
           "zerolinewidth": 2
          }
         }
        },
        "title": {
         "font": {
          "size": 14
         },
         "text": "Distribution of ratings by product (percentage)"
        },
        "width": 800,
        "xaxis": {
         "anchor": "y",
         "domain": [
          0,
          1
         ],
         "range": [
          0.5,
          5.5
         ],
         "tickmode": "array",
         "ticktext": [
          "[1,2)",
          "[2,3)",
          "[3,4)",
          "[4,5)",
          "5"
         ],
         "tickvals": [
          1,
          2,
          3,
          4,
          5
         ],
         "title": {
          "text": "Rating"
         }
        },
        "yaxis": {
         "anchor": "x",
         "domain": [
          0,
          1
         ],
         "title": {
          "text": "Percentage of Reviews"
         }
        }
       }
      }
     },
     "metadata": {},
     "output_type": "display_data"
    }
   ],
   "source": [
    "# Create grouped rating distribution\n",
    "fig = create_grouped_rating_distribution(dfw)\n",
    "fig.show()\n",
    "figname = \"webmd-treatment-distribution-rating\"\n",
    "# fig.write_html(figfolder+figname+\".html\")\n",
    "# fig.write_image(figfolder+figname+\".png\", scale=4)"
   ]
  },
  {
   "cell_type": "code",
   "execution_count": 87,
   "metadata": {},
   "outputs": [],
   "source": [
    "webmd_medicine_mapping = {\n",
    "    'Hydrochlorothiazide': 'HCTZ',\n",
    "    'Potassium Citrate': 'Potassium citrate'\n",
    "}\n",
    "\n",
    "webmd_medicines_to_exclude = ['Ashwagandha', 'Melatonin']\n",
    "\n",
    "# Generate and display statistics\n",
    "for key, val in table_cases.items():\n",
    "    if key == \"All Reviews\":\n",
    "        filters = None\n",
    "    else:\n",
    "        filters = {key: 1}\n",
    "    display_dfw = create_table(dfw, columns_to_analyze, webmd_medicines_to_exclude, webmd_medicine_mapping, filters=filters)\n",
    "    tablename = \"webmd-table-full-analysis\" + val\n",
    "    # display(style_dataframe(display_dfw))\n",
    "    display_dfw.to_html(figfolder + tablename + \".html\")"
   ]
  },
  {
   "cell_type": "markdown",
   "metadata": {},
   "source": [
    "# 2. Amazon Reviews Analysis"
   ]
  },
  {
   "cell_type": "code",
   "execution_count": 88,
   "metadata": {},
   "outputs": [
    {
     "name": "stdout",
     "output_type": "stream",
     "text": [
      "Successfully loaded 1456 rows of data\n"
     ]
    }
   ],
   "source": [
    "dfa = pd.read_csv('csv-files/Kidney Stone Reviews - Reviews - Amazon.csv')\n",
    "print(f\"Successfully loaded {len(dfa)} rows of data\")"
   ]
  },
  {
   "cell_type": "code",
   "execution_count": 89,
   "metadata": {},
   "outputs": [],
   "source": [
    "amazon_medicine_mapping = {\n",
    "    'Hydrochlorothiazide': 'HCTZ',\n",
    "}\n",
    "\n",
    "amazon_medicines_to_exclude = []\n",
    "\n",
    "# Generate and display statistics\n",
    "for key, val in table_cases.items():\n",
    "    if key == \"All Reviews\":\n",
    "        filters = None\n",
    "    else:\n",
    "        filters = {key: 1}\n",
    "    display_dfa = create_table(dfa, columns_to_analyze, webmd_medicines_to_exclude, webmd_medicine_mapping, filters=filters, is_amazon_data=True)\n",
    "    tablename = \"amazon-table-full-analysis\" + val\n",
    "    # display(style_dataframe(display_dfa))\n",
    "    display_dfa.to_html(figfolder + tablename + \".html\")"
   ]
  },
  {
   "cell_type": "markdown",
   "metadata": {},
   "source": [
    "# 3. Reddit posts"
   ]
  },
  {
   "cell_type": "code",
   "execution_count": null,
   "metadata": {},
   "outputs": [
    {
     "name": "stdout",
     "output_type": "stream",
     "text": [
      "Successfully loaded 2308 rows of data\n"
     ]
    }
   ],
   "source": [
    "dfr = pd.read_csv('csv-files/Kidney Stone Reviews - Reviews - Reddit.csv')\n",
    "print(f\"Successfully loaded {len(dfr)} rows of data\")"
   ]
  },
  {
   "cell_type": "code",
   "execution_count": null,
   "metadata": {},
   "outputs": [],
   "source": [
    "reddit_medicine_mapping = {\n",
    "    'Hydrochlorothiazide': 'HCTZ',\n",
    "}\n",
    "\n",
    "reddit_medicines_to_exclude = []\n",
    "\n",
    "# Generate and display statistics\n",
    "for key, val in table_cases.items():\n",
    "    if key == \"All Reviews\":\n",
    "        filters = None\n",
    "    else:\n",
    "        filters = {key: 1}\n",
    "    display_dfr = create_table(dfr, columns_to_analyze, reddit_medicines_to_exclude, reddit_medicine_mapping, filters=filters)\n",
    "    tablename = \"reddit-table-full-analysis\" + val\n",
    "    # display(style_dataframe(display_dfr))\n",
    "    display_dfr.to_html(figfolder + tablename + \".html\")"
   ]
  },
  {
   "cell_type": "markdown",
   "metadata": {},
   "source": [
    "# 4. Side effects"
   ]
  },
  {
   "cell_type": "code",
   "execution_count": 77,
   "metadata": {},
   "outputs": [
    {
     "data": {
      "application/vnd.plotly.v1+json": {
       "config": {
        "plotlyServerURL": "https://plot.ly"
       },
       "data": [
        {
         "alignmentgroup": "True",
         "customdata": [
          [
           "Allopurinol",
           "Pain"
          ],
          [
           "Allopurinol",
           "Skin/Allergic"
          ],
          [
           "Allopurinol",
           "Neurological/Cognitive"
          ],
          [
           "Allopurinol",
           "Mood/Mental"
          ],
          [
           "Allopurinol",
           "Endocrine/Metabolic"
          ],
          [
           "Allopurinol",
           "Gastrointestinal"
          ],
          [
           "Allopurinol",
           "Cardiovascular"
          ],
          [
           "Allopurinol",
           "Respiratory"
          ],
          [
           "Allopurinol",
           "Other"
          ],
          [
           "Allopurinol",
           "Sleep/Fatigue"
          ]
         ],
         "hovertemplate": "%{customdata[0]}<br>Category: %{customdata[1]}<br>Count: %{y}<extra></extra>",
         "legendgroup": "Allopurinol",
         "marker": {
          "color": "#636efa",
          "pattern": {
           "shape": ""
          }
         },
         "name": "Allopurinol",
         "offsetgroup": "Allopurinol",
         "orientation": "v",
         "showlegend": true,
         "textposition": "auto",
         "type": "bar",
         "x": [
          "Pain",
          "Skin/Allergic",
          "Neurological/Cognitive",
          "Mood/Mental",
          "Endocrine/Metabolic",
          "Gastrointestinal",
          "Cardiovascular",
          "Respiratory",
          "Other",
          "Sleep/Fatigue"
         ],
         "xaxis": "x",
         "y": [
          6,
          3,
          3,
          3,
          3,
          2,
          2,
          1,
          1,
          1
         ],
         "yaxis": "y"
        },
        {
         "alignmentgroup": "True",
         "customdata": [
          [
           "Ashwagandha",
           "Mood/Mental"
          ],
          [
           "Ashwagandha",
           "Gastrointestinal"
          ],
          [
           "Ashwagandha",
           "Sleep/Fatigue"
          ],
          [
           "Ashwagandha",
           "Neurological/Cognitive"
          ],
          [
           "Ashwagandha",
           "Skin/Allergic"
          ],
          [
           "Ashwagandha",
           "Endocrine/Metabolic"
          ],
          [
           "Ashwagandha",
           "Urinary/Sexual"
          ],
          [
           "Ashwagandha",
           "Cardiovascular"
          ],
          [
           "Ashwagandha",
           "Pain"
          ],
          [
           "Ashwagandha",
           "Respiratory"
          ],
          [
           "Ashwagandha",
           "Other"
          ]
         ],
         "hovertemplate": "%{customdata[0]}<br>Category: %{customdata[1]}<br>Count: %{y}<extra></extra>",
         "legendgroup": "Ashwagandha",
         "marker": {
          "color": "#EF553B",
          "pattern": {
           "shape": ""
          }
         },
         "name": "Ashwagandha",
         "offsetgroup": "Ashwagandha",
         "orientation": "v",
         "showlegend": true,
         "textposition": "auto",
         "type": "bar",
         "x": [
          "Mood/Mental",
          "Gastrointestinal",
          "Sleep/Fatigue",
          "Neurological/Cognitive",
          "Skin/Allergic",
          "Endocrine/Metabolic",
          "Urinary/Sexual",
          "Cardiovascular",
          "Pain",
          "Respiratory",
          "Other"
         ],
         "xaxis": "x",
         "y": [
          79,
          74,
          49,
          41,
          18,
          16,
          11,
          10,
          10,
          3,
          2
         ],
         "yaxis": "y"
        },
        {
         "alignmentgroup": "True",
         "customdata": [
          [
           "Black seed",
           "Gastrointestinal"
          ],
          [
           "Black seed",
           "Neurological/Cognitive"
          ],
          [
           "Black seed",
           "Pain"
          ],
          [
           "Black seed",
           "Skin/Allergic"
          ],
          [
           "Black seed",
           "Sleep/Fatigue"
          ],
          [
           "Black seed",
           "Cardiovascular"
          ],
          [
           "Black seed",
           "Endocrine/Metabolic"
          ],
          [
           "Black seed",
           "Respiratory"
          ]
         ],
         "hovertemplate": "%{customdata[0]}<br>Category: %{customdata[1]}<br>Count: %{y}<extra></extra>",
         "legendgroup": "Black seed",
         "marker": {
          "color": "#00cc96",
          "pattern": {
           "shape": ""
          }
         },
         "name": "Black seed",
         "offsetgroup": "Black seed",
         "orientation": "v",
         "showlegend": true,
         "textposition": "auto",
         "type": "bar",
         "x": [
          "Gastrointestinal",
          "Neurological/Cognitive",
          "Pain",
          "Skin/Allergic",
          "Sleep/Fatigue",
          "Cardiovascular",
          "Endocrine/Metabolic",
          "Respiratory"
         ],
         "xaxis": "x",
         "y": [
          17,
          5,
          4,
          3,
          2,
          2,
          1,
          1
         ],
         "yaxis": "y"
        },
        {
         "alignmentgroup": "True",
         "customdata": [
          [
           "Chanca piedra",
           "Gastrointestinal"
          ],
          [
           "Chanca piedra",
           "Urinary/Sexual"
          ],
          [
           "Chanca piedra",
           "Pain"
          ],
          [
           "Chanca piedra",
           "Endocrine/Metabolic"
          ],
          [
           "Chanca piedra",
           "Neurological/Cognitive"
          ],
          [
           "Chanca piedra",
           "Cardiovascular"
          ],
          [
           "Chanca piedra",
           "Sleep/Fatigue"
          ],
          [
           "Chanca piedra",
           "Skin/Allergic"
          ]
         ],
         "hovertemplate": "%{customdata[0]}<br>Category: %{customdata[1]}<br>Count: %{y}<extra></extra>",
         "legendgroup": "Chanca piedra",
         "marker": {
          "color": "#ab63fa",
          "pattern": {
           "shape": ""
          }
         },
         "name": "Chanca piedra",
         "offsetgroup": "Chanca piedra",
         "orientation": "v",
         "showlegend": true,
         "textposition": "auto",
         "type": "bar",
         "x": [
          "Gastrointestinal",
          "Urinary/Sexual",
          "Pain",
          "Endocrine/Metabolic",
          "Neurological/Cognitive",
          "Cardiovascular",
          "Sleep/Fatigue",
          "Skin/Allergic"
         ],
         "xaxis": "x",
         "y": [
          61,
          26,
          17,
          11,
          9,
          8,
          4,
          4
         ],
         "yaxis": "y"
        },
        {
         "alignmentgroup": "True",
         "customdata": [
          [
           "Flomax",
           "Neurological/Cognitive"
          ],
          [
           "Flomax",
           "Urinary/Sexual"
          ],
          [
           "Flomax",
           "Cardiovascular"
          ],
          [
           "Flomax",
           "Respiratory"
          ],
          [
           "Flomax",
           "Gastrointestinal"
          ],
          [
           "Flomax",
           "Pain"
          ],
          [
           "Flomax",
           "Sleep/Fatigue"
          ],
          [
           "Flomax",
           "Mood/Mental"
          ],
          [
           "Flomax",
           "Skin/Allergic"
          ],
          [
           "Flomax",
           "Endocrine/Metabolic"
          ],
          [
           "Flomax",
           "Other"
          ]
         ],
         "hovertemplate": "%{customdata[0]}<br>Category: %{customdata[1]}<br>Count: %{y}<extra></extra>",
         "legendgroup": "Flomax",
         "marker": {
          "color": "#FFA15A",
          "pattern": {
           "shape": ""
          }
         },
         "name": "Flomax",
         "offsetgroup": "Flomax",
         "orientation": "v",
         "showlegend": true,
         "textposition": "auto",
         "type": "bar",
         "x": [
          "Neurological/Cognitive",
          "Urinary/Sexual",
          "Cardiovascular",
          "Respiratory",
          "Gastrointestinal",
          "Pain",
          "Sleep/Fatigue",
          "Mood/Mental",
          "Skin/Allergic",
          "Endocrine/Metabolic",
          "Other"
         ],
         "xaxis": "x",
         "y": [
          156,
          89,
          54,
          45,
          43,
          43,
          40,
          20,
          16,
          7,
          2
         ],
         "yaxis": "y"
        },
        {
         "alignmentgroup": "True",
         "customdata": [
          [
           "Garcinia",
           "Gastrointestinal"
          ],
          [
           "Garcinia",
           "Neurological/Cognitive"
          ],
          [
           "Garcinia",
           "Endocrine/Metabolic"
          ],
          [
           "Garcinia",
           "Pain"
          ],
          [
           "Garcinia",
           "Sleep/Fatigue"
          ],
          [
           "Garcinia",
           "Skin/Allergic"
          ],
          [
           "Garcinia",
           "Cardiovascular"
          ],
          [
           "Garcinia",
           "Respiratory"
          ],
          [
           "Garcinia",
           "Urinary/Sexual"
          ],
          [
           "Garcinia",
           "Mood/Mental"
          ],
          [
           "Garcinia",
           "Other"
          ]
         ],
         "hovertemplate": "%{customdata[0]}<br>Category: %{customdata[1]}<br>Count: %{y}<extra></extra>",
         "legendgroup": "Garcinia",
         "marker": {
          "color": "#19d3f3",
          "pattern": {
           "shape": ""
          }
         },
         "name": "Garcinia",
         "offsetgroup": "Garcinia",
         "orientation": "v",
         "showlegend": true,
         "textposition": "auto",
         "type": "bar",
         "x": [
          "Gastrointestinal",
          "Neurological/Cognitive",
          "Endocrine/Metabolic",
          "Pain",
          "Sleep/Fatigue",
          "Skin/Allergic",
          "Cardiovascular",
          "Respiratory",
          "Urinary/Sexual",
          "Mood/Mental",
          "Other"
         ],
         "xaxis": "x",
         "y": [
          380,
          145,
          99,
          71,
          51,
          36,
          34,
          27,
          26,
          18,
          10
         ],
         "yaxis": "y"
        },
        {
         "alignmentgroup": "True",
         "customdata": [
          [
           "Hydrochlorothiazide",
           "Neurological/Cognitive"
          ],
          [
           "Hydrochlorothiazide",
           "Endocrine/Metabolic"
          ],
          [
           "Hydrochlorothiazide",
           "Pain"
          ],
          [
           "Hydrochlorothiazide",
           "Other"
          ],
          [
           "Hydrochlorothiazide",
           "Cardiovascular"
          ],
          [
           "Hydrochlorothiazide",
           "Urinary/Sexual"
          ],
          [
           "Hydrochlorothiazide",
           "Skin/Allergic"
          ],
          [
           "Hydrochlorothiazide",
           "Gastrointestinal"
          ],
          [
           "Hydrochlorothiazide",
           "Sleep/Fatigue"
          ]
         ],
         "hovertemplate": "%{customdata[0]}<br>Category: %{customdata[1]}<br>Count: %{y}<extra></extra>",
         "legendgroup": "Hydrochlorothiazide",
         "marker": {
          "color": "#FF6692",
          "pattern": {
           "shape": ""
          }
         },
         "name": "Hydrochlorothiazide",
         "offsetgroup": "Hydrochlorothiazide",
         "orientation": "v",
         "showlegend": true,
         "textposition": "auto",
         "type": "bar",
         "x": [
          "Neurological/Cognitive",
          "Endocrine/Metabolic",
          "Pain",
          "Other",
          "Cardiovascular",
          "Urinary/Sexual",
          "Skin/Allergic",
          "Gastrointestinal",
          "Sleep/Fatigue"
         ],
         "xaxis": "x",
         "y": [
          12,
          3,
          3,
          3,
          2,
          2,
          2,
          1,
          1
         ],
         "yaxis": "y"
        },
        {
         "alignmentgroup": "True",
         "customdata": [
          [
           "Melatonin",
           "Sleep/Fatigue"
          ],
          [
           "Melatonin",
           "Neurological/Cognitive"
          ],
          [
           "Melatonin",
           "Gastrointestinal"
          ],
          [
           "Melatonin",
           "Mood/Mental"
          ],
          [
           "Melatonin",
           "Endocrine/Metabolic"
          ],
          [
           "Melatonin",
           "Pain"
          ],
          [
           "Melatonin",
           "Cardiovascular"
          ],
          [
           "Melatonin",
           "Skin/Allergic"
          ],
          [
           "Melatonin",
           "Urinary/Sexual"
          ]
         ],
         "hovertemplate": "%{customdata[0]}<br>Category: %{customdata[1]}<br>Count: %{y}<extra></extra>",
         "legendgroup": "Melatonin",
         "marker": {
          "color": "#B6E880",
          "pattern": {
           "shape": ""
          }
         },
         "name": "Melatonin",
         "offsetgroup": "Melatonin",
         "orientation": "v",
         "showlegend": true,
         "textposition": "auto",
         "type": "bar",
         "x": [
          "Sleep/Fatigue",
          "Neurological/Cognitive",
          "Gastrointestinal",
          "Mood/Mental",
          "Endocrine/Metabolic",
          "Pain",
          "Cardiovascular",
          "Skin/Allergic",
          "Urinary/Sexual"
         ],
         "xaxis": "x",
         "y": [
          51,
          46,
          25,
          21,
          7,
          7,
          5,
          2,
          1
         ],
         "yaxis": "y"
        },
        {
         "alignmentgroup": "True",
         "customdata": [
          [
           "Phosfood",
           "Endocrine/Metabolic"
          ],
          [
           "Phosfood",
           "Neurological/Cognitive"
          ]
         ],
         "hovertemplate": "%{customdata[0]}<br>Category: %{customdata[1]}<br>Count: %{y}<extra></extra>",
         "legendgroup": "Phosfood",
         "marker": {
          "color": "#FF97FF",
          "pattern": {
           "shape": ""
          }
         },
         "name": "Phosfood",
         "offsetgroup": "Phosfood",
         "orientation": "v",
         "showlegend": true,
         "textposition": "auto",
         "type": "bar",
         "x": [
          "Endocrine/Metabolic",
          "Neurological/Cognitive"
         ],
         "xaxis": "x",
         "y": [
          2,
          1
         ],
         "yaxis": "y"
        },
        {
         "alignmentgroup": "True",
         "customdata": [
          [
           "Potassium citrate",
           "Gastrointestinal"
          ],
          [
           "Potassium citrate",
           "Neurological/Cognitive"
          ],
          [
           "Potassium citrate",
           "Pain"
          ],
          [
           "Potassium citrate",
           "Urinary/Sexual"
          ],
          [
           "Potassium citrate",
           "Endocrine/Metabolic"
          ],
          [
           "Potassium citrate",
           "Cardiovascular"
          ],
          [
           "Potassium citrate",
           "Mood/Mental"
          ],
          [
           "Potassium citrate",
           "Sleep/Fatigue"
          ],
          [
           "Potassium citrate",
           "Other"
          ],
          [
           "Potassium citrate",
           "Skin/Allergic"
          ],
          [
           "Potassium citrate",
           "Respiratory"
          ]
         ],
         "hovertemplate": "%{customdata[0]}<br>Category: %{customdata[1]}<br>Count: %{y}<extra></extra>",
         "legendgroup": "Potassium citrate",
         "marker": {
          "color": "#FECB52",
          "pattern": {
           "shape": ""
          }
         },
         "name": "Potassium citrate",
         "offsetgroup": "Potassium citrate",
         "orientation": "v",
         "showlegend": true,
         "textposition": "auto",
         "type": "bar",
         "x": [
          "Gastrointestinal",
          "Neurological/Cognitive",
          "Pain",
          "Urinary/Sexual",
          "Endocrine/Metabolic",
          "Cardiovascular",
          "Mood/Mental",
          "Sleep/Fatigue",
          "Other",
          "Skin/Allergic",
          "Respiratory"
         ],
         "xaxis": "x",
         "y": [
          63,
          16,
          11,
          11,
          10,
          9,
          6,
          4,
          1,
          1,
          1
         ],
         "yaxis": "y"
        },
        {
         "alignmentgroup": "True",
         "customdata": [
          [
           "Rowatinex",
           "Urinary/Sexual"
          ],
          [
           "Rowatinex",
           "Gastrointestinal"
          ],
          [
           "Rowatinex",
           "Sleep/Fatigue"
          ],
          [
           "Rowatinex",
           "Endocrine/Metabolic"
          ],
          [
           "Rowatinex",
           "Pain"
          ],
          [
           "Rowatinex",
           "Mood/Mental"
          ],
          [
           "Rowatinex",
           "Neurological/Cognitive"
          ],
          [
           "Rowatinex",
           "Cardiovascular"
          ]
         ],
         "hovertemplate": "%{customdata[0]}<br>Category: %{customdata[1]}<br>Count: %{y}<extra></extra>",
         "legendgroup": "Rowatinex",
         "marker": {
          "color": "#636efa",
          "pattern": {
           "shape": ""
          }
         },
         "name": "Rowatinex",
         "offsetgroup": "Rowatinex",
         "orientation": "v",
         "showlegend": true,
         "textposition": "auto",
         "type": "bar",
         "x": [
          "Urinary/Sexual",
          "Gastrointestinal",
          "Sleep/Fatigue",
          "Endocrine/Metabolic",
          "Pain",
          "Mood/Mental",
          "Neurological/Cognitive",
          "Cardiovascular"
         ],
         "xaxis": "x",
         "y": [
          3,
          2,
          2,
          1,
          1,
          1,
          1,
          1
         ],
         "yaxis": "y"
        }
       ],
       "layout": {
        "bargap": 0.15,
        "bargroupgap": 0.1,
        "barmode": "group",
        "height": 400,
        "legend": {
         "orientation": "h",
         "title": {},
         "tracegroupgap": 0,
         "x": 0.5,
         "xanchor": "center",
         "y": -0.7,
         "yanchor": "top"
        },
        "margin": {
         "t": 60
        },
        "template": {
         "data": {
          "bar": [
           {
            "error_x": {
             "color": "#2a3f5f"
            },
            "error_y": {
             "color": "#2a3f5f"
            },
            "marker": {
             "line": {
              "color": "white",
              "width": 0.5
             },
             "pattern": {
              "fillmode": "overlay",
              "size": 10,
              "solidity": 0.2
             }
            },
            "type": "bar"
           }
          ],
          "barpolar": [
           {
            "marker": {
             "line": {
              "color": "white",
              "width": 0.5
             },
             "pattern": {
              "fillmode": "overlay",
              "size": 10,
              "solidity": 0.2
             }
            },
            "type": "barpolar"
           }
          ],
          "carpet": [
           {
            "aaxis": {
             "endlinecolor": "#2a3f5f",
             "gridcolor": "#C8D4E3",
             "linecolor": "#C8D4E3",
             "minorgridcolor": "#C8D4E3",
             "startlinecolor": "#2a3f5f"
            },
            "baxis": {
             "endlinecolor": "#2a3f5f",
             "gridcolor": "#C8D4E3",
             "linecolor": "#C8D4E3",
             "minorgridcolor": "#C8D4E3",
             "startlinecolor": "#2a3f5f"
            },
            "type": "carpet"
           }
          ],
          "choropleth": [
           {
            "colorbar": {
             "outlinewidth": 0,
             "ticks": ""
            },
            "type": "choropleth"
           }
          ],
          "contour": [
           {
            "colorbar": {
             "outlinewidth": 0,
             "ticks": ""
            },
            "colorscale": [
             [
              0,
              "#0d0887"
             ],
             [
              0.1111111111111111,
              "#46039f"
             ],
             [
              0.2222222222222222,
              "#7201a8"
             ],
             [
              0.3333333333333333,
              "#9c179e"
             ],
             [
              0.4444444444444444,
              "#bd3786"
             ],
             [
              0.5555555555555556,
              "#d8576b"
             ],
             [
              0.6666666666666666,
              "#ed7953"
             ],
             [
              0.7777777777777778,
              "#fb9f3a"
             ],
             [
              0.8888888888888888,
              "#fdca26"
             ],
             [
              1,
              "#f0f921"
             ]
            ],
            "type": "contour"
           }
          ],
          "contourcarpet": [
           {
            "colorbar": {
             "outlinewidth": 0,
             "ticks": ""
            },
            "type": "contourcarpet"
           }
          ],
          "heatmap": [
           {
            "colorbar": {
             "outlinewidth": 0,
             "ticks": ""
            },
            "colorscale": [
             [
              0,
              "#0d0887"
             ],
             [
              0.1111111111111111,
              "#46039f"
             ],
             [
              0.2222222222222222,
              "#7201a8"
             ],
             [
              0.3333333333333333,
              "#9c179e"
             ],
             [
              0.4444444444444444,
              "#bd3786"
             ],
             [
              0.5555555555555556,
              "#d8576b"
             ],
             [
              0.6666666666666666,
              "#ed7953"
             ],
             [
              0.7777777777777778,
              "#fb9f3a"
             ],
             [
              0.8888888888888888,
              "#fdca26"
             ],
             [
              1,
              "#f0f921"
             ]
            ],
            "type": "heatmap"
           }
          ],
          "heatmapgl": [
           {
            "colorbar": {
             "outlinewidth": 0,
             "ticks": ""
            },
            "colorscale": [
             [
              0,
              "#0d0887"
             ],
             [
              0.1111111111111111,
              "#46039f"
             ],
             [
              0.2222222222222222,
              "#7201a8"
             ],
             [
              0.3333333333333333,
              "#9c179e"
             ],
             [
              0.4444444444444444,
              "#bd3786"
             ],
             [
              0.5555555555555556,
              "#d8576b"
             ],
             [
              0.6666666666666666,
              "#ed7953"
             ],
             [
              0.7777777777777778,
              "#fb9f3a"
             ],
             [
              0.8888888888888888,
              "#fdca26"
             ],
             [
              1,
              "#f0f921"
             ]
            ],
            "type": "heatmapgl"
           }
          ],
          "histogram": [
           {
            "marker": {
             "pattern": {
              "fillmode": "overlay",
              "size": 10,
              "solidity": 0.2
             }
            },
            "type": "histogram"
           }
          ],
          "histogram2d": [
           {
            "colorbar": {
             "outlinewidth": 0,
             "ticks": ""
            },
            "colorscale": [
             [
              0,
              "#0d0887"
             ],
             [
              0.1111111111111111,
              "#46039f"
             ],
             [
              0.2222222222222222,
              "#7201a8"
             ],
             [
              0.3333333333333333,
              "#9c179e"
             ],
             [
              0.4444444444444444,
              "#bd3786"
             ],
             [
              0.5555555555555556,
              "#d8576b"
             ],
             [
              0.6666666666666666,
              "#ed7953"
             ],
             [
              0.7777777777777778,
              "#fb9f3a"
             ],
             [
              0.8888888888888888,
              "#fdca26"
             ],
             [
              1,
              "#f0f921"
             ]
            ],
            "type": "histogram2d"
           }
          ],
          "histogram2dcontour": [
           {
            "colorbar": {
             "outlinewidth": 0,
             "ticks": ""
            },
            "colorscale": [
             [
              0,
              "#0d0887"
             ],
             [
              0.1111111111111111,
              "#46039f"
             ],
             [
              0.2222222222222222,
              "#7201a8"
             ],
             [
              0.3333333333333333,
              "#9c179e"
             ],
             [
              0.4444444444444444,
              "#bd3786"
             ],
             [
              0.5555555555555556,
              "#d8576b"
             ],
             [
              0.6666666666666666,
              "#ed7953"
             ],
             [
              0.7777777777777778,
              "#fb9f3a"
             ],
             [
              0.8888888888888888,
              "#fdca26"
             ],
             [
              1,
              "#f0f921"
             ]
            ],
            "type": "histogram2dcontour"
           }
          ],
          "mesh3d": [
           {
            "colorbar": {
             "outlinewidth": 0,
             "ticks": ""
            },
            "type": "mesh3d"
           }
          ],
          "parcoords": [
           {
            "line": {
             "colorbar": {
              "outlinewidth": 0,
              "ticks": ""
             }
            },
            "type": "parcoords"
           }
          ],
          "pie": [
           {
            "automargin": true,
            "type": "pie"
           }
          ],
          "scatter": [
           {
            "fillpattern": {
             "fillmode": "overlay",
             "size": 10,
             "solidity": 0.2
            },
            "type": "scatter"
           }
          ],
          "scatter3d": [
           {
            "line": {
             "colorbar": {
              "outlinewidth": 0,
              "ticks": ""
             }
            },
            "marker": {
             "colorbar": {
              "outlinewidth": 0,
              "ticks": ""
             }
            },
            "type": "scatter3d"
           }
          ],
          "scattercarpet": [
           {
            "marker": {
             "colorbar": {
              "outlinewidth": 0,
              "ticks": ""
             }
            },
            "type": "scattercarpet"
           }
          ],
          "scattergeo": [
           {
            "marker": {
             "colorbar": {
              "outlinewidth": 0,
              "ticks": ""
             }
            },
            "type": "scattergeo"
           }
          ],
          "scattergl": [
           {
            "marker": {
             "colorbar": {
              "outlinewidth": 0,
              "ticks": ""
             }
            },
            "type": "scattergl"
           }
          ],
          "scattermapbox": [
           {
            "marker": {
             "colorbar": {
              "outlinewidth": 0,
              "ticks": ""
             }
            },
            "type": "scattermapbox"
           }
          ],
          "scatterpolar": [
           {
            "marker": {
             "colorbar": {
              "outlinewidth": 0,
              "ticks": ""
             }
            },
            "type": "scatterpolar"
           }
          ],
          "scatterpolargl": [
           {
            "marker": {
             "colorbar": {
              "outlinewidth": 0,
              "ticks": ""
             }
            },
            "type": "scatterpolargl"
           }
          ],
          "scatterternary": [
           {
            "marker": {
             "colorbar": {
              "outlinewidth": 0,
              "ticks": ""
             }
            },
            "type": "scatterternary"
           }
          ],
          "surface": [
           {
            "colorbar": {
             "outlinewidth": 0,
             "ticks": ""
            },
            "colorscale": [
             [
              0,
              "#0d0887"
             ],
             [
              0.1111111111111111,
              "#46039f"
             ],
             [
              0.2222222222222222,
              "#7201a8"
             ],
             [
              0.3333333333333333,
              "#9c179e"
             ],
             [
              0.4444444444444444,
              "#bd3786"
             ],
             [
              0.5555555555555556,
              "#d8576b"
             ],
             [
              0.6666666666666666,
              "#ed7953"
             ],
             [
              0.7777777777777778,
              "#fb9f3a"
             ],
             [
              0.8888888888888888,
              "#fdca26"
             ],
             [
              1,
              "#f0f921"
             ]
            ],
            "type": "surface"
           }
          ],
          "table": [
           {
            "cells": {
             "fill": {
              "color": "#EBF0F8"
             },
             "line": {
              "color": "white"
             }
            },
            "header": {
             "fill": {
              "color": "#C8D4E3"
             },
             "line": {
              "color": "white"
             }
            },
            "type": "table"
           }
          ]
         },
         "layout": {
          "annotationdefaults": {
           "arrowcolor": "#2a3f5f",
           "arrowhead": 0,
           "arrowwidth": 1
          },
          "autotypenumbers": "strict",
          "coloraxis": {
           "colorbar": {
            "outlinewidth": 0,
            "ticks": ""
           }
          },
          "colorscale": {
           "diverging": [
            [
             0,
             "#8e0152"
            ],
            [
             0.1,
             "#c51b7d"
            ],
            [
             0.2,
             "#de77ae"
            ],
            [
             0.3,
             "#f1b6da"
            ],
            [
             0.4,
             "#fde0ef"
            ],
            [
             0.5,
             "#f7f7f7"
            ],
            [
             0.6,
             "#e6f5d0"
            ],
            [
             0.7,
             "#b8e186"
            ],
            [
             0.8,
             "#7fbc41"
            ],
            [
             0.9,
             "#4d9221"
            ],
            [
             1,
             "#276419"
            ]
           ],
           "sequential": [
            [
             0,
             "#0d0887"
            ],
            [
             0.1111111111111111,
             "#46039f"
            ],
            [
             0.2222222222222222,
             "#7201a8"
            ],
            [
             0.3333333333333333,
             "#9c179e"
            ],
            [
             0.4444444444444444,
             "#bd3786"
            ],
            [
             0.5555555555555556,
             "#d8576b"
            ],
            [
             0.6666666666666666,
             "#ed7953"
            ],
            [
             0.7777777777777778,
             "#fb9f3a"
            ],
            [
             0.8888888888888888,
             "#fdca26"
            ],
            [
             1,
             "#f0f921"
            ]
           ],
           "sequentialminus": [
            [
             0,
             "#0d0887"
            ],
            [
             0.1111111111111111,
             "#46039f"
            ],
            [
             0.2222222222222222,
             "#7201a8"
            ],
            [
             0.3333333333333333,
             "#9c179e"
            ],
            [
             0.4444444444444444,
             "#bd3786"
            ],
            [
             0.5555555555555556,
             "#d8576b"
            ],
            [
             0.6666666666666666,
             "#ed7953"
            ],
            [
             0.7777777777777778,
             "#fb9f3a"
            ],
            [
             0.8888888888888888,
             "#fdca26"
            ],
            [
             1,
             "#f0f921"
            ]
           ]
          },
          "colorway": [
           "#636efa",
           "#EF553B",
           "#00cc96",
           "#ab63fa",
           "#FFA15A",
           "#19d3f3",
           "#FF6692",
           "#B6E880",
           "#FF97FF",
           "#FECB52"
          ],
          "font": {
           "color": "#2a3f5f"
          },
          "geo": {
           "bgcolor": "white",
           "lakecolor": "white",
           "landcolor": "white",
           "showlakes": true,
           "showland": true,
           "subunitcolor": "#C8D4E3"
          },
          "hoverlabel": {
           "align": "left"
          },
          "hovermode": "closest",
          "mapbox": {
           "style": "light"
          },
          "paper_bgcolor": "white",
          "plot_bgcolor": "white",
          "polar": {
           "angularaxis": {
            "gridcolor": "#EBF0F8",
            "linecolor": "#EBF0F8",
            "ticks": ""
           },
           "bgcolor": "white",
           "radialaxis": {
            "gridcolor": "#EBF0F8",
            "linecolor": "#EBF0F8",
            "ticks": ""
           }
          },
          "scene": {
           "xaxis": {
            "backgroundcolor": "white",
            "gridcolor": "#DFE8F3",
            "gridwidth": 2,
            "linecolor": "#EBF0F8",
            "showbackground": true,
            "ticks": "",
            "zerolinecolor": "#EBF0F8"
           },
           "yaxis": {
            "backgroundcolor": "white",
            "gridcolor": "#DFE8F3",
            "gridwidth": 2,
            "linecolor": "#EBF0F8",
            "showbackground": true,
            "ticks": "",
            "zerolinecolor": "#EBF0F8"
           },
           "zaxis": {
            "backgroundcolor": "white",
            "gridcolor": "#DFE8F3",
            "gridwidth": 2,
            "linecolor": "#EBF0F8",
            "showbackground": true,
            "ticks": "",
            "zerolinecolor": "#EBF0F8"
           }
          },
          "shapedefaults": {
           "line": {
            "color": "#2a3f5f"
           }
          },
          "ternary": {
           "aaxis": {
            "gridcolor": "#DFE8F3",
            "linecolor": "#A2B1C6",
            "ticks": ""
           },
           "baxis": {
            "gridcolor": "#DFE8F3",
            "linecolor": "#A2B1C6",
            "ticks": ""
           },
           "bgcolor": "white",
           "caxis": {
            "gridcolor": "#DFE8F3",
            "linecolor": "#A2B1C6",
            "ticks": ""
           }
          },
          "title": {
           "x": 0.05
          },
          "xaxis": {
           "automargin": true,
           "gridcolor": "#EBF0F8",
           "linecolor": "#EBF0F8",
           "ticks": "",
           "title": {
            "standoff": 15
           },
           "zerolinecolor": "#EBF0F8",
           "zerolinewidth": 2
          },
          "yaxis": {
           "automargin": true,
           "gridcolor": "#EBF0F8",
           "linecolor": "#EBF0F8",
           "ticks": "",
           "title": {
            "standoff": 15
           },
           "zerolinecolor": "#EBF0F8",
           "zerolinewidth": 2
          }
         }
        },
        "title": {
         "font": {
          "size": 14
         },
         "text": "Distribution of side effect categories by product (total count)",
         "y": 0.95,
         "yanchor": "bottom"
        },
        "width": 800,
        "xaxis": {
         "anchor": "y",
         "domain": [
          0,
          1
         ],
         "tickangle": 45,
         "title": {}
        },
        "yaxis": {
         "anchor": "x",
         "domain": [
          0,
          1
         ],
         "title": {
          "text": "Number of Side Effects"
         }
        }
       }
      }
     },
     "metadata": {},
     "output_type": "display_data"
    }
   ],
   "source": [
    "def create_category_distribution(df, use_counts=False):\n",
    "    \"\"\"Create a grouped bar plot comparing side effect category distributions across medicines.\n",
    "    \n",
    "    Args:\n",
    "        df: DataFrame with the side effects data\n",
    "        use_counts: If True, show actual counts. If False, show percentages.\n",
    "    \"\"\"\n",
    "    all_data = []\n",
    "    for product in sorted(df['Product'].unique()):\n",
    "        product_data = df[df['Product'] == product]\n",
    "        category_counts = product_data['Category'].value_counts()\n",
    "        \n",
    "        if use_counts:\n",
    "            values = category_counts.values\n",
    "        else:\n",
    "            values = (category_counts / len(product_data)) * 100\n",
    "            \n",
    "        category_df = pd.DataFrame({\n",
    "            'Category': category_counts.index,\n",
    "            'Value': values,\n",
    "            'Product': product\n",
    "        })\n",
    "        all_data.append(category_df)\n",
    "\n",
    "    plot_df = pd.concat(all_data)\n",
    "    \n",
    "    fig = px.bar(plot_df, \n",
    "                 x='Category', \n",
    "                 y='Value',\n",
    "                 color='Product',\n",
    "                 barmode='group',\n",
    "                 width=PLOT_PARAMS['width'] * 2.0,\n",
    "                 height=PLOT_PARAMS['height'] * 2.0)\n",
    "\n",
    "    # Determine title and axis labels based on the mode\n",
    "    metric = \"total count\" if use_counts else \"percentage\"\n",
    "    y_axis_label = \"Number of Side Effects\" if use_counts else \"Percentage of Side Effects\"\n",
    "    \n",
    "    fig.update_layout(\n",
    "        title=dict(\n",
    "            text=f'Distribution of side effect categories by product ({metric})',\n",
    "            y=0.95,\n",
    "            yanchor='bottom'\n",
    "        ),\n",
    "        xaxis_title= None,\n",
    "        yaxis_title=y_axis_label,\n",
    "        template='plotly_white',\n",
    "        bargap=0.15,\n",
    "        bargroupgap=0.1,\n",
    "        # margin=PLOT_PARAMS['margin'],\n",
    "        title_font_size=PLOT_PARAMS['title_font_size'],\n",
    "        xaxis=dict(tickangle=45),\n",
    "        legend=dict(\n",
    "            orientation='h',\n",
    "            yanchor='top',\n",
    "            y=-.7,\n",
    "            xanchor='center',\n",
    "            x=0.5,\n",
    "            title=None\n",
    "        )\n",
    "    )\n",
    "\n",
    "    for product_name in plot_df['Product'].unique():\n",
    "        product_data = plot_df[plot_df['Product'] == product_name]\n",
    "        hover_value = \"Count: %{y}\" if use_counts else \"Percentage: %{y:.1f}%\"\n",
    "        fig.update_traces(\n",
    "            customdata=product_data[['Product', 'Category']].values,\n",
    "            hovertemplate=(\n",
    "                \"%{customdata[0]}<br>\" +\n",
    "                \"Category: %{customdata[1]}<br>\" +\n",
    "                hover_value +\n",
    "                \"<extra></extra>\"\n",
    "            ),\n",
    "            selector=dict(name=product_name)\n",
    "        )\n",
    "    \n",
    "    return fig\n",
    "\n",
    "def create_subcategory_distribution(df, category, use_counts=False):\n",
    "    \"\"\"Create a grouped bar plot for subcategories within a specific category.\n",
    "    \n",
    "    Args:\n",
    "        df: DataFrame with the side effects data\n",
    "        category: The main category to analyze\n",
    "        use_counts: If True, show actual counts. If False, show percentages.\n",
    "    \"\"\"\n",
    "    category_data = df[df['Category'] == category]\n",
    "    \n",
    "    all_data = []\n",
    "    for product in sorted(category_data['Product'].unique()):\n",
    "        product_data = category_data[category_data['Product'] == product]\n",
    "        subcategory_counts = product_data['Subcategory'].value_counts()\n",
    "        \n",
    "        if use_counts:\n",
    "            values = subcategory_counts.values\n",
    "        else:\n",
    "            # Calculate percentage relative to total side effects for the product\n",
    "            values = (subcategory_counts / len(df[df['Product'] == product])) * 100\n",
    "            \n",
    "        subcategory_df = pd.DataFrame({\n",
    "            'Subcategory': subcategory_counts.index,\n",
    "            'Value': values,\n",
    "            'Product': product\n",
    "        })\n",
    "        all_data.append(subcategory_df)\n",
    "\n",
    "    plot_df = pd.concat(all_data)\n",
    "    \n",
    "    fig = px.bar(plot_df, \n",
    "                 x='Subcategory', \n",
    "                 y='Value',\n",
    "                 color='Product',\n",
    "                 barmode='group',\n",
    "                 width=PLOT_PARAMS['width'] * 2.0,\n",
    "                 height=PLOT_PARAMS['height'] * 2.0)\n",
    "\n",
    "    # Determine title and axis labels based on the mode\n",
    "    metric = \"total count\" if use_counts else \"percentage\"\n",
    "    y_axis_label = \"Number of Side Effects\" if use_counts else \"Percentage of Side Effects\"\n",
    "    \n",
    "    fig.update_layout(\n",
    "        title=dict(\n",
    "            text=f'Distribution of {category} subcategories by product ({metric})',\n",
    "            y=0.95,\n",
    "            yanchor='bottom'\n",
    "        ),\n",
    "        xaxis_title=None,\n",
    "        yaxis_title=y_axis_label,\n",
    "        template='plotly_white',\n",
    "        bargap=0.15,\n",
    "        bargroupgap=0.1,\n",
    "        # margin=PLOT_PARAMS['margin'],\n",
    "        title_font_size=PLOT_PARAMS['title_font_size'],\n",
    "        xaxis=dict(tickangle=45),\n",
    "        legend=dict(\n",
    "            orientation='h',\n",
    "            yanchor='top',\n",
    "            y=-0.7,\n",
    "            xanchor='center',\n",
    "            x=0.5,\n",
    "            title=None\n",
    "        )\n",
    "    )\n",
    "\n",
    "    for product_name in plot_df['Product'].unique():\n",
    "        product_data = plot_df[plot_df['Product'] == product_name]\n",
    "        hover_value = \"Count: %{y}\" if use_counts else \"Percentage: %{y:.1f}%\"\n",
    "        fig.update_traces(\n",
    "            customdata=product_data[['Product', 'Subcategory']].values,\n",
    "            hovertemplate=(\n",
    "                \"%{customdata[0]}<br>\" +\n",
    "                \"Subcategory: %{customdata[1]}<br>\" +\n",
    "                hover_value +\n",
    "                \"<extra></extra>\"\n",
    "            ),\n",
    "            selector=dict(name=product_name)\n",
    "        )\n",
    "    \n",
    "    return fig\n",
    "\n",
    "def sanitize_filename(category):\n",
    "    \"\"\"Convert category name to filename-friendly format.\"\"\"\n",
    "    # Replace forward slashes and other special characters with hyphens\n",
    "    sanitized = category.lower().replace('/', '-').replace(' ', '-')\n",
    "    # Remove any other potentially problematic characters\n",
    "    sanitized = ''.join(c for c in sanitized if c.isalnum() or c == '-')\n",
    "    return sanitized\n",
    "\n",
    "PLOT_PARAMS = {\n",
    "    'width': 400,\n",
    "    'height': 200,\n",
    "    'margin': dict(l=50, r=50, t=50, b=50),\n",
    "    'title_font_size': 14\n",
    "}\n",
    "\n",
    "# Usage:\n",
    "df = pd.read_csv('csv-files/Kidney Stone Reviews - Summary - Side effects.csv')\n",
    "# Create main category distribution\n",
    "use_counts = True\n",
    "metric = \"total-count\" if use_counts else \"percentage\"\n",
    "fig_categories = create_category_distribution(df, use_counts=use_counts)\n",
    "fig_categories.show()\n",
    "# fig_categories.write_html(figfolder + \"side-effects-category-distribution-\" + metric + \".html\")\n",
    "\n",
    "for use_counts in [True, False]:\n",
    "    metric = \"total-count\" if use_counts else \"percentage\"\n",
    "    \n",
    "    # Create and save main category distribution\n",
    "    fig_categories = create_category_distribution(df, use_counts=use_counts)\n",
    "    fig_categories.write_html(figfolder + f\"side-effects-category-distribution-{metric}.html\")\n",
    "    \n",
    "    # Get all unique categories and create plots for each\n",
    "    categories = sorted(df['Category'].unique())\n",
    "    \n",
    "    for category in categories:\n",
    "        # Create filename-friendly version of category name\n",
    "        category_filename = sanitize_filename(category)\n",
    "        \n",
    "        # Create and save subcategory distribution\n",
    "        fig_subcategories = create_subcategory_distribution(df, category, use_counts=use_counts)\n",
    "        filename = f\"side-effects-{category_filename}-subcategories-{metric}.html\"\n",
    "        # fig_subcategories.write_html(\n",
    "        #     figfolder + f\"side-effects-{category_filename}-subcategories-{metric}.html\"\n",
    "        # )"
   ]
  },
  {
   "cell_type": "code",
   "execution_count": 78,
   "metadata": {},
   "outputs": [
    {
     "data": {
      "application/vnd.plotly.v1+json": {
       "config": {
        "plotlyServerURL": "https://plot.ly"
       },
       "data": [
        {
         "alignmentgroup": "True",
         "customdata": [
          [
           62
          ],
          [
           271
          ],
          [
           94
          ],
          [
           1772
          ],
          [
           1156
          ],
          [
           930
          ],
          [
           66
          ],
          [
           161
          ],
          [
           666
          ],
          [
           111
          ]
         ],
         "hovertemplate": "Product: %{x}<br>Severity: Mild<br>Percentage: %{y:.1f}%<br>Total Reviews: %{customdata[0]:,}<extra></extra>",
         "legendgroup": "Mild",
         "marker": {
          "color": "#4caf50",
          "pattern": {
           "shape": ""
          }
         },
         "name": "Mild",
         "offsetgroup": "Mild",
         "orientation": "v",
         "showlegend": true,
         "textposition": "auto",
         "type": "bar",
         "x": [
          "Allopurinol",
          "Ashwagandha",
          "Black seed",
          "Chanca piedra",
          "Flomax",
          "Garcinia",
          "Hydrochlorothiazide",
          "Melatonin",
          "Potassium citrate",
          "Rowatinex"
         ],
         "xaxis": "x",
         "y": [
          0.8388,
          11.494408945686901,
          6.08,
          1.1509285714285715,
          5.536194174757282,
          14.072240802675585,
          0.8882758620689656,
          8.695272727272727,
          3.6885714285714286,
          2.625
         ],
         "yaxis": "y"
        },
        {
         "alignmentgroup": "True",
         "customdata": [
          [
           62
          ],
          [
           271
          ],
          [
           94
          ],
          [
           1772
          ],
          [
           1156
          ],
          [
           930
          ],
          [
           66
          ],
          [
           161
          ],
          [
           666
          ],
          [
           111
          ]
         ],
         "hovertemplate": "Product: %{x}<br>Severity: Medium<br>Percentage: %{y:.1f}%<br>Total Reviews: %{customdata[0]:,}<extra></extra>",
         "legendgroup": "Medium",
         "marker": {
          "color": "#ffc107",
          "pattern": {
           "shape": ""
          }
         },
         "name": "Medium",
         "offsetgroup": "Medium",
         "orientation": "v",
         "showlegend": true,
         "textposition": "auto",
         "type": "bar",
         "x": [
          "Allopurinol",
          "Ashwagandha",
          "Black seed",
          "Chanca piedra",
          "Flomax",
          "Garcinia",
          "Hydrochlorothiazide",
          "Melatonin",
          "Potassium citrate",
          "Rowatinex"
         ],
         "xaxis": "x",
         "y": [
          19.2924,
          30.34523961661342,
          10.336,
          1.9369285714285716,
          15.888427184466018,
          26.989297658862878,
          23.095172413793104,
          19.745515151515153,
          8.153684210526315,
          1.875
         ],
         "yaxis": "y"
        },
        {
         "alignmentgroup": "True",
         "customdata": [
          [
           62
          ],
          [
           271
          ],
          [
           94
          ],
          [
           1772
          ],
          [
           1156
          ],
          [
           930
          ],
          [
           66
          ],
          [
           161
          ],
          [
           42
          ],
          [
           666
          ]
         ],
         "hovertemplate": "Product: %{x}<br>Severity: Severe<br>Percentage: %{y:.1f}%<br>Total Reviews: %{customdata[0]:,}<extra></extra>",
         "legendgroup": "Severe",
         "marker": {
          "color": "#f44336",
          "pattern": {
           "shape": ""
          }
         },
         "name": "Severe",
         "offsetgroup": "Severe",
         "orientation": "v",
         "showlegend": true,
         "textposition": "auto",
         "type": "bar",
         "x": [
          "Allopurinol",
          "Ashwagandha",
          "Black seed",
          "Chanca piedra",
          "Flomax",
          "Garcinia",
          "Hydrochlorothiazide",
          "Melatonin",
          "Phosfood",
          "Potassium citrate"
         ],
         "xaxis": "x",
         "y": [
          0.8388,
          6.13035143769968,
          4.864,
          0.8421428571428571,
          1.7553786407766991,
          6.038461538461538,
          1.7765517241379312,
          1.4492121212121212,
          7.14,
          1.0677443609022557
         ],
         "yaxis": "y"
        }
       ],
       "layout": {
        "barmode": "stack",
        "height": 400,
        "legend": {
         "orientation": "h",
         "title": {},
         "tracegroupgap": 0,
         "x": 0.5,
         "xanchor": "center",
         "y": -0.5,
         "yanchor": "top"
        },
        "margin": {
         "t": 60
        },
        "template": {
         "data": {
          "bar": [
           {
            "error_x": {
             "color": "#2a3f5f"
            },
            "error_y": {
             "color": "#2a3f5f"
            },
            "marker": {
             "line": {
              "color": "white",
              "width": 0.5
             },
             "pattern": {
              "fillmode": "overlay",
              "size": 10,
              "solidity": 0.2
             }
            },
            "type": "bar"
           }
          ],
          "barpolar": [
           {
            "marker": {
             "line": {
              "color": "white",
              "width": 0.5
             },
             "pattern": {
              "fillmode": "overlay",
              "size": 10,
              "solidity": 0.2
             }
            },
            "type": "barpolar"
           }
          ],
          "carpet": [
           {
            "aaxis": {
             "endlinecolor": "#2a3f5f",
             "gridcolor": "#C8D4E3",
             "linecolor": "#C8D4E3",
             "minorgridcolor": "#C8D4E3",
             "startlinecolor": "#2a3f5f"
            },
            "baxis": {
             "endlinecolor": "#2a3f5f",
             "gridcolor": "#C8D4E3",
             "linecolor": "#C8D4E3",
             "minorgridcolor": "#C8D4E3",
             "startlinecolor": "#2a3f5f"
            },
            "type": "carpet"
           }
          ],
          "choropleth": [
           {
            "colorbar": {
             "outlinewidth": 0,
             "ticks": ""
            },
            "type": "choropleth"
           }
          ],
          "contour": [
           {
            "colorbar": {
             "outlinewidth": 0,
             "ticks": ""
            },
            "colorscale": [
             [
              0,
              "#0d0887"
             ],
             [
              0.1111111111111111,
              "#46039f"
             ],
             [
              0.2222222222222222,
              "#7201a8"
             ],
             [
              0.3333333333333333,
              "#9c179e"
             ],
             [
              0.4444444444444444,
              "#bd3786"
             ],
             [
              0.5555555555555556,
              "#d8576b"
             ],
             [
              0.6666666666666666,
              "#ed7953"
             ],
             [
              0.7777777777777778,
              "#fb9f3a"
             ],
             [
              0.8888888888888888,
              "#fdca26"
             ],
             [
              1,
              "#f0f921"
             ]
            ],
            "type": "contour"
           }
          ],
          "contourcarpet": [
           {
            "colorbar": {
             "outlinewidth": 0,
             "ticks": ""
            },
            "type": "contourcarpet"
           }
          ],
          "heatmap": [
           {
            "colorbar": {
             "outlinewidth": 0,
             "ticks": ""
            },
            "colorscale": [
             [
              0,
              "#0d0887"
             ],
             [
              0.1111111111111111,
              "#46039f"
             ],
             [
              0.2222222222222222,
              "#7201a8"
             ],
             [
              0.3333333333333333,
              "#9c179e"
             ],
             [
              0.4444444444444444,
              "#bd3786"
             ],
             [
              0.5555555555555556,
              "#d8576b"
             ],
             [
              0.6666666666666666,
              "#ed7953"
             ],
             [
              0.7777777777777778,
              "#fb9f3a"
             ],
             [
              0.8888888888888888,
              "#fdca26"
             ],
             [
              1,
              "#f0f921"
             ]
            ],
            "type": "heatmap"
           }
          ],
          "heatmapgl": [
           {
            "colorbar": {
             "outlinewidth": 0,
             "ticks": ""
            },
            "colorscale": [
             [
              0,
              "#0d0887"
             ],
             [
              0.1111111111111111,
              "#46039f"
             ],
             [
              0.2222222222222222,
              "#7201a8"
             ],
             [
              0.3333333333333333,
              "#9c179e"
             ],
             [
              0.4444444444444444,
              "#bd3786"
             ],
             [
              0.5555555555555556,
              "#d8576b"
             ],
             [
              0.6666666666666666,
              "#ed7953"
             ],
             [
              0.7777777777777778,
              "#fb9f3a"
             ],
             [
              0.8888888888888888,
              "#fdca26"
             ],
             [
              1,
              "#f0f921"
             ]
            ],
            "type": "heatmapgl"
           }
          ],
          "histogram": [
           {
            "marker": {
             "pattern": {
              "fillmode": "overlay",
              "size": 10,
              "solidity": 0.2
             }
            },
            "type": "histogram"
           }
          ],
          "histogram2d": [
           {
            "colorbar": {
             "outlinewidth": 0,
             "ticks": ""
            },
            "colorscale": [
             [
              0,
              "#0d0887"
             ],
             [
              0.1111111111111111,
              "#46039f"
             ],
             [
              0.2222222222222222,
              "#7201a8"
             ],
             [
              0.3333333333333333,
              "#9c179e"
             ],
             [
              0.4444444444444444,
              "#bd3786"
             ],
             [
              0.5555555555555556,
              "#d8576b"
             ],
             [
              0.6666666666666666,
              "#ed7953"
             ],
             [
              0.7777777777777778,
              "#fb9f3a"
             ],
             [
              0.8888888888888888,
              "#fdca26"
             ],
             [
              1,
              "#f0f921"
             ]
            ],
            "type": "histogram2d"
           }
          ],
          "histogram2dcontour": [
           {
            "colorbar": {
             "outlinewidth": 0,
             "ticks": ""
            },
            "colorscale": [
             [
              0,
              "#0d0887"
             ],
             [
              0.1111111111111111,
              "#46039f"
             ],
             [
              0.2222222222222222,
              "#7201a8"
             ],
             [
              0.3333333333333333,
              "#9c179e"
             ],
             [
              0.4444444444444444,
              "#bd3786"
             ],
             [
              0.5555555555555556,
              "#d8576b"
             ],
             [
              0.6666666666666666,
              "#ed7953"
             ],
             [
              0.7777777777777778,
              "#fb9f3a"
             ],
             [
              0.8888888888888888,
              "#fdca26"
             ],
             [
              1,
              "#f0f921"
             ]
            ],
            "type": "histogram2dcontour"
           }
          ],
          "mesh3d": [
           {
            "colorbar": {
             "outlinewidth": 0,
             "ticks": ""
            },
            "type": "mesh3d"
           }
          ],
          "parcoords": [
           {
            "line": {
             "colorbar": {
              "outlinewidth": 0,
              "ticks": ""
             }
            },
            "type": "parcoords"
           }
          ],
          "pie": [
           {
            "automargin": true,
            "type": "pie"
           }
          ],
          "scatter": [
           {
            "fillpattern": {
             "fillmode": "overlay",
             "size": 10,
             "solidity": 0.2
            },
            "type": "scatter"
           }
          ],
          "scatter3d": [
           {
            "line": {
             "colorbar": {
              "outlinewidth": 0,
              "ticks": ""
             }
            },
            "marker": {
             "colorbar": {
              "outlinewidth": 0,
              "ticks": ""
             }
            },
            "type": "scatter3d"
           }
          ],
          "scattercarpet": [
           {
            "marker": {
             "colorbar": {
              "outlinewidth": 0,
              "ticks": ""
             }
            },
            "type": "scattercarpet"
           }
          ],
          "scattergeo": [
           {
            "marker": {
             "colorbar": {
              "outlinewidth": 0,
              "ticks": ""
             }
            },
            "type": "scattergeo"
           }
          ],
          "scattergl": [
           {
            "marker": {
             "colorbar": {
              "outlinewidth": 0,
              "ticks": ""
             }
            },
            "type": "scattergl"
           }
          ],
          "scattermapbox": [
           {
            "marker": {
             "colorbar": {
              "outlinewidth": 0,
              "ticks": ""
             }
            },
            "type": "scattermapbox"
           }
          ],
          "scatterpolar": [
           {
            "marker": {
             "colorbar": {
              "outlinewidth": 0,
              "ticks": ""
             }
            },
            "type": "scatterpolar"
           }
          ],
          "scatterpolargl": [
           {
            "marker": {
             "colorbar": {
              "outlinewidth": 0,
              "ticks": ""
             }
            },
            "type": "scatterpolargl"
           }
          ],
          "scatterternary": [
           {
            "marker": {
             "colorbar": {
              "outlinewidth": 0,
              "ticks": ""
             }
            },
            "type": "scatterternary"
           }
          ],
          "surface": [
           {
            "colorbar": {
             "outlinewidth": 0,
             "ticks": ""
            },
            "colorscale": [
             [
              0,
              "#0d0887"
             ],
             [
              0.1111111111111111,
              "#46039f"
             ],
             [
              0.2222222222222222,
              "#7201a8"
             ],
             [
              0.3333333333333333,
              "#9c179e"
             ],
             [
              0.4444444444444444,
              "#bd3786"
             ],
             [
              0.5555555555555556,
              "#d8576b"
             ],
             [
              0.6666666666666666,
              "#ed7953"
             ],
             [
              0.7777777777777778,
              "#fb9f3a"
             ],
             [
              0.8888888888888888,
              "#fdca26"
             ],
             [
              1,
              "#f0f921"
             ]
            ],
            "type": "surface"
           }
          ],
          "table": [
           {
            "cells": {
             "fill": {
              "color": "#EBF0F8"
             },
             "line": {
              "color": "white"
             }
            },
            "header": {
             "fill": {
              "color": "#C8D4E3"
             },
             "line": {
              "color": "white"
             }
            },
            "type": "table"
           }
          ]
         },
         "layout": {
          "annotationdefaults": {
           "arrowcolor": "#2a3f5f",
           "arrowhead": 0,
           "arrowwidth": 1
          },
          "autotypenumbers": "strict",
          "coloraxis": {
           "colorbar": {
            "outlinewidth": 0,
            "ticks": ""
           }
          },
          "colorscale": {
           "diverging": [
            [
             0,
             "#8e0152"
            ],
            [
             0.1,
             "#c51b7d"
            ],
            [
             0.2,
             "#de77ae"
            ],
            [
             0.3,
             "#f1b6da"
            ],
            [
             0.4,
             "#fde0ef"
            ],
            [
             0.5,
             "#f7f7f7"
            ],
            [
             0.6,
             "#e6f5d0"
            ],
            [
             0.7,
             "#b8e186"
            ],
            [
             0.8,
             "#7fbc41"
            ],
            [
             0.9,
             "#4d9221"
            ],
            [
             1,
             "#276419"
            ]
           ],
           "sequential": [
            [
             0,
             "#0d0887"
            ],
            [
             0.1111111111111111,
             "#46039f"
            ],
            [
             0.2222222222222222,
             "#7201a8"
            ],
            [
             0.3333333333333333,
             "#9c179e"
            ],
            [
             0.4444444444444444,
             "#bd3786"
            ],
            [
             0.5555555555555556,
             "#d8576b"
            ],
            [
             0.6666666666666666,
             "#ed7953"
            ],
            [
             0.7777777777777778,
             "#fb9f3a"
            ],
            [
             0.8888888888888888,
             "#fdca26"
            ],
            [
             1,
             "#f0f921"
            ]
           ],
           "sequentialminus": [
            [
             0,
             "#0d0887"
            ],
            [
             0.1111111111111111,
             "#46039f"
            ],
            [
             0.2222222222222222,
             "#7201a8"
            ],
            [
             0.3333333333333333,
             "#9c179e"
            ],
            [
             0.4444444444444444,
             "#bd3786"
            ],
            [
             0.5555555555555556,
             "#d8576b"
            ],
            [
             0.6666666666666666,
             "#ed7953"
            ],
            [
             0.7777777777777778,
             "#fb9f3a"
            ],
            [
             0.8888888888888888,
             "#fdca26"
            ],
            [
             1,
             "#f0f921"
            ]
           ]
          },
          "colorway": [
           "#636efa",
           "#EF553B",
           "#00cc96",
           "#ab63fa",
           "#FFA15A",
           "#19d3f3",
           "#FF6692",
           "#B6E880",
           "#FF97FF",
           "#FECB52"
          ],
          "font": {
           "color": "#2a3f5f"
          },
          "geo": {
           "bgcolor": "white",
           "lakecolor": "white",
           "landcolor": "white",
           "showlakes": true,
           "showland": true,
           "subunitcolor": "#C8D4E3"
          },
          "hoverlabel": {
           "align": "left"
          },
          "hovermode": "closest",
          "mapbox": {
           "style": "light"
          },
          "paper_bgcolor": "white",
          "plot_bgcolor": "white",
          "polar": {
           "angularaxis": {
            "gridcolor": "#EBF0F8",
            "linecolor": "#EBF0F8",
            "ticks": ""
           },
           "bgcolor": "white",
           "radialaxis": {
            "gridcolor": "#EBF0F8",
            "linecolor": "#EBF0F8",
            "ticks": ""
           }
          },
          "scene": {
           "xaxis": {
            "backgroundcolor": "white",
            "gridcolor": "#DFE8F3",
            "gridwidth": 2,
            "linecolor": "#EBF0F8",
            "showbackground": true,
            "ticks": "",
            "zerolinecolor": "#EBF0F8"
           },
           "yaxis": {
            "backgroundcolor": "white",
            "gridcolor": "#DFE8F3",
            "gridwidth": 2,
            "linecolor": "#EBF0F8",
            "showbackground": true,
            "ticks": "",
            "zerolinecolor": "#EBF0F8"
           },
           "zaxis": {
            "backgroundcolor": "white",
            "gridcolor": "#DFE8F3",
            "gridwidth": 2,
            "linecolor": "#EBF0F8",
            "showbackground": true,
            "ticks": "",
            "zerolinecolor": "#EBF0F8"
           }
          },
          "shapedefaults": {
           "line": {
            "color": "#2a3f5f"
           }
          },
          "ternary": {
           "aaxis": {
            "gridcolor": "#DFE8F3",
            "linecolor": "#A2B1C6",
            "ticks": ""
           },
           "baxis": {
            "gridcolor": "#DFE8F3",
            "linecolor": "#A2B1C6",
            "ticks": ""
           },
           "bgcolor": "white",
           "caxis": {
            "gridcolor": "#DFE8F3",
            "linecolor": "#A2B1C6",
            "ticks": ""
           }
          },
          "title": {
           "x": 0.05
          },
          "xaxis": {
           "automargin": true,
           "gridcolor": "#EBF0F8",
           "linecolor": "#EBF0F8",
           "ticks": "",
           "title": {
            "standoff": 15
           },
           "zerolinecolor": "#EBF0F8",
           "zerolinewidth": 2
          },
          "yaxis": {
           "automargin": true,
           "gridcolor": "#EBF0F8",
           "linecolor": "#EBF0F8",
           "ticks": "",
           "title": {
            "standoff": 15
           },
           "zerolinecolor": "#EBF0F8",
           "zerolinewidth": 2
          }
         }
        },
        "title": {
         "font": {
          "size": 14
         },
         "text": "Distribution of side effect severity by product",
         "y": 0.95,
         "yanchor": "bottom"
        },
        "width": 800,
        "xaxis": {
         "anchor": "y",
         "domain": [
          0,
          1
         ],
         "tickangle": 45,
         "title": {}
        },
        "yaxis": {
         "anchor": "x",
         "domain": [
          0,
          1
         ],
         "title": {
          "text": "Percentage of Total Reviews"
         }
        }
       }
      }
     },
     "metadata": {},
     "output_type": "display_data"
    }
   ],
   "source": [
    "def create_severity_distribution(df):\n",
    "    \"\"\"Create a stacked bar plot showing severity distributions across medicines.\n",
    "    \n",
    "    Args:\n",
    "        df: DataFrame with the side effects data\n",
    "    \"\"\"\n",
    "    # Define adjustment factors for each product (target total percentages)\n",
    "    adjustment_factors = {\n",
    "        'Allopurinol': 20.97,\n",
    "        'Chanca piedra': 3.93,\n",
    "        'Flomax': 23.18,\n",
    "        'Hydrochlorothiazide': 25.76,\n",
    "        'Potassium citrate': 12.91,\n",
    "        'Ashwagandha': 47.97,\n",
    "        'Melatonin': 29.89,\n",
    "        'Black seed': 21.28,\n",
    "        'Garcinia': 47.10,\n",
    "        'Phosfood': 7.14,\n",
    "        'Rowatinex': 4.50\n",
    "    }\n",
    "    \n",
    "    # Define total reviews for each product\n",
    "    total_reviews = {\n",
    "        'Allopurinol': 62,\n",
    "        'Chanca piedra': 1772,\n",
    "        'Flomax': 1156,\n",
    "        'Hydrochlorothiazide': 66,\n",
    "        'Potassium citrate': 666,\n",
    "        'Ashwagandha': 271,\n",
    "        'Melatonin': 161,\n",
    "        'Black seed': 94,\n",
    "        'Garcinia': 930,\n",
    "        'Phosfood': 42,\n",
    "        'Rowatinex': 111\n",
    "    }\n",
    "    \n",
    "    # Create severity mapping\n",
    "    severity_mapping = {\n",
    "        1: 'Mild',\n",
    "        2: 'Medium',\n",
    "        3: 'Severe'\n",
    "    }\n",
    "    \n",
    "    # Define color scheme (traffic light colors)\n",
    "    color_scheme = {\n",
    "        'Mild': '#4caf50',    # Green\n",
    "        'Medium': '#ffc107',  # Amber/Yellow\n",
    "        'Severe': '#f44336'   # Red\n",
    "    }\n",
    "    \n",
    "    all_data = []\n",
    "    for product in sorted(df['Product'].unique()):\n",
    "        product_data = df[df['Product'] == product]\n",
    "        severity_counts = product_data['Severity'].value_counts()\n",
    "        \n",
    "        # Calculate relative proportions within each product\n",
    "        proportions = severity_counts / len(product_data)\n",
    "        \n",
    "        # Scale the proportions to match the target total percentage\n",
    "        target_total = adjustment_factors[product]\n",
    "        values = proportions * target_total\n",
    "            \n",
    "        severity_df = pd.DataFrame({\n",
    "            'Severity': [severity_mapping[i] for i in severity_counts.index],\n",
    "            'Value': values,\n",
    "            'Product': product,\n",
    "            'TotalReviews': total_reviews[product]  # Add total reviews to the DataFrame\n",
    "        })\n",
    "        all_data.append(severity_df)\n",
    "\n",
    "    plot_df = pd.concat(all_data)\n",
    "    \n",
    "    # Ensure proper ordering of severity levels\n",
    "    severity_order = ['Mild', 'Medium', 'Severe']\n",
    "    \n",
    "    fig = px.bar(plot_df, \n",
    "                 x='Product', \n",
    "                 y='Value',\n",
    "                 color='Severity',\n",
    "                 category_orders={'Severity': severity_order},\n",
    "                 color_discrete_map=color_scheme,\n",
    "                 barmode='stack',\n",
    "                 width=PLOT_PARAMS['width'] * 2.0,\n",
    "                 height=PLOT_PARAMS['height'] * 2.0)\n",
    "\n",
    "    fig.update_layout(\n",
    "        title=dict(\n",
    "            text='Distribution of side effect severity by product',\n",
    "            y=0.95,\n",
    "            yanchor='bottom',\n",
    "            font_size=PLOT_PARAMS['title_font_size'],\n",
    "        ),\n",
    "        xaxis_title=None,\n",
    "        yaxis_title='Percentage of Total Reviews',\n",
    "        template='plotly_white',\n",
    "        xaxis=dict(tickangle=45),\n",
    "        legend=dict(\n",
    "            orientation='h',\n",
    "            yanchor='top',\n",
    "            y=-.5,\n",
    "            xanchor='center',\n",
    "            x=0.5,\n",
    "            title=None\n",
    "        )\n",
    "    )\n",
    "\n",
    "    # Update hover template\n",
    "    for severity in severity_order:\n",
    "        fig.update_traces(\n",
    "            customdata=plot_df[plot_df['Severity'] == severity][['TotalReviews']],\n",
    "            hovertemplate=(\n",
    "                \"Product: %{x}<br>\" +\n",
    "                \"Severity: \" + severity + \"<br>\" +\n",
    "                \"Percentage: %{y:.1f}%<br>\" +\n",
    "                \"Total Reviews: %{customdata[0]:,}\" +\n",
    "                \"<extra></extra>\"\n",
    "            ),\n",
    "            selector=dict(name=severity)\n",
    "        )\n",
    "    \n",
    "    return fig\n",
    "\n",
    "# Usage:\n",
    "df = pd.read_csv('csv-files/Kidney Stone Reviews - Summary - Side effects.csv')\n",
    "fig_severity = create_severity_distribution(df)\n",
    "fig_severity.show()\n",
    "# fig_severity.write_html(figfolder + \"side-effects-severity-distribution.html\")"
   ]
  },
  {
   "cell_type": "code",
   "execution_count": 10,
   "metadata": {},
   "outputs": [],
   "source": [
    "def create_sunburst_distribution(df, product, use_counts=False):\n",
    "    \"\"\"Create a sunburst chart showing the distribution of side effects for a single product.\"\"\"\n",
    "    # Filter data for the specific product\n",
    "    product_data = df[df['Product'] == product]\n",
    "    \n",
    "    # Create hierarchy data\n",
    "    categories = product_data.groupby('Category')['Side effect'].count().reset_index()\n",
    "    subcategories = product_data.groupby(['Category', 'Subcategory'])['Side effect'].count().reset_index()\n",
    "    \n",
    "    # Calculate values based on use_counts parameter\n",
    "    total_effects = len(product_data)\n",
    "    if not use_counts:\n",
    "        categories['Side effect'] = categories['Side effect'] / total_effects * 100\n",
    "        subcategories['Side effect'] = subcategories['Side effect'] / total_effects * 100\n",
    "    \n",
    "    # Prepare data for sunburst chart, ensuring unique names\n",
    "    # center_label = f\"{product} side effects\"\n",
    "    center_label = \"\"\n",
    "    \n",
    "    # Modify labels to ensure uniqueness between categories and subcategories\n",
    "    subcategories_modified = subcategories.copy()\n",
    "    subcategories_modified.loc[subcategories_modified['Subcategory'] == 'Other', 'Subcategory'] = \\\n",
    "        subcategories_modified.loc[subcategories_modified['Subcategory'] == 'Other', 'Category'] + ' - Other'\n",
    "    \n",
    "    labels = [center_label] + \\\n",
    "            categories['Category'].tolist() + \\\n",
    "            subcategories_modified['Subcategory'].tolist()\n",
    "            \n",
    "    parents = [''] + \\\n",
    "             [center_label] * len(categories) + \\\n",
    "             subcategories_modified['Category'].tolist()\n",
    "             \n",
    "    values = [total_effects if use_counts else 100] + \\\n",
    "            categories['Side effect'].tolist() + \\\n",
    "            subcategories['Side effect'].tolist()\n",
    "    \n",
    "    # Create figure\n",
    "    fig = go.Figure(go.Sunburst(\n",
    "        labels=labels,\n",
    "        parents=parents,\n",
    "        values=values,\n",
    "        branchvalues='total',\n",
    "        hovertemplate=('Category: %{label}<br>' +\n",
    "                      ('Count: %{value:,.0f}' if use_counts else 'Percentage: %{value:.1f}%') +\n",
    "                      '<extra></extra>'),\n",
    "    ))\n",
    "    \n",
    "    metric = \"counts\" if use_counts else \"percentage\"\n",
    "    \n",
    "    fig.update_layout(\n",
    "        title=dict(\n",
    "            # text=f'Distribution of side effects for {product}',\n",
    "            text=None,\n",
    "            y=0.95,\n",
    "            yanchor='bottom'\n",
    "        ),\n",
    "        width=PLOT_PARAMS['width'] * 2.0,\n",
    "        height=PLOT_PARAMS['height'] * 2.0,\n",
    "        margin=PLOT_PARAMS['margin'],\n",
    "        template='plotly_white',\n",
    "        title_font_size=PLOT_PARAMS['title_font_size'],\n",
    "        sunburstcolorway=px.colors.qualitative.Prism\n",
    "    )\n",
    "    \n",
    "    return fig\n",
    "\n",
    "PLOT_PARAMS = {\n",
    "    'width': 400,\n",
    "    'height': 400,\n",
    "    'margin': dict(l=50, r=50, t=50, b=50),  # increased top margin from 50 to 100\n",
    "    'title_font_size': 14\n",
    "}\n",
    "# Usage:\n",
    "for product in df['Product'].unique():\n",
    "    fig = create_sunburst_distribution(df, product, use_counts=True)\n",
    "    if fig is not None:\n",
    "        product_file = product.lower().replace(' ', '-')\n",
    "        filename = f\"side-effects-sunburst-counts-{product_file}.html\"\n",
    "        # fig.show()\n",
    "        fig.write_html(figfolder + filename)"
   ]
  },
  {
   "cell_type": "code",
   "execution_count": 71,
   "metadata": {},
   "outputs": [
    {
     "data": {
      "text/html": [
       "<style type=\"text/css\">\n",
       "#T_f3740  {\n",
       "  color: #000000;\n",
       "}\n",
       "</style>\n",
       "<table id=\"T_f3740\">\n",
       "  <thead>\n",
       "    <tr>\n",
       "      <th id=\"T_f3740_level0_col0\" class=\"col_heading level0 col0\" >Name</th>\n",
       "      <th id=\"T_f3740_level0_col1\" class=\"col_heading level0 col1\" >Overall Rating</th>\n",
       "      <th id=\"T_f3740_level0_col2\" class=\"col_heading level0 col2\" >Num. Reviews</th>\n",
       "    </tr>\n",
       "  </thead>\n",
       "  <tbody>\n",
       "    <tr>\n",
       "      <td id=\"T_f3740_row0_col0\" class=\"data row0 col0\" >Lysine</td>\n",
       "      <td id=\"T_f3740_row0_col1\" class=\"data row0 col1\" >4.7</td>\n",
       "      <td id=\"T_f3740_row0_col2\" class=\"data row0 col2\" >419</td>\n",
       "    </tr>\n",
       "    <tr>\n",
       "      <td id=\"T_f3740_row1_col0\" class=\"data row1 col0\" >Chanca Piedra</td>\n",
       "      <td id=\"T_f3740_row1_col1\" class=\"data row1 col1\" >4.6</td>\n",
       "      <td id=\"T_f3740_row1_col2\" class=\"data row1 col2\" >113</td>\n",
       "    </tr>\n",
       "    <tr>\n",
       "      <td id=\"T_f3740_row2_col0\" class=\"data row2 col0\" >Colloidal Silver</td>\n",
       "      <td id=\"T_f3740_row2_col1\" class=\"data row2 col1\" >4.6</td>\n",
       "      <td id=\"T_f3740_row2_col2\" class=\"data row2 col2\" >185</td>\n",
       "    </tr>\n",
       "    <tr>\n",
       "      <td id=\"T_f3740_row3_col0\" class=\"data row3 col0\" >Kratom</td>\n",
       "      <td id=\"T_f3740_row3_col1\" class=\"data row3 col1\" >4.6</td>\n",
       "      <td id=\"T_f3740_row3_col2\" class=\"data row3 col2\" >1,727</td>\n",
       "    </tr>\n",
       "    <tr>\n",
       "      <td id=\"T_f3740_row4_col0\" class=\"data row4 col0\" >D-Mannose</td>\n",
       "      <td id=\"T_f3740_row4_col1\" class=\"data row4 col1\" >4.5</td>\n",
       "      <td id=\"T_f3740_row4_col2\" class=\"data row4 col2\" >238</td>\n",
       "    </tr>\n",
       "    <tr>\n",
       "      <td id=\"T_f3740_row5_col0\" class=\"data row5 col0\" >Evening Primrose Oil</td>\n",
       "      <td id=\"T_f3740_row5_col1\" class=\"data row5 col1\" >4.5</td>\n",
       "      <td id=\"T_f3740_row5_col2\" class=\"data row5 col2\" >132</td>\n",
       "    </tr>\n",
       "    <tr>\n",
       "      <td id=\"T_f3740_row6_col0\" class=\"data row6 col0\" >Methylsulfonylmethane (MSM)</td>\n",
       "      <td id=\"T_f3740_row6_col1\" class=\"data row6 col1\" >4.5</td>\n",
       "      <td id=\"T_f3740_row6_col2\" class=\"data row6 col2\" >197</td>\n",
       "    </tr>\n",
       "    <tr>\n",
       "      <td id=\"T_f3740_row7_col0\" class=\"data row7 col0\" >Oscillococcinum</td>\n",
       "      <td id=\"T_f3740_row7_col1\" class=\"data row7 col1\" >4.5</td>\n",
       "      <td id=\"T_f3740_row7_col2\" class=\"data row7 col2\" >203</td>\n",
       "    </tr>\n",
       "    <tr>\n",
       "      <td id=\"T_f3740_row8_col0\" class=\"data row8 col0\" >Dimethylsulfoxide (DMSO)</td>\n",
       "      <td id=\"T_f3740_row8_col1\" class=\"data row8 col1\" >4.4</td>\n",
       "      <td id=\"T_f3740_row8_col2\" class=\"data row8 col2\" >103</td>\n",
       "    </tr>\n",
       "    <tr>\n",
       "      <td id=\"T_f3740_row9_col0\" class=\"data row9 col0\" >N-Acetyl Cysteine (NAC)</td>\n",
       "      <td id=\"T_f3740_row9_col1\" class=\"data row9 col1\" >4.4</td>\n",
       "      <td id=\"T_f3740_row9_col2\" class=\"data row9 col2\" >120</td>\n",
       "    </tr>\n",
       "  </tbody>\n",
       "</table>\n"
      ],
      "text/plain": [
       "<pandas.io.formats.style.Styler at 0x131aca4b0>"
      ]
     },
     "metadata": {},
     "output_type": "display_data"
    }
   ],
   "source": [
    "# Create the data\n",
    "data_10 = {\n",
    "    'Name': [\n",
    "        'Cetylated Fatty Acids (CFAs)',\n",
    "        'Banaba',\n",
    "        'Black Walnut',\n",
    "        'Cascara Sagrada',\n",
    "        'Holy Basil',\n",
    "        'Marshmallow',\n",
    "        'Palmitoylethanolamide (PEA)',\n",
    "        'Apricot Kernel',\n",
    "        'Arrowroot',\n",
    "        'Carbon 60 (C60)'\n",
    "    ],\n",
    "    'Overall Rating': [5.0, 4.9, 4.9, 4.8, 4.8, 4.8, 4.8, 4.7, 4.7, 4.7],\n",
    "    'Num. Reviews': [13, 11, 11, 31, 50, 13, 18, 37, 10, 21]\n",
    "}\n",
    "\n",
    "data_50 = {\n",
    "    'Name': [\n",
    "        'Holy Basil',\n",
    "        'Elderberry',\n",
    "        'Lysine',\n",
    "        'Witch Hazel',\n",
    "        'Chanca Piedra',\n",
    "        'Colloidal Silver',\n",
    "        'Kratom',\n",
    "        'Mullein',\n",
    "        'Taurine',\n",
    "        'Butterbur'\n",
    "    ],\n",
    "    'Overall Rating': [4.8, 4.7, 4.7, 4.7, 4.6, 4.6, 4.6, 4.6, 4.6, 4.5],\n",
    "    'Num. Reviews': [50, 50, 419, 60, 113, 185, 1727, 60, 56, 74]\n",
    "}\n",
    "\n",
    "data_100 = {\n",
    "    'Name': [\n",
    "        'Lysine',\n",
    "        'Chanca Piedra',\n",
    "        'Colloidal Silver',\n",
    "        'Kratom',\n",
    "        'D-Mannose',\n",
    "        'Evening Primrose Oil',\n",
    "        'Methylsulfonylmethane (MSM)',\n",
    "        'Oscillococcinum',\n",
    "        'Dimethylsulfoxide (DMSO)',\n",
    "        'N-Acetyl Cysteine (NAC)'\n",
    "    ],\n",
    "    'Overall Rating': [4.7, 4.6, 4.6, 4.6, 4.5, 4.5, 4.5, 4.5, 4.4, 4.4],\n",
    "    'Num. Reviews': [419, 113, 185, 1727, 238, 132, 197, 203, 103, 120]\n",
    "}\n",
    "\n",
    "min_reviews = 100\n",
    "variable_name = f\"data_{min_reviews}\"  # This creates the string \"data_10\"\n",
    "df = pd.DataFrame(globals()[variable_name]).reset_index(drop=True)  # This looks up the variable named \"data_10\"\n",
    "\n",
    "def style_dataframe(df):\n",
    "    \"\"\"Apply consistent styling to the dataframe.\"\"\"\n",
    "    return df.style\\\n",
    "        .set_table_styles([\n",
    "            {'selector': '',\n",
    "             'props': [('color', '#000000')]},  # Using black text like your other tables\n",
    "        ])\\\n",
    "        .format({\n",
    "            'Overall Rating': '{:.1f}',  # Format to 1 decimal place\n",
    "            'Num. Reviews': '{:,}'       # Add thousands separator if needed\n",
    "        }).hide(axis='index')\n",
    "\n",
    "# Style and save the table\n",
    "styled_df = style_dataframe(df)\n",
    "styled_df.to_html(figfolder + 'supplements-rating-table-' + str(min_reviews) + '.html', index=False)\n",
    "display(styled_df)"
   ]
  }
 ],
 "metadata": {
  "kernelspec": {
   "display_name": "chanca-env",
   "language": "python",
   "name": "python3"
  },
  "language_info": {
   "codemirror_mode": {
    "name": "ipython",
    "version": 3
   },
   "file_extension": ".py",
   "mimetype": "text/x-python",
   "name": "python",
   "nbconvert_exporter": "python",
   "pygments_lexer": "ipython3",
   "version": "3.12.8"
  }
 },
 "nbformat": 4,
 "nbformat_minor": 4
}
