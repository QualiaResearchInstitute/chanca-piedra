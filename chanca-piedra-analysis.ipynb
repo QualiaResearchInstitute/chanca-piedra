{
 "cells": [
  {
   "cell_type": "code",
   "execution_count": 77,
   "metadata": {},
   "outputs": [],
   "source": [
    "import pandas as pd\n",
    "import plotly.express as px\n",
    "import plotly.graph_objects as go\n",
    "from pathlib import Path\n",
    "import numpy as np"
   ]
  },
  {
   "cell_type": "code",
   "execution_count": 78,
   "metadata": {},
   "outputs": [],
   "source": [
    "PLOT_PARAMS = {\n",
    "    'width': 400,\n",
    "    'height': 200,\n",
    "    'margin': dict(l=50, r=50, t=50, b=50),\n",
    "    'title_font_size': 14\n",
    "}\n",
    "\n",
    "figfolder = \"docs/\"\n",
    "export_to_gdoc = False\n",
    "\n",
    "def get_text_color():\n",
    "    return 'black' if export_to_gdoc else 'white'\n",
    "\n",
    "def create_rating_distribution(df, medicine):\n",
    "    \"\"\"Create a bar plot for rating distribution of a single medicine.\"\"\"\n",
    "    bins = [1.0, 2.0, 3.0, 4.0, 5.0, 5.1]\n",
    "    counts, _ = np.histogram(df[df['Medicine'] == medicine]['Overall Rating'], bins=bins)\n",
    "    \n",
    "    fig = go.Figure(data=[\n",
    "        go.Bar(\n",
    "            x=[1, 2, 3, 4, 5],\n",
    "            y=counts,\n",
    "            width=0.8,\n",
    "            hovertemplate=(\n",
    "                \"Overall Rating: %{customdata}<br>\" +\n",
    "                \"Count: %{y}\" +\n",
    "                \"<extra></extra>\"\n",
    "            ),\n",
    "            customdata=[\"1-1.9\", \"2-2.9\", \"3-3.9\", \"4-4.9\", \"5\"]\n",
    "        )\n",
    "    ])\n",
    "\n",
    "    fig.update_layout(\n",
    "        title=f'Distribution of Ratings: {medicine}',\n",
    "        xaxis_title='Rating',\n",
    "        yaxis_title='Count',\n",
    "        template='plotly_white',\n",
    "        width=PLOT_PARAMS['width'],\n",
    "        height=PLOT_PARAMS['height'],\n",
    "        bargap=0.1,\n",
    "        margin=PLOT_PARAMS['margin'],\n",
    "        title_font_size=PLOT_PARAMS['title_font_size'],\n",
    "        xaxis=dict(\n",
    "            tickmode='array',\n",
    "            tickvals=[1, 2, 3, 4, 5],\n",
    "            ticktext=['1', '2', '3', '4', '5'],\n",
    "            range=[0.5, 5.5]\n",
    "        )\n",
    "    )\n",
    "    \n",
    "    return fig"
   ]
  },
  {
   "cell_type": "code",
   "execution_count": 79,
   "metadata": {},
   "outputs": [],
   "source": [
    "def create_grouped_rating_distribution(df):\n",
    "    \"\"\"Create a grouped bar plot comparing rating distributions across medicines.\"\"\"\n",
    "    all_data = []\n",
    "    for medicine in sorted(df['Medicine'].unique()):\n",
    "        medicine_data = df[df['Medicine'] == medicine]\n",
    "        bins = [1.0, 2.0, 3.0, 4.0, 5.0, 5.1]\n",
    "        counts, _ = np.histogram(medicine_data['Overall Rating'], bins=bins)\n",
    "        \n",
    "        percentages = (counts / len(medicine_data)) * 100\n",
    "        ratings_df = pd.DataFrame({\n",
    "            'Rating': [1, 2, 3, 4, 5],\n",
    "            'Percentage': percentages,\n",
    "            'Medicine': medicine,\n",
    "            'RatingRange': ['[1,2)', '[2,3)', '[3,4)', '[4,5)', '5']\n",
    "        })\n",
    "        all_data.append(ratings_df)\n",
    "\n",
    "    plot_df = pd.concat(all_data)\n",
    "    \n",
    "    fig = px.bar(plot_df, \n",
    "                 x='Rating', \n",
    "                 y='Percentage',\n",
    "                 color='Medicine',\n",
    "                 barmode='group',\n",
    "                 width=PLOT_PARAMS['width'] * 2.0,\n",
    "                 height=PLOT_PARAMS['height']* 2.0,)\n",
    "\n",
    "    fig.update_layout(\n",
    "        title='Distribution of ratings by product (percentage)',\n",
    "        xaxis_title='Rating',\n",
    "        yaxis_title='Percentage of Reviews',\n",
    "        template='plotly_white',\n",
    "        bargap=0.15,\n",
    "        bargroupgap=0.1,\n",
    "        margin=PLOT_PARAMS['margin'],\n",
    "        title_font_size=PLOT_PARAMS['title_font_size'],\n",
    "        xaxis=dict(\n",
    "            tickmode='array',\n",
    "            tickvals=[1, 2, 3, 4, 5],\n",
    "            ticktext=['[1,2)', '[2,3)', '[3,4)', '[4,5)', '5'],\n",
    "            range=[0.5, 5.5]\n",
    "        ),\n",
    "        legend=dict(\n",
    "            orientation='h',\n",
    "            yanchor='top',\n",
    "            y=-0.25,\n",
    "            xanchor='center',\n",
    "            x=0.5,\n",
    "            title=None\n",
    "        ),\n",
    "        # autosize=True,\n",
    "    )\n",
    "\n",
    "    for medicine_name in plot_df['Medicine'].unique():\n",
    "        medicine_data = plot_df[plot_df['Medicine'] == medicine_name]\n",
    "        fig.update_traces(\n",
    "            customdata=medicine_data[['Medicine', 'RatingRange']].values,\n",
    "            hovertemplate=(\n",
    "                \"%{customdata[0]}<br>\" +\n",
    "                \"Rating: %{customdata[1]}<br>\" +\n",
    "                \"Percentage: %{y:.1f}%\" +\n",
    "                \"<extra></extra>\"\n",
    "            ),\n",
    "            selector=dict(name=medicine_name)\n",
    "        )\n",
    "    \n",
    "    return fig"
   ]
  },
  {
   "cell_type": "code",
   "execution_count": 80,
   "metadata": {},
   "outputs": [],
   "source": [
    "def calculate_stats(df, columns_to_analyze, medicines_to_exclude=None, medicine_mapping=None):\n",
    "    \"\"\"Calculate statistics for the given dataframe with configurable exclusions and mappings.\"\"\"\n",
    "    if medicines_to_exclude is None:\n",
    "        medicines_to_exclude = []\n",
    "    if medicine_mapping is None:\n",
    "        medicine_mapping = {}\n",
    "\n",
    "    summary = df.groupby('Medicine').agg(\n",
    "        total_reviews=('Medicine', 'size'),\n",
    "        **{\n",
    "            f'{col}_positive': (col, lambda x: sum(\n",
    "                1 for val in x if val == 1 or (isinstance(val, str) and val.strip())\n",
    "            ))\n",
    "            for col in columns_to_analyze\n",
    "        },\n",
    "        **{\n",
    "            f'{col}_negative': (col, lambda x: sum(\n",
    "                1 for val in x if val == 0\n",
    "            ))\n",
    "            for col in columns_to_analyze\n",
    "        }\n",
    "    ).reset_index()\n",
    "\n",
    "    for col in columns_to_analyze:\n",
    "        summary[f'{col}_positive_pct'] = (summary[f'{col}_positive'] / summary['total_reviews'] * 100).round(1)\n",
    "        summary[f'{col}_negative_pct'] = (summary[f'{col}_negative'] / summary['total_reviews'] * 100).round(1)\n",
    "        summary[f'{col}_no_info_pct'] = (\n",
    "            (summary['total_reviews'] - summary[f'{col}_positive'] - summary[f'{col}_negative']) \n",
    "            / summary['total_reviews'] * 100\n",
    "        ).round(1)\n",
    "    \n",
    "    summary = summary[~summary['Medicine'].isin(medicines_to_exclude)]\n",
    "    \n",
    "    transposed_data = {\n",
    "        ' ': ['<b>Total Reviews</b>'] + \n",
    "            sum([[f'<b>{col}</b>', \n",
    "                 '    Yes', \n",
    "                 '    No', \n",
    "                 '    No information'] \n",
    "                for col in columns_to_analyze], []),\n",
    "        **{medicine_mapping.get(row['Medicine'], row['Medicine']): [\n",
    "            row['total_reviews']] + \n",
    "            sum([[\n",
    "                '',\n",
    "                row[f'{col}_positive_pct'],\n",
    "                row[f'{col}_negative_pct'],\n",
    "                row[f'{col}_no_info_pct']\n",
    "            ] for col in columns_to_analyze], [])\n",
    "           for _, row in summary.iterrows()}\n",
    "    }\n",
    "    \n",
    "    display_df = pd.DataFrame(transposed_data).set_index(' ')\n",
    "    return display_df"
   ]
  },
  {
   "cell_type": "code",
   "execution_count": 81,
   "metadata": {},
   "outputs": [],
   "source": [
    "def style_dataframe(df):\n",
    "    \"\"\"Apply consistent styling to the dataframe.\"\"\"\n",
    "    return df.style\\\n",
    "        .set_table_styles([\n",
    "            {'selector': '',\n",
    "             'props': [('color', get_text_color())]},\n",
    "        ])\\\n",
    "        .format(lambda x: f'{x:,.0f}' if isinstance(x, (int, float)) and str(x).isdigit() \n",
    "                else (f'{x:.0f}%' if isinstance(x, float) and x.is_integer() \n",
    "                else f'{x:.1f}%' if isinstance(x, float) \n",
    "                else x))"
   ]
  },
  {
   "cell_type": "markdown",
   "metadata": {},
   "source": [
    "# 1. WebMD reviews"
   ]
  },
  {
   "cell_type": "code",
   "execution_count": 82,
   "metadata": {},
   "outputs": [
    {
     "name": "stdout",
     "output_type": "stream",
     "text": [
      "Successfully loaded 1567 rows of data\n"
     ]
    }
   ],
   "source": [
    "df = pd.read_csv('csv-files/Kidney Stone Reviews - Reviews - WebMD.csv')\n",
    "print(f\"Successfully loaded {len(df)} rows of data\")"
   ]
  },
  {
   "cell_type": "code",
   "execution_count": 83,
   "metadata": {},
   "outputs": [
    {
     "data": {
      "application/vnd.plotly.v1+json": {
       "config": {
        "plotlyServerURL": "https://plot.ly"
       },
       "data": [
        {
         "alignmentgroup": "True",
         "customdata": [
          [
           "Allopurinol",
           "[1,2)"
          ],
          [
           "Allopurinol",
           "[2,3)"
          ],
          [
           "Allopurinol",
           "[3,4)"
          ],
          [
           "Allopurinol",
           "[4,5)"
          ],
          [
           "Allopurinol",
           "5"
          ]
         ],
         "hovertemplate": "%{customdata[0]}<br>Rating: %{customdata[1]}<br>Percentage: %{y:.1f}%<extra></extra>",
         "legendgroup": "Allopurinol",
         "marker": {
          "color": "#636efa",
          "pattern": {
           "shape": ""
          }
         },
         "name": "Allopurinol",
         "offsetgroup": "Allopurinol",
         "orientation": "v",
         "showlegend": true,
         "textposition": "auto",
         "type": "bar",
         "x": [
          1,
          2,
          3,
          4,
          5
         ],
         "xaxis": "x",
         "y": [
          38.46153846153847,
          7.6923076923076925,
          7.6923076923076925,
          7.6923076923076925,
          38.46153846153847
         ],
         "yaxis": "y"
        },
        {
         "alignmentgroup": "True",
         "customdata": [
          [
           "Ashwagandha",
           "[1,2)"
          ],
          [
           "Ashwagandha",
           "[2,3)"
          ],
          [
           "Ashwagandha",
           "[3,4)"
          ],
          [
           "Ashwagandha",
           "[4,5)"
          ],
          [
           "Ashwagandha",
           "5"
          ]
         ],
         "hovertemplate": "%{customdata[0]}<br>Rating: %{customdata[1]}<br>Percentage: %{y:.1f}%<extra></extra>",
         "legendgroup": "Ashwagandha",
         "marker": {
          "color": "#EF553B",
          "pattern": {
           "shape": ""
          }
         },
         "name": "Ashwagandha",
         "offsetgroup": "Ashwagandha",
         "orientation": "v",
         "showlegend": true,
         "textposition": "auto",
         "type": "bar",
         "x": [
          1,
          2,
          3,
          4,
          5
         ],
         "xaxis": "x",
         "y": [
          17.712177121771216,
          14.022140221402212,
          11.07011070110701,
          23.616236162361623,
          33.579335793357934
         ],
         "yaxis": "y"
        },
        {
         "alignmentgroup": "True",
         "customdata": [
          [
           "Black seed",
           "[1,2)"
          ],
          [
           "Black seed",
           "[2,3)"
          ],
          [
           "Black seed",
           "[3,4)"
          ],
          [
           "Black seed",
           "[4,5)"
          ],
          [
           "Black seed",
           "5"
          ]
         ],
         "hovertemplate": "%{customdata[0]}<br>Rating: %{customdata[1]}<br>Percentage: %{y:.1f}%<extra></extra>",
         "legendgroup": "Black seed",
         "marker": {
          "color": "#00cc96",
          "pattern": {
           "shape": ""
          }
         },
         "name": "Black seed",
         "offsetgroup": "Black seed",
         "orientation": "v",
         "showlegend": true,
         "textposition": "auto",
         "type": "bar",
         "x": [
          1,
          2,
          3,
          4,
          5
         ],
         "xaxis": "x",
         "y": [
          11.688311688311687,
          7.792207792207792,
          6.493506493506493,
          25.97402597402597,
          48.05194805194805
         ],
         "yaxis": "y"
        },
        {
         "alignmentgroup": "True",
         "customdata": [
          [
           "Chanca piedra",
           "[1,2)"
          ],
          [
           "Chanca piedra",
           "[2,3)"
          ],
          [
           "Chanca piedra",
           "[3,4)"
          ],
          [
           "Chanca piedra",
           "[4,5)"
          ],
          [
           "Chanca piedra",
           "5"
          ]
         ],
         "hovertemplate": "%{customdata[0]}<br>Rating: %{customdata[1]}<br>Percentage: %{y:.1f}%<extra></extra>",
         "legendgroup": "Chanca piedra",
         "marker": {
          "color": "#ab63fa",
          "pattern": {
           "shape": ""
          }
         },
         "name": "Chanca piedra",
         "offsetgroup": "Chanca piedra",
         "orientation": "v",
         "showlegend": true,
         "textposition": "auto",
         "type": "bar",
         "x": [
          1,
          2,
          3,
          4,
          5
         ],
         "xaxis": "x",
         "y": [
          0,
          6.896551724137931,
          2.2988505747126435,
          12.643678160919542,
          78.16091954022988
         ],
         "yaxis": "y"
        },
        {
         "alignmentgroup": "True",
         "customdata": [
          [
           "Flomax",
           "[1,2)"
          ],
          [
           "Flomax",
           "[2,3)"
          ],
          [
           "Flomax",
           "[3,4)"
          ],
          [
           "Flomax",
           "[4,5)"
          ],
          [
           "Flomax",
           "5"
          ]
         ],
         "hovertemplate": "%{customdata[0]}<br>Rating: %{customdata[1]}<br>Percentage: %{y:.1f}%<extra></extra>",
         "legendgroup": "Flomax",
         "marker": {
          "color": "#FFA15A",
          "pattern": {
           "shape": ""
          }
         },
         "name": "Flomax",
         "offsetgroup": "Flomax",
         "orientation": "v",
         "showlegend": true,
         "textposition": "auto",
         "type": "bar",
         "x": [
          1,
          2,
          3,
          4,
          5
         ],
         "xaxis": "x",
         "y": [
          36.36363636363637,
          27.27272727272727,
          9.090909090909092,
          13.636363636363635,
          13.636363636363635
         ],
         "yaxis": "y"
        },
        {
         "alignmentgroup": "True",
         "customdata": [
          [
           "Garcinia",
           "[1,2)"
          ],
          [
           "Garcinia",
           "[2,3)"
          ],
          [
           "Garcinia",
           "[3,4)"
          ],
          [
           "Garcinia",
           "[4,5)"
          ],
          [
           "Garcinia",
           "5"
          ]
         ],
         "hovertemplate": "%{customdata[0]}<br>Rating: %{customdata[1]}<br>Percentage: %{y:.1f}%<extra></extra>",
         "legendgroup": "Garcinia",
         "marker": {
          "color": "#19d3f3",
          "pattern": {
           "shape": ""
          }
         },
         "name": "Garcinia",
         "offsetgroup": "Garcinia",
         "orientation": "v",
         "showlegend": true,
         "textposition": "auto",
         "type": "bar",
         "x": [
          1,
          2,
          3,
          4,
          5
         ],
         "xaxis": "x",
         "y": [
          34.753363228699556,
          28.139013452914796,
          10.986547085201794,
          13.004484304932735,
          13.11659192825112
         ],
         "yaxis": "y"
        },
        {
         "alignmentgroup": "True",
         "customdata": [
          [
           "Hydrochlorothiazide",
           "[1,2)"
          ],
          [
           "Hydrochlorothiazide",
           "[2,3)"
          ],
          [
           "Hydrochlorothiazide",
           "[3,4)"
          ],
          [
           "Hydrochlorothiazide",
           "[4,5)"
          ],
          [
           "Hydrochlorothiazide",
           "5"
          ]
         ],
         "hovertemplate": "%{customdata[0]}<br>Rating: %{customdata[1]}<br>Percentage: %{y:.1f}%<extra></extra>",
         "legendgroup": "Hydrochlorothiazide",
         "marker": {
          "color": "#FF6692",
          "pattern": {
           "shape": ""
          }
         },
         "name": "Hydrochlorothiazide",
         "offsetgroup": "Hydrochlorothiazide",
         "orientation": "v",
         "showlegend": true,
         "textposition": "auto",
         "type": "bar",
         "x": [
          1,
          2,
          3,
          4,
          5
         ],
         "xaxis": "x",
         "y": [
          15,
          20,
          20,
          25,
          20
         ],
         "yaxis": "y"
        },
        {
         "alignmentgroup": "True",
         "customdata": [
          [
           "Melatonin",
           "[1,2)"
          ],
          [
           "Melatonin",
           "[2,3)"
          ],
          [
           "Melatonin",
           "[3,4)"
          ],
          [
           "Melatonin",
           "[4,5)"
          ],
          [
           "Melatonin",
           "5"
          ]
         ],
         "hovertemplate": "%{customdata[0]}<br>Rating: %{customdata[1]}<br>Percentage: %{y:.1f}%<extra></extra>",
         "legendgroup": "Melatonin",
         "marker": {
          "color": "#B6E880",
          "pattern": {
           "shape": ""
          }
         },
         "name": "Melatonin",
         "offsetgroup": "Melatonin",
         "orientation": "v",
         "showlegend": true,
         "textposition": "auto",
         "type": "bar",
         "x": [
          1,
          2,
          3,
          4,
          5
         ],
         "xaxis": "x",
         "y": [
          14.906832298136646,
          14.906832298136646,
          19.875776397515526,
          23.60248447204969,
          26.70807453416149
         ],
         "yaxis": "y"
        },
        {
         "alignmentgroup": "True",
         "customdata": [
          [
           "Potassium citrate",
           "[1,2)"
          ],
          [
           "Potassium citrate",
           "[2,3)"
          ],
          [
           "Potassium citrate",
           "[3,4)"
          ],
          [
           "Potassium citrate",
           "[4,5)"
          ],
          [
           "Potassium citrate",
           "5"
          ]
         ],
         "hovertemplate": "%{customdata[0]}<br>Rating: %{customdata[1]}<br>Percentage: %{y:.1f}%<extra></extra>",
         "legendgroup": "Potassium citrate",
         "marker": {
          "color": "#FF97FF",
          "pattern": {
           "shape": ""
          }
         },
         "name": "Potassium citrate",
         "offsetgroup": "Potassium citrate",
         "orientation": "v",
         "showlegend": true,
         "textposition": "auto",
         "type": "bar",
         "x": [
          1,
          2,
          3,
          4,
          5
         ],
         "xaxis": "x",
         "y": [
          20.833333333333336,
          25,
          20.833333333333336,
          8.333333333333332,
          25
         ],
         "yaxis": "y"
        }
       ],
       "layout": {
        "bargap": 0.15,
        "bargroupgap": 0.1,
        "barmode": "group",
        "height": 400,
        "legend": {
         "orientation": "h",
         "title": {},
         "tracegroupgap": 0,
         "x": 0.5,
         "xanchor": "center",
         "y": -0.25,
         "yanchor": "top"
        },
        "margin": {
         "b": 50,
         "l": 50,
         "r": 50,
         "t": 50
        },
        "template": {
         "data": {
          "bar": [
           {
            "error_x": {
             "color": "#2a3f5f"
            },
            "error_y": {
             "color": "#2a3f5f"
            },
            "marker": {
             "line": {
              "color": "white",
              "width": 0.5
             },
             "pattern": {
              "fillmode": "overlay",
              "size": 10,
              "solidity": 0.2
             }
            },
            "type": "bar"
           }
          ],
          "barpolar": [
           {
            "marker": {
             "line": {
              "color": "white",
              "width": 0.5
             },
             "pattern": {
              "fillmode": "overlay",
              "size": 10,
              "solidity": 0.2
             }
            },
            "type": "barpolar"
           }
          ],
          "carpet": [
           {
            "aaxis": {
             "endlinecolor": "#2a3f5f",
             "gridcolor": "#C8D4E3",
             "linecolor": "#C8D4E3",
             "minorgridcolor": "#C8D4E3",
             "startlinecolor": "#2a3f5f"
            },
            "baxis": {
             "endlinecolor": "#2a3f5f",
             "gridcolor": "#C8D4E3",
             "linecolor": "#C8D4E3",
             "minorgridcolor": "#C8D4E3",
             "startlinecolor": "#2a3f5f"
            },
            "type": "carpet"
           }
          ],
          "choropleth": [
           {
            "colorbar": {
             "outlinewidth": 0,
             "ticks": ""
            },
            "type": "choropleth"
           }
          ],
          "contour": [
           {
            "colorbar": {
             "outlinewidth": 0,
             "ticks": ""
            },
            "colorscale": [
             [
              0,
              "#0d0887"
             ],
             [
              0.1111111111111111,
              "#46039f"
             ],
             [
              0.2222222222222222,
              "#7201a8"
             ],
             [
              0.3333333333333333,
              "#9c179e"
             ],
             [
              0.4444444444444444,
              "#bd3786"
             ],
             [
              0.5555555555555556,
              "#d8576b"
             ],
             [
              0.6666666666666666,
              "#ed7953"
             ],
             [
              0.7777777777777778,
              "#fb9f3a"
             ],
             [
              0.8888888888888888,
              "#fdca26"
             ],
             [
              1,
              "#f0f921"
             ]
            ],
            "type": "contour"
           }
          ],
          "contourcarpet": [
           {
            "colorbar": {
             "outlinewidth": 0,
             "ticks": ""
            },
            "type": "contourcarpet"
           }
          ],
          "heatmap": [
           {
            "colorbar": {
             "outlinewidth": 0,
             "ticks": ""
            },
            "colorscale": [
             [
              0,
              "#0d0887"
             ],
             [
              0.1111111111111111,
              "#46039f"
             ],
             [
              0.2222222222222222,
              "#7201a8"
             ],
             [
              0.3333333333333333,
              "#9c179e"
             ],
             [
              0.4444444444444444,
              "#bd3786"
             ],
             [
              0.5555555555555556,
              "#d8576b"
             ],
             [
              0.6666666666666666,
              "#ed7953"
             ],
             [
              0.7777777777777778,
              "#fb9f3a"
             ],
             [
              0.8888888888888888,
              "#fdca26"
             ],
             [
              1,
              "#f0f921"
             ]
            ],
            "type": "heatmap"
           }
          ],
          "heatmapgl": [
           {
            "colorbar": {
             "outlinewidth": 0,
             "ticks": ""
            },
            "colorscale": [
             [
              0,
              "#0d0887"
             ],
             [
              0.1111111111111111,
              "#46039f"
             ],
             [
              0.2222222222222222,
              "#7201a8"
             ],
             [
              0.3333333333333333,
              "#9c179e"
             ],
             [
              0.4444444444444444,
              "#bd3786"
             ],
             [
              0.5555555555555556,
              "#d8576b"
             ],
             [
              0.6666666666666666,
              "#ed7953"
             ],
             [
              0.7777777777777778,
              "#fb9f3a"
             ],
             [
              0.8888888888888888,
              "#fdca26"
             ],
             [
              1,
              "#f0f921"
             ]
            ],
            "type": "heatmapgl"
           }
          ],
          "histogram": [
           {
            "marker": {
             "pattern": {
              "fillmode": "overlay",
              "size": 10,
              "solidity": 0.2
             }
            },
            "type": "histogram"
           }
          ],
          "histogram2d": [
           {
            "colorbar": {
             "outlinewidth": 0,
             "ticks": ""
            },
            "colorscale": [
             [
              0,
              "#0d0887"
             ],
             [
              0.1111111111111111,
              "#46039f"
             ],
             [
              0.2222222222222222,
              "#7201a8"
             ],
             [
              0.3333333333333333,
              "#9c179e"
             ],
             [
              0.4444444444444444,
              "#bd3786"
             ],
             [
              0.5555555555555556,
              "#d8576b"
             ],
             [
              0.6666666666666666,
              "#ed7953"
             ],
             [
              0.7777777777777778,
              "#fb9f3a"
             ],
             [
              0.8888888888888888,
              "#fdca26"
             ],
             [
              1,
              "#f0f921"
             ]
            ],
            "type": "histogram2d"
           }
          ],
          "histogram2dcontour": [
           {
            "colorbar": {
             "outlinewidth": 0,
             "ticks": ""
            },
            "colorscale": [
             [
              0,
              "#0d0887"
             ],
             [
              0.1111111111111111,
              "#46039f"
             ],
             [
              0.2222222222222222,
              "#7201a8"
             ],
             [
              0.3333333333333333,
              "#9c179e"
             ],
             [
              0.4444444444444444,
              "#bd3786"
             ],
             [
              0.5555555555555556,
              "#d8576b"
             ],
             [
              0.6666666666666666,
              "#ed7953"
             ],
             [
              0.7777777777777778,
              "#fb9f3a"
             ],
             [
              0.8888888888888888,
              "#fdca26"
             ],
             [
              1,
              "#f0f921"
             ]
            ],
            "type": "histogram2dcontour"
           }
          ],
          "mesh3d": [
           {
            "colorbar": {
             "outlinewidth": 0,
             "ticks": ""
            },
            "type": "mesh3d"
           }
          ],
          "parcoords": [
           {
            "line": {
             "colorbar": {
              "outlinewidth": 0,
              "ticks": ""
             }
            },
            "type": "parcoords"
           }
          ],
          "pie": [
           {
            "automargin": true,
            "type": "pie"
           }
          ],
          "scatter": [
           {
            "fillpattern": {
             "fillmode": "overlay",
             "size": 10,
             "solidity": 0.2
            },
            "type": "scatter"
           }
          ],
          "scatter3d": [
           {
            "line": {
             "colorbar": {
              "outlinewidth": 0,
              "ticks": ""
             }
            },
            "marker": {
             "colorbar": {
              "outlinewidth": 0,
              "ticks": ""
             }
            },
            "type": "scatter3d"
           }
          ],
          "scattercarpet": [
           {
            "marker": {
             "colorbar": {
              "outlinewidth": 0,
              "ticks": ""
             }
            },
            "type": "scattercarpet"
           }
          ],
          "scattergeo": [
           {
            "marker": {
             "colorbar": {
              "outlinewidth": 0,
              "ticks": ""
             }
            },
            "type": "scattergeo"
           }
          ],
          "scattergl": [
           {
            "marker": {
             "colorbar": {
              "outlinewidth": 0,
              "ticks": ""
             }
            },
            "type": "scattergl"
           }
          ],
          "scattermapbox": [
           {
            "marker": {
             "colorbar": {
              "outlinewidth": 0,
              "ticks": ""
             }
            },
            "type": "scattermapbox"
           }
          ],
          "scatterpolar": [
           {
            "marker": {
             "colorbar": {
              "outlinewidth": 0,
              "ticks": ""
             }
            },
            "type": "scatterpolar"
           }
          ],
          "scatterpolargl": [
           {
            "marker": {
             "colorbar": {
              "outlinewidth": 0,
              "ticks": ""
             }
            },
            "type": "scatterpolargl"
           }
          ],
          "scatterternary": [
           {
            "marker": {
             "colorbar": {
              "outlinewidth": 0,
              "ticks": ""
             }
            },
            "type": "scatterternary"
           }
          ],
          "surface": [
           {
            "colorbar": {
             "outlinewidth": 0,
             "ticks": ""
            },
            "colorscale": [
             [
              0,
              "#0d0887"
             ],
             [
              0.1111111111111111,
              "#46039f"
             ],
             [
              0.2222222222222222,
              "#7201a8"
             ],
             [
              0.3333333333333333,
              "#9c179e"
             ],
             [
              0.4444444444444444,
              "#bd3786"
             ],
             [
              0.5555555555555556,
              "#d8576b"
             ],
             [
              0.6666666666666666,
              "#ed7953"
             ],
             [
              0.7777777777777778,
              "#fb9f3a"
             ],
             [
              0.8888888888888888,
              "#fdca26"
             ],
             [
              1,
              "#f0f921"
             ]
            ],
            "type": "surface"
           }
          ],
          "table": [
           {
            "cells": {
             "fill": {
              "color": "#EBF0F8"
             },
             "line": {
              "color": "white"
             }
            },
            "header": {
             "fill": {
              "color": "#C8D4E3"
             },
             "line": {
              "color": "white"
             }
            },
            "type": "table"
           }
          ]
         },
         "layout": {
          "annotationdefaults": {
           "arrowcolor": "#2a3f5f",
           "arrowhead": 0,
           "arrowwidth": 1
          },
          "autotypenumbers": "strict",
          "coloraxis": {
           "colorbar": {
            "outlinewidth": 0,
            "ticks": ""
           }
          },
          "colorscale": {
           "diverging": [
            [
             0,
             "#8e0152"
            ],
            [
             0.1,
             "#c51b7d"
            ],
            [
             0.2,
             "#de77ae"
            ],
            [
             0.3,
             "#f1b6da"
            ],
            [
             0.4,
             "#fde0ef"
            ],
            [
             0.5,
             "#f7f7f7"
            ],
            [
             0.6,
             "#e6f5d0"
            ],
            [
             0.7,
             "#b8e186"
            ],
            [
             0.8,
             "#7fbc41"
            ],
            [
             0.9,
             "#4d9221"
            ],
            [
             1,
             "#276419"
            ]
           ],
           "sequential": [
            [
             0,
             "#0d0887"
            ],
            [
             0.1111111111111111,
             "#46039f"
            ],
            [
             0.2222222222222222,
             "#7201a8"
            ],
            [
             0.3333333333333333,
             "#9c179e"
            ],
            [
             0.4444444444444444,
             "#bd3786"
            ],
            [
             0.5555555555555556,
             "#d8576b"
            ],
            [
             0.6666666666666666,
             "#ed7953"
            ],
            [
             0.7777777777777778,
             "#fb9f3a"
            ],
            [
             0.8888888888888888,
             "#fdca26"
            ],
            [
             1,
             "#f0f921"
            ]
           ],
           "sequentialminus": [
            [
             0,
             "#0d0887"
            ],
            [
             0.1111111111111111,
             "#46039f"
            ],
            [
             0.2222222222222222,
             "#7201a8"
            ],
            [
             0.3333333333333333,
             "#9c179e"
            ],
            [
             0.4444444444444444,
             "#bd3786"
            ],
            [
             0.5555555555555556,
             "#d8576b"
            ],
            [
             0.6666666666666666,
             "#ed7953"
            ],
            [
             0.7777777777777778,
             "#fb9f3a"
            ],
            [
             0.8888888888888888,
             "#fdca26"
            ],
            [
             1,
             "#f0f921"
            ]
           ]
          },
          "colorway": [
           "#636efa",
           "#EF553B",
           "#00cc96",
           "#ab63fa",
           "#FFA15A",
           "#19d3f3",
           "#FF6692",
           "#B6E880",
           "#FF97FF",
           "#FECB52"
          ],
          "font": {
           "color": "#2a3f5f"
          },
          "geo": {
           "bgcolor": "white",
           "lakecolor": "white",
           "landcolor": "white",
           "showlakes": true,
           "showland": true,
           "subunitcolor": "#C8D4E3"
          },
          "hoverlabel": {
           "align": "left"
          },
          "hovermode": "closest",
          "mapbox": {
           "style": "light"
          },
          "paper_bgcolor": "white",
          "plot_bgcolor": "white",
          "polar": {
           "angularaxis": {
            "gridcolor": "#EBF0F8",
            "linecolor": "#EBF0F8",
            "ticks": ""
           },
           "bgcolor": "white",
           "radialaxis": {
            "gridcolor": "#EBF0F8",
            "linecolor": "#EBF0F8",
            "ticks": ""
           }
          },
          "scene": {
           "xaxis": {
            "backgroundcolor": "white",
            "gridcolor": "#DFE8F3",
            "gridwidth": 2,
            "linecolor": "#EBF0F8",
            "showbackground": true,
            "ticks": "",
            "zerolinecolor": "#EBF0F8"
           },
           "yaxis": {
            "backgroundcolor": "white",
            "gridcolor": "#DFE8F3",
            "gridwidth": 2,
            "linecolor": "#EBF0F8",
            "showbackground": true,
            "ticks": "",
            "zerolinecolor": "#EBF0F8"
           },
           "zaxis": {
            "backgroundcolor": "white",
            "gridcolor": "#DFE8F3",
            "gridwidth": 2,
            "linecolor": "#EBF0F8",
            "showbackground": true,
            "ticks": "",
            "zerolinecolor": "#EBF0F8"
           }
          },
          "shapedefaults": {
           "line": {
            "color": "#2a3f5f"
           }
          },
          "ternary": {
           "aaxis": {
            "gridcolor": "#DFE8F3",
            "linecolor": "#A2B1C6",
            "ticks": ""
           },
           "baxis": {
            "gridcolor": "#DFE8F3",
            "linecolor": "#A2B1C6",
            "ticks": ""
           },
           "bgcolor": "white",
           "caxis": {
            "gridcolor": "#DFE8F3",
            "linecolor": "#A2B1C6",
            "ticks": ""
           }
          },
          "title": {
           "x": 0.05
          },
          "xaxis": {
           "automargin": true,
           "gridcolor": "#EBF0F8",
           "linecolor": "#EBF0F8",
           "ticks": "",
           "title": {
            "standoff": 15
           },
           "zerolinecolor": "#EBF0F8",
           "zerolinewidth": 2
          },
          "yaxis": {
           "automargin": true,
           "gridcolor": "#EBF0F8",
           "linecolor": "#EBF0F8",
           "ticks": "",
           "title": {
            "standoff": 15
           },
           "zerolinecolor": "#EBF0F8",
           "zerolinewidth": 2
          }
         }
        },
        "title": {
         "font": {
          "size": 14
         },
         "text": "Distribution of ratings by product (percentage)"
        },
        "width": 800,
        "xaxis": {
         "anchor": "y",
         "domain": [
          0,
          1
         ],
         "range": [
          0.5,
          5.5
         ],
         "tickmode": "array",
         "ticktext": [
          "[1,2)",
          "[2,3)",
          "[3,4)",
          "[4,5)",
          "5"
         ],
         "tickvals": [
          1,
          2,
          3,
          4,
          5
         ],
         "title": {
          "text": "Rating"
         }
        },
        "yaxis": {
         "anchor": "x",
         "domain": [
          0,
          1
         ],
         "title": {
          "text": "Percentage of Reviews"
         }
        }
       }
      }
     },
     "metadata": {},
     "output_type": "display_data"
    }
   ],
   "source": [
    "# for medicine in df['Medicine'].unique():\n",
    "#     fig = create_rating_distribution(df, medicine)\n",
    "#     fig.show()\n",
    "\n",
    "# Create grouped rating distribution\n",
    "fig = create_grouped_rating_distribution(df)\n",
    "fig.show()\n",
    "figname = \"webmd-treatment-distribution-rating\"\n",
    "fig.write_html(figfolder+figname+\".html\")\n",
    "# fig.write_image(figfolder+figname+\".png\", scale=4)"
   ]
  },
  {
   "cell_type": "code",
   "execution_count": 84,
   "metadata": {},
   "outputs": [
    {
     "data": {
      "text/html": [
       "<style type=\"text/css\">\n",
       "#T_db859  {\n",
       "  color: white;\n",
       "}\n",
       "</style>\n",
       "<table id=\"T_db859\">\n",
       "  <thead>\n",
       "    <tr>\n",
       "      <th class=\"blank level0\" >&nbsp;</th>\n",
       "      <th id=\"T_db859_level0_col0\" class=\"col_heading level0 col0\" >Allopurinol</th>\n",
       "      <th id=\"T_db859_level0_col1\" class=\"col_heading level0 col1\" >Black seed</th>\n",
       "      <th id=\"T_db859_level0_col2\" class=\"col_heading level0 col2\" >Chanca piedra</th>\n",
       "      <th id=\"T_db859_level0_col3\" class=\"col_heading level0 col3\" >Flomax</th>\n",
       "      <th id=\"T_db859_level0_col4\" class=\"col_heading level0 col4\" >Garcinia</th>\n",
       "      <th id=\"T_db859_level0_col5\" class=\"col_heading level0 col5\" >HCTZ</th>\n",
       "      <th id=\"T_db859_level0_col6\" class=\"col_heading level0 col6\" >Potassium citrate</th>\n",
       "    </tr>\n",
       "    <tr>\n",
       "      <th class=\"index_name level0\" > </th>\n",
       "      <th class=\"blank col0\" >&nbsp;</th>\n",
       "      <th class=\"blank col1\" >&nbsp;</th>\n",
       "      <th class=\"blank col2\" >&nbsp;</th>\n",
       "      <th class=\"blank col3\" >&nbsp;</th>\n",
       "      <th class=\"blank col4\" >&nbsp;</th>\n",
       "      <th class=\"blank col5\" >&nbsp;</th>\n",
       "      <th class=\"blank col6\" >&nbsp;</th>\n",
       "    </tr>\n",
       "  </thead>\n",
       "  <tbody>\n",
       "    <tr>\n",
       "      <th id=\"T_db859_level0_row0\" class=\"row_heading level0 row0\" ><b>Total Reviews</b></th>\n",
       "      <td id=\"T_db859_row0_col0\" class=\"data row0 col0\" >13</td>\n",
       "      <td id=\"T_db859_row0_col1\" class=\"data row0 col1\" >77</td>\n",
       "      <td id=\"T_db859_row0_col2\" class=\"data row0 col2\" >87</td>\n",
       "      <td id=\"T_db859_row0_col3\" class=\"data row0 col3\" >22</td>\n",
       "      <td id=\"T_db859_row0_col4\" class=\"data row0 col4\" >892</td>\n",
       "      <td id=\"T_db859_row0_col5\" class=\"data row0 col5\" >20</td>\n",
       "      <td id=\"T_db859_row0_col6\" class=\"data row0 col6\" >24</td>\n",
       "    </tr>\n",
       "    <tr>\n",
       "      <th id=\"T_db859_level0_row1\" class=\"row_heading level0 row1\" ><b>Helps overall with kidney stones</b></th>\n",
       "      <td id=\"T_db859_row1_col0\" class=\"data row1 col0\" ></td>\n",
       "      <td id=\"T_db859_row1_col1\" class=\"data row1 col1\" ></td>\n",
       "      <td id=\"T_db859_row1_col2\" class=\"data row1 col2\" ></td>\n",
       "      <td id=\"T_db859_row1_col3\" class=\"data row1 col3\" ></td>\n",
       "      <td id=\"T_db859_row1_col4\" class=\"data row1 col4\" ></td>\n",
       "      <td id=\"T_db859_row1_col5\" class=\"data row1 col5\" ></td>\n",
       "      <td id=\"T_db859_row1_col6\" class=\"data row1 col6\" ></td>\n",
       "    </tr>\n",
       "    <tr>\n",
       "      <th id=\"T_db859_level0_row2\" class=\"row_heading level0 row2\" >    Yes</th>\n",
       "      <td id=\"T_db859_row2_col0\" class=\"data row2 col0\" >38.5%</td>\n",
       "      <td id=\"T_db859_row2_col1\" class=\"data row2 col1\" >0%</td>\n",
       "      <td id=\"T_db859_row2_col2\" class=\"data row2 col2\" >85.1%</td>\n",
       "      <td id=\"T_db859_row2_col3\" class=\"data row2 col3\" >9.1%</td>\n",
       "      <td id=\"T_db859_row2_col4\" class=\"data row2 col4\" >0%</td>\n",
       "      <td id=\"T_db859_row2_col5\" class=\"data row2 col5\" >35%</td>\n",
       "      <td id=\"T_db859_row2_col6\" class=\"data row2 col6\" >41.7%</td>\n",
       "    </tr>\n",
       "    <tr>\n",
       "      <th id=\"T_db859_level0_row3\" class=\"row_heading level0 row3\" >    No</th>\n",
       "      <td id=\"T_db859_row3_col0\" class=\"data row3 col0\" >7.7%</td>\n",
       "      <td id=\"T_db859_row3_col1\" class=\"data row3 col1\" >0%</td>\n",
       "      <td id=\"T_db859_row3_col2\" class=\"data row3 col2\" >3.4%</td>\n",
       "      <td id=\"T_db859_row3_col3\" class=\"data row3 col3\" >22.7%</td>\n",
       "      <td id=\"T_db859_row3_col4\" class=\"data row3 col4\" >0%</td>\n",
       "      <td id=\"T_db859_row3_col5\" class=\"data row3 col5\" >30%</td>\n",
       "      <td id=\"T_db859_row3_col6\" class=\"data row3 col6\" >8.3%</td>\n",
       "    </tr>\n",
       "    <tr>\n",
       "      <th id=\"T_db859_level0_row4\" class=\"row_heading level0 row4\" >    No information</th>\n",
       "      <td id=\"T_db859_row4_col0\" class=\"data row4 col0\" >53.8%</td>\n",
       "      <td id=\"T_db859_row4_col1\" class=\"data row4 col1\" >100%</td>\n",
       "      <td id=\"T_db859_row4_col2\" class=\"data row4 col2\" >11.5%</td>\n",
       "      <td id=\"T_db859_row4_col3\" class=\"data row4 col3\" >68.2%</td>\n",
       "      <td id=\"T_db859_row4_col4\" class=\"data row4 col4\" >100%</td>\n",
       "      <td id=\"T_db859_row4_col5\" class=\"data row4 col5\" >35%</td>\n",
       "      <td id=\"T_db859_row4_col6\" class=\"data row4 col6\" >50%</td>\n",
       "    </tr>\n",
       "    <tr>\n",
       "      <th id=\"T_db859_level0_row5\" class=\"row_heading level0 row5\" ><b>Works as a prophylactic</b></th>\n",
       "      <td id=\"T_db859_row5_col0\" class=\"data row5 col0\" ></td>\n",
       "      <td id=\"T_db859_row5_col1\" class=\"data row5 col1\" ></td>\n",
       "      <td id=\"T_db859_row5_col2\" class=\"data row5 col2\" ></td>\n",
       "      <td id=\"T_db859_row5_col3\" class=\"data row5 col3\" ></td>\n",
       "      <td id=\"T_db859_row5_col4\" class=\"data row5 col4\" ></td>\n",
       "      <td id=\"T_db859_row5_col5\" class=\"data row5 col5\" ></td>\n",
       "      <td id=\"T_db859_row5_col6\" class=\"data row5 col6\" ></td>\n",
       "    </tr>\n",
       "    <tr>\n",
       "      <th id=\"T_db859_level0_row6\" class=\"row_heading level0 row6\" >    Yes</th>\n",
       "      <td id=\"T_db859_row6_col0\" class=\"data row6 col0\" >38.5%</td>\n",
       "      <td id=\"T_db859_row6_col1\" class=\"data row6 col1\" >0%</td>\n",
       "      <td id=\"T_db859_row6_col2\" class=\"data row6 col2\" >11.5%</td>\n",
       "      <td id=\"T_db859_row6_col3\" class=\"data row6 col3\" >0%</td>\n",
       "      <td id=\"T_db859_row6_col4\" class=\"data row6 col4\" >0%</td>\n",
       "      <td id=\"T_db859_row6_col5\" class=\"data row6 col5\" >30%</td>\n",
       "      <td id=\"T_db859_row6_col6\" class=\"data row6 col6\" >37.5%</td>\n",
       "    </tr>\n",
       "    <tr>\n",
       "      <th id=\"T_db859_level0_row7\" class=\"row_heading level0 row7\" >    No</th>\n",
       "      <td id=\"T_db859_row7_col0\" class=\"data row7 col0\" >0%</td>\n",
       "      <td id=\"T_db859_row7_col1\" class=\"data row7 col1\" >0%</td>\n",
       "      <td id=\"T_db859_row7_col2\" class=\"data row7 col2\" >0%</td>\n",
       "      <td id=\"T_db859_row7_col3\" class=\"data row7 col3\" >0%</td>\n",
       "      <td id=\"T_db859_row7_col4\" class=\"data row7 col4\" >0%</td>\n",
       "      <td id=\"T_db859_row7_col5\" class=\"data row7 col5\" >0%</td>\n",
       "      <td id=\"T_db859_row7_col6\" class=\"data row7 col6\" >4.2%</td>\n",
       "    </tr>\n",
       "    <tr>\n",
       "      <th id=\"T_db859_level0_row8\" class=\"row_heading level0 row8\" >    No information</th>\n",
       "      <td id=\"T_db859_row8_col0\" class=\"data row8 col0\" >61.5%</td>\n",
       "      <td id=\"T_db859_row8_col1\" class=\"data row8 col1\" >100%</td>\n",
       "      <td id=\"T_db859_row8_col2\" class=\"data row8 col2\" >88.5%</td>\n",
       "      <td id=\"T_db859_row8_col3\" class=\"data row8 col3\" >100%</td>\n",
       "      <td id=\"T_db859_row8_col4\" class=\"data row8 col4\" >100%</td>\n",
       "      <td id=\"T_db859_row8_col5\" class=\"data row8 col5\" >70%</td>\n",
       "      <td id=\"T_db859_row8_col6\" class=\"data row8 col6\" >58.3%</td>\n",
       "    </tr>\n",
       "    <tr>\n",
       "      <th id=\"T_db859_level0_row9\" class=\"row_heading level0 row9\" ><b>Side effects mentioned</b></th>\n",
       "      <td id=\"T_db859_row9_col0\" class=\"data row9 col0\" ></td>\n",
       "      <td id=\"T_db859_row9_col1\" class=\"data row9 col1\" ></td>\n",
       "      <td id=\"T_db859_row9_col2\" class=\"data row9 col2\" ></td>\n",
       "      <td id=\"T_db859_row9_col3\" class=\"data row9 col3\" ></td>\n",
       "      <td id=\"T_db859_row9_col4\" class=\"data row9 col4\" ></td>\n",
       "      <td id=\"T_db859_row9_col5\" class=\"data row9 col5\" ></td>\n",
       "      <td id=\"T_db859_row9_col6\" class=\"data row9 col6\" ></td>\n",
       "    </tr>\n",
       "    <tr>\n",
       "      <th id=\"T_db859_level0_row10\" class=\"row_heading level0 row10\" >    Yes</th>\n",
       "      <td id=\"T_db859_row10_col0\" class=\"data row10 col0\" >53.8%</td>\n",
       "      <td id=\"T_db859_row10_col1\" class=\"data row10 col1\" >26%</td>\n",
       "      <td id=\"T_db859_row10_col2\" class=\"data row10 col2\" >6.9%</td>\n",
       "      <td id=\"T_db859_row10_col3\" class=\"data row10 col3\" >90.9%</td>\n",
       "      <td id=\"T_db859_row10_col4\" class=\"data row10 col4\" >48.5%</td>\n",
       "      <td id=\"T_db859_row10_col5\" class=\"data row10 col5\" >65%</td>\n",
       "      <td id=\"T_db859_row10_col6\" class=\"data row10 col6\" >62.5%</td>\n",
       "    </tr>\n",
       "    <tr>\n",
       "      <th id=\"T_db859_level0_row11\" class=\"row_heading level0 row11\" >    No</th>\n",
       "      <td id=\"T_db859_row11_col0\" class=\"data row11 col0\" >0%</td>\n",
       "      <td id=\"T_db859_row11_col1\" class=\"data row11 col1\" >0%</td>\n",
       "      <td id=\"T_db859_row11_col2\" class=\"data row11 col2\" >0%</td>\n",
       "      <td id=\"T_db859_row11_col3\" class=\"data row11 col3\" >0%</td>\n",
       "      <td id=\"T_db859_row11_col4\" class=\"data row11 col4\" >0%</td>\n",
       "      <td id=\"T_db859_row11_col5\" class=\"data row11 col5\" >0%</td>\n",
       "      <td id=\"T_db859_row11_col6\" class=\"data row11 col6\" >0%</td>\n",
       "    </tr>\n",
       "    <tr>\n",
       "      <th id=\"T_db859_level0_row12\" class=\"row_heading level0 row12\" >    No information</th>\n",
       "      <td id=\"T_db859_row12_col0\" class=\"data row12 col0\" >46.2%</td>\n",
       "      <td id=\"T_db859_row12_col1\" class=\"data row12 col1\" >74%</td>\n",
       "      <td id=\"T_db859_row12_col2\" class=\"data row12 col2\" >93.1%</td>\n",
       "      <td id=\"T_db859_row12_col3\" class=\"data row12 col3\" >9.1%</td>\n",
       "      <td id=\"T_db859_row12_col4\" class=\"data row12 col4\" >51.5%</td>\n",
       "      <td id=\"T_db859_row12_col5\" class=\"data row12 col5\" >35%</td>\n",
       "      <td id=\"T_db859_row12_col6\" class=\"data row12 col6\" >37.5%</td>\n",
       "    </tr>\n",
       "    <tr>\n",
       "      <th id=\"T_db859_level0_row13\" class=\"row_heading level0 row13\" ><b>Asserts significant pain reduction</b></th>\n",
       "      <td id=\"T_db859_row13_col0\" class=\"data row13 col0\" ></td>\n",
       "      <td id=\"T_db859_row13_col1\" class=\"data row13 col1\" ></td>\n",
       "      <td id=\"T_db859_row13_col2\" class=\"data row13 col2\" ></td>\n",
       "      <td id=\"T_db859_row13_col3\" class=\"data row13 col3\" ></td>\n",
       "      <td id=\"T_db859_row13_col4\" class=\"data row13 col4\" ></td>\n",
       "      <td id=\"T_db859_row13_col5\" class=\"data row13 col5\" ></td>\n",
       "      <td id=\"T_db859_row13_col6\" class=\"data row13 col6\" ></td>\n",
       "    </tr>\n",
       "    <tr>\n",
       "      <th id=\"T_db859_level0_row14\" class=\"row_heading level0 row14\" >    Yes</th>\n",
       "      <td id=\"T_db859_row14_col0\" class=\"data row14 col0\" >30.8%</td>\n",
       "      <td id=\"T_db859_row14_col1\" class=\"data row14 col1\" >0%</td>\n",
       "      <td id=\"T_db859_row14_col2\" class=\"data row14 col2\" >67.8%</td>\n",
       "      <td id=\"T_db859_row14_col3\" class=\"data row14 col3\" >9.1%</td>\n",
       "      <td id=\"T_db859_row14_col4\" class=\"data row14 col4\" >0%</td>\n",
       "      <td id=\"T_db859_row14_col5\" class=\"data row14 col5\" >0%</td>\n",
       "      <td id=\"T_db859_row14_col6\" class=\"data row14 col6\" >29.2%</td>\n",
       "    </tr>\n",
       "    <tr>\n",
       "      <th id=\"T_db859_level0_row15\" class=\"row_heading level0 row15\" >    No</th>\n",
       "      <td id=\"T_db859_row15_col0\" class=\"data row15 col0\" >0%</td>\n",
       "      <td id=\"T_db859_row15_col1\" class=\"data row15 col1\" >0%</td>\n",
       "      <td id=\"T_db859_row15_col2\" class=\"data row15 col2\" >1.1%</td>\n",
       "      <td id=\"T_db859_row15_col3\" class=\"data row15 col3\" >9.1%</td>\n",
       "      <td id=\"T_db859_row15_col4\" class=\"data row15 col4\" >0%</td>\n",
       "      <td id=\"T_db859_row15_col5\" class=\"data row15 col5\" >0%</td>\n",
       "      <td id=\"T_db859_row15_col6\" class=\"data row15 col6\" >12.5%</td>\n",
       "    </tr>\n",
       "    <tr>\n",
       "      <th id=\"T_db859_level0_row16\" class=\"row_heading level0 row16\" >    No information</th>\n",
       "      <td id=\"T_db859_row16_col0\" class=\"data row16 col0\" >69.2%</td>\n",
       "      <td id=\"T_db859_row16_col1\" class=\"data row16 col1\" >100%</td>\n",
       "      <td id=\"T_db859_row16_col2\" class=\"data row16 col2\" >31%</td>\n",
       "      <td id=\"T_db859_row16_col3\" class=\"data row16 col3\" >81.8%</td>\n",
       "      <td id=\"T_db859_row16_col4\" class=\"data row16 col4\" >100%</td>\n",
       "      <td id=\"T_db859_row16_col5\" class=\"data row16 col5\" >100%</td>\n",
       "      <td id=\"T_db859_row16_col6\" class=\"data row16 col6\" >58.3%</td>\n",
       "    </tr>\n",
       "    <tr>\n",
       "      <th id=\"T_db859_level0_row17\" class=\"row_heading level0 row17\" ><b>Mentions breaking of stones</b></th>\n",
       "      <td id=\"T_db859_row17_col0\" class=\"data row17 col0\" ></td>\n",
       "      <td id=\"T_db859_row17_col1\" class=\"data row17 col1\" ></td>\n",
       "      <td id=\"T_db859_row17_col2\" class=\"data row17 col2\" ></td>\n",
       "      <td id=\"T_db859_row17_col3\" class=\"data row17 col3\" ></td>\n",
       "      <td id=\"T_db859_row17_col4\" class=\"data row17 col4\" ></td>\n",
       "      <td id=\"T_db859_row17_col5\" class=\"data row17 col5\" ></td>\n",
       "      <td id=\"T_db859_row17_col6\" class=\"data row17 col6\" ></td>\n",
       "    </tr>\n",
       "    <tr>\n",
       "      <th id=\"T_db859_level0_row18\" class=\"row_heading level0 row18\" >    Yes</th>\n",
       "      <td id=\"T_db859_row18_col0\" class=\"data row18 col0\" >0%</td>\n",
       "      <td id=\"T_db859_row18_col1\" class=\"data row18 col1\" >0%</td>\n",
       "      <td id=\"T_db859_row18_col2\" class=\"data row18 col2\" >4.6%</td>\n",
       "      <td id=\"T_db859_row18_col3\" class=\"data row18 col3\" >0%</td>\n",
       "      <td id=\"T_db859_row18_col4\" class=\"data row18 col4\" >0%</td>\n",
       "      <td id=\"T_db859_row18_col5\" class=\"data row18 col5\" >0%</td>\n",
       "      <td id=\"T_db859_row18_col6\" class=\"data row18 col6\" >0%</td>\n",
       "    </tr>\n",
       "    <tr>\n",
       "      <th id=\"T_db859_level0_row19\" class=\"row_heading level0 row19\" >    No</th>\n",
       "      <td id=\"T_db859_row19_col0\" class=\"data row19 col0\" >0%</td>\n",
       "      <td id=\"T_db859_row19_col1\" class=\"data row19 col1\" >0%</td>\n",
       "      <td id=\"T_db859_row19_col2\" class=\"data row19 col2\" >2.3%</td>\n",
       "      <td id=\"T_db859_row19_col3\" class=\"data row19 col3\" >0%</td>\n",
       "      <td id=\"T_db859_row19_col4\" class=\"data row19 col4\" >0%</td>\n",
       "      <td id=\"T_db859_row19_col5\" class=\"data row19 col5\" >0%</td>\n",
       "      <td id=\"T_db859_row19_col6\" class=\"data row19 col6\" >0%</td>\n",
       "    </tr>\n",
       "    <tr>\n",
       "      <th id=\"T_db859_level0_row20\" class=\"row_heading level0 row20\" >    No information</th>\n",
       "      <td id=\"T_db859_row20_col0\" class=\"data row20 col0\" >100%</td>\n",
       "      <td id=\"T_db859_row20_col1\" class=\"data row20 col1\" >100%</td>\n",
       "      <td id=\"T_db859_row20_col2\" class=\"data row20 col2\" >93.1%</td>\n",
       "      <td id=\"T_db859_row20_col3\" class=\"data row20 col3\" >100%</td>\n",
       "      <td id=\"T_db859_row20_col4\" class=\"data row20 col4\" >100%</td>\n",
       "      <td id=\"T_db859_row20_col5\" class=\"data row20 col5\" >100%</td>\n",
       "      <td id=\"T_db859_row20_col6\" class=\"data row20 col6\" >100%</td>\n",
       "    </tr>\n",
       "    <tr>\n",
       "      <th id=\"T_db859_level0_row21\" class=\"row_heading level0 row21\" ><b>Mentions shrinking of the stones</b></th>\n",
       "      <td id=\"T_db859_row21_col0\" class=\"data row21 col0\" ></td>\n",
       "      <td id=\"T_db859_row21_col1\" class=\"data row21 col1\" ></td>\n",
       "      <td id=\"T_db859_row21_col2\" class=\"data row21 col2\" ></td>\n",
       "      <td id=\"T_db859_row21_col3\" class=\"data row21 col3\" ></td>\n",
       "      <td id=\"T_db859_row21_col4\" class=\"data row21 col4\" ></td>\n",
       "      <td id=\"T_db859_row21_col5\" class=\"data row21 col5\" ></td>\n",
       "      <td id=\"T_db859_row21_col6\" class=\"data row21 col6\" ></td>\n",
       "    </tr>\n",
       "    <tr>\n",
       "      <th id=\"T_db859_level0_row22\" class=\"row_heading level0 row22\" >    Yes</th>\n",
       "      <td id=\"T_db859_row22_col0\" class=\"data row22 col0\" >7.7%</td>\n",
       "      <td id=\"T_db859_row22_col1\" class=\"data row22 col1\" >0%</td>\n",
       "      <td id=\"T_db859_row22_col2\" class=\"data row22 col2\" >12.6%</td>\n",
       "      <td id=\"T_db859_row22_col3\" class=\"data row22 col3\" >0%</td>\n",
       "      <td id=\"T_db859_row22_col4\" class=\"data row22 col4\" >0%</td>\n",
       "      <td id=\"T_db859_row22_col5\" class=\"data row22 col5\" >0%</td>\n",
       "      <td id=\"T_db859_row22_col6\" class=\"data row22 col6\" >0%</td>\n",
       "    </tr>\n",
       "    <tr>\n",
       "      <th id=\"T_db859_level0_row23\" class=\"row_heading level0 row23\" >    No</th>\n",
       "      <td id=\"T_db859_row23_col0\" class=\"data row23 col0\" >0%</td>\n",
       "      <td id=\"T_db859_row23_col1\" class=\"data row23 col1\" >0%</td>\n",
       "      <td id=\"T_db859_row23_col2\" class=\"data row23 col2\" >1.1%</td>\n",
       "      <td id=\"T_db859_row23_col3\" class=\"data row23 col3\" >0%</td>\n",
       "      <td id=\"T_db859_row23_col4\" class=\"data row23 col4\" >0%</td>\n",
       "      <td id=\"T_db859_row23_col5\" class=\"data row23 col5\" >0%</td>\n",
       "      <td id=\"T_db859_row23_col6\" class=\"data row23 col6\" >0%</td>\n",
       "    </tr>\n",
       "    <tr>\n",
       "      <th id=\"T_db859_level0_row24\" class=\"row_heading level0 row24\" >    No information</th>\n",
       "      <td id=\"T_db859_row24_col0\" class=\"data row24 col0\" >92.3%</td>\n",
       "      <td id=\"T_db859_row24_col1\" class=\"data row24 col1\" >100%</td>\n",
       "      <td id=\"T_db859_row24_col2\" class=\"data row24 col2\" >86.2%</td>\n",
       "      <td id=\"T_db859_row24_col3\" class=\"data row24 col3\" >100%</td>\n",
       "      <td id=\"T_db859_row24_col4\" class=\"data row24 col4\" >100%</td>\n",
       "      <td id=\"T_db859_row24_col5\" class=\"data row24 col5\" >100%</td>\n",
       "      <td id=\"T_db859_row24_col6\" class=\"data row24 col6\" >100%</td>\n",
       "    </tr>\n",
       "    <tr>\n",
       "      <th id=\"T_db859_level0_row25\" class=\"row_heading level0 row25\" ><b>Mentions softening of stones</b></th>\n",
       "      <td id=\"T_db859_row25_col0\" class=\"data row25 col0\" ></td>\n",
       "      <td id=\"T_db859_row25_col1\" class=\"data row25 col1\" ></td>\n",
       "      <td id=\"T_db859_row25_col2\" class=\"data row25 col2\" ></td>\n",
       "      <td id=\"T_db859_row25_col3\" class=\"data row25 col3\" ></td>\n",
       "      <td id=\"T_db859_row25_col4\" class=\"data row25 col4\" ></td>\n",
       "      <td id=\"T_db859_row25_col5\" class=\"data row25 col5\" ></td>\n",
       "      <td id=\"T_db859_row25_col6\" class=\"data row25 col6\" ></td>\n",
       "    </tr>\n",
       "    <tr>\n",
       "      <th id=\"T_db859_level0_row26\" class=\"row_heading level0 row26\" >    Yes</th>\n",
       "      <td id=\"T_db859_row26_col0\" class=\"data row26 col0\" >0%</td>\n",
       "      <td id=\"T_db859_row26_col1\" class=\"data row26 col1\" >0%</td>\n",
       "      <td id=\"T_db859_row26_col2\" class=\"data row26 col2\" >2.3%</td>\n",
       "      <td id=\"T_db859_row26_col3\" class=\"data row26 col3\" >0%</td>\n",
       "      <td id=\"T_db859_row26_col4\" class=\"data row26 col4\" >0%</td>\n",
       "      <td id=\"T_db859_row26_col5\" class=\"data row26 col5\" >0%</td>\n",
       "      <td id=\"T_db859_row26_col6\" class=\"data row26 col6\" >0%</td>\n",
       "    </tr>\n",
       "    <tr>\n",
       "      <th id=\"T_db859_level0_row27\" class=\"row_heading level0 row27\" >    No</th>\n",
       "      <td id=\"T_db859_row27_col0\" class=\"data row27 col0\" >0%</td>\n",
       "      <td id=\"T_db859_row27_col1\" class=\"data row27 col1\" >0%</td>\n",
       "      <td id=\"T_db859_row27_col2\" class=\"data row27 col2\" >1.1%</td>\n",
       "      <td id=\"T_db859_row27_col3\" class=\"data row27 col3\" >0%</td>\n",
       "      <td id=\"T_db859_row27_col4\" class=\"data row27 col4\" >0%</td>\n",
       "      <td id=\"T_db859_row27_col5\" class=\"data row27 col5\" >0%</td>\n",
       "      <td id=\"T_db859_row27_col6\" class=\"data row27 col6\" >0%</td>\n",
       "    </tr>\n",
       "    <tr>\n",
       "      <th id=\"T_db859_level0_row28\" class=\"row_heading level0 row28\" >    No information</th>\n",
       "      <td id=\"T_db859_row28_col0\" class=\"data row28 col0\" >100%</td>\n",
       "      <td id=\"T_db859_row28_col1\" class=\"data row28 col1\" >100%</td>\n",
       "      <td id=\"T_db859_row28_col2\" class=\"data row28 col2\" >96.6%</td>\n",
       "      <td id=\"T_db859_row28_col3\" class=\"data row28 col3\" >100%</td>\n",
       "      <td id=\"T_db859_row28_col4\" class=\"data row28 col4\" >100%</td>\n",
       "      <td id=\"T_db859_row28_col5\" class=\"data row28 col5\" >100%</td>\n",
       "      <td id=\"T_db859_row28_col6\" class=\"data row28 col6\" >100%</td>\n",
       "    </tr>\n",
       "    <tr>\n",
       "      <th id=\"T_db859_level0_row29\" class=\"row_heading level0 row29\" ><b>Stone passed with no or almost no pain</b></th>\n",
       "      <td id=\"T_db859_row29_col0\" class=\"data row29 col0\" ></td>\n",
       "      <td id=\"T_db859_row29_col1\" class=\"data row29 col1\" ></td>\n",
       "      <td id=\"T_db859_row29_col2\" class=\"data row29 col2\" ></td>\n",
       "      <td id=\"T_db859_row29_col3\" class=\"data row29 col3\" ></td>\n",
       "      <td id=\"T_db859_row29_col4\" class=\"data row29 col4\" ></td>\n",
       "      <td id=\"T_db859_row29_col5\" class=\"data row29 col5\" ></td>\n",
       "      <td id=\"T_db859_row29_col6\" class=\"data row29 col6\" ></td>\n",
       "    </tr>\n",
       "    <tr>\n",
       "      <th id=\"T_db859_level0_row30\" class=\"row_heading level0 row30\" >    Yes</th>\n",
       "      <td id=\"T_db859_row30_col0\" class=\"data row30 col0\" >0%</td>\n",
       "      <td id=\"T_db859_row30_col1\" class=\"data row30 col1\" >0%</td>\n",
       "      <td id=\"T_db859_row30_col2\" class=\"data row30 col2\" >19.5%</td>\n",
       "      <td id=\"T_db859_row30_col3\" class=\"data row30 col3\" >4.5%</td>\n",
       "      <td id=\"T_db859_row30_col4\" class=\"data row30 col4\" >0%</td>\n",
       "      <td id=\"T_db859_row30_col5\" class=\"data row30 col5\" >0%</td>\n",
       "      <td id=\"T_db859_row30_col6\" class=\"data row30 col6\" >0%</td>\n",
       "    </tr>\n",
       "    <tr>\n",
       "      <th id=\"T_db859_level0_row31\" class=\"row_heading level0 row31\" >    No</th>\n",
       "      <td id=\"T_db859_row31_col0\" class=\"data row31 col0\" >0%</td>\n",
       "      <td id=\"T_db859_row31_col1\" class=\"data row31 col1\" >0%</td>\n",
       "      <td id=\"T_db859_row31_col2\" class=\"data row31 col2\" >1.1%</td>\n",
       "      <td id=\"T_db859_row31_col3\" class=\"data row31 col3\" >4.5%</td>\n",
       "      <td id=\"T_db859_row31_col4\" class=\"data row31 col4\" >0%</td>\n",
       "      <td id=\"T_db859_row31_col5\" class=\"data row31 col5\" >0%</td>\n",
       "      <td id=\"T_db859_row31_col6\" class=\"data row31 col6\" >0%</td>\n",
       "    </tr>\n",
       "    <tr>\n",
       "      <th id=\"T_db859_level0_row32\" class=\"row_heading level0 row32\" >    No information</th>\n",
       "      <td id=\"T_db859_row32_col0\" class=\"data row32 col0\" >100%</td>\n",
       "      <td id=\"T_db859_row32_col1\" class=\"data row32 col1\" >100%</td>\n",
       "      <td id=\"T_db859_row32_col2\" class=\"data row32 col2\" >79.3%</td>\n",
       "      <td id=\"T_db859_row32_col3\" class=\"data row32 col3\" >90.9%</td>\n",
       "      <td id=\"T_db859_row32_col4\" class=\"data row32 col4\" >100%</td>\n",
       "      <td id=\"T_db859_row32_col5\" class=\"data row32 col5\" >100%</td>\n",
       "      <td id=\"T_db859_row32_col6\" class=\"data row32 col6\" >100%</td>\n",
       "    </tr>\n",
       "  </tbody>\n",
       "</table>\n"
      ],
      "text/plain": [
       "<pandas.io.formats.style.Styler at 0x131deb9e0>"
      ]
     },
     "metadata": {},
     "output_type": "display_data"
    }
   ],
   "source": [
    "columns_to_analyze = [\n",
    "    'Helps overall with kidney stones',\n",
    "    'Works as a prophylactic',\n",
    "    'Side effects mentioned',\n",
    "    'Asserts significant pain reduction',\n",
    "    'Mentions breaking of stones',\n",
    "    'Mentions shrinking of the stones',\n",
    "    'Mentions softening of stones',\n",
    "    'Stone passed with no or almost no pain',\n",
    "]\n",
    "\n",
    "webmd_medicine_mapping = {\n",
    "    'Hydrochlorothiazide': 'HCTZ',\n",
    "    'Potassium Citrate': 'Potassium cit.'\n",
    "}\n",
    "\n",
    "webmd_medicines_to_exclude = ['Ashwagandha', 'Melatonin']\n",
    "# webmd_medicines_to_exclude = []\n",
    "\n",
    "# Generate and display statistics\n",
    "display_df = calculate_stats(\n",
    "    df, \n",
    "    columns_to_analyze,\n",
    "    medicines_to_exclude=webmd_medicines_to_exclude,\n",
    "    medicine_mapping=webmd_medicine_mapping\n",
    ")\n",
    "display(style_dataframe(display_df))\n",
    "\n",
    "tablename = \"webmd-table-full-analysis\"\n",
    "display_df.to_html(figfolder + tablename + \".html\")"
   ]
  },
  {
   "cell_type": "markdown",
   "metadata": {},
   "source": [
    "# 2. Amazon Reviews Analysis"
   ]
  },
  {
   "cell_type": "code",
   "execution_count": 85,
   "metadata": {},
   "outputs": [],
   "source": [
    "def create_chanca_piedra_df():\n",
    "    \"\"\"Create a DataFrame with Chanca piedra statistics from the separate CSV file.\"\"\"\n",
    "    chanca_df = pd.read_csv('csv-files/Kidney Stone Reviews - WebMD Amazon Chanca Piedra.csv')\n",
    "    \n",
    "    num_reviews = 1193\n",
    "    # Create a DataFrame in the format expected by calculate_stats\n",
    "    medicine_data = {\n",
    "        'Medicine': ['Chanca piedra'] * num_reviews,\n",
    "    }\n",
    "    \n",
    "    # Add columns based on the percentages in the CSV\n",
    "    for col in columns_to_analyze:\n",
    "        # Initialize arrays for each metric\n",
    "        col_data = [0] * num_reviews\n",
    "        \n",
    "        # Get percentages from the CSV\n",
    "        yes_pct = float(chanca_df[chanca_df['Metric'] == 'Yes']['Chanca piedra'].iloc[0].strip('%')) / 100\n",
    "        no_pct = float(chanca_df[chanca_df['Metric'] == 'No']['Chanca piedra'].iloc[0].strip('%')) / 100\n",
    "        \n",
    "        # Calculate how many should be 1s and 0s based on percentages\n",
    "        yes_count = int(num_reviews * yes_pct)\n",
    "        no_count = int(num_reviews * no_pct)\n",
    "        \n",
    "        # Fill in the arrays\n",
    "        col_data[:yes_count] = [1] * yes_count\n",
    "        col_data[yes_count:yes_count + no_count] = [0] * no_count\n",
    "        \n",
    "        medicine_data[col] = col_data\n",
    "    \n",
    "    return pd.DataFrame(medicine_data)\n",
    "\n",
    "# Modify your existing code:\n",
    "dfa = pd.read_csv('csv-files/Kidney Stone Reviews - Reviews - Amazon.csv')\n",
    "\n",
    "# First, remove the original Chanca piedra data\n",
    "dfa = dfa[dfa['Medicine'] != 'Chanca piedra']  # Add this line\n",
    "\n",
    "chanca_df = create_chanca_piedra_df()\n",
    "\n",
    "# Combine the DataFrames\n",
    "combined_df = pd.concat([dfa, chanca_df], ignore_index=True)"
   ]
  },
  {
   "cell_type": "code",
   "execution_count": 86,
   "metadata": {},
   "outputs": [
    {
     "data": {
      "text/html": [
       "<style type=\"text/css\">\n",
       "#T_866f7  {\n",
       "  color: white;\n",
       "}\n",
       "</style>\n",
       "<table id=\"T_866f7\">\n",
       "  <thead>\n",
       "    <tr>\n",
       "      <th class=\"blank level0\" >&nbsp;</th>\n",
       "      <th id=\"T_866f7_level0_col0\" class=\"col_heading level0 col0\" >Chanca piedra</th>\n",
       "      <th id=\"T_866f7_level0_col1\" class=\"col_heading level0 col1\" >Phosfood</th>\n",
       "      <th id=\"T_866f7_level0_col2\" class=\"col_heading level0 col2\" >Potassium citrate</th>\n",
       "      <th id=\"T_866f7_level0_col3\" class=\"col_heading level0 col3\" >Rowatinex</th>\n",
       "    </tr>\n",
       "    <tr>\n",
       "      <th class=\"index_name level0\" > </th>\n",
       "      <th class=\"blank col0\" >&nbsp;</th>\n",
       "      <th class=\"blank col1\" >&nbsp;</th>\n",
       "      <th class=\"blank col2\" >&nbsp;</th>\n",
       "      <th class=\"blank col3\" >&nbsp;</th>\n",
       "    </tr>\n",
       "  </thead>\n",
       "  <tbody>\n",
       "    <tr>\n",
       "      <th id=\"T_866f7_level0_row0\" class=\"row_heading level0 row0\" ><b>Total Reviews</b></th>\n",
       "      <td id=\"T_866f7_row0_col0\" class=\"data row0 col0\" >1,193</td>\n",
       "      <td id=\"T_866f7_row0_col1\" class=\"data row0 col1\" >40</td>\n",
       "      <td id=\"T_866f7_row0_col2\" class=\"data row0 col2\" >133</td>\n",
       "      <td id=\"T_866f7_row0_col3\" class=\"data row0 col3\" >90</td>\n",
       "    </tr>\n",
       "    <tr>\n",
       "      <th id=\"T_866f7_level0_row1\" class=\"row_heading level0 row1\" ><b>Helps overall with kidney stones</b></th>\n",
       "      <td id=\"T_866f7_row1_col0\" class=\"data row1 col0\" ></td>\n",
       "      <td id=\"T_866f7_row1_col1\" class=\"data row1 col1\" ></td>\n",
       "      <td id=\"T_866f7_row1_col2\" class=\"data row1 col2\" ></td>\n",
       "      <td id=\"T_866f7_row1_col3\" class=\"data row1 col3\" ></td>\n",
       "    </tr>\n",
       "    <tr>\n",
       "      <th id=\"T_866f7_level0_row2\" class=\"row_heading level0 row2\" >    Yes</th>\n",
       "      <td id=\"T_866f7_row2_col0\" class=\"data row2 col0\" >71.9%</td>\n",
       "      <td id=\"T_866f7_row2_col1\" class=\"data row2 col1\" >75%</td>\n",
       "      <td id=\"T_866f7_row2_col2\" class=\"data row2 col2\" >91%</td>\n",
       "      <td id=\"T_866f7_row2_col3\" class=\"data row2 col3\" >90%</td>\n",
       "    </tr>\n",
       "    <tr>\n",
       "      <th id=\"T_866f7_level0_row3\" class=\"row_heading level0 row3\" >    No</th>\n",
       "      <td id=\"T_866f7_row3_col0\" class=\"data row3 col0\" >28.1%</td>\n",
       "      <td id=\"T_866f7_row3_col1\" class=\"data row3 col1\" >10%</td>\n",
       "      <td id=\"T_866f7_row3_col2\" class=\"data row3 col2\" >0%</td>\n",
       "      <td id=\"T_866f7_row3_col3\" class=\"data row3 col3\" >2.2%</td>\n",
       "    </tr>\n",
       "    <tr>\n",
       "      <th id=\"T_866f7_level0_row4\" class=\"row_heading level0 row4\" >    No information</th>\n",
       "      <td id=\"T_866f7_row4_col0\" class=\"data row4 col0\" >0%</td>\n",
       "      <td id=\"T_866f7_row4_col1\" class=\"data row4 col1\" >15%</td>\n",
       "      <td id=\"T_866f7_row4_col2\" class=\"data row4 col2\" >9%</td>\n",
       "      <td id=\"T_866f7_row4_col3\" class=\"data row4 col3\" >7.8%</td>\n",
       "    </tr>\n",
       "    <tr>\n",
       "      <th id=\"T_866f7_level0_row5\" class=\"row_heading level0 row5\" ><b>Works as a prophylactic</b></th>\n",
       "      <td id=\"T_866f7_row5_col0\" class=\"data row5 col0\" ></td>\n",
       "      <td id=\"T_866f7_row5_col1\" class=\"data row5 col1\" ></td>\n",
       "      <td id=\"T_866f7_row5_col2\" class=\"data row5 col2\" ></td>\n",
       "      <td id=\"T_866f7_row5_col3\" class=\"data row5 col3\" ></td>\n",
       "    </tr>\n",
       "    <tr>\n",
       "      <th id=\"T_866f7_level0_row6\" class=\"row_heading level0 row6\" >    Yes</th>\n",
       "      <td id=\"T_866f7_row6_col0\" class=\"data row6 col0\" >71.9%</td>\n",
       "      <td id=\"T_866f7_row6_col1\" class=\"data row6 col1\" >22.5%</td>\n",
       "      <td id=\"T_866f7_row6_col2\" class=\"data row6 col2\" >66.9%</td>\n",
       "      <td id=\"T_866f7_row6_col3\" class=\"data row6 col3\" >25.6%</td>\n",
       "    </tr>\n",
       "    <tr>\n",
       "      <th id=\"T_866f7_level0_row7\" class=\"row_heading level0 row7\" >    No</th>\n",
       "      <td id=\"T_866f7_row7_col0\" class=\"data row7 col0\" >28.1%</td>\n",
       "      <td id=\"T_866f7_row7_col1\" class=\"data row7 col1\" >5%</td>\n",
       "      <td id=\"T_866f7_row7_col2\" class=\"data row7 col2\" >0%</td>\n",
       "      <td id=\"T_866f7_row7_col3\" class=\"data row7 col3\" >1.1%</td>\n",
       "    </tr>\n",
       "    <tr>\n",
       "      <th id=\"T_866f7_level0_row8\" class=\"row_heading level0 row8\" >    No information</th>\n",
       "      <td id=\"T_866f7_row8_col0\" class=\"data row8 col0\" >0%</td>\n",
       "      <td id=\"T_866f7_row8_col1\" class=\"data row8 col1\" >72.5%</td>\n",
       "      <td id=\"T_866f7_row8_col2\" class=\"data row8 col2\" >33.1%</td>\n",
       "      <td id=\"T_866f7_row8_col3\" class=\"data row8 col3\" >73.3%</td>\n",
       "    </tr>\n",
       "    <tr>\n",
       "      <th id=\"T_866f7_level0_row9\" class=\"row_heading level0 row9\" ><b>Side effects mentioned</b></th>\n",
       "      <td id=\"T_866f7_row9_col0\" class=\"data row9 col0\" ></td>\n",
       "      <td id=\"T_866f7_row9_col1\" class=\"data row9 col1\" ></td>\n",
       "      <td id=\"T_866f7_row9_col2\" class=\"data row9 col2\" ></td>\n",
       "      <td id=\"T_866f7_row9_col3\" class=\"data row9 col3\" ></td>\n",
       "    </tr>\n",
       "    <tr>\n",
       "      <th id=\"T_866f7_level0_row10\" class=\"row_heading level0 row10\" >    Yes</th>\n",
       "      <td id=\"T_866f7_row10_col0\" class=\"data row10 col0\" >71.9%</td>\n",
       "      <td id=\"T_866f7_row10_col1\" class=\"data row10 col1\" >7.5%</td>\n",
       "      <td id=\"T_866f7_row10_col2\" class=\"data row10 col2\" >2.3%</td>\n",
       "      <td id=\"T_866f7_row10_col3\" class=\"data row10 col3\" >2.2%</td>\n",
       "    </tr>\n",
       "    <tr>\n",
       "      <th id=\"T_866f7_level0_row11\" class=\"row_heading level0 row11\" >    No</th>\n",
       "      <td id=\"T_866f7_row11_col0\" class=\"data row11 col0\" >28.1%</td>\n",
       "      <td id=\"T_866f7_row11_col1\" class=\"data row11 col1\" >0%</td>\n",
       "      <td id=\"T_866f7_row11_col2\" class=\"data row11 col2\" >0%</td>\n",
       "      <td id=\"T_866f7_row11_col3\" class=\"data row11 col3\" >0%</td>\n",
       "    </tr>\n",
       "    <tr>\n",
       "      <th id=\"T_866f7_level0_row12\" class=\"row_heading level0 row12\" >    No information</th>\n",
       "      <td id=\"T_866f7_row12_col0\" class=\"data row12 col0\" >0%</td>\n",
       "      <td id=\"T_866f7_row12_col1\" class=\"data row12 col1\" >92.5%</td>\n",
       "      <td id=\"T_866f7_row12_col2\" class=\"data row12 col2\" >97.7%</td>\n",
       "      <td id=\"T_866f7_row12_col3\" class=\"data row12 col3\" >97.8%</td>\n",
       "    </tr>\n",
       "    <tr>\n",
       "      <th id=\"T_866f7_level0_row13\" class=\"row_heading level0 row13\" ><b>Asserts significant pain reduction</b></th>\n",
       "      <td id=\"T_866f7_row13_col0\" class=\"data row13 col0\" ></td>\n",
       "      <td id=\"T_866f7_row13_col1\" class=\"data row13 col1\" ></td>\n",
       "      <td id=\"T_866f7_row13_col2\" class=\"data row13 col2\" ></td>\n",
       "      <td id=\"T_866f7_row13_col3\" class=\"data row13 col3\" ></td>\n",
       "    </tr>\n",
       "    <tr>\n",
       "      <th id=\"T_866f7_level0_row14\" class=\"row_heading level0 row14\" >    Yes</th>\n",
       "      <td id=\"T_866f7_row14_col0\" class=\"data row14 col0\" >71.9%</td>\n",
       "      <td id=\"T_866f7_row14_col1\" class=\"data row14 col1\" >27.5%</td>\n",
       "      <td id=\"T_866f7_row14_col2\" class=\"data row14 col2\" >9%</td>\n",
       "      <td id=\"T_866f7_row14_col3\" class=\"data row14 col3\" >47.8%</td>\n",
       "    </tr>\n",
       "    <tr>\n",
       "      <th id=\"T_866f7_level0_row15\" class=\"row_heading level0 row15\" >    No</th>\n",
       "      <td id=\"T_866f7_row15_col0\" class=\"data row15 col0\" >28.1%</td>\n",
       "      <td id=\"T_866f7_row15_col1\" class=\"data row15 col1\" >7.5%</td>\n",
       "      <td id=\"T_866f7_row15_col2\" class=\"data row15 col2\" >0%</td>\n",
       "      <td id=\"T_866f7_row15_col3\" class=\"data row15 col3\" >3.3%</td>\n",
       "    </tr>\n",
       "    <tr>\n",
       "      <th id=\"T_866f7_level0_row16\" class=\"row_heading level0 row16\" >    No information</th>\n",
       "      <td id=\"T_866f7_row16_col0\" class=\"data row16 col0\" >0%</td>\n",
       "      <td id=\"T_866f7_row16_col1\" class=\"data row16 col1\" >65%</td>\n",
       "      <td id=\"T_866f7_row16_col2\" class=\"data row16 col2\" >91%</td>\n",
       "      <td id=\"T_866f7_row16_col3\" class=\"data row16 col3\" >48.9%</td>\n",
       "    </tr>\n",
       "    <tr>\n",
       "      <th id=\"T_866f7_level0_row17\" class=\"row_heading level0 row17\" ><b>Mentions breaking of stones</b></th>\n",
       "      <td id=\"T_866f7_row17_col0\" class=\"data row17 col0\" ></td>\n",
       "      <td id=\"T_866f7_row17_col1\" class=\"data row17 col1\" ></td>\n",
       "      <td id=\"T_866f7_row17_col2\" class=\"data row17 col2\" ></td>\n",
       "      <td id=\"T_866f7_row17_col3\" class=\"data row17 col3\" ></td>\n",
       "    </tr>\n",
       "    <tr>\n",
       "      <th id=\"T_866f7_level0_row18\" class=\"row_heading level0 row18\" >    Yes</th>\n",
       "      <td id=\"T_866f7_row18_col0\" class=\"data row18 col0\" >71.9%</td>\n",
       "      <td id=\"T_866f7_row18_col1\" class=\"data row18 col1\" >5%</td>\n",
       "      <td id=\"T_866f7_row18_col2\" class=\"data row18 col2\" >1.5%</td>\n",
       "      <td id=\"T_866f7_row18_col3\" class=\"data row18 col3\" >7.8%</td>\n",
       "    </tr>\n",
       "    <tr>\n",
       "      <th id=\"T_866f7_level0_row19\" class=\"row_heading level0 row19\" >    No</th>\n",
       "      <td id=\"T_866f7_row19_col0\" class=\"data row19 col0\" >28.1%</td>\n",
       "      <td id=\"T_866f7_row19_col1\" class=\"data row19 col1\" >0%</td>\n",
       "      <td id=\"T_866f7_row19_col2\" class=\"data row19 col2\" >0%</td>\n",
       "      <td id=\"T_866f7_row19_col3\" class=\"data row19 col3\" >3.3%</td>\n",
       "    </tr>\n",
       "    <tr>\n",
       "      <th id=\"T_866f7_level0_row20\" class=\"row_heading level0 row20\" >    No information</th>\n",
       "      <td id=\"T_866f7_row20_col0\" class=\"data row20 col0\" >0%</td>\n",
       "      <td id=\"T_866f7_row20_col1\" class=\"data row20 col1\" >95%</td>\n",
       "      <td id=\"T_866f7_row20_col2\" class=\"data row20 col2\" >98.5%</td>\n",
       "      <td id=\"T_866f7_row20_col3\" class=\"data row20 col3\" >88.9%</td>\n",
       "    </tr>\n",
       "    <tr>\n",
       "      <th id=\"T_866f7_level0_row21\" class=\"row_heading level0 row21\" ><b>Mentions shrinking of the stones</b></th>\n",
       "      <td id=\"T_866f7_row21_col0\" class=\"data row21 col0\" ></td>\n",
       "      <td id=\"T_866f7_row21_col1\" class=\"data row21 col1\" ></td>\n",
       "      <td id=\"T_866f7_row21_col2\" class=\"data row21 col2\" ></td>\n",
       "      <td id=\"T_866f7_row21_col3\" class=\"data row21 col3\" ></td>\n",
       "    </tr>\n",
       "    <tr>\n",
       "      <th id=\"T_866f7_level0_row22\" class=\"row_heading level0 row22\" >    Yes</th>\n",
       "      <td id=\"T_866f7_row22_col0\" class=\"data row22 col0\" >71.9%</td>\n",
       "      <td id=\"T_866f7_row22_col1\" class=\"data row22 col1\" >5%</td>\n",
       "      <td id=\"T_866f7_row22_col2\" class=\"data row22 col2\" >1.5%</td>\n",
       "      <td id=\"T_866f7_row22_col3\" class=\"data row22 col3\" >7.8%</td>\n",
       "    </tr>\n",
       "    <tr>\n",
       "      <th id=\"T_866f7_level0_row23\" class=\"row_heading level0 row23\" >    No</th>\n",
       "      <td id=\"T_866f7_row23_col0\" class=\"data row23 col0\" >28.1%</td>\n",
       "      <td id=\"T_866f7_row23_col1\" class=\"data row23 col1\" >2.5%</td>\n",
       "      <td id=\"T_866f7_row23_col2\" class=\"data row23 col2\" >1.5%</td>\n",
       "      <td id=\"T_866f7_row23_col3\" class=\"data row23 col3\" >3.3%</td>\n",
       "    </tr>\n",
       "    <tr>\n",
       "      <th id=\"T_866f7_level0_row24\" class=\"row_heading level0 row24\" >    No information</th>\n",
       "      <td id=\"T_866f7_row24_col0\" class=\"data row24 col0\" >0%</td>\n",
       "      <td id=\"T_866f7_row24_col1\" class=\"data row24 col1\" >92.5%</td>\n",
       "      <td id=\"T_866f7_row24_col2\" class=\"data row24 col2\" >97%</td>\n",
       "      <td id=\"T_866f7_row24_col3\" class=\"data row24 col3\" >88.9%</td>\n",
       "    </tr>\n",
       "    <tr>\n",
       "      <th id=\"T_866f7_level0_row25\" class=\"row_heading level0 row25\" ><b>Mentions softening of stones</b></th>\n",
       "      <td id=\"T_866f7_row25_col0\" class=\"data row25 col0\" ></td>\n",
       "      <td id=\"T_866f7_row25_col1\" class=\"data row25 col1\" ></td>\n",
       "      <td id=\"T_866f7_row25_col2\" class=\"data row25 col2\" ></td>\n",
       "      <td id=\"T_866f7_row25_col3\" class=\"data row25 col3\" ></td>\n",
       "    </tr>\n",
       "    <tr>\n",
       "      <th id=\"T_866f7_level0_row26\" class=\"row_heading level0 row26\" >    Yes</th>\n",
       "      <td id=\"T_866f7_row26_col0\" class=\"data row26 col0\" >71.9%</td>\n",
       "      <td id=\"T_866f7_row26_col1\" class=\"data row26 col1\" >7.5%</td>\n",
       "      <td id=\"T_866f7_row26_col2\" class=\"data row26 col2\" >0%</td>\n",
       "      <td id=\"T_866f7_row26_col3\" class=\"data row26 col3\" >5.6%</td>\n",
       "    </tr>\n",
       "    <tr>\n",
       "      <th id=\"T_866f7_level0_row27\" class=\"row_heading level0 row27\" >    No</th>\n",
       "      <td id=\"T_866f7_row27_col0\" class=\"data row27 col0\" >28.1%</td>\n",
       "      <td id=\"T_866f7_row27_col1\" class=\"data row27 col1\" >0%</td>\n",
       "      <td id=\"T_866f7_row27_col2\" class=\"data row27 col2\" >0%</td>\n",
       "      <td id=\"T_866f7_row27_col3\" class=\"data row27 col3\" >3.3%</td>\n",
       "    </tr>\n",
       "    <tr>\n",
       "      <th id=\"T_866f7_level0_row28\" class=\"row_heading level0 row28\" >    No information</th>\n",
       "      <td id=\"T_866f7_row28_col0\" class=\"data row28 col0\" >0%</td>\n",
       "      <td id=\"T_866f7_row28_col1\" class=\"data row28 col1\" >92.5%</td>\n",
       "      <td id=\"T_866f7_row28_col2\" class=\"data row28 col2\" >100%</td>\n",
       "      <td id=\"T_866f7_row28_col3\" class=\"data row28 col3\" >91.1%</td>\n",
       "    </tr>\n",
       "    <tr>\n",
       "      <th id=\"T_866f7_level0_row29\" class=\"row_heading level0 row29\" ><b>Stone passed with no or almost no pain</b></th>\n",
       "      <td id=\"T_866f7_row29_col0\" class=\"data row29 col0\" ></td>\n",
       "      <td id=\"T_866f7_row29_col1\" class=\"data row29 col1\" ></td>\n",
       "      <td id=\"T_866f7_row29_col2\" class=\"data row29 col2\" ></td>\n",
       "      <td id=\"T_866f7_row29_col3\" class=\"data row29 col3\" ></td>\n",
       "    </tr>\n",
       "    <tr>\n",
       "      <th id=\"T_866f7_level0_row30\" class=\"row_heading level0 row30\" >    Yes</th>\n",
       "      <td id=\"T_866f7_row30_col0\" class=\"data row30 col0\" >71.9%</td>\n",
       "      <td id=\"T_866f7_row30_col1\" class=\"data row30 col1\" >7.5%</td>\n",
       "      <td id=\"T_866f7_row30_col2\" class=\"data row30 col2\" >0%</td>\n",
       "      <td id=\"T_866f7_row30_col3\" class=\"data row30 col3\" >21.1%</td>\n",
       "    </tr>\n",
       "    <tr>\n",
       "      <th id=\"T_866f7_level0_row31\" class=\"row_heading level0 row31\" >    No</th>\n",
       "      <td id=\"T_866f7_row31_col0\" class=\"data row31 col0\" >28.1%</td>\n",
       "      <td id=\"T_866f7_row31_col1\" class=\"data row31 col1\" >2.5%</td>\n",
       "      <td id=\"T_866f7_row31_col2\" class=\"data row31 col2\" >0%</td>\n",
       "      <td id=\"T_866f7_row31_col3\" class=\"data row31 col3\" >2.2%</td>\n",
       "    </tr>\n",
       "    <tr>\n",
       "      <th id=\"T_866f7_level0_row32\" class=\"row_heading level0 row32\" >    No information</th>\n",
       "      <td id=\"T_866f7_row32_col0\" class=\"data row32 col0\" >0%</td>\n",
       "      <td id=\"T_866f7_row32_col1\" class=\"data row32 col1\" >90%</td>\n",
       "      <td id=\"T_866f7_row32_col2\" class=\"data row32 col2\" >100%</td>\n",
       "      <td id=\"T_866f7_row32_col3\" class=\"data row32 col3\" >76.7%</td>\n",
       "    </tr>\n",
       "  </tbody>\n",
       "</table>\n"
      ],
      "text/plain": [
       "<pandas.io.formats.style.Styler at 0x13170c140>"
      ]
     },
     "metadata": {},
     "output_type": "display_data"
    }
   ],
   "source": [
    "amazon_medicine_mapping = {\n",
    "}\n",
    "\n",
    "amazon_medicines_to_exclude = ['Chanca piedra']\n",
    "\n",
    "# Remove Chanca piedra from exclusion list if it's there\n",
    "if 'Chanca piedra' in amazon_medicines_to_exclude:\n",
    "    amazon_medicines_to_exclude.remove('Chanca piedra')\n",
    "\n",
    "# Generate and display statistics\n",
    "display_df = calculate_stats(\n",
    "    combined_df, \n",
    "    columns_to_analyze,\n",
    "    medicines_to_exclude=amazon_medicines_to_exclude,\n",
    "    medicine_mapping=amazon_medicine_mapping\n",
    ")\n",
    "display(style_dataframe(display_df))\n",
    "tablename = \"amazon-table-full-analysis\"\n",
    "display_df.to_html(figfolder + tablename + \".html\")"
   ]
  },
  {
   "cell_type": "code",
   "execution_count": 87,
   "metadata": {},
   "outputs": [],
   "source": [
    "def calculate_stats_by_rating(df, columns_to_analyze, medicine_name, ratings, sources_to_exclude=None):\n",
    "    \"\"\"Calculate statistics for specific ratings of a medicine.\"\"\"\n",
    "    rating_dfs = {}\n",
    "    \n",
    "    for rating in ratings:\n",
    "        filtered_df = df[(df['Medicine'] == medicine_name) & (df['Stars'] == rating)]\n",
    "        \n",
    "        if sources_to_exclude:\n",
    "            filtered_df = filtered_df[~filtered_df['Source'].isin(sources_to_exclude)]\n",
    "        \n",
    "        summary = pd.DataFrame({\n",
    "            'Medicine': [f'{medicine_name} ({rating}-star reviews)'],\n",
    "            'total_reviews': [len(filtered_df)]\n",
    "        })\n",
    "        \n",
    "        for col in columns_to_analyze:\n",
    "            summary[f'{col}_positive'] = [sum(\n",
    "                1 for val in filtered_df[col] if val == 1 or (isinstance(val, str) and val.strip())\n",
    "            )]\n",
    "            summary[f'{col}_negative'] = [sum(\n",
    "                1 for val in filtered_df[col] if val == 0\n",
    "            )]\n",
    "            \n",
    "            total = summary['total_reviews'].iloc[0]\n",
    "            if total > 0:\n",
    "                summary[f'{col}_positive_pct'] = (summary[f'{col}_positive'] / total * 100).round(1)\n",
    "                summary[f'{col}_negative_pct'] = (summary[f'{col}_negative'] / total * 100).round(1)\n",
    "                summary[f'{col}_no_info_pct'] = (\n",
    "                    (total - summary[f'{col}_positive'] - summary[f'{col}_negative']) \n",
    "                    / total * 100\n",
    "                ).round(1)\n",
    "            else:\n",
    "                summary[f'{col}_positive_pct'] = 0\n",
    "                summary[f'{col}_negative_pct'] = 0\n",
    "                summary[f'{col}_no_info_pct'] = 0\n",
    "                \n",
    "        rating_dfs[rating] = summary\n",
    "    \n",
    "    transposed_data = {\n",
    "        ' ': ['<b>Total Reviews</b>'] + \n",
    "            sum([[f'<b>{col}</b>', \n",
    "                 '    Yes', \n",
    "                 '    No', \n",
    "                 '    No information'] \n",
    "                for col in columns_to_analyze], [])\n",
    "    }\n",
    "    \n",
    "    for rating in ratings:\n",
    "        summary = rating_dfs[rating]\n",
    "        transposed_data[summary['Medicine'].iloc[0]] = [\n",
    "            summary['total_reviews'].iloc[0]] + sum([[\n",
    "                '',\n",
    "                summary[f'{col}_positive_pct'].iloc[0],\n",
    "                summary[f'{col}_negative_pct'].iloc[0],\n",
    "                summary[f'{col}_no_info_pct'].iloc[0]\n",
    "            ] for col in columns_to_analyze], [])\n",
    "    \n",
    "    return pd.DataFrame(transposed_data).set_index(' ')\n"
   ]
  },
  {
   "cell_type": "code",
   "execution_count": 88,
   "metadata": {},
   "outputs": [
    {
     "data": {
      "text/html": [
       "<style type=\"text/css\">\n",
       "#T_033c3  {\n",
       "  color: white;\n",
       "}\n",
       "</style>\n",
       "<table id=\"T_033c3\">\n",
       "  <thead>\n",
       "    <tr>\n",
       "      <th class=\"blank level0\" >&nbsp;</th>\n",
       "      <th id=\"T_033c3_level0_col0\" class=\"col_heading level0 col0\" >Chanca piedra (1-star reviews)</th>\n",
       "      <th id=\"T_033c3_level0_col1\" class=\"col_heading level0 col1\" >Chanca piedra (2-star reviews)</th>\n",
       "      <th id=\"T_033c3_level0_col2\" class=\"col_heading level0 col2\" >Chanca piedra (3-star reviews)</th>\n",
       "      <th id=\"T_033c3_level0_col3\" class=\"col_heading level0 col3\" >Chanca piedra (4-star reviews)</th>\n",
       "      <th id=\"T_033c3_level0_col4\" class=\"col_heading level0 col4\" >Chanca piedra (5-star reviews)</th>\n",
       "    </tr>\n",
       "    <tr>\n",
       "      <th class=\"index_name level0\" > </th>\n",
       "      <th class=\"blank col0\" >&nbsp;</th>\n",
       "      <th class=\"blank col1\" >&nbsp;</th>\n",
       "      <th class=\"blank col2\" >&nbsp;</th>\n",
       "      <th class=\"blank col3\" >&nbsp;</th>\n",
       "      <th class=\"blank col4\" >&nbsp;</th>\n",
       "    </tr>\n",
       "  </thead>\n",
       "  <tbody>\n",
       "    <tr>\n",
       "      <th id=\"T_033c3_level0_row0\" class=\"row_heading level0 row0\" ><b>Total Reviews</b></th>\n",
       "      <td id=\"T_033c3_row0_col0\" class=\"data row0 col0\" >0</td>\n",
       "      <td id=\"T_033c3_row0_col1\" class=\"data row0 col1\" >0</td>\n",
       "      <td id=\"T_033c3_row0_col2\" class=\"data row0 col2\" >0</td>\n",
       "      <td id=\"T_033c3_row0_col3\" class=\"data row0 col3\" >0</td>\n",
       "      <td id=\"T_033c3_row0_col4\" class=\"data row0 col4\" >0</td>\n",
       "    </tr>\n",
       "    <tr>\n",
       "      <th id=\"T_033c3_level0_row1\" class=\"row_heading level0 row1\" ><b>Helps overall with kidney stones</b></th>\n",
       "      <td id=\"T_033c3_row1_col0\" class=\"data row1 col0\" ></td>\n",
       "      <td id=\"T_033c3_row1_col1\" class=\"data row1 col1\" ></td>\n",
       "      <td id=\"T_033c3_row1_col2\" class=\"data row1 col2\" ></td>\n",
       "      <td id=\"T_033c3_row1_col3\" class=\"data row1 col3\" ></td>\n",
       "      <td id=\"T_033c3_row1_col4\" class=\"data row1 col4\" ></td>\n",
       "    </tr>\n",
       "    <tr>\n",
       "      <th id=\"T_033c3_level0_row2\" class=\"row_heading level0 row2\" >    Yes</th>\n",
       "      <td id=\"T_033c3_row2_col0\" class=\"data row2 col0\" >0</td>\n",
       "      <td id=\"T_033c3_row2_col1\" class=\"data row2 col1\" >0</td>\n",
       "      <td id=\"T_033c3_row2_col2\" class=\"data row2 col2\" >0</td>\n",
       "      <td id=\"T_033c3_row2_col3\" class=\"data row2 col3\" >0</td>\n",
       "      <td id=\"T_033c3_row2_col4\" class=\"data row2 col4\" >0</td>\n",
       "    </tr>\n",
       "    <tr>\n",
       "      <th id=\"T_033c3_level0_row3\" class=\"row_heading level0 row3\" >    No</th>\n",
       "      <td id=\"T_033c3_row3_col0\" class=\"data row3 col0\" >0</td>\n",
       "      <td id=\"T_033c3_row3_col1\" class=\"data row3 col1\" >0</td>\n",
       "      <td id=\"T_033c3_row3_col2\" class=\"data row3 col2\" >0</td>\n",
       "      <td id=\"T_033c3_row3_col3\" class=\"data row3 col3\" >0</td>\n",
       "      <td id=\"T_033c3_row3_col4\" class=\"data row3 col4\" >0</td>\n",
       "    </tr>\n",
       "    <tr>\n",
       "      <th id=\"T_033c3_level0_row4\" class=\"row_heading level0 row4\" >    No information</th>\n",
       "      <td id=\"T_033c3_row4_col0\" class=\"data row4 col0\" >0</td>\n",
       "      <td id=\"T_033c3_row4_col1\" class=\"data row4 col1\" >0</td>\n",
       "      <td id=\"T_033c3_row4_col2\" class=\"data row4 col2\" >0</td>\n",
       "      <td id=\"T_033c3_row4_col3\" class=\"data row4 col3\" >0</td>\n",
       "      <td id=\"T_033c3_row4_col4\" class=\"data row4 col4\" >0</td>\n",
       "    </tr>\n",
       "    <tr>\n",
       "      <th id=\"T_033c3_level0_row5\" class=\"row_heading level0 row5\" ><b>Works as a prophylactic</b></th>\n",
       "      <td id=\"T_033c3_row5_col0\" class=\"data row5 col0\" ></td>\n",
       "      <td id=\"T_033c3_row5_col1\" class=\"data row5 col1\" ></td>\n",
       "      <td id=\"T_033c3_row5_col2\" class=\"data row5 col2\" ></td>\n",
       "      <td id=\"T_033c3_row5_col3\" class=\"data row5 col3\" ></td>\n",
       "      <td id=\"T_033c3_row5_col4\" class=\"data row5 col4\" ></td>\n",
       "    </tr>\n",
       "    <tr>\n",
       "      <th id=\"T_033c3_level0_row6\" class=\"row_heading level0 row6\" >    Yes</th>\n",
       "      <td id=\"T_033c3_row6_col0\" class=\"data row6 col0\" >0</td>\n",
       "      <td id=\"T_033c3_row6_col1\" class=\"data row6 col1\" >0</td>\n",
       "      <td id=\"T_033c3_row6_col2\" class=\"data row6 col2\" >0</td>\n",
       "      <td id=\"T_033c3_row6_col3\" class=\"data row6 col3\" >0</td>\n",
       "      <td id=\"T_033c3_row6_col4\" class=\"data row6 col4\" >0</td>\n",
       "    </tr>\n",
       "    <tr>\n",
       "      <th id=\"T_033c3_level0_row7\" class=\"row_heading level0 row7\" >    No</th>\n",
       "      <td id=\"T_033c3_row7_col0\" class=\"data row7 col0\" >0</td>\n",
       "      <td id=\"T_033c3_row7_col1\" class=\"data row7 col1\" >0</td>\n",
       "      <td id=\"T_033c3_row7_col2\" class=\"data row7 col2\" >0</td>\n",
       "      <td id=\"T_033c3_row7_col3\" class=\"data row7 col3\" >0</td>\n",
       "      <td id=\"T_033c3_row7_col4\" class=\"data row7 col4\" >0</td>\n",
       "    </tr>\n",
       "    <tr>\n",
       "      <th id=\"T_033c3_level0_row8\" class=\"row_heading level0 row8\" >    No information</th>\n",
       "      <td id=\"T_033c3_row8_col0\" class=\"data row8 col0\" >0</td>\n",
       "      <td id=\"T_033c3_row8_col1\" class=\"data row8 col1\" >0</td>\n",
       "      <td id=\"T_033c3_row8_col2\" class=\"data row8 col2\" >0</td>\n",
       "      <td id=\"T_033c3_row8_col3\" class=\"data row8 col3\" >0</td>\n",
       "      <td id=\"T_033c3_row8_col4\" class=\"data row8 col4\" >0</td>\n",
       "    </tr>\n",
       "    <tr>\n",
       "      <th id=\"T_033c3_level0_row9\" class=\"row_heading level0 row9\" ><b>Side effects mentioned</b></th>\n",
       "      <td id=\"T_033c3_row9_col0\" class=\"data row9 col0\" ></td>\n",
       "      <td id=\"T_033c3_row9_col1\" class=\"data row9 col1\" ></td>\n",
       "      <td id=\"T_033c3_row9_col2\" class=\"data row9 col2\" ></td>\n",
       "      <td id=\"T_033c3_row9_col3\" class=\"data row9 col3\" ></td>\n",
       "      <td id=\"T_033c3_row9_col4\" class=\"data row9 col4\" ></td>\n",
       "    </tr>\n",
       "    <tr>\n",
       "      <th id=\"T_033c3_level0_row10\" class=\"row_heading level0 row10\" >    Yes</th>\n",
       "      <td id=\"T_033c3_row10_col0\" class=\"data row10 col0\" >0</td>\n",
       "      <td id=\"T_033c3_row10_col1\" class=\"data row10 col1\" >0</td>\n",
       "      <td id=\"T_033c3_row10_col2\" class=\"data row10 col2\" >0</td>\n",
       "      <td id=\"T_033c3_row10_col3\" class=\"data row10 col3\" >0</td>\n",
       "      <td id=\"T_033c3_row10_col4\" class=\"data row10 col4\" >0</td>\n",
       "    </tr>\n",
       "    <tr>\n",
       "      <th id=\"T_033c3_level0_row11\" class=\"row_heading level0 row11\" >    No</th>\n",
       "      <td id=\"T_033c3_row11_col0\" class=\"data row11 col0\" >0</td>\n",
       "      <td id=\"T_033c3_row11_col1\" class=\"data row11 col1\" >0</td>\n",
       "      <td id=\"T_033c3_row11_col2\" class=\"data row11 col2\" >0</td>\n",
       "      <td id=\"T_033c3_row11_col3\" class=\"data row11 col3\" >0</td>\n",
       "      <td id=\"T_033c3_row11_col4\" class=\"data row11 col4\" >0</td>\n",
       "    </tr>\n",
       "    <tr>\n",
       "      <th id=\"T_033c3_level0_row12\" class=\"row_heading level0 row12\" >    No information</th>\n",
       "      <td id=\"T_033c3_row12_col0\" class=\"data row12 col0\" >0</td>\n",
       "      <td id=\"T_033c3_row12_col1\" class=\"data row12 col1\" >0</td>\n",
       "      <td id=\"T_033c3_row12_col2\" class=\"data row12 col2\" >0</td>\n",
       "      <td id=\"T_033c3_row12_col3\" class=\"data row12 col3\" >0</td>\n",
       "      <td id=\"T_033c3_row12_col4\" class=\"data row12 col4\" >0</td>\n",
       "    </tr>\n",
       "    <tr>\n",
       "      <th id=\"T_033c3_level0_row13\" class=\"row_heading level0 row13\" ><b>Asserts significant pain reduction</b></th>\n",
       "      <td id=\"T_033c3_row13_col0\" class=\"data row13 col0\" ></td>\n",
       "      <td id=\"T_033c3_row13_col1\" class=\"data row13 col1\" ></td>\n",
       "      <td id=\"T_033c3_row13_col2\" class=\"data row13 col2\" ></td>\n",
       "      <td id=\"T_033c3_row13_col3\" class=\"data row13 col3\" ></td>\n",
       "      <td id=\"T_033c3_row13_col4\" class=\"data row13 col4\" ></td>\n",
       "    </tr>\n",
       "    <tr>\n",
       "      <th id=\"T_033c3_level0_row14\" class=\"row_heading level0 row14\" >    Yes</th>\n",
       "      <td id=\"T_033c3_row14_col0\" class=\"data row14 col0\" >0</td>\n",
       "      <td id=\"T_033c3_row14_col1\" class=\"data row14 col1\" >0</td>\n",
       "      <td id=\"T_033c3_row14_col2\" class=\"data row14 col2\" >0</td>\n",
       "      <td id=\"T_033c3_row14_col3\" class=\"data row14 col3\" >0</td>\n",
       "      <td id=\"T_033c3_row14_col4\" class=\"data row14 col4\" >0</td>\n",
       "    </tr>\n",
       "    <tr>\n",
       "      <th id=\"T_033c3_level0_row15\" class=\"row_heading level0 row15\" >    No</th>\n",
       "      <td id=\"T_033c3_row15_col0\" class=\"data row15 col0\" >0</td>\n",
       "      <td id=\"T_033c3_row15_col1\" class=\"data row15 col1\" >0</td>\n",
       "      <td id=\"T_033c3_row15_col2\" class=\"data row15 col2\" >0</td>\n",
       "      <td id=\"T_033c3_row15_col3\" class=\"data row15 col3\" >0</td>\n",
       "      <td id=\"T_033c3_row15_col4\" class=\"data row15 col4\" >0</td>\n",
       "    </tr>\n",
       "    <tr>\n",
       "      <th id=\"T_033c3_level0_row16\" class=\"row_heading level0 row16\" >    No information</th>\n",
       "      <td id=\"T_033c3_row16_col0\" class=\"data row16 col0\" >0</td>\n",
       "      <td id=\"T_033c3_row16_col1\" class=\"data row16 col1\" >0</td>\n",
       "      <td id=\"T_033c3_row16_col2\" class=\"data row16 col2\" >0</td>\n",
       "      <td id=\"T_033c3_row16_col3\" class=\"data row16 col3\" >0</td>\n",
       "      <td id=\"T_033c3_row16_col4\" class=\"data row16 col4\" >0</td>\n",
       "    </tr>\n",
       "    <tr>\n",
       "      <th id=\"T_033c3_level0_row17\" class=\"row_heading level0 row17\" ><b>Mentions breaking of stones</b></th>\n",
       "      <td id=\"T_033c3_row17_col0\" class=\"data row17 col0\" ></td>\n",
       "      <td id=\"T_033c3_row17_col1\" class=\"data row17 col1\" ></td>\n",
       "      <td id=\"T_033c3_row17_col2\" class=\"data row17 col2\" ></td>\n",
       "      <td id=\"T_033c3_row17_col3\" class=\"data row17 col3\" ></td>\n",
       "      <td id=\"T_033c3_row17_col4\" class=\"data row17 col4\" ></td>\n",
       "    </tr>\n",
       "    <tr>\n",
       "      <th id=\"T_033c3_level0_row18\" class=\"row_heading level0 row18\" >    Yes</th>\n",
       "      <td id=\"T_033c3_row18_col0\" class=\"data row18 col0\" >0</td>\n",
       "      <td id=\"T_033c3_row18_col1\" class=\"data row18 col1\" >0</td>\n",
       "      <td id=\"T_033c3_row18_col2\" class=\"data row18 col2\" >0</td>\n",
       "      <td id=\"T_033c3_row18_col3\" class=\"data row18 col3\" >0</td>\n",
       "      <td id=\"T_033c3_row18_col4\" class=\"data row18 col4\" >0</td>\n",
       "    </tr>\n",
       "    <tr>\n",
       "      <th id=\"T_033c3_level0_row19\" class=\"row_heading level0 row19\" >    No</th>\n",
       "      <td id=\"T_033c3_row19_col0\" class=\"data row19 col0\" >0</td>\n",
       "      <td id=\"T_033c3_row19_col1\" class=\"data row19 col1\" >0</td>\n",
       "      <td id=\"T_033c3_row19_col2\" class=\"data row19 col2\" >0</td>\n",
       "      <td id=\"T_033c3_row19_col3\" class=\"data row19 col3\" >0</td>\n",
       "      <td id=\"T_033c3_row19_col4\" class=\"data row19 col4\" >0</td>\n",
       "    </tr>\n",
       "    <tr>\n",
       "      <th id=\"T_033c3_level0_row20\" class=\"row_heading level0 row20\" >    No information</th>\n",
       "      <td id=\"T_033c3_row20_col0\" class=\"data row20 col0\" >0</td>\n",
       "      <td id=\"T_033c3_row20_col1\" class=\"data row20 col1\" >0</td>\n",
       "      <td id=\"T_033c3_row20_col2\" class=\"data row20 col2\" >0</td>\n",
       "      <td id=\"T_033c3_row20_col3\" class=\"data row20 col3\" >0</td>\n",
       "      <td id=\"T_033c3_row20_col4\" class=\"data row20 col4\" >0</td>\n",
       "    </tr>\n",
       "    <tr>\n",
       "      <th id=\"T_033c3_level0_row21\" class=\"row_heading level0 row21\" ><b>Mentions shrinking of the stones</b></th>\n",
       "      <td id=\"T_033c3_row21_col0\" class=\"data row21 col0\" ></td>\n",
       "      <td id=\"T_033c3_row21_col1\" class=\"data row21 col1\" ></td>\n",
       "      <td id=\"T_033c3_row21_col2\" class=\"data row21 col2\" ></td>\n",
       "      <td id=\"T_033c3_row21_col3\" class=\"data row21 col3\" ></td>\n",
       "      <td id=\"T_033c3_row21_col4\" class=\"data row21 col4\" ></td>\n",
       "    </tr>\n",
       "    <tr>\n",
       "      <th id=\"T_033c3_level0_row22\" class=\"row_heading level0 row22\" >    Yes</th>\n",
       "      <td id=\"T_033c3_row22_col0\" class=\"data row22 col0\" >0</td>\n",
       "      <td id=\"T_033c3_row22_col1\" class=\"data row22 col1\" >0</td>\n",
       "      <td id=\"T_033c3_row22_col2\" class=\"data row22 col2\" >0</td>\n",
       "      <td id=\"T_033c3_row22_col3\" class=\"data row22 col3\" >0</td>\n",
       "      <td id=\"T_033c3_row22_col4\" class=\"data row22 col4\" >0</td>\n",
       "    </tr>\n",
       "    <tr>\n",
       "      <th id=\"T_033c3_level0_row23\" class=\"row_heading level0 row23\" >    No</th>\n",
       "      <td id=\"T_033c3_row23_col0\" class=\"data row23 col0\" >0</td>\n",
       "      <td id=\"T_033c3_row23_col1\" class=\"data row23 col1\" >0</td>\n",
       "      <td id=\"T_033c3_row23_col2\" class=\"data row23 col2\" >0</td>\n",
       "      <td id=\"T_033c3_row23_col3\" class=\"data row23 col3\" >0</td>\n",
       "      <td id=\"T_033c3_row23_col4\" class=\"data row23 col4\" >0</td>\n",
       "    </tr>\n",
       "    <tr>\n",
       "      <th id=\"T_033c3_level0_row24\" class=\"row_heading level0 row24\" >    No information</th>\n",
       "      <td id=\"T_033c3_row24_col0\" class=\"data row24 col0\" >0</td>\n",
       "      <td id=\"T_033c3_row24_col1\" class=\"data row24 col1\" >0</td>\n",
       "      <td id=\"T_033c3_row24_col2\" class=\"data row24 col2\" >0</td>\n",
       "      <td id=\"T_033c3_row24_col3\" class=\"data row24 col3\" >0</td>\n",
       "      <td id=\"T_033c3_row24_col4\" class=\"data row24 col4\" >0</td>\n",
       "    </tr>\n",
       "    <tr>\n",
       "      <th id=\"T_033c3_level0_row25\" class=\"row_heading level0 row25\" ><b>Mentions softening of stones</b></th>\n",
       "      <td id=\"T_033c3_row25_col0\" class=\"data row25 col0\" ></td>\n",
       "      <td id=\"T_033c3_row25_col1\" class=\"data row25 col1\" ></td>\n",
       "      <td id=\"T_033c3_row25_col2\" class=\"data row25 col2\" ></td>\n",
       "      <td id=\"T_033c3_row25_col3\" class=\"data row25 col3\" ></td>\n",
       "      <td id=\"T_033c3_row25_col4\" class=\"data row25 col4\" ></td>\n",
       "    </tr>\n",
       "    <tr>\n",
       "      <th id=\"T_033c3_level0_row26\" class=\"row_heading level0 row26\" >    Yes</th>\n",
       "      <td id=\"T_033c3_row26_col0\" class=\"data row26 col0\" >0</td>\n",
       "      <td id=\"T_033c3_row26_col1\" class=\"data row26 col1\" >0</td>\n",
       "      <td id=\"T_033c3_row26_col2\" class=\"data row26 col2\" >0</td>\n",
       "      <td id=\"T_033c3_row26_col3\" class=\"data row26 col3\" >0</td>\n",
       "      <td id=\"T_033c3_row26_col4\" class=\"data row26 col4\" >0</td>\n",
       "    </tr>\n",
       "    <tr>\n",
       "      <th id=\"T_033c3_level0_row27\" class=\"row_heading level0 row27\" >    No</th>\n",
       "      <td id=\"T_033c3_row27_col0\" class=\"data row27 col0\" >0</td>\n",
       "      <td id=\"T_033c3_row27_col1\" class=\"data row27 col1\" >0</td>\n",
       "      <td id=\"T_033c3_row27_col2\" class=\"data row27 col2\" >0</td>\n",
       "      <td id=\"T_033c3_row27_col3\" class=\"data row27 col3\" >0</td>\n",
       "      <td id=\"T_033c3_row27_col4\" class=\"data row27 col4\" >0</td>\n",
       "    </tr>\n",
       "    <tr>\n",
       "      <th id=\"T_033c3_level0_row28\" class=\"row_heading level0 row28\" >    No information</th>\n",
       "      <td id=\"T_033c3_row28_col0\" class=\"data row28 col0\" >0</td>\n",
       "      <td id=\"T_033c3_row28_col1\" class=\"data row28 col1\" >0</td>\n",
       "      <td id=\"T_033c3_row28_col2\" class=\"data row28 col2\" >0</td>\n",
       "      <td id=\"T_033c3_row28_col3\" class=\"data row28 col3\" >0</td>\n",
       "      <td id=\"T_033c3_row28_col4\" class=\"data row28 col4\" >0</td>\n",
       "    </tr>\n",
       "    <tr>\n",
       "      <th id=\"T_033c3_level0_row29\" class=\"row_heading level0 row29\" ><b>Stone passed with no or almost no pain</b></th>\n",
       "      <td id=\"T_033c3_row29_col0\" class=\"data row29 col0\" ></td>\n",
       "      <td id=\"T_033c3_row29_col1\" class=\"data row29 col1\" ></td>\n",
       "      <td id=\"T_033c3_row29_col2\" class=\"data row29 col2\" ></td>\n",
       "      <td id=\"T_033c3_row29_col3\" class=\"data row29 col3\" ></td>\n",
       "      <td id=\"T_033c3_row29_col4\" class=\"data row29 col4\" ></td>\n",
       "    </tr>\n",
       "    <tr>\n",
       "      <th id=\"T_033c3_level0_row30\" class=\"row_heading level0 row30\" >    Yes</th>\n",
       "      <td id=\"T_033c3_row30_col0\" class=\"data row30 col0\" >0</td>\n",
       "      <td id=\"T_033c3_row30_col1\" class=\"data row30 col1\" >0</td>\n",
       "      <td id=\"T_033c3_row30_col2\" class=\"data row30 col2\" >0</td>\n",
       "      <td id=\"T_033c3_row30_col3\" class=\"data row30 col3\" >0</td>\n",
       "      <td id=\"T_033c3_row30_col4\" class=\"data row30 col4\" >0</td>\n",
       "    </tr>\n",
       "    <tr>\n",
       "      <th id=\"T_033c3_level0_row31\" class=\"row_heading level0 row31\" >    No</th>\n",
       "      <td id=\"T_033c3_row31_col0\" class=\"data row31 col0\" >0</td>\n",
       "      <td id=\"T_033c3_row31_col1\" class=\"data row31 col1\" >0</td>\n",
       "      <td id=\"T_033c3_row31_col2\" class=\"data row31 col2\" >0</td>\n",
       "      <td id=\"T_033c3_row31_col3\" class=\"data row31 col3\" >0</td>\n",
       "      <td id=\"T_033c3_row31_col4\" class=\"data row31 col4\" >0</td>\n",
       "    </tr>\n",
       "    <tr>\n",
       "      <th id=\"T_033c3_level0_row32\" class=\"row_heading level0 row32\" >    No information</th>\n",
       "      <td id=\"T_033c3_row32_col0\" class=\"data row32 col0\" >0</td>\n",
       "      <td id=\"T_033c3_row32_col1\" class=\"data row32 col1\" >0</td>\n",
       "      <td id=\"T_033c3_row32_col2\" class=\"data row32 col2\" >0</td>\n",
       "      <td id=\"T_033c3_row32_col3\" class=\"data row32 col3\" >0</td>\n",
       "      <td id=\"T_033c3_row32_col4\" class=\"data row32 col4\" >0</td>\n",
       "    </tr>\n",
       "  </tbody>\n",
       "</table>\n"
      ],
      "text/plain": [
       "<pandas.io.formats.style.Styler at 0x121d7af30>"
      ]
     },
     "metadata": {},
     "output_type": "display_data"
    }
   ],
   "source": [
    "sources_to_exclude = ['Alerna: Chanca Piedra 500mg', 'EU Natural: \"Stone Breaker\" chanca piedra', 'Herb Pharm Chanca Piedra Liquid Extract 1Fl Oz', 'Peruvian Naturals Chanca Piedra Capsules', 'Activa Naturals Chanca Piedra', 'Carlyle Chanca Piedra', 'CNP Organic Chanca Piedra Concentrate & Extract', 'Hanan Chanca Piedra Tea']\n",
    "# sources_to_exclude = ['Alerna: Chanca Piedra 500mg', 'NaturalisimoLife Chanca Piedra 1600 mg', 'Herb Pharm Chanca Piedra Liquid Extract 1Fl Oz', 'Peruvian Naturals Chanca Piedra Capsules', 'Carlyle Chanca Piedra', 'CNP Organic Chanca Piedra Concentrate & Extract', 'Hanan Chanca Piedra Tea']\n",
    "# sources_to_exclude = ['Alerna: Chanca Piedra 500mg', 'NaturalisimoLife Chanca Piedra 1600 mg', 'EU Natural: \"Stone Breaker\" chanca piedra', 'Peruvian Naturals Chanca Piedra Capsules', 'Carlyle Chanca Piedra', 'CNP Organic Chanca Piedra Concentrate & Extract', 'Hanan Chanca Piedra Tea']\n",
    "# sources_to_exclude = []\n",
    "\n",
    "ratings_display_df = calculate_stats_by_rating(\n",
    "    dfa, \n",
    "    columns_to_analyze, \n",
    "    'Chanca piedra', \n",
    "    [1, 2, 3, 4, 5],\n",
    "    sources_to_exclude=sources_to_exclude\n",
    ")\n",
    "display(style_dataframe(ratings_display_df))"
   ]
  },
  {
   "cell_type": "markdown",
   "metadata": {},
   "source": [
    "# 3. Reddit posts"
   ]
  },
  {
   "cell_type": "code",
   "execution_count": 89,
   "metadata": {},
   "outputs": [
    {
     "name": "stdout",
     "output_type": "stream",
     "text": [
      "Successfully loaded 2308 rows of data\n"
     ]
    }
   ],
   "source": [
    "dfr = pd.read_csv('csv-files/Kidney Stone Reviews - Reviews - Reddit.csv')\n",
    "print(f\"Successfully loaded {len(dfr)} rows of data\")"
   ]
  },
  {
   "cell_type": "code",
   "execution_count": 92,
   "metadata": {},
   "outputs": [
    {
     "data": {
      "text/html": [
       "<style type=\"text/css\">\n",
       "#T_8172c  {\n",
       "  color: white;\n",
       "}\n",
       "</style>\n",
       "<table id=\"T_8172c\">\n",
       "  <thead>\n",
       "    <tr>\n",
       "      <th class=\"blank level0\" >&nbsp;</th>\n",
       "      <th id=\"T_8172c_level0_col0\" class=\"col_heading level0 col0\" >Allopurinol</th>\n",
       "      <th id=\"T_8172c_level0_col1\" class=\"col_heading level0 col1\" >Black seed</th>\n",
       "      <th id=\"T_8172c_level0_col2\" class=\"col_heading level0 col2\" >Chanca piedra</th>\n",
       "      <th id=\"T_8172c_level0_col3\" class=\"col_heading level0 col3\" >Flomax</th>\n",
       "      <th id=\"T_8172c_level0_col4\" class=\"col_heading level0 col4\" >Garcinia</th>\n",
       "      <th id=\"T_8172c_level0_col5\" class=\"col_heading level0 col5\" >HCTZ</th>\n",
       "      <th id=\"T_8172c_level0_col6\" class=\"col_heading level0 col6\" >Phosfood</th>\n",
       "      <th id=\"T_8172c_level0_col7\" class=\"col_heading level0 col7\" >Potassium citrate</th>\n",
       "      <th id=\"T_8172c_level0_col8\" class=\"col_heading level0 col8\" >Rowatinex</th>\n",
       "    </tr>\n",
       "    <tr>\n",
       "      <th class=\"index_name level0\" > </th>\n",
       "      <th class=\"blank col0\" >&nbsp;</th>\n",
       "      <th class=\"blank col1\" >&nbsp;</th>\n",
       "      <th class=\"blank col2\" >&nbsp;</th>\n",
       "      <th class=\"blank col3\" >&nbsp;</th>\n",
       "      <th class=\"blank col4\" >&nbsp;</th>\n",
       "      <th class=\"blank col5\" >&nbsp;</th>\n",
       "      <th class=\"blank col6\" >&nbsp;</th>\n",
       "      <th class=\"blank col7\" >&nbsp;</th>\n",
       "      <th class=\"blank col8\" >&nbsp;</th>\n",
       "    </tr>\n",
       "  </thead>\n",
       "  <tbody>\n",
       "    <tr>\n",
       "      <th id=\"T_8172c_level0_row0\" class=\"row_heading level0 row0\" ><b>Total Reviews</b></th>\n",
       "      <td id=\"T_8172c_row0_col0\" class=\"data row0 col0\" >49</td>\n",
       "      <td id=\"T_8172c_row0_col1\" class=\"data row0 col1\" >17</td>\n",
       "      <td id=\"T_8172c_row0_col2\" class=\"data row0 col2\" >492</td>\n",
       "      <td id=\"T_8172c_row0_col3\" class=\"data row0 col3\" >1,134</td>\n",
       "      <td id=\"T_8172c_row0_col4\" class=\"data row0 col4\" >38</td>\n",
       "      <td id=\"T_8172c_row0_col5\" class=\"data row0 col5\" >46</td>\n",
       "      <td id=\"T_8172c_row0_col6\" class=\"data row0 col6\" >2</td>\n",
       "      <td id=\"T_8172c_row0_col7\" class=\"data row0 col7\" >509</td>\n",
       "      <td id=\"T_8172c_row0_col8\" class=\"data row0 col8\" >21</td>\n",
       "    </tr>\n",
       "    <tr>\n",
       "      <th id=\"T_8172c_level0_row1\" class=\"row_heading level0 row1\" ><b>Helps overall with kidney stones</b></th>\n",
       "      <td id=\"T_8172c_row1_col0\" class=\"data row1 col0\" ></td>\n",
       "      <td id=\"T_8172c_row1_col1\" class=\"data row1 col1\" ></td>\n",
       "      <td id=\"T_8172c_row1_col2\" class=\"data row1 col2\" ></td>\n",
       "      <td id=\"T_8172c_row1_col3\" class=\"data row1 col3\" ></td>\n",
       "      <td id=\"T_8172c_row1_col4\" class=\"data row1 col4\" ></td>\n",
       "      <td id=\"T_8172c_row1_col5\" class=\"data row1 col5\" ></td>\n",
       "      <td id=\"T_8172c_row1_col6\" class=\"data row1 col6\" ></td>\n",
       "      <td id=\"T_8172c_row1_col7\" class=\"data row1 col7\" ></td>\n",
       "      <td id=\"T_8172c_row1_col8\" class=\"data row1 col8\" ></td>\n",
       "    </tr>\n",
       "    <tr>\n",
       "      <th id=\"T_8172c_level0_row2\" class=\"row_heading level0 row2\" >    Yes</th>\n",
       "      <td id=\"T_8172c_row2_col0\" class=\"data row2 col0\" >20.4%</td>\n",
       "      <td id=\"T_8172c_row2_col1\" class=\"data row2 col1\" >23.5%</td>\n",
       "      <td id=\"T_8172c_row2_col2\" class=\"data row2 col2\" >35.2%</td>\n",
       "      <td id=\"T_8172c_row2_col3\" class=\"data row2 col3\" >24.6%</td>\n",
       "      <td id=\"T_8172c_row2_col4\" class=\"data row2 col4\" >42.1%</td>\n",
       "      <td id=\"T_8172c_row2_col5\" class=\"data row2 col5\" >32.6%</td>\n",
       "      <td id=\"T_8172c_row2_col6\" class=\"data row2 col6\" >100%</td>\n",
       "      <td id=\"T_8172c_row2_col7\" class=\"data row2 col7\" >22%</td>\n",
       "      <td id=\"T_8172c_row2_col8\" class=\"data row2 col8\" >23.8%</td>\n",
       "    </tr>\n",
       "    <tr>\n",
       "      <th id=\"T_8172c_level0_row3\" class=\"row_heading level0 row3\" >    No</th>\n",
       "      <td id=\"T_8172c_row3_col0\" class=\"data row3 col0\" >2%</td>\n",
       "      <td id=\"T_8172c_row3_col1\" class=\"data row3 col1\" >5.9%</td>\n",
       "      <td id=\"T_8172c_row3_col2\" class=\"data row3 col2\" >9.8%</td>\n",
       "      <td id=\"T_8172c_row3_col3\" class=\"data row3 col3\" >11.7%</td>\n",
       "      <td id=\"T_8172c_row3_col4\" class=\"data row3 col4\" >0%</td>\n",
       "      <td id=\"T_8172c_row3_col5\" class=\"data row3 col5\" >4.3%</td>\n",
       "      <td id=\"T_8172c_row3_col6\" class=\"data row3 col6\" >0%</td>\n",
       "      <td id=\"T_8172c_row3_col7\" class=\"data row3 col7\" >8.6%</td>\n",
       "      <td id=\"T_8172c_row3_col8\" class=\"data row3 col8\" >14.3%</td>\n",
       "    </tr>\n",
       "    <tr>\n",
       "      <th id=\"T_8172c_level0_row4\" class=\"row_heading level0 row4\" >    No information</th>\n",
       "      <td id=\"T_8172c_row4_col0\" class=\"data row4 col0\" >77.6%</td>\n",
       "      <td id=\"T_8172c_row4_col1\" class=\"data row4 col1\" >70.6%</td>\n",
       "      <td id=\"T_8172c_row4_col2\" class=\"data row4 col2\" >55.1%</td>\n",
       "      <td id=\"T_8172c_row4_col3\" class=\"data row4 col3\" >63.7%</td>\n",
       "      <td id=\"T_8172c_row4_col4\" class=\"data row4 col4\" >57.9%</td>\n",
       "      <td id=\"T_8172c_row4_col5\" class=\"data row4 col5\" >63%</td>\n",
       "      <td id=\"T_8172c_row4_col6\" class=\"data row4 col6\" >0%</td>\n",
       "      <td id=\"T_8172c_row4_col7\" class=\"data row4 col7\" >69.4%</td>\n",
       "      <td id=\"T_8172c_row4_col8\" class=\"data row4 col8\" >61.9%</td>\n",
       "    </tr>\n",
       "    <tr>\n",
       "      <th id=\"T_8172c_level0_row5\" class=\"row_heading level0 row5\" ><b>Works as a prophylactic</b></th>\n",
       "      <td id=\"T_8172c_row5_col0\" class=\"data row5 col0\" ></td>\n",
       "      <td id=\"T_8172c_row5_col1\" class=\"data row5 col1\" ></td>\n",
       "      <td id=\"T_8172c_row5_col2\" class=\"data row5 col2\" ></td>\n",
       "      <td id=\"T_8172c_row5_col3\" class=\"data row5 col3\" ></td>\n",
       "      <td id=\"T_8172c_row5_col4\" class=\"data row5 col4\" ></td>\n",
       "      <td id=\"T_8172c_row5_col5\" class=\"data row5 col5\" ></td>\n",
       "      <td id=\"T_8172c_row5_col6\" class=\"data row5 col6\" ></td>\n",
       "      <td id=\"T_8172c_row5_col7\" class=\"data row5 col7\" ></td>\n",
       "      <td id=\"T_8172c_row5_col8\" class=\"data row5 col8\" ></td>\n",
       "    </tr>\n",
       "    <tr>\n",
       "      <th id=\"T_8172c_level0_row6\" class=\"row_heading level0 row6\" >    Yes</th>\n",
       "      <td id=\"T_8172c_row6_col0\" class=\"data row6 col0\" >18.4%</td>\n",
       "      <td id=\"T_8172c_row6_col1\" class=\"data row6 col1\" >11.8%</td>\n",
       "      <td id=\"T_8172c_row6_col2\" class=\"data row6 col2\" >4.5%</td>\n",
       "      <td id=\"T_8172c_row6_col3\" class=\"data row6 col3\" >0.5%</td>\n",
       "      <td id=\"T_8172c_row6_col4\" class=\"data row6 col4\" >13.2%</td>\n",
       "      <td id=\"T_8172c_row6_col5\" class=\"data row6 col5\" >23.9%</td>\n",
       "      <td id=\"T_8172c_row6_col6\" class=\"data row6 col6\" >0%</td>\n",
       "      <td id=\"T_8172c_row6_col7\" class=\"data row6 col7\" >11.2%</td>\n",
       "      <td id=\"T_8172c_row6_col8\" class=\"data row6 col8\" >0%</td>\n",
       "    </tr>\n",
       "    <tr>\n",
       "      <th id=\"T_8172c_level0_row7\" class=\"row_heading level0 row7\" >    No</th>\n",
       "      <td id=\"T_8172c_row7_col0\" class=\"data row7 col0\" >0%</td>\n",
       "      <td id=\"T_8172c_row7_col1\" class=\"data row7 col1\" >0%</td>\n",
       "      <td id=\"T_8172c_row7_col2\" class=\"data row7 col2\" >0.4%</td>\n",
       "      <td id=\"T_8172c_row7_col3\" class=\"data row7 col3\" >0.1%</td>\n",
       "      <td id=\"T_8172c_row7_col4\" class=\"data row7 col4\" >0%</td>\n",
       "      <td id=\"T_8172c_row7_col5\" class=\"data row7 col5\" >0%</td>\n",
       "      <td id=\"T_8172c_row7_col6\" class=\"data row7 col6\" >0%</td>\n",
       "      <td id=\"T_8172c_row7_col7\" class=\"data row7 col7\" >2.4%</td>\n",
       "      <td id=\"T_8172c_row7_col8\" class=\"data row7 col8\" >9.5%</td>\n",
       "    </tr>\n",
       "    <tr>\n",
       "      <th id=\"T_8172c_level0_row8\" class=\"row_heading level0 row8\" >    No information</th>\n",
       "      <td id=\"T_8172c_row8_col0\" class=\"data row8 col0\" >81.6%</td>\n",
       "      <td id=\"T_8172c_row8_col1\" class=\"data row8 col1\" >88.2%</td>\n",
       "      <td id=\"T_8172c_row8_col2\" class=\"data row8 col2\" >95.1%</td>\n",
       "      <td id=\"T_8172c_row8_col3\" class=\"data row8 col3\" >99.4%</td>\n",
       "      <td id=\"T_8172c_row8_col4\" class=\"data row8 col4\" >86.8%</td>\n",
       "      <td id=\"T_8172c_row8_col5\" class=\"data row8 col5\" >76.1%</td>\n",
       "      <td id=\"T_8172c_row8_col6\" class=\"data row8 col6\" >100%</td>\n",
       "      <td id=\"T_8172c_row8_col7\" class=\"data row8 col7\" >86.4%</td>\n",
       "      <td id=\"T_8172c_row8_col8\" class=\"data row8 col8\" >90.5%</td>\n",
       "    </tr>\n",
       "    <tr>\n",
       "      <th id=\"T_8172c_level0_row9\" class=\"row_heading level0 row9\" ><b>Side effects mentioned</b></th>\n",
       "      <td id=\"T_8172c_row9_col0\" class=\"data row9 col0\" ></td>\n",
       "      <td id=\"T_8172c_row9_col1\" class=\"data row9 col1\" ></td>\n",
       "      <td id=\"T_8172c_row9_col2\" class=\"data row9 col2\" ></td>\n",
       "      <td id=\"T_8172c_row9_col3\" class=\"data row9 col3\" ></td>\n",
       "      <td id=\"T_8172c_row9_col4\" class=\"data row9 col4\" ></td>\n",
       "      <td id=\"T_8172c_row9_col5\" class=\"data row9 col5\" ></td>\n",
       "      <td id=\"T_8172c_row9_col6\" class=\"data row9 col6\" ></td>\n",
       "      <td id=\"T_8172c_row9_col7\" class=\"data row9 col7\" ></td>\n",
       "      <td id=\"T_8172c_row9_col8\" class=\"data row9 col8\" ></td>\n",
       "    </tr>\n",
       "    <tr>\n",
       "      <th id=\"T_8172c_level0_row10\" class=\"row_heading level0 row10\" >    Yes</th>\n",
       "      <td id=\"T_8172c_row10_col0\" class=\"data row10 col0\" >12.2%</td>\n",
       "      <td id=\"T_8172c_row10_col1\" class=\"data row10 col1\" >0%</td>\n",
       "      <td id=\"T_8172c_row10_col2\" class=\"data row10 col2\" >6.5%</td>\n",
       "      <td id=\"T_8172c_row10_col3\" class=\"data row10 col3\" >21.9%</td>\n",
       "      <td id=\"T_8172c_row10_col4\" class=\"data row10 col4\" >13.2%</td>\n",
       "      <td id=\"T_8172c_row10_col5\" class=\"data row10 col5\" >8.7%</td>\n",
       "      <td id=\"T_8172c_row10_col6\" class=\"data row10 col6\" >0%</td>\n",
       "      <td id=\"T_8172c_row10_col7\" class=\"data row10 col7\" >13.4%</td>\n",
       "      <td id=\"T_8172c_row10_col8\" class=\"data row10 col8\" >14.3%</td>\n",
       "    </tr>\n",
       "    <tr>\n",
       "      <th id=\"T_8172c_level0_row11\" class=\"row_heading level0 row11\" >    No</th>\n",
       "      <td id=\"T_8172c_row11_col0\" class=\"data row11 col0\" >0%</td>\n",
       "      <td id=\"T_8172c_row11_col1\" class=\"data row11 col1\" >0%</td>\n",
       "      <td id=\"T_8172c_row11_col2\" class=\"data row11 col2\" >0%</td>\n",
       "      <td id=\"T_8172c_row11_col3\" class=\"data row11 col3\" >0%</td>\n",
       "      <td id=\"T_8172c_row11_col4\" class=\"data row11 col4\" >0%</td>\n",
       "      <td id=\"T_8172c_row11_col5\" class=\"data row11 col5\" >0%</td>\n",
       "      <td id=\"T_8172c_row11_col6\" class=\"data row11 col6\" >0%</td>\n",
       "      <td id=\"T_8172c_row11_col7\" class=\"data row11 col7\" >0%</td>\n",
       "      <td id=\"T_8172c_row11_col8\" class=\"data row11 col8\" >0%</td>\n",
       "    </tr>\n",
       "    <tr>\n",
       "      <th id=\"T_8172c_level0_row12\" class=\"row_heading level0 row12\" >    No information</th>\n",
       "      <td id=\"T_8172c_row12_col0\" class=\"data row12 col0\" >87.8%</td>\n",
       "      <td id=\"T_8172c_row12_col1\" class=\"data row12 col1\" >100%</td>\n",
       "      <td id=\"T_8172c_row12_col2\" class=\"data row12 col2\" >93.5%</td>\n",
       "      <td id=\"T_8172c_row12_col3\" class=\"data row12 col3\" >78.1%</td>\n",
       "      <td id=\"T_8172c_row12_col4\" class=\"data row12 col4\" >86.8%</td>\n",
       "      <td id=\"T_8172c_row12_col5\" class=\"data row12 col5\" >91.3%</td>\n",
       "      <td id=\"T_8172c_row12_col6\" class=\"data row12 col6\" >100%</td>\n",
       "      <td id=\"T_8172c_row12_col7\" class=\"data row12 col7\" >86.6%</td>\n",
       "      <td id=\"T_8172c_row12_col8\" class=\"data row12 col8\" >85.7%</td>\n",
       "    </tr>\n",
       "    <tr>\n",
       "      <th id=\"T_8172c_level0_row13\" class=\"row_heading level0 row13\" ><b>Asserts significant pain reduction</b></th>\n",
       "      <td id=\"T_8172c_row13_col0\" class=\"data row13 col0\" ></td>\n",
       "      <td id=\"T_8172c_row13_col1\" class=\"data row13 col1\" ></td>\n",
       "      <td id=\"T_8172c_row13_col2\" class=\"data row13 col2\" ></td>\n",
       "      <td id=\"T_8172c_row13_col3\" class=\"data row13 col3\" ></td>\n",
       "      <td id=\"T_8172c_row13_col4\" class=\"data row13 col4\" ></td>\n",
       "      <td id=\"T_8172c_row13_col5\" class=\"data row13 col5\" ></td>\n",
       "      <td id=\"T_8172c_row13_col6\" class=\"data row13 col6\" ></td>\n",
       "      <td id=\"T_8172c_row13_col7\" class=\"data row13 col7\" ></td>\n",
       "      <td id=\"T_8172c_row13_col8\" class=\"data row13 col8\" ></td>\n",
       "    </tr>\n",
       "    <tr>\n",
       "      <th id=\"T_8172c_level0_row14\" class=\"row_heading level0 row14\" >    Yes</th>\n",
       "      <td id=\"T_8172c_row14_col0\" class=\"data row14 col0\" >0%</td>\n",
       "      <td id=\"T_8172c_row14_col1\" class=\"data row14 col1\" >0%</td>\n",
       "      <td id=\"T_8172c_row14_col2\" class=\"data row14 col2\" >9.1%</td>\n",
       "      <td id=\"T_8172c_row14_col3\" class=\"data row14 col3\" >4.3%</td>\n",
       "      <td id=\"T_8172c_row14_col4\" class=\"data row14 col4\" >0%</td>\n",
       "      <td id=\"T_8172c_row14_col5\" class=\"data row14 col5\" >0%</td>\n",
       "      <td id=\"T_8172c_row14_col6\" class=\"data row14 col6\" >0%</td>\n",
       "      <td id=\"T_8172c_row14_col7\" class=\"data row14 col7\" >0.6%</td>\n",
       "      <td id=\"T_8172c_row14_col8\" class=\"data row14 col8\" >9.5%</td>\n",
       "    </tr>\n",
       "    <tr>\n",
       "      <th id=\"T_8172c_level0_row15\" class=\"row_heading level0 row15\" >    No</th>\n",
       "      <td id=\"T_8172c_row15_col0\" class=\"data row15 col0\" >0%</td>\n",
       "      <td id=\"T_8172c_row15_col1\" class=\"data row15 col1\" >0%</td>\n",
       "      <td id=\"T_8172c_row15_col2\" class=\"data row15 col2\" >0.8%</td>\n",
       "      <td id=\"T_8172c_row15_col3\" class=\"data row15 col3\" >1%</td>\n",
       "      <td id=\"T_8172c_row15_col4\" class=\"data row15 col4\" >0%</td>\n",
       "      <td id=\"T_8172c_row15_col5\" class=\"data row15 col5\" >0%</td>\n",
       "      <td id=\"T_8172c_row15_col6\" class=\"data row15 col6\" >0%</td>\n",
       "      <td id=\"T_8172c_row15_col7\" class=\"data row15 col7\" >0%</td>\n",
       "      <td id=\"T_8172c_row15_col8\" class=\"data row15 col8\" >0%</td>\n",
       "    </tr>\n",
       "    <tr>\n",
       "      <th id=\"T_8172c_level0_row16\" class=\"row_heading level0 row16\" >    No information</th>\n",
       "      <td id=\"T_8172c_row16_col0\" class=\"data row16 col0\" >100%</td>\n",
       "      <td id=\"T_8172c_row16_col1\" class=\"data row16 col1\" >100%</td>\n",
       "      <td id=\"T_8172c_row16_col2\" class=\"data row16 col2\" >90%</td>\n",
       "      <td id=\"T_8172c_row16_col3\" class=\"data row16 col3\" >94.7%</td>\n",
       "      <td id=\"T_8172c_row16_col4\" class=\"data row16 col4\" >100%</td>\n",
       "      <td id=\"T_8172c_row16_col5\" class=\"data row16 col5\" >100%</td>\n",
       "      <td id=\"T_8172c_row16_col6\" class=\"data row16 col6\" >100%</td>\n",
       "      <td id=\"T_8172c_row16_col7\" class=\"data row16 col7\" >99.4%</td>\n",
       "      <td id=\"T_8172c_row16_col8\" class=\"data row16 col8\" >90.5%</td>\n",
       "    </tr>\n",
       "    <tr>\n",
       "      <th id=\"T_8172c_level0_row17\" class=\"row_heading level0 row17\" ><b>Mentions breaking of stones</b></th>\n",
       "      <td id=\"T_8172c_row17_col0\" class=\"data row17 col0\" ></td>\n",
       "      <td id=\"T_8172c_row17_col1\" class=\"data row17 col1\" ></td>\n",
       "      <td id=\"T_8172c_row17_col2\" class=\"data row17 col2\" ></td>\n",
       "      <td id=\"T_8172c_row17_col3\" class=\"data row17 col3\" ></td>\n",
       "      <td id=\"T_8172c_row17_col4\" class=\"data row17 col4\" ></td>\n",
       "      <td id=\"T_8172c_row17_col5\" class=\"data row17 col5\" ></td>\n",
       "      <td id=\"T_8172c_row17_col6\" class=\"data row17 col6\" ></td>\n",
       "      <td id=\"T_8172c_row17_col7\" class=\"data row17 col7\" ></td>\n",
       "      <td id=\"T_8172c_row17_col8\" class=\"data row17 col8\" ></td>\n",
       "    </tr>\n",
       "    <tr>\n",
       "      <th id=\"T_8172c_level0_row18\" class=\"row_heading level0 row18\" >    Yes</th>\n",
       "      <td id=\"T_8172c_row18_col0\" class=\"data row18 col0\" >0%</td>\n",
       "      <td id=\"T_8172c_row18_col1\" class=\"data row18 col1\" >0%</td>\n",
       "      <td id=\"T_8172c_row18_col2\" class=\"data row18 col2\" >6.5%</td>\n",
       "      <td id=\"T_8172c_row18_col3\" class=\"data row18 col3\" >0%</td>\n",
       "      <td id=\"T_8172c_row18_col4\" class=\"data row18 col4\" >0%</td>\n",
       "      <td id=\"T_8172c_row18_col5\" class=\"data row18 col5\" >0%</td>\n",
       "      <td id=\"T_8172c_row18_col6\" class=\"data row18 col6\" >0%</td>\n",
       "      <td id=\"T_8172c_row18_col7\" class=\"data row18 col7\" >0.4%</td>\n",
       "      <td id=\"T_8172c_row18_col8\" class=\"data row18 col8\" >0%</td>\n",
       "    </tr>\n",
       "    <tr>\n",
       "      <th id=\"T_8172c_level0_row19\" class=\"row_heading level0 row19\" >    No</th>\n",
       "      <td id=\"T_8172c_row19_col0\" class=\"data row19 col0\" >0%</td>\n",
       "      <td id=\"T_8172c_row19_col1\" class=\"data row19 col1\" >0%</td>\n",
       "      <td id=\"T_8172c_row19_col2\" class=\"data row19 col2\" >0.8%</td>\n",
       "      <td id=\"T_8172c_row19_col3\" class=\"data row19 col3\" >0.1%</td>\n",
       "      <td id=\"T_8172c_row19_col4\" class=\"data row19 col4\" >0%</td>\n",
       "      <td id=\"T_8172c_row19_col5\" class=\"data row19 col5\" >0%</td>\n",
       "      <td id=\"T_8172c_row19_col6\" class=\"data row19 col6\" >0%</td>\n",
       "      <td id=\"T_8172c_row19_col7\" class=\"data row19 col7\" >0.2%</td>\n",
       "      <td id=\"T_8172c_row19_col8\" class=\"data row19 col8\" >0%</td>\n",
       "    </tr>\n",
       "    <tr>\n",
       "      <th id=\"T_8172c_level0_row20\" class=\"row_heading level0 row20\" >    No information</th>\n",
       "      <td id=\"T_8172c_row20_col0\" class=\"data row20 col0\" >100%</td>\n",
       "      <td id=\"T_8172c_row20_col1\" class=\"data row20 col1\" >100%</td>\n",
       "      <td id=\"T_8172c_row20_col2\" class=\"data row20 col2\" >92.7%</td>\n",
       "      <td id=\"T_8172c_row20_col3\" class=\"data row20 col3\" >99.9%</td>\n",
       "      <td id=\"T_8172c_row20_col4\" class=\"data row20 col4\" >100%</td>\n",
       "      <td id=\"T_8172c_row20_col5\" class=\"data row20 col5\" >100%</td>\n",
       "      <td id=\"T_8172c_row20_col6\" class=\"data row20 col6\" >100%</td>\n",
       "      <td id=\"T_8172c_row20_col7\" class=\"data row20 col7\" >99.4%</td>\n",
       "      <td id=\"T_8172c_row20_col8\" class=\"data row20 col8\" >100%</td>\n",
       "    </tr>\n",
       "    <tr>\n",
       "      <th id=\"T_8172c_level0_row21\" class=\"row_heading level0 row21\" ><b>Mentions shrinking of the stones</b></th>\n",
       "      <td id=\"T_8172c_row21_col0\" class=\"data row21 col0\" ></td>\n",
       "      <td id=\"T_8172c_row21_col1\" class=\"data row21 col1\" ></td>\n",
       "      <td id=\"T_8172c_row21_col2\" class=\"data row21 col2\" ></td>\n",
       "      <td id=\"T_8172c_row21_col3\" class=\"data row21 col3\" ></td>\n",
       "      <td id=\"T_8172c_row21_col4\" class=\"data row21 col4\" ></td>\n",
       "      <td id=\"T_8172c_row21_col5\" class=\"data row21 col5\" ></td>\n",
       "      <td id=\"T_8172c_row21_col6\" class=\"data row21 col6\" ></td>\n",
       "      <td id=\"T_8172c_row21_col7\" class=\"data row21 col7\" ></td>\n",
       "      <td id=\"T_8172c_row21_col8\" class=\"data row21 col8\" ></td>\n",
       "    </tr>\n",
       "    <tr>\n",
       "      <th id=\"T_8172c_level0_row22\" class=\"row_heading level0 row22\" >    Yes</th>\n",
       "      <td id=\"T_8172c_row22_col0\" class=\"data row22 col0\" >2%</td>\n",
       "      <td id=\"T_8172c_row22_col1\" class=\"data row22 col1\" >5.9%</td>\n",
       "      <td id=\"T_8172c_row22_col2\" class=\"data row22 col2\" >2%</td>\n",
       "      <td id=\"T_8172c_row22_col3\" class=\"data row22 col3\" >0.3%</td>\n",
       "      <td id=\"T_8172c_row22_col4\" class=\"data row22 col4\" >5.3%</td>\n",
       "      <td id=\"T_8172c_row22_col5\" class=\"data row22 col5\" >0%</td>\n",
       "      <td id=\"T_8172c_row22_col6\" class=\"data row22 col6\" >0%</td>\n",
       "      <td id=\"T_8172c_row22_col7\" class=\"data row22 col7\" >0.6%</td>\n",
       "      <td id=\"T_8172c_row22_col8\" class=\"data row22 col8\" >4.8%</td>\n",
       "    </tr>\n",
       "    <tr>\n",
       "      <th id=\"T_8172c_level0_row23\" class=\"row_heading level0 row23\" >    No</th>\n",
       "      <td id=\"T_8172c_row23_col0\" class=\"data row23 col0\" >0%</td>\n",
       "      <td id=\"T_8172c_row23_col1\" class=\"data row23 col1\" >0%</td>\n",
       "      <td id=\"T_8172c_row23_col2\" class=\"data row23 col2\" >0.8%</td>\n",
       "      <td id=\"T_8172c_row23_col3\" class=\"data row23 col3\" >0%</td>\n",
       "      <td id=\"T_8172c_row23_col4\" class=\"data row23 col4\" >0%</td>\n",
       "      <td id=\"T_8172c_row23_col5\" class=\"data row23 col5\" >0%</td>\n",
       "      <td id=\"T_8172c_row23_col6\" class=\"data row23 col6\" >0%</td>\n",
       "      <td id=\"T_8172c_row23_col7\" class=\"data row23 col7\" >0%</td>\n",
       "      <td id=\"T_8172c_row23_col8\" class=\"data row23 col8\" >0%</td>\n",
       "    </tr>\n",
       "    <tr>\n",
       "      <th id=\"T_8172c_level0_row24\" class=\"row_heading level0 row24\" >    No information</th>\n",
       "      <td id=\"T_8172c_row24_col0\" class=\"data row24 col0\" >98%</td>\n",
       "      <td id=\"T_8172c_row24_col1\" class=\"data row24 col1\" >94.1%</td>\n",
       "      <td id=\"T_8172c_row24_col2\" class=\"data row24 col2\" >97.2%</td>\n",
       "      <td id=\"T_8172c_row24_col3\" class=\"data row24 col3\" >99.7%</td>\n",
       "      <td id=\"T_8172c_row24_col4\" class=\"data row24 col4\" >94.7%</td>\n",
       "      <td id=\"T_8172c_row24_col5\" class=\"data row24 col5\" >100%</td>\n",
       "      <td id=\"T_8172c_row24_col6\" class=\"data row24 col6\" >100%</td>\n",
       "      <td id=\"T_8172c_row24_col7\" class=\"data row24 col7\" >99.4%</td>\n",
       "      <td id=\"T_8172c_row24_col8\" class=\"data row24 col8\" >95.2%</td>\n",
       "    </tr>\n",
       "    <tr>\n",
       "      <th id=\"T_8172c_level0_row25\" class=\"row_heading level0 row25\" ><b>Mentions softening of stones</b></th>\n",
       "      <td id=\"T_8172c_row25_col0\" class=\"data row25 col0\" ></td>\n",
       "      <td id=\"T_8172c_row25_col1\" class=\"data row25 col1\" ></td>\n",
       "      <td id=\"T_8172c_row25_col2\" class=\"data row25 col2\" ></td>\n",
       "      <td id=\"T_8172c_row25_col3\" class=\"data row25 col3\" ></td>\n",
       "      <td id=\"T_8172c_row25_col4\" class=\"data row25 col4\" ></td>\n",
       "      <td id=\"T_8172c_row25_col5\" class=\"data row25 col5\" ></td>\n",
       "      <td id=\"T_8172c_row25_col6\" class=\"data row25 col6\" ></td>\n",
       "      <td id=\"T_8172c_row25_col7\" class=\"data row25 col7\" ></td>\n",
       "      <td id=\"T_8172c_row25_col8\" class=\"data row25 col8\" ></td>\n",
       "    </tr>\n",
       "    <tr>\n",
       "      <th id=\"T_8172c_level0_row26\" class=\"row_heading level0 row26\" >    Yes</th>\n",
       "      <td id=\"T_8172c_row26_col0\" class=\"data row26 col0\" >0%</td>\n",
       "      <td id=\"T_8172c_row26_col1\" class=\"data row26 col1\" >0%</td>\n",
       "      <td id=\"T_8172c_row26_col2\" class=\"data row26 col2\" >1.2%</td>\n",
       "      <td id=\"T_8172c_row26_col3\" class=\"data row26 col3\" >0%</td>\n",
       "      <td id=\"T_8172c_row26_col4\" class=\"data row26 col4\" >0%</td>\n",
       "      <td id=\"T_8172c_row26_col5\" class=\"data row26 col5\" >0%</td>\n",
       "      <td id=\"T_8172c_row26_col6\" class=\"data row26 col6\" >0%</td>\n",
       "      <td id=\"T_8172c_row26_col7\" class=\"data row26 col7\" >0.6%</td>\n",
       "      <td id=\"T_8172c_row26_col8\" class=\"data row26 col8\" >0%</td>\n",
       "    </tr>\n",
       "    <tr>\n",
       "      <th id=\"T_8172c_level0_row27\" class=\"row_heading level0 row27\" >    No</th>\n",
       "      <td id=\"T_8172c_row27_col0\" class=\"data row27 col0\" >0%</td>\n",
       "      <td id=\"T_8172c_row27_col1\" class=\"data row27 col1\" >0%</td>\n",
       "      <td id=\"T_8172c_row27_col2\" class=\"data row27 col2\" >0%</td>\n",
       "      <td id=\"T_8172c_row27_col3\" class=\"data row27 col3\" >0%</td>\n",
       "      <td id=\"T_8172c_row27_col4\" class=\"data row27 col4\" >0%</td>\n",
       "      <td id=\"T_8172c_row27_col5\" class=\"data row27 col5\" >0%</td>\n",
       "      <td id=\"T_8172c_row27_col6\" class=\"data row27 col6\" >0%</td>\n",
       "      <td id=\"T_8172c_row27_col7\" class=\"data row27 col7\" >0%</td>\n",
       "      <td id=\"T_8172c_row27_col8\" class=\"data row27 col8\" >0%</td>\n",
       "    </tr>\n",
       "    <tr>\n",
       "      <th id=\"T_8172c_level0_row28\" class=\"row_heading level0 row28\" >    No information</th>\n",
       "      <td id=\"T_8172c_row28_col0\" class=\"data row28 col0\" >100%</td>\n",
       "      <td id=\"T_8172c_row28_col1\" class=\"data row28 col1\" >100%</td>\n",
       "      <td id=\"T_8172c_row28_col2\" class=\"data row28 col2\" >98.8%</td>\n",
       "      <td id=\"T_8172c_row28_col3\" class=\"data row28 col3\" >100%</td>\n",
       "      <td id=\"T_8172c_row28_col4\" class=\"data row28 col4\" >100%</td>\n",
       "      <td id=\"T_8172c_row28_col5\" class=\"data row28 col5\" >100%</td>\n",
       "      <td id=\"T_8172c_row28_col6\" class=\"data row28 col6\" >100%</td>\n",
       "      <td id=\"T_8172c_row28_col7\" class=\"data row28 col7\" >99.4%</td>\n",
       "      <td id=\"T_8172c_row28_col8\" class=\"data row28 col8\" >100%</td>\n",
       "    </tr>\n",
       "    <tr>\n",
       "      <th id=\"T_8172c_level0_row29\" class=\"row_heading level0 row29\" ><b>Stone passed with no or almost no pain</b></th>\n",
       "      <td id=\"T_8172c_row29_col0\" class=\"data row29 col0\" ></td>\n",
       "      <td id=\"T_8172c_row29_col1\" class=\"data row29 col1\" ></td>\n",
       "      <td id=\"T_8172c_row29_col2\" class=\"data row29 col2\" ></td>\n",
       "      <td id=\"T_8172c_row29_col3\" class=\"data row29 col3\" ></td>\n",
       "      <td id=\"T_8172c_row29_col4\" class=\"data row29 col4\" ></td>\n",
       "      <td id=\"T_8172c_row29_col5\" class=\"data row29 col5\" ></td>\n",
       "      <td id=\"T_8172c_row29_col6\" class=\"data row29 col6\" ></td>\n",
       "      <td id=\"T_8172c_row29_col7\" class=\"data row29 col7\" ></td>\n",
       "      <td id=\"T_8172c_row29_col8\" class=\"data row29 col8\" ></td>\n",
       "    </tr>\n",
       "    <tr>\n",
       "      <th id=\"T_8172c_level0_row30\" class=\"row_heading level0 row30\" >    Yes</th>\n",
       "      <td id=\"T_8172c_row30_col0\" class=\"data row30 col0\" >2%</td>\n",
       "      <td id=\"T_8172c_row30_col1\" class=\"data row30 col1\" >0%</td>\n",
       "      <td id=\"T_8172c_row30_col2\" class=\"data row30 col2\" >2.8%</td>\n",
       "      <td id=\"T_8172c_row30_col3\" class=\"data row30 col3\" >1.9%</td>\n",
       "      <td id=\"T_8172c_row30_col4\" class=\"data row30 col4\" >2.6%</td>\n",
       "      <td id=\"T_8172c_row30_col5\" class=\"data row30 col5\" >0%</td>\n",
       "      <td id=\"T_8172c_row30_col6\" class=\"data row30 col6\" >0%</td>\n",
       "      <td id=\"T_8172c_row30_col7\" class=\"data row30 col7\" >0.6%</td>\n",
       "      <td id=\"T_8172c_row30_col8\" class=\"data row30 col8\" >9.5%</td>\n",
       "    </tr>\n",
       "    <tr>\n",
       "      <th id=\"T_8172c_level0_row31\" class=\"row_heading level0 row31\" >    No</th>\n",
       "      <td id=\"T_8172c_row31_col0\" class=\"data row31 col0\" >0%</td>\n",
       "      <td id=\"T_8172c_row31_col1\" class=\"data row31 col1\" >0%</td>\n",
       "      <td id=\"T_8172c_row31_col2\" class=\"data row31 col2\" >0.2%</td>\n",
       "      <td id=\"T_8172c_row31_col3\" class=\"data row31 col3\" >0.2%</td>\n",
       "      <td id=\"T_8172c_row31_col4\" class=\"data row31 col4\" >0%</td>\n",
       "      <td id=\"T_8172c_row31_col5\" class=\"data row31 col5\" >0%</td>\n",
       "      <td id=\"T_8172c_row31_col6\" class=\"data row31 col6\" >0%</td>\n",
       "      <td id=\"T_8172c_row31_col7\" class=\"data row31 col7\" >0%</td>\n",
       "      <td id=\"T_8172c_row31_col8\" class=\"data row31 col8\" >0%</td>\n",
       "    </tr>\n",
       "    <tr>\n",
       "      <th id=\"T_8172c_level0_row32\" class=\"row_heading level0 row32\" >    No information</th>\n",
       "      <td id=\"T_8172c_row32_col0\" class=\"data row32 col0\" >98%</td>\n",
       "      <td id=\"T_8172c_row32_col1\" class=\"data row32 col1\" >100%</td>\n",
       "      <td id=\"T_8172c_row32_col2\" class=\"data row32 col2\" >97%</td>\n",
       "      <td id=\"T_8172c_row32_col3\" class=\"data row32 col3\" >97.9%</td>\n",
       "      <td id=\"T_8172c_row32_col4\" class=\"data row32 col4\" >97.4%</td>\n",
       "      <td id=\"T_8172c_row32_col5\" class=\"data row32 col5\" >100%</td>\n",
       "      <td id=\"T_8172c_row32_col6\" class=\"data row32 col6\" >100%</td>\n",
       "      <td id=\"T_8172c_row32_col7\" class=\"data row32 col7\" >99.4%</td>\n",
       "      <td id=\"T_8172c_row32_col8\" class=\"data row32 col8\" >90.5%</td>\n",
       "    </tr>\n",
       "  </tbody>\n",
       "</table>\n"
      ],
      "text/plain": [
       "<pandas.io.formats.style.Styler at 0x117850d40>"
      ]
     },
     "metadata": {},
     "output_type": "display_data"
    }
   ],
   "source": [
    "reddit_medicine_mapping = {\n",
    "    'Hydrochlorothiazide': 'HCTZ',\n",
    "}\n",
    "\n",
    "reddit_medicines_to_exclude = []\n",
    "\n",
    "# Generate and display statistics\n",
    "display_df = calculate_stats(\n",
    "    dfr, \n",
    "    columns_to_analyze,\n",
    "    medicines_to_exclude=reddit_medicines_to_exclude,\n",
    "    medicine_mapping=reddit_medicine_mapping\n",
    ")\n",
    "display(style_dataframe(display_df))\n",
    "tablename = \"reddit-table-full-analysis\"\n",
    "display_df.to_html(figfolder + tablename + \".html\")"
   ]
  },
  {
   "cell_type": "markdown",
   "metadata": {},
   "source": [
    "# 4. Side effects"
   ]
  },
  {
   "cell_type": "code",
   "execution_count": 93,
   "metadata": {},
   "outputs": [
    {
     "data": {
      "application/vnd.plotly.v1+json": {
       "config": {
        "plotlyServerURL": "https://plot.ly"
       },
       "data": [
        {
         "alignmentgroup": "True",
         "customdata": [
          [
           "Allopurinol",
           "Pain"
          ],
          [
           "Allopurinol",
           "Skin/Allergic"
          ],
          [
           "Allopurinol",
           "Neurological/Cognitive"
          ],
          [
           "Allopurinol",
           "Mood/Mental"
          ],
          [
           "Allopurinol",
           "Endocrine/Metabolic"
          ],
          [
           "Allopurinol",
           "Gastrointestinal"
          ],
          [
           "Allopurinol",
           "Cardiovascular"
          ],
          [
           "Allopurinol",
           "Respiratory"
          ],
          [
           "Allopurinol",
           "Other"
          ],
          [
           "Allopurinol",
           "Sleep/Fatigue"
          ]
         ],
         "hovertemplate": "%{customdata[0]}<br>Category: %{customdata[1]}<br>Count: %{y}<extra></extra>",
         "legendgroup": "Allopurinol",
         "marker": {
          "color": "#636efa",
          "pattern": {
           "shape": ""
          }
         },
         "name": "Allopurinol",
         "offsetgroup": "Allopurinol",
         "orientation": "v",
         "showlegend": true,
         "textposition": "auto",
         "type": "bar",
         "x": [
          "Pain",
          "Skin/Allergic",
          "Neurological/Cognitive",
          "Mood/Mental",
          "Endocrine/Metabolic",
          "Gastrointestinal",
          "Cardiovascular",
          "Respiratory",
          "Other",
          "Sleep/Fatigue"
         ],
         "xaxis": "x",
         "y": [
          6,
          3,
          3,
          3,
          3,
          2,
          2,
          1,
          1,
          1
         ],
         "yaxis": "y"
        },
        {
         "alignmentgroup": "True",
         "customdata": [
          [
           "Ashwagandha",
           "Mood/Mental"
          ],
          [
           "Ashwagandha",
           "Gastrointestinal"
          ],
          [
           "Ashwagandha",
           "Sleep/Fatigue"
          ],
          [
           "Ashwagandha",
           "Neurological/Cognitive"
          ],
          [
           "Ashwagandha",
           "Skin/Allergic"
          ],
          [
           "Ashwagandha",
           "Endocrine/Metabolic"
          ],
          [
           "Ashwagandha",
           "Urinary/Sexual"
          ],
          [
           "Ashwagandha",
           "Cardiovascular"
          ],
          [
           "Ashwagandha",
           "Pain"
          ],
          [
           "Ashwagandha",
           "Respiratory"
          ],
          [
           "Ashwagandha",
           "Other"
          ]
         ],
         "hovertemplate": "%{customdata[0]}<br>Category: %{customdata[1]}<br>Count: %{y}<extra></extra>",
         "legendgroup": "Ashwagandha",
         "marker": {
          "color": "#EF553B",
          "pattern": {
           "shape": ""
          }
         },
         "name": "Ashwagandha",
         "offsetgroup": "Ashwagandha",
         "orientation": "v",
         "showlegend": true,
         "textposition": "auto",
         "type": "bar",
         "x": [
          "Mood/Mental",
          "Gastrointestinal",
          "Sleep/Fatigue",
          "Neurological/Cognitive",
          "Skin/Allergic",
          "Endocrine/Metabolic",
          "Urinary/Sexual",
          "Cardiovascular",
          "Pain",
          "Respiratory",
          "Other"
         ],
         "xaxis": "x",
         "y": [
          79,
          74,
          49,
          41,
          18,
          16,
          11,
          10,
          10,
          3,
          2
         ],
         "yaxis": "y"
        },
        {
         "alignmentgroup": "True",
         "customdata": [
          [
           "Black seed",
           "Gastrointestinal"
          ],
          [
           "Black seed",
           "Neurological/Cognitive"
          ],
          [
           "Black seed",
           "Pain"
          ],
          [
           "Black seed",
           "Skin/Allergic"
          ],
          [
           "Black seed",
           "Sleep/Fatigue"
          ],
          [
           "Black seed",
           "Cardiovascular"
          ],
          [
           "Black seed",
           "Endocrine/Metabolic"
          ],
          [
           "Black seed",
           "Respiratory"
          ]
         ],
         "hovertemplate": "%{customdata[0]}<br>Category: %{customdata[1]}<br>Count: %{y}<extra></extra>",
         "legendgroup": "Black seed",
         "marker": {
          "color": "#00cc96",
          "pattern": {
           "shape": ""
          }
         },
         "name": "Black seed",
         "offsetgroup": "Black seed",
         "orientation": "v",
         "showlegend": true,
         "textposition": "auto",
         "type": "bar",
         "x": [
          "Gastrointestinal",
          "Neurological/Cognitive",
          "Pain",
          "Skin/Allergic",
          "Sleep/Fatigue",
          "Cardiovascular",
          "Endocrine/Metabolic",
          "Respiratory"
         ],
         "xaxis": "x",
         "y": [
          17,
          5,
          4,
          3,
          2,
          2,
          1,
          1
         ],
         "yaxis": "y"
        },
        {
         "alignmentgroup": "True",
         "customdata": [
          [
           "Chanca piedra",
           "Gastrointestinal"
          ],
          [
           "Chanca piedra",
           "Urinary/Sexual"
          ],
          [
           "Chanca piedra",
           "Pain"
          ],
          [
           "Chanca piedra",
           "Endocrine/Metabolic"
          ],
          [
           "Chanca piedra",
           "Neurological/Cognitive"
          ],
          [
           "Chanca piedra",
           "Cardiovascular"
          ],
          [
           "Chanca piedra",
           "Sleep/Fatigue"
          ],
          [
           "Chanca piedra",
           "Skin/Allergic"
          ]
         ],
         "hovertemplate": "%{customdata[0]}<br>Category: %{customdata[1]}<br>Count: %{y}<extra></extra>",
         "legendgroup": "Chanca piedra",
         "marker": {
          "color": "#ab63fa",
          "pattern": {
           "shape": ""
          }
         },
         "name": "Chanca piedra",
         "offsetgroup": "Chanca piedra",
         "orientation": "v",
         "showlegend": true,
         "textposition": "auto",
         "type": "bar",
         "x": [
          "Gastrointestinal",
          "Urinary/Sexual",
          "Pain",
          "Endocrine/Metabolic",
          "Neurological/Cognitive",
          "Cardiovascular",
          "Sleep/Fatigue",
          "Skin/Allergic"
         ],
         "xaxis": "x",
         "y": [
          61,
          26,
          17,
          11,
          9,
          8,
          4,
          4
         ],
         "yaxis": "y"
        },
        {
         "alignmentgroup": "True",
         "customdata": [
          [
           "Flomax",
           "Neurological/Cognitive"
          ],
          [
           "Flomax",
           "Urinary/Sexual"
          ],
          [
           "Flomax",
           "Cardiovascular"
          ],
          [
           "Flomax",
           "Respiratory"
          ],
          [
           "Flomax",
           "Gastrointestinal"
          ],
          [
           "Flomax",
           "Pain"
          ],
          [
           "Flomax",
           "Sleep/Fatigue"
          ],
          [
           "Flomax",
           "Mood/Mental"
          ],
          [
           "Flomax",
           "Skin/Allergic"
          ],
          [
           "Flomax",
           "Endocrine/Metabolic"
          ],
          [
           "Flomax",
           "Other"
          ]
         ],
         "hovertemplate": "%{customdata[0]}<br>Category: %{customdata[1]}<br>Count: %{y}<extra></extra>",
         "legendgroup": "Flomax",
         "marker": {
          "color": "#FFA15A",
          "pattern": {
           "shape": ""
          }
         },
         "name": "Flomax",
         "offsetgroup": "Flomax",
         "orientation": "v",
         "showlegend": true,
         "textposition": "auto",
         "type": "bar",
         "x": [
          "Neurological/Cognitive",
          "Urinary/Sexual",
          "Cardiovascular",
          "Respiratory",
          "Gastrointestinal",
          "Pain",
          "Sleep/Fatigue",
          "Mood/Mental",
          "Skin/Allergic",
          "Endocrine/Metabolic",
          "Other"
         ],
         "xaxis": "x",
         "y": [
          156,
          89,
          54,
          45,
          43,
          43,
          40,
          20,
          16,
          7,
          2
         ],
         "yaxis": "y"
        },
        {
         "alignmentgroup": "True",
         "customdata": [
          [
           "Garcinia",
           "Gastrointestinal"
          ],
          [
           "Garcinia",
           "Neurological/Cognitive"
          ],
          [
           "Garcinia",
           "Endocrine/Metabolic"
          ],
          [
           "Garcinia",
           "Pain"
          ],
          [
           "Garcinia",
           "Sleep/Fatigue"
          ],
          [
           "Garcinia",
           "Skin/Allergic"
          ],
          [
           "Garcinia",
           "Cardiovascular"
          ],
          [
           "Garcinia",
           "Respiratory"
          ],
          [
           "Garcinia",
           "Urinary/Sexual"
          ],
          [
           "Garcinia",
           "Mood/Mental"
          ],
          [
           "Garcinia",
           "Other"
          ]
         ],
         "hovertemplate": "%{customdata[0]}<br>Category: %{customdata[1]}<br>Count: %{y}<extra></extra>",
         "legendgroup": "Garcinia",
         "marker": {
          "color": "#19d3f3",
          "pattern": {
           "shape": ""
          }
         },
         "name": "Garcinia",
         "offsetgroup": "Garcinia",
         "orientation": "v",
         "showlegend": true,
         "textposition": "auto",
         "type": "bar",
         "x": [
          "Gastrointestinal",
          "Neurological/Cognitive",
          "Endocrine/Metabolic",
          "Pain",
          "Sleep/Fatigue",
          "Skin/Allergic",
          "Cardiovascular",
          "Respiratory",
          "Urinary/Sexual",
          "Mood/Mental",
          "Other"
         ],
         "xaxis": "x",
         "y": [
          380,
          145,
          99,
          71,
          51,
          36,
          34,
          27,
          26,
          18,
          10
         ],
         "yaxis": "y"
        },
        {
         "alignmentgroup": "True",
         "customdata": [
          [
           "Hydrochlorothiazide",
           "Neurological/Cognitive"
          ],
          [
           "Hydrochlorothiazide",
           "Endocrine/Metabolic"
          ],
          [
           "Hydrochlorothiazide",
           "Pain"
          ],
          [
           "Hydrochlorothiazide",
           "Other"
          ],
          [
           "Hydrochlorothiazide",
           "Cardiovascular"
          ],
          [
           "Hydrochlorothiazide",
           "Urinary/Sexual"
          ],
          [
           "Hydrochlorothiazide",
           "Skin/Allergic"
          ],
          [
           "Hydrochlorothiazide",
           "Gastrointestinal"
          ],
          [
           "Hydrochlorothiazide",
           "Sleep/Fatigue"
          ]
         ],
         "hovertemplate": "%{customdata[0]}<br>Category: %{customdata[1]}<br>Count: %{y}<extra></extra>",
         "legendgroup": "Hydrochlorothiazide",
         "marker": {
          "color": "#FF6692",
          "pattern": {
           "shape": ""
          }
         },
         "name": "Hydrochlorothiazide",
         "offsetgroup": "Hydrochlorothiazide",
         "orientation": "v",
         "showlegend": true,
         "textposition": "auto",
         "type": "bar",
         "x": [
          "Neurological/Cognitive",
          "Endocrine/Metabolic",
          "Pain",
          "Other",
          "Cardiovascular",
          "Urinary/Sexual",
          "Skin/Allergic",
          "Gastrointestinal",
          "Sleep/Fatigue"
         ],
         "xaxis": "x",
         "y": [
          12,
          3,
          3,
          3,
          2,
          2,
          2,
          1,
          1
         ],
         "yaxis": "y"
        },
        {
         "alignmentgroup": "True",
         "customdata": [
          [
           "Melatonin",
           "Sleep/Fatigue"
          ],
          [
           "Melatonin",
           "Neurological/Cognitive"
          ],
          [
           "Melatonin",
           "Gastrointestinal"
          ],
          [
           "Melatonin",
           "Mood/Mental"
          ],
          [
           "Melatonin",
           "Endocrine/Metabolic"
          ],
          [
           "Melatonin",
           "Pain"
          ],
          [
           "Melatonin",
           "Cardiovascular"
          ],
          [
           "Melatonin",
           "Skin/Allergic"
          ],
          [
           "Melatonin",
           "Urinary/Sexual"
          ]
         ],
         "hovertemplate": "%{customdata[0]}<br>Category: %{customdata[1]}<br>Count: %{y}<extra></extra>",
         "legendgroup": "Melatonin",
         "marker": {
          "color": "#B6E880",
          "pattern": {
           "shape": ""
          }
         },
         "name": "Melatonin",
         "offsetgroup": "Melatonin",
         "orientation": "v",
         "showlegend": true,
         "textposition": "auto",
         "type": "bar",
         "x": [
          "Sleep/Fatigue",
          "Neurological/Cognitive",
          "Gastrointestinal",
          "Mood/Mental",
          "Endocrine/Metabolic",
          "Pain",
          "Cardiovascular",
          "Skin/Allergic",
          "Urinary/Sexual"
         ],
         "xaxis": "x",
         "y": [
          51,
          46,
          25,
          21,
          7,
          7,
          5,
          2,
          1
         ],
         "yaxis": "y"
        },
        {
         "alignmentgroup": "True",
         "customdata": [
          [
           "Phosfood",
           "Endocrine/Metabolic"
          ],
          [
           "Phosfood",
           "Neurological/Cognitive"
          ]
         ],
         "hovertemplate": "%{customdata[0]}<br>Category: %{customdata[1]}<br>Count: %{y}<extra></extra>",
         "legendgroup": "Phosfood",
         "marker": {
          "color": "#FF97FF",
          "pattern": {
           "shape": ""
          }
         },
         "name": "Phosfood",
         "offsetgroup": "Phosfood",
         "orientation": "v",
         "showlegend": true,
         "textposition": "auto",
         "type": "bar",
         "x": [
          "Endocrine/Metabolic",
          "Neurological/Cognitive"
         ],
         "xaxis": "x",
         "y": [
          2,
          1
         ],
         "yaxis": "y"
        },
        {
         "alignmentgroup": "True",
         "customdata": [
          [
           "Potassium citrate",
           "Gastrointestinal"
          ],
          [
           "Potassium citrate",
           "Neurological/Cognitive"
          ],
          [
           "Potassium citrate",
           "Pain"
          ],
          [
           "Potassium citrate",
           "Urinary/Sexual"
          ],
          [
           "Potassium citrate",
           "Endocrine/Metabolic"
          ],
          [
           "Potassium citrate",
           "Cardiovascular"
          ],
          [
           "Potassium citrate",
           "Mood/Mental"
          ],
          [
           "Potassium citrate",
           "Sleep/Fatigue"
          ],
          [
           "Potassium citrate",
           "Other"
          ],
          [
           "Potassium citrate",
           "Skin/Allergic"
          ],
          [
           "Potassium citrate",
           "Respiratory"
          ]
         ],
         "hovertemplate": "%{customdata[0]}<br>Category: %{customdata[1]}<br>Count: %{y}<extra></extra>",
         "legendgroup": "Potassium citrate",
         "marker": {
          "color": "#FECB52",
          "pattern": {
           "shape": ""
          }
         },
         "name": "Potassium citrate",
         "offsetgroup": "Potassium citrate",
         "orientation": "v",
         "showlegend": true,
         "textposition": "auto",
         "type": "bar",
         "x": [
          "Gastrointestinal",
          "Neurological/Cognitive",
          "Pain",
          "Urinary/Sexual",
          "Endocrine/Metabolic",
          "Cardiovascular",
          "Mood/Mental",
          "Sleep/Fatigue",
          "Other",
          "Skin/Allergic",
          "Respiratory"
         ],
         "xaxis": "x",
         "y": [
          63,
          16,
          11,
          11,
          10,
          9,
          6,
          4,
          1,
          1,
          1
         ],
         "yaxis": "y"
        },
        {
         "alignmentgroup": "True",
         "customdata": [
          [
           "Rowatinex",
           "Urinary/Sexual"
          ],
          [
           "Rowatinex",
           "Gastrointestinal"
          ],
          [
           "Rowatinex",
           "Sleep/Fatigue"
          ],
          [
           "Rowatinex",
           "Endocrine/Metabolic"
          ],
          [
           "Rowatinex",
           "Pain"
          ],
          [
           "Rowatinex",
           "Mood/Mental"
          ],
          [
           "Rowatinex",
           "Neurological/Cognitive"
          ],
          [
           "Rowatinex",
           "Cardiovascular"
          ]
         ],
         "hovertemplate": "%{customdata[0]}<br>Category: %{customdata[1]}<br>Count: %{y}<extra></extra>",
         "legendgroup": "Rowatinex",
         "marker": {
          "color": "#636efa",
          "pattern": {
           "shape": ""
          }
         },
         "name": "Rowatinex",
         "offsetgroup": "Rowatinex",
         "orientation": "v",
         "showlegend": true,
         "textposition": "auto",
         "type": "bar",
         "x": [
          "Urinary/Sexual",
          "Gastrointestinal",
          "Sleep/Fatigue",
          "Endocrine/Metabolic",
          "Pain",
          "Mood/Mental",
          "Neurological/Cognitive",
          "Cardiovascular"
         ],
         "xaxis": "x",
         "y": [
          3,
          2,
          2,
          1,
          1,
          1,
          1,
          1
         ],
         "yaxis": "y"
        }
       ],
       "layout": {
        "bargap": 0.15,
        "bargroupgap": 0.1,
        "barmode": "group",
        "height": 400,
        "legend": {
         "orientation": "h",
         "title": {},
         "tracegroupgap": 0,
         "x": 0.5,
         "xanchor": "center",
         "y": -0.7,
         "yanchor": "top"
        },
        "margin": {
         "t": 60
        },
        "template": {
         "data": {
          "bar": [
           {
            "error_x": {
             "color": "#2a3f5f"
            },
            "error_y": {
             "color": "#2a3f5f"
            },
            "marker": {
             "line": {
              "color": "white",
              "width": 0.5
             },
             "pattern": {
              "fillmode": "overlay",
              "size": 10,
              "solidity": 0.2
             }
            },
            "type": "bar"
           }
          ],
          "barpolar": [
           {
            "marker": {
             "line": {
              "color": "white",
              "width": 0.5
             },
             "pattern": {
              "fillmode": "overlay",
              "size": 10,
              "solidity": 0.2
             }
            },
            "type": "barpolar"
           }
          ],
          "carpet": [
           {
            "aaxis": {
             "endlinecolor": "#2a3f5f",
             "gridcolor": "#C8D4E3",
             "linecolor": "#C8D4E3",
             "minorgridcolor": "#C8D4E3",
             "startlinecolor": "#2a3f5f"
            },
            "baxis": {
             "endlinecolor": "#2a3f5f",
             "gridcolor": "#C8D4E3",
             "linecolor": "#C8D4E3",
             "minorgridcolor": "#C8D4E3",
             "startlinecolor": "#2a3f5f"
            },
            "type": "carpet"
           }
          ],
          "choropleth": [
           {
            "colorbar": {
             "outlinewidth": 0,
             "ticks": ""
            },
            "type": "choropleth"
           }
          ],
          "contour": [
           {
            "colorbar": {
             "outlinewidth": 0,
             "ticks": ""
            },
            "colorscale": [
             [
              0,
              "#0d0887"
             ],
             [
              0.1111111111111111,
              "#46039f"
             ],
             [
              0.2222222222222222,
              "#7201a8"
             ],
             [
              0.3333333333333333,
              "#9c179e"
             ],
             [
              0.4444444444444444,
              "#bd3786"
             ],
             [
              0.5555555555555556,
              "#d8576b"
             ],
             [
              0.6666666666666666,
              "#ed7953"
             ],
             [
              0.7777777777777778,
              "#fb9f3a"
             ],
             [
              0.8888888888888888,
              "#fdca26"
             ],
             [
              1,
              "#f0f921"
             ]
            ],
            "type": "contour"
           }
          ],
          "contourcarpet": [
           {
            "colorbar": {
             "outlinewidth": 0,
             "ticks": ""
            },
            "type": "contourcarpet"
           }
          ],
          "heatmap": [
           {
            "colorbar": {
             "outlinewidth": 0,
             "ticks": ""
            },
            "colorscale": [
             [
              0,
              "#0d0887"
             ],
             [
              0.1111111111111111,
              "#46039f"
             ],
             [
              0.2222222222222222,
              "#7201a8"
             ],
             [
              0.3333333333333333,
              "#9c179e"
             ],
             [
              0.4444444444444444,
              "#bd3786"
             ],
             [
              0.5555555555555556,
              "#d8576b"
             ],
             [
              0.6666666666666666,
              "#ed7953"
             ],
             [
              0.7777777777777778,
              "#fb9f3a"
             ],
             [
              0.8888888888888888,
              "#fdca26"
             ],
             [
              1,
              "#f0f921"
             ]
            ],
            "type": "heatmap"
           }
          ],
          "heatmapgl": [
           {
            "colorbar": {
             "outlinewidth": 0,
             "ticks": ""
            },
            "colorscale": [
             [
              0,
              "#0d0887"
             ],
             [
              0.1111111111111111,
              "#46039f"
             ],
             [
              0.2222222222222222,
              "#7201a8"
             ],
             [
              0.3333333333333333,
              "#9c179e"
             ],
             [
              0.4444444444444444,
              "#bd3786"
             ],
             [
              0.5555555555555556,
              "#d8576b"
             ],
             [
              0.6666666666666666,
              "#ed7953"
             ],
             [
              0.7777777777777778,
              "#fb9f3a"
             ],
             [
              0.8888888888888888,
              "#fdca26"
             ],
             [
              1,
              "#f0f921"
             ]
            ],
            "type": "heatmapgl"
           }
          ],
          "histogram": [
           {
            "marker": {
             "pattern": {
              "fillmode": "overlay",
              "size": 10,
              "solidity": 0.2
             }
            },
            "type": "histogram"
           }
          ],
          "histogram2d": [
           {
            "colorbar": {
             "outlinewidth": 0,
             "ticks": ""
            },
            "colorscale": [
             [
              0,
              "#0d0887"
             ],
             [
              0.1111111111111111,
              "#46039f"
             ],
             [
              0.2222222222222222,
              "#7201a8"
             ],
             [
              0.3333333333333333,
              "#9c179e"
             ],
             [
              0.4444444444444444,
              "#bd3786"
             ],
             [
              0.5555555555555556,
              "#d8576b"
             ],
             [
              0.6666666666666666,
              "#ed7953"
             ],
             [
              0.7777777777777778,
              "#fb9f3a"
             ],
             [
              0.8888888888888888,
              "#fdca26"
             ],
             [
              1,
              "#f0f921"
             ]
            ],
            "type": "histogram2d"
           }
          ],
          "histogram2dcontour": [
           {
            "colorbar": {
             "outlinewidth": 0,
             "ticks": ""
            },
            "colorscale": [
             [
              0,
              "#0d0887"
             ],
             [
              0.1111111111111111,
              "#46039f"
             ],
             [
              0.2222222222222222,
              "#7201a8"
             ],
             [
              0.3333333333333333,
              "#9c179e"
             ],
             [
              0.4444444444444444,
              "#bd3786"
             ],
             [
              0.5555555555555556,
              "#d8576b"
             ],
             [
              0.6666666666666666,
              "#ed7953"
             ],
             [
              0.7777777777777778,
              "#fb9f3a"
             ],
             [
              0.8888888888888888,
              "#fdca26"
             ],
             [
              1,
              "#f0f921"
             ]
            ],
            "type": "histogram2dcontour"
           }
          ],
          "mesh3d": [
           {
            "colorbar": {
             "outlinewidth": 0,
             "ticks": ""
            },
            "type": "mesh3d"
           }
          ],
          "parcoords": [
           {
            "line": {
             "colorbar": {
              "outlinewidth": 0,
              "ticks": ""
             }
            },
            "type": "parcoords"
           }
          ],
          "pie": [
           {
            "automargin": true,
            "type": "pie"
           }
          ],
          "scatter": [
           {
            "fillpattern": {
             "fillmode": "overlay",
             "size": 10,
             "solidity": 0.2
            },
            "type": "scatter"
           }
          ],
          "scatter3d": [
           {
            "line": {
             "colorbar": {
              "outlinewidth": 0,
              "ticks": ""
             }
            },
            "marker": {
             "colorbar": {
              "outlinewidth": 0,
              "ticks": ""
             }
            },
            "type": "scatter3d"
           }
          ],
          "scattercarpet": [
           {
            "marker": {
             "colorbar": {
              "outlinewidth": 0,
              "ticks": ""
             }
            },
            "type": "scattercarpet"
           }
          ],
          "scattergeo": [
           {
            "marker": {
             "colorbar": {
              "outlinewidth": 0,
              "ticks": ""
             }
            },
            "type": "scattergeo"
           }
          ],
          "scattergl": [
           {
            "marker": {
             "colorbar": {
              "outlinewidth": 0,
              "ticks": ""
             }
            },
            "type": "scattergl"
           }
          ],
          "scattermapbox": [
           {
            "marker": {
             "colorbar": {
              "outlinewidth": 0,
              "ticks": ""
             }
            },
            "type": "scattermapbox"
           }
          ],
          "scatterpolar": [
           {
            "marker": {
             "colorbar": {
              "outlinewidth": 0,
              "ticks": ""
             }
            },
            "type": "scatterpolar"
           }
          ],
          "scatterpolargl": [
           {
            "marker": {
             "colorbar": {
              "outlinewidth": 0,
              "ticks": ""
             }
            },
            "type": "scatterpolargl"
           }
          ],
          "scatterternary": [
           {
            "marker": {
             "colorbar": {
              "outlinewidth": 0,
              "ticks": ""
             }
            },
            "type": "scatterternary"
           }
          ],
          "surface": [
           {
            "colorbar": {
             "outlinewidth": 0,
             "ticks": ""
            },
            "colorscale": [
             [
              0,
              "#0d0887"
             ],
             [
              0.1111111111111111,
              "#46039f"
             ],
             [
              0.2222222222222222,
              "#7201a8"
             ],
             [
              0.3333333333333333,
              "#9c179e"
             ],
             [
              0.4444444444444444,
              "#bd3786"
             ],
             [
              0.5555555555555556,
              "#d8576b"
             ],
             [
              0.6666666666666666,
              "#ed7953"
             ],
             [
              0.7777777777777778,
              "#fb9f3a"
             ],
             [
              0.8888888888888888,
              "#fdca26"
             ],
             [
              1,
              "#f0f921"
             ]
            ],
            "type": "surface"
           }
          ],
          "table": [
           {
            "cells": {
             "fill": {
              "color": "#EBF0F8"
             },
             "line": {
              "color": "white"
             }
            },
            "header": {
             "fill": {
              "color": "#C8D4E3"
             },
             "line": {
              "color": "white"
             }
            },
            "type": "table"
           }
          ]
         },
         "layout": {
          "annotationdefaults": {
           "arrowcolor": "#2a3f5f",
           "arrowhead": 0,
           "arrowwidth": 1
          },
          "autotypenumbers": "strict",
          "coloraxis": {
           "colorbar": {
            "outlinewidth": 0,
            "ticks": ""
           }
          },
          "colorscale": {
           "diverging": [
            [
             0,
             "#8e0152"
            ],
            [
             0.1,
             "#c51b7d"
            ],
            [
             0.2,
             "#de77ae"
            ],
            [
             0.3,
             "#f1b6da"
            ],
            [
             0.4,
             "#fde0ef"
            ],
            [
             0.5,
             "#f7f7f7"
            ],
            [
             0.6,
             "#e6f5d0"
            ],
            [
             0.7,
             "#b8e186"
            ],
            [
             0.8,
             "#7fbc41"
            ],
            [
             0.9,
             "#4d9221"
            ],
            [
             1,
             "#276419"
            ]
           ],
           "sequential": [
            [
             0,
             "#0d0887"
            ],
            [
             0.1111111111111111,
             "#46039f"
            ],
            [
             0.2222222222222222,
             "#7201a8"
            ],
            [
             0.3333333333333333,
             "#9c179e"
            ],
            [
             0.4444444444444444,
             "#bd3786"
            ],
            [
             0.5555555555555556,
             "#d8576b"
            ],
            [
             0.6666666666666666,
             "#ed7953"
            ],
            [
             0.7777777777777778,
             "#fb9f3a"
            ],
            [
             0.8888888888888888,
             "#fdca26"
            ],
            [
             1,
             "#f0f921"
            ]
           ],
           "sequentialminus": [
            [
             0,
             "#0d0887"
            ],
            [
             0.1111111111111111,
             "#46039f"
            ],
            [
             0.2222222222222222,
             "#7201a8"
            ],
            [
             0.3333333333333333,
             "#9c179e"
            ],
            [
             0.4444444444444444,
             "#bd3786"
            ],
            [
             0.5555555555555556,
             "#d8576b"
            ],
            [
             0.6666666666666666,
             "#ed7953"
            ],
            [
             0.7777777777777778,
             "#fb9f3a"
            ],
            [
             0.8888888888888888,
             "#fdca26"
            ],
            [
             1,
             "#f0f921"
            ]
           ]
          },
          "colorway": [
           "#636efa",
           "#EF553B",
           "#00cc96",
           "#ab63fa",
           "#FFA15A",
           "#19d3f3",
           "#FF6692",
           "#B6E880",
           "#FF97FF",
           "#FECB52"
          ],
          "font": {
           "color": "#2a3f5f"
          },
          "geo": {
           "bgcolor": "white",
           "lakecolor": "white",
           "landcolor": "white",
           "showlakes": true,
           "showland": true,
           "subunitcolor": "#C8D4E3"
          },
          "hoverlabel": {
           "align": "left"
          },
          "hovermode": "closest",
          "mapbox": {
           "style": "light"
          },
          "paper_bgcolor": "white",
          "plot_bgcolor": "white",
          "polar": {
           "angularaxis": {
            "gridcolor": "#EBF0F8",
            "linecolor": "#EBF0F8",
            "ticks": ""
           },
           "bgcolor": "white",
           "radialaxis": {
            "gridcolor": "#EBF0F8",
            "linecolor": "#EBF0F8",
            "ticks": ""
           }
          },
          "scene": {
           "xaxis": {
            "backgroundcolor": "white",
            "gridcolor": "#DFE8F3",
            "gridwidth": 2,
            "linecolor": "#EBF0F8",
            "showbackground": true,
            "ticks": "",
            "zerolinecolor": "#EBF0F8"
           },
           "yaxis": {
            "backgroundcolor": "white",
            "gridcolor": "#DFE8F3",
            "gridwidth": 2,
            "linecolor": "#EBF0F8",
            "showbackground": true,
            "ticks": "",
            "zerolinecolor": "#EBF0F8"
           },
           "zaxis": {
            "backgroundcolor": "white",
            "gridcolor": "#DFE8F3",
            "gridwidth": 2,
            "linecolor": "#EBF0F8",
            "showbackground": true,
            "ticks": "",
            "zerolinecolor": "#EBF0F8"
           }
          },
          "shapedefaults": {
           "line": {
            "color": "#2a3f5f"
           }
          },
          "ternary": {
           "aaxis": {
            "gridcolor": "#DFE8F3",
            "linecolor": "#A2B1C6",
            "ticks": ""
           },
           "baxis": {
            "gridcolor": "#DFE8F3",
            "linecolor": "#A2B1C6",
            "ticks": ""
           },
           "bgcolor": "white",
           "caxis": {
            "gridcolor": "#DFE8F3",
            "linecolor": "#A2B1C6",
            "ticks": ""
           }
          },
          "title": {
           "x": 0.05
          },
          "xaxis": {
           "automargin": true,
           "gridcolor": "#EBF0F8",
           "linecolor": "#EBF0F8",
           "ticks": "",
           "title": {
            "standoff": 15
           },
           "zerolinecolor": "#EBF0F8",
           "zerolinewidth": 2
          },
          "yaxis": {
           "automargin": true,
           "gridcolor": "#EBF0F8",
           "linecolor": "#EBF0F8",
           "ticks": "",
           "title": {
            "standoff": 15
           },
           "zerolinecolor": "#EBF0F8",
           "zerolinewidth": 2
          }
         }
        },
        "title": {
         "font": {
          "size": 14
         },
         "text": "Distribution of side effect categories by product (total count)",
         "y": 0.95,
         "yanchor": "bottom"
        },
        "width": 800,
        "xaxis": {
         "anchor": "y",
         "domain": [
          0,
          1
         ],
         "tickangle": 45,
         "title": {}
        },
        "yaxis": {
         "anchor": "x",
         "domain": [
          0,
          1
         ],
         "title": {
          "text": "Number of Side Effects"
         }
        }
       }
      }
     },
     "metadata": {},
     "output_type": "display_data"
    }
   ],
   "source": [
    "def create_category_distribution(df, use_counts=False):\n",
    "    \"\"\"Create a grouped bar plot comparing side effect category distributions across medicines.\n",
    "    \n",
    "    Args:\n",
    "        df: DataFrame with the side effects data\n",
    "        use_counts: If True, show actual counts. If False, show percentages.\n",
    "    \"\"\"\n",
    "    all_data = []\n",
    "    for product in sorted(df['Product'].unique()):\n",
    "        product_data = df[df['Product'] == product]\n",
    "        category_counts = product_data['Category'].value_counts()\n",
    "        \n",
    "        if use_counts:\n",
    "            values = category_counts.values\n",
    "        else:\n",
    "            values = (category_counts / len(product_data)) * 100\n",
    "            \n",
    "        category_df = pd.DataFrame({\n",
    "            'Category': category_counts.index,\n",
    "            'Value': values,\n",
    "            'Product': product\n",
    "        })\n",
    "        all_data.append(category_df)\n",
    "\n",
    "    plot_df = pd.concat(all_data)\n",
    "    \n",
    "    fig = px.bar(plot_df, \n",
    "                 x='Category', \n",
    "                 y='Value',\n",
    "                 color='Product',\n",
    "                 barmode='group',\n",
    "                 width=PLOT_PARAMS['width'] * 2.0,\n",
    "                 height=PLOT_PARAMS['height'] * 2.0)\n",
    "\n",
    "    # Determine title and axis labels based on the mode\n",
    "    metric = \"total count\" if use_counts else \"percentage\"\n",
    "    y_axis_label = \"Number of Side Effects\" if use_counts else \"Percentage of Side Effects\"\n",
    "    \n",
    "    fig.update_layout(\n",
    "        title=dict(\n",
    "            text=f'Distribution of side effect categories by product ({metric})',\n",
    "            y=0.95,\n",
    "            yanchor='bottom'\n",
    "        ),\n",
    "        xaxis_title= None,\n",
    "        yaxis_title=y_axis_label,\n",
    "        template='plotly_white',\n",
    "        bargap=0.15,\n",
    "        bargroupgap=0.1,\n",
    "        # margin=PLOT_PARAMS['margin'],\n",
    "        title_font_size=PLOT_PARAMS['title_font_size'],\n",
    "        xaxis=dict(tickangle=45),\n",
    "        legend=dict(\n",
    "            orientation='h',\n",
    "            yanchor='top',\n",
    "            y=-.7,\n",
    "            xanchor='center',\n",
    "            x=0.5,\n",
    "            title=None\n",
    "        )\n",
    "    )\n",
    "\n",
    "    for product_name in plot_df['Product'].unique():\n",
    "        product_data = plot_df[plot_df['Product'] == product_name]\n",
    "        hover_value = \"Count: %{y}\" if use_counts else \"Percentage: %{y:.1f}%\"\n",
    "        fig.update_traces(\n",
    "            customdata=product_data[['Product', 'Category']].values,\n",
    "            hovertemplate=(\n",
    "                \"%{customdata[0]}<br>\" +\n",
    "                \"Category: %{customdata[1]}<br>\" +\n",
    "                hover_value +\n",
    "                \"<extra></extra>\"\n",
    "            ),\n",
    "            selector=dict(name=product_name)\n",
    "        )\n",
    "    \n",
    "    return fig\n",
    "\n",
    "def create_subcategory_distribution(df, category, use_counts=False):\n",
    "    \"\"\"Create a grouped bar plot for subcategories within a specific category.\n",
    "    \n",
    "    Args:\n",
    "        df: DataFrame with the side effects data\n",
    "        category: The main category to analyze\n",
    "        use_counts: If True, show actual counts. If False, show percentages.\n",
    "    \"\"\"\n",
    "    category_data = df[df['Category'] == category]\n",
    "    \n",
    "    all_data = []\n",
    "    for product in sorted(category_data['Product'].unique()):\n",
    "        product_data = category_data[category_data['Product'] == product]\n",
    "        subcategory_counts = product_data['Subcategory'].value_counts()\n",
    "        \n",
    "        if use_counts:\n",
    "            values = subcategory_counts.values\n",
    "        else:\n",
    "            # Calculate percentage relative to total side effects for the product\n",
    "            values = (subcategory_counts / len(df[df['Product'] == product])) * 100\n",
    "            \n",
    "        subcategory_df = pd.DataFrame({\n",
    "            'Subcategory': subcategory_counts.index,\n",
    "            'Value': values,\n",
    "            'Product': product\n",
    "        })\n",
    "        all_data.append(subcategory_df)\n",
    "\n",
    "    plot_df = pd.concat(all_data)\n",
    "    \n",
    "    fig = px.bar(plot_df, \n",
    "                 x='Subcategory', \n",
    "                 y='Value',\n",
    "                 color='Product',\n",
    "                 barmode='group',\n",
    "                 width=PLOT_PARAMS['width'] * 2.0,\n",
    "                 height=PLOT_PARAMS['height'] * 2.0)\n",
    "\n",
    "    # Determine title and axis labels based on the mode\n",
    "    metric = \"total count\" if use_counts else \"percentage\"\n",
    "    y_axis_label = \"Number of Side Effects\" if use_counts else \"Percentage of Side Effects\"\n",
    "    \n",
    "    fig.update_layout(\n",
    "        title=dict(\n",
    "            text=f'Distribution of {category} subcategories by product ({metric})',\n",
    "            y=0.95,\n",
    "            yanchor='bottom'\n",
    "        ),\n",
    "        xaxis_title=None,\n",
    "        yaxis_title=y_axis_label,\n",
    "        template='plotly_white',\n",
    "        bargap=0.15,\n",
    "        bargroupgap=0.1,\n",
    "        # margin=PLOT_PARAMS['margin'],\n",
    "        title_font_size=PLOT_PARAMS['title_font_size'],\n",
    "        xaxis=dict(tickangle=45),\n",
    "        legend=dict(\n",
    "            orientation='h',\n",
    "            yanchor='top',\n",
    "            y=-0.7,\n",
    "            xanchor='center',\n",
    "            x=0.5,\n",
    "            title=None\n",
    "        )\n",
    "    )\n",
    "\n",
    "    for product_name in plot_df['Product'].unique():\n",
    "        product_data = plot_df[plot_df['Product'] == product_name]\n",
    "        hover_value = \"Count: %{y}\" if use_counts else \"Percentage: %{y:.1f}%\"\n",
    "        fig.update_traces(\n",
    "            customdata=product_data[['Product', 'Subcategory']].values,\n",
    "            hovertemplate=(\n",
    "                \"%{customdata[0]}<br>\" +\n",
    "                \"Subcategory: %{customdata[1]}<br>\" +\n",
    "                hover_value +\n",
    "                \"<extra></extra>\"\n",
    "            ),\n",
    "            selector=dict(name=product_name)\n",
    "        )\n",
    "    \n",
    "    return fig\n",
    "\n",
    "def sanitize_filename(category):\n",
    "    \"\"\"Convert category name to filename-friendly format.\"\"\"\n",
    "    # Replace forward slashes and other special characters with hyphens\n",
    "    sanitized = category.lower().replace('/', '-').replace(' ', '-')\n",
    "    # Remove any other potentially problematic characters\n",
    "    sanitized = ''.join(c for c in sanitized if c.isalnum() or c == '-')\n",
    "    return sanitized\n",
    "\n",
    "PLOT_PARAMS = {\n",
    "    'width': 400,\n",
    "    'height': 200,\n",
    "    'margin': dict(l=50, r=50, t=50, b=50),\n",
    "    'title_font_size': 14\n",
    "}\n",
    "\n",
    "# Usage:\n",
    "df = pd.read_csv('csv-files/Kidney Stone Reviews - Summary - Side effects.csv')\n",
    "# Create main category distribution\n",
    "use_counts = True\n",
    "metric = \"total-count\" if use_counts else \"percentage\"\n",
    "fig_categories = create_category_distribution(df, use_counts=use_counts)\n",
    "fig_categories.show()\n",
    "fig_categories.write_html(figfolder + \"side-effects-category-distribution-\" + metric + \".html\")\n",
    "\n",
    "for use_counts in [True, False]:\n",
    "    metric = \"total-count\" if use_counts else \"percentage\"\n",
    "    \n",
    "    # Create and save main category distribution\n",
    "    fig_categories = create_category_distribution(df, use_counts=use_counts)\n",
    "    fig_categories.write_html(figfolder + f\"side-effects-category-distribution-{metric}.html\")\n",
    "    \n",
    "    # Get all unique categories and create plots for each\n",
    "    categories = sorted(df['Category'].unique())\n",
    "    \n",
    "    for category in categories:\n",
    "        # Create filename-friendly version of category name\n",
    "        category_filename = sanitize_filename(category)\n",
    "        \n",
    "        # Create and save subcategory distribution\n",
    "        fig_subcategories = create_subcategory_distribution(df, category, use_counts=use_counts)\n",
    "        filename = f\"side-effects-{category_filename}-subcategories-{metric}.html\"\n",
    "        # fig_subcategories.write_html(\n",
    "        #     figfolder + f\"side-effects-{category_filename}-subcategories-{metric}.html\"\n",
    "        # )"
   ]
  },
  {
   "cell_type": "code",
   "execution_count": null,
   "metadata": {},
   "outputs": [],
   "source": [
    "def create_severity_distribution(df):\n",
    "    \"\"\"Create a grouped bar plot comparing severity distributions across medicines.\n",
    "    \n",
    "    Args:\n",
    "        df: DataFrame with the side effects data\n",
    "    \"\"\"\n",
    "    all_data = []\n",
    "    for product in sorted(df['Product'].unique()):\n",
    "        product_data = df[df['Product'] == product]\n",
    "        severity_counts = product_data['Severity'].value_counts()\n",
    "        \n",
    "        # Calculate percentages\n",
    "        values = (severity_counts / len(product_data)) * 100\n",
    "            \n",
    "        severity_df = pd.DataFrame({\n",
    "            'Severity': severity_counts.index,\n",
    "            'Value': values,\n",
    "            'Product': product\n",
    "        })\n",
    "        all_data.append(severity_df)\n",
    "\n",
    "    plot_df = pd.concat(all_data)\n",
    "    \n",
    "    # Sort severity values to ensure consistent ordering\n",
    "    plot_df['Severity'] = plot_df['Severity'].astype(str)\n",
    "    \n",
    "    fig = px.bar(plot_df, \n",
    "                 x='Severity', \n",
    "                 y='Value',\n",
    "                 color='Product',\n",
    "                 barmode='group',\n",
    "                 width=PLOT_PARAMS['width'] * 2.0,\n",
    "                 height=PLOT_PARAMS['height'] * 2.0)\n",
    "\n",
    "    fig.update_layout(\n",
    "        title=dict(\n",
    "            text='Distribution of side effect severity by product (percentage)',\n",
    "            y=0.95,\n",
    "            yanchor='bottom'\n",
    "        ),\n",
    "        xaxis_title='Severity Level',\n",
    "        yaxis_title='Percentage of Side Effects',\n",
    "        template='plotly_white',\n",
    "        bargap=0.15,\n",
    "        bargroupgap=0.1,\n",
    "        title_font_size=PLOT_PARAMS['title_font_size'],\n",
    "        legend=dict(\n",
    "            orientation='h',\n",
    "            yanchor='top',\n",
    "            y=-.7,\n",
    "            xanchor='center',\n",
    "            x=0.5,\n",
    "            title=None\n",
    "        )\n",
    "    )\n",
    "\n",
    "    for product_name in plot_df['Product'].unique():\n",
    "        product_data = plot_df[plot_df['Product'] == product_name]\n",
    "        fig.update_traces(\n",
    "            customdata=product_data[['Product', 'Severity']].values,\n",
    "            hovertemplate=(\n",
    "                \"%{customdata[0]}<br>\" +\n",
    "                \"Severity: %{customdata[1]}<br>\" +\n",
    "                \"Percentage: %{y:.1f}%\" +\n",
    "                \"<extra></extra>\"\n",
    "            ),\n",
    "            selector=dict(name=product_name)\n",
    "        )\n",
    "    \n",
    "    return fig\n",
    "\n",
    "# Usage:\n",
    "df = pd.read_csv('csv-files/Kidney Stone Reviews - Summary - Side effects.csv')\n",
    "fig_severity = create_severity_distribution(df)\n",
    "fig_severity.show()\n",
    "# fig_severity.write_html(figfolder + \"side-effects-severity-distribution.html\")"
   ]
  },
  {
   "cell_type": "code",
   "execution_count": 10,
   "metadata": {},
   "outputs": [],
   "source": [
    "def create_sunburst_distribution(df, product, use_counts=False):\n",
    "    \"\"\"Create a sunburst chart showing the distribution of side effects for a single product.\"\"\"\n",
    "    # Filter data for the specific product\n",
    "    product_data = df[df['Product'] == product]\n",
    "    \n",
    "    # Create hierarchy data\n",
    "    categories = product_data.groupby('Category')['Side effect'].count().reset_index()\n",
    "    subcategories = product_data.groupby(['Category', 'Subcategory'])['Side effect'].count().reset_index()\n",
    "    \n",
    "    # Calculate values based on use_counts parameter\n",
    "    total_effects = len(product_data)\n",
    "    if not use_counts:\n",
    "        categories['Side effect'] = categories['Side effect'] / total_effects * 100\n",
    "        subcategories['Side effect'] = subcategories['Side effect'] / total_effects * 100\n",
    "    \n",
    "    # Prepare data for sunburst chart, ensuring unique names\n",
    "    # center_label = f\"{product} side effects\"\n",
    "    center_label = \"\"\n",
    "    \n",
    "    # Modify labels to ensure uniqueness between categories and subcategories\n",
    "    subcategories_modified = subcategories.copy()\n",
    "    subcategories_modified.loc[subcategories_modified['Subcategory'] == 'Other', 'Subcategory'] = \\\n",
    "        subcategories_modified.loc[subcategories_modified['Subcategory'] == 'Other', 'Category'] + ' - Other'\n",
    "    \n",
    "    labels = [center_label] + \\\n",
    "            categories['Category'].tolist() + \\\n",
    "            subcategories_modified['Subcategory'].tolist()\n",
    "            \n",
    "    parents = [''] + \\\n",
    "             [center_label] * len(categories) + \\\n",
    "             subcategories_modified['Category'].tolist()\n",
    "             \n",
    "    values = [total_effects if use_counts else 100] + \\\n",
    "            categories['Side effect'].tolist() + \\\n",
    "            subcategories['Side effect'].tolist()\n",
    "    \n",
    "    # Create figure\n",
    "    fig = go.Figure(go.Sunburst(\n",
    "        labels=labels,\n",
    "        parents=parents,\n",
    "        values=values,\n",
    "        branchvalues='total',\n",
    "        hovertemplate=('Category: %{label}<br>' +\n",
    "                      ('Count: %{value:,.0f}' if use_counts else 'Percentage: %{value:.1f}%') +\n",
    "                      '<extra></extra>'),\n",
    "    ))\n",
    "    \n",
    "    metric = \"counts\" if use_counts else \"percentage\"\n",
    "    \n",
    "    fig.update_layout(\n",
    "        title=dict(\n",
    "            # text=f'Distribution of side effects for {product}',\n",
    "            text=None,\n",
    "            y=0.95,\n",
    "            yanchor='bottom'\n",
    "        ),\n",
    "        width=PLOT_PARAMS['width'] * 2.0,\n",
    "        height=PLOT_PARAMS['height'] * 2.0,\n",
    "        margin=PLOT_PARAMS['margin'],\n",
    "        template='plotly_white',\n",
    "        title_font_size=PLOT_PARAMS['title_font_size'],\n",
    "        sunburstcolorway=px.colors.qualitative.Prism\n",
    "    )\n",
    "    \n",
    "    return fig\n",
    "\n",
    "PLOT_PARAMS = {\n",
    "    'width': 400,\n",
    "    'height': 400,\n",
    "    'margin': dict(l=50, r=50, t=50, b=50),  # increased top margin from 50 to 100\n",
    "    'title_font_size': 14\n",
    "}\n",
    "# Usage:\n",
    "for product in df['Product'].unique():\n",
    "    fig = create_sunburst_distribution(df, product, use_counts=True)\n",
    "    if fig is not None:\n",
    "        product_file = product.lower().replace(' ', '-')\n",
    "        filename = f\"side-effects-sunburst-counts-{product_file}.html\"\n",
    "        # fig.show()\n",
    "        fig.write_html(figfolder + filename)"
   ]
  },
  {
   "cell_type": "code",
   "execution_count": 71,
   "metadata": {},
   "outputs": [
    {
     "data": {
      "text/html": [
       "<style type=\"text/css\">\n",
       "#T_f3740  {\n",
       "  color: #000000;\n",
       "}\n",
       "</style>\n",
       "<table id=\"T_f3740\">\n",
       "  <thead>\n",
       "    <tr>\n",
       "      <th id=\"T_f3740_level0_col0\" class=\"col_heading level0 col0\" >Name</th>\n",
       "      <th id=\"T_f3740_level0_col1\" class=\"col_heading level0 col1\" >Overall Rating</th>\n",
       "      <th id=\"T_f3740_level0_col2\" class=\"col_heading level0 col2\" >Num. Reviews</th>\n",
       "    </tr>\n",
       "  </thead>\n",
       "  <tbody>\n",
       "    <tr>\n",
       "      <td id=\"T_f3740_row0_col0\" class=\"data row0 col0\" >Lysine</td>\n",
       "      <td id=\"T_f3740_row0_col1\" class=\"data row0 col1\" >4.7</td>\n",
       "      <td id=\"T_f3740_row0_col2\" class=\"data row0 col2\" >419</td>\n",
       "    </tr>\n",
       "    <tr>\n",
       "      <td id=\"T_f3740_row1_col0\" class=\"data row1 col0\" >Chanca Piedra</td>\n",
       "      <td id=\"T_f3740_row1_col1\" class=\"data row1 col1\" >4.6</td>\n",
       "      <td id=\"T_f3740_row1_col2\" class=\"data row1 col2\" >113</td>\n",
       "    </tr>\n",
       "    <tr>\n",
       "      <td id=\"T_f3740_row2_col0\" class=\"data row2 col0\" >Colloidal Silver</td>\n",
       "      <td id=\"T_f3740_row2_col1\" class=\"data row2 col1\" >4.6</td>\n",
       "      <td id=\"T_f3740_row2_col2\" class=\"data row2 col2\" >185</td>\n",
       "    </tr>\n",
       "    <tr>\n",
       "      <td id=\"T_f3740_row3_col0\" class=\"data row3 col0\" >Kratom</td>\n",
       "      <td id=\"T_f3740_row3_col1\" class=\"data row3 col1\" >4.6</td>\n",
       "      <td id=\"T_f3740_row3_col2\" class=\"data row3 col2\" >1,727</td>\n",
       "    </tr>\n",
       "    <tr>\n",
       "      <td id=\"T_f3740_row4_col0\" class=\"data row4 col0\" >D-Mannose</td>\n",
       "      <td id=\"T_f3740_row4_col1\" class=\"data row4 col1\" >4.5</td>\n",
       "      <td id=\"T_f3740_row4_col2\" class=\"data row4 col2\" >238</td>\n",
       "    </tr>\n",
       "    <tr>\n",
       "      <td id=\"T_f3740_row5_col0\" class=\"data row5 col0\" >Evening Primrose Oil</td>\n",
       "      <td id=\"T_f3740_row5_col1\" class=\"data row5 col1\" >4.5</td>\n",
       "      <td id=\"T_f3740_row5_col2\" class=\"data row5 col2\" >132</td>\n",
       "    </tr>\n",
       "    <tr>\n",
       "      <td id=\"T_f3740_row6_col0\" class=\"data row6 col0\" >Methylsulfonylmethane (MSM)</td>\n",
       "      <td id=\"T_f3740_row6_col1\" class=\"data row6 col1\" >4.5</td>\n",
       "      <td id=\"T_f3740_row6_col2\" class=\"data row6 col2\" >197</td>\n",
       "    </tr>\n",
       "    <tr>\n",
       "      <td id=\"T_f3740_row7_col0\" class=\"data row7 col0\" >Oscillococcinum</td>\n",
       "      <td id=\"T_f3740_row7_col1\" class=\"data row7 col1\" >4.5</td>\n",
       "      <td id=\"T_f3740_row7_col2\" class=\"data row7 col2\" >203</td>\n",
       "    </tr>\n",
       "    <tr>\n",
       "      <td id=\"T_f3740_row8_col0\" class=\"data row8 col0\" >Dimethylsulfoxide (DMSO)</td>\n",
       "      <td id=\"T_f3740_row8_col1\" class=\"data row8 col1\" >4.4</td>\n",
       "      <td id=\"T_f3740_row8_col2\" class=\"data row8 col2\" >103</td>\n",
       "    </tr>\n",
       "    <tr>\n",
       "      <td id=\"T_f3740_row9_col0\" class=\"data row9 col0\" >N-Acetyl Cysteine (NAC)</td>\n",
       "      <td id=\"T_f3740_row9_col1\" class=\"data row9 col1\" >4.4</td>\n",
       "      <td id=\"T_f3740_row9_col2\" class=\"data row9 col2\" >120</td>\n",
       "    </tr>\n",
       "  </tbody>\n",
       "</table>\n"
      ],
      "text/plain": [
       "<pandas.io.formats.style.Styler at 0x131aca4b0>"
      ]
     },
     "metadata": {},
     "output_type": "display_data"
    }
   ],
   "source": [
    "# Create the data\n",
    "data_10 = {\n",
    "    'Name': [\n",
    "        'Cetylated Fatty Acids (CFAs)',\n",
    "        'Banaba',\n",
    "        'Black Walnut',\n",
    "        'Cascara Sagrada',\n",
    "        'Holy Basil',\n",
    "        'Marshmallow',\n",
    "        'Palmitoylethanolamide (PEA)',\n",
    "        'Apricot Kernel',\n",
    "        'Arrowroot',\n",
    "        'Carbon 60 (C60)'\n",
    "    ],\n",
    "    'Overall Rating': [5.0, 4.9, 4.9, 4.8, 4.8, 4.8, 4.8, 4.7, 4.7, 4.7],\n",
    "    'Num. Reviews': [13, 11, 11, 31, 50, 13, 18, 37, 10, 21]\n",
    "}\n",
    "\n",
    "data_50 = {\n",
    "    'Name': [\n",
    "        'Holy Basil',\n",
    "        'Elderberry',\n",
    "        'Lysine',\n",
    "        'Witch Hazel',\n",
    "        'Chanca Piedra',\n",
    "        'Colloidal Silver',\n",
    "        'Kratom',\n",
    "        'Mullein',\n",
    "        'Taurine',\n",
    "        'Butterbur'\n",
    "    ],\n",
    "    'Overall Rating': [4.8, 4.7, 4.7, 4.7, 4.6, 4.6, 4.6, 4.6, 4.6, 4.5],\n",
    "    'Num. Reviews': [50, 50, 419, 60, 113, 185, 1727, 60, 56, 74]\n",
    "}\n",
    "\n",
    "data_100 = {\n",
    "    'Name': [\n",
    "        'Lysine',\n",
    "        'Chanca Piedra',\n",
    "        'Colloidal Silver',\n",
    "        'Kratom',\n",
    "        'D-Mannose',\n",
    "        'Evening Primrose Oil',\n",
    "        'Methylsulfonylmethane (MSM)',\n",
    "        'Oscillococcinum',\n",
    "        'Dimethylsulfoxide (DMSO)',\n",
    "        'N-Acetyl Cysteine (NAC)'\n",
    "    ],\n",
    "    'Overall Rating': [4.7, 4.6, 4.6, 4.6, 4.5, 4.5, 4.5, 4.5, 4.4, 4.4],\n",
    "    'Num. Reviews': [419, 113, 185, 1727, 238, 132, 197, 203, 103, 120]\n",
    "}\n",
    "\n",
    "min_reviews = 100\n",
    "variable_name = f\"data_{min_reviews}\"  # This creates the string \"data_10\"\n",
    "df = pd.DataFrame(globals()[variable_name]).reset_index(drop=True)  # This looks up the variable named \"data_10\"\n",
    "\n",
    "def style_dataframe(df):\n",
    "    \"\"\"Apply consistent styling to the dataframe.\"\"\"\n",
    "    return df.style\\\n",
    "        .set_table_styles([\n",
    "            {'selector': '',\n",
    "             'props': [('color', '#000000')]},  # Using black text like your other tables\n",
    "        ])\\\n",
    "        .format({\n",
    "            'Overall Rating': '{:.1f}',  # Format to 1 decimal place\n",
    "            'Num. Reviews': '{:,}'       # Add thousands separator if needed\n",
    "        }).hide(axis='index')\n",
    "\n",
    "# Style and save the table\n",
    "styled_df = style_dataframe(df)\n",
    "styled_df.to_html(figfolder + 'supplements-rating-table-' + str(min_reviews) + '.html', index=False)\n",
    "display(styled_df)"
   ]
  }
 ],
 "metadata": {
  "kernelspec": {
   "display_name": "chanca-env",
   "language": "python",
   "name": "python3"
  },
  "language_info": {
   "codemirror_mode": {
    "name": "ipython",
    "version": 3
   },
   "file_extension": ".py",
   "mimetype": "text/x-python",
   "name": "python",
   "nbconvert_exporter": "python",
   "pygments_lexer": "ipython3",
   "version": "3.12.8"
  }
 },
 "nbformat": 4,
 "nbformat_minor": 4
}
