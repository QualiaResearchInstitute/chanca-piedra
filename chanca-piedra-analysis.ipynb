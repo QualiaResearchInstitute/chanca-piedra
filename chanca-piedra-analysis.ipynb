{
 "cells": [
  {
   "cell_type": "code",
   "execution_count": 8,
   "metadata": {},
   "outputs": [],
   "source": [
    "import pandas as pd\n",
    "import plotly.express as px\n",
    "import plotly.graph_objects as go\n",
    "from pathlib import Path\n",
    "import numpy as np"
   ]
  },
  {
   "cell_type": "code",
   "execution_count": 16,
   "metadata": {},
   "outputs": [],
   "source": [
    "PLOT_PARAMS = {\n",
    "    'width': 400,\n",
    "    'height': 200,\n",
    "    'margin': dict(l=50, r=50, t=50, b=50),\n",
    "    'title_font_size': 14\n",
    "}\n",
    "\n",
    "figfolder = \"docs/\"\n",
    "export_to_gdoc = True\n",
    "\n",
    "def get_text_color():\n",
    "    return 'black' if export_to_gdoc else 'white'\n",
    "\n",
    "def create_rating_distribution(df, medicine):\n",
    "    \"\"\"Create a bar plot for rating distribution of a single medicine.\"\"\"\n",
    "    bins = [1.0, 2.0, 3.0, 4.0, 5.0, 5.1]\n",
    "    counts, _ = np.histogram(df[df['Medicine'] == medicine]['Overall Rating'], bins=bins)\n",
    "    \n",
    "    fig = go.Figure(data=[\n",
    "        go.Bar(\n",
    "            x=[1, 2, 3, 4, 5],\n",
    "            y=counts,\n",
    "            width=0.8,\n",
    "            hovertemplate=(\n",
    "                \"Overall Rating: %{customdata}<br>\" +\n",
    "                \"Count: %{y}\" +\n",
    "                \"<extra></extra>\"\n",
    "            ),\n",
    "            customdata=[\"1-1.9\", \"2-2.9\", \"3-3.9\", \"4-4.9\", \"5\"]\n",
    "        )\n",
    "    ])\n",
    "\n",
    "    fig.update_layout(\n",
    "        title=f'Distribution of Ratings: {medicine}',\n",
    "        xaxis_title='Rating',\n",
    "        yaxis_title='Count',\n",
    "        template='plotly_white',\n",
    "        width=PLOT_PARAMS['width'],\n",
    "        height=PLOT_PARAMS['height'],\n",
    "        bargap=0.1,\n",
    "        margin=PLOT_PARAMS['margin'],\n",
    "        title_font_size=PLOT_PARAMS['title_font_size'],\n",
    "        xaxis=dict(\n",
    "            tickmode='array',\n",
    "            tickvals=[1, 2, 3, 4, 5],\n",
    "            ticktext=['1', '2', '3', '4', '5'],\n",
    "            range=[0.5, 5.5]\n",
    "        )\n",
    "    )\n",
    "    \n",
    "    return fig"
   ]
  },
  {
   "cell_type": "code",
   "execution_count": 17,
   "metadata": {},
   "outputs": [],
   "source": [
    "def create_grouped_rating_distribution(df):\n",
    "    \"\"\"Create a grouped bar plot comparing rating distributions across medicines.\"\"\"\n",
    "    all_data = []\n",
    "    for medicine in sorted(df['Medicine'].unique()):\n",
    "        medicine_data = df[df['Medicine'] == medicine]\n",
    "        bins = [1.0, 2.0, 3.0, 4.0, 5.0, 5.1]\n",
    "        counts, _ = np.histogram(medicine_data['Overall Rating'], bins=bins)\n",
    "        \n",
    "        percentages = (counts / len(medicine_data)) * 100\n",
    "        ratings_df = pd.DataFrame({\n",
    "            'Rating': [1, 2, 3, 4, 5],\n",
    "            'Percentage': percentages,\n",
    "            'Medicine': medicine,\n",
    "            'RatingRange': ['[1,2)', '[2,3)', '[3,4)', '[4,5)', '5']\n",
    "        })\n",
    "        all_data.append(ratings_df)\n",
    "\n",
    "    plot_df = pd.concat(all_data)\n",
    "    \n",
    "    fig = px.bar(plot_df, \n",
    "                 x='Rating', \n",
    "                 y='Percentage',\n",
    "                 color='Medicine',\n",
    "                 barmode='group',\n",
    "                 width=PLOT_PARAMS['width'] * 2.0,\n",
    "                 height=PLOT_PARAMS['height'] * 2.0)\n",
    "\n",
    "    fig.update_layout(\n",
    "        title='Distribution of ratings by treatment (%)',\n",
    "        xaxis_title='Rating',\n",
    "        yaxis_title='Percentage of Reviews',\n",
    "        template='plotly_white',\n",
    "        bargap=0.15,\n",
    "        bargroupgap=0.1,\n",
    "        margin=PLOT_PARAMS['margin'],\n",
    "        title_font_size=PLOT_PARAMS['title_font_size'],\n",
    "        xaxis=dict(\n",
    "            tickmode='array',\n",
    "            tickvals=[1, 2, 3, 4, 5],\n",
    "            ticktext=['[1,2)', '[2,3)', '[3,4)', '[4,5)', '5'],\n",
    "            range=[0.5, 5.5]\n",
    "        ),\n",
    "        legend=dict(\n",
    "            orientation='h',\n",
    "            yanchor='top',\n",
    "            y=-0.25,\n",
    "            xanchor='center',\n",
    "            x=0.5,\n",
    "            title=None\n",
    "        )\n",
    "    )\n",
    "\n",
    "    for medicine_name in plot_df['Medicine'].unique():\n",
    "        medicine_data = plot_df[plot_df['Medicine'] == medicine_name]\n",
    "        fig.update_traces(\n",
    "            customdata=medicine_data[['Medicine', 'RatingRange']].values,\n",
    "            hovertemplate=(\n",
    "                \"%{customdata[0]}<br>\" +\n",
    "                \"Rating: %{customdata[1]}<br>\" +\n",
    "                \"Percentage: %{y:.1f}%\" +\n",
    "                \"<extra></extra>\"\n",
    "            ),\n",
    "            selector=dict(name=medicine_name)\n",
    "        )\n",
    "    \n",
    "    return fig"
   ]
  },
  {
   "cell_type": "code",
   "execution_count": 18,
   "metadata": {},
   "outputs": [],
   "source": [
    "def calculate_stats(df, columns_to_analyze, medicines_to_exclude=None, medicine_mapping=None):\n",
    "    \"\"\"Calculate statistics for the given dataframe with configurable exclusions and mappings.\"\"\"\n",
    "    if medicines_to_exclude is None:\n",
    "        medicines_to_exclude = []\n",
    "    if medicine_mapping is None:\n",
    "        medicine_mapping = {}\n",
    "\n",
    "    summary = df.groupby('Medicine').agg(\n",
    "        total_reviews=('Medicine', 'size'),\n",
    "        **{\n",
    "            f'{col}_positive': (col, lambda x: sum(\n",
    "                1 for val in x if val == 1 or (isinstance(val, str) and val.strip())\n",
    "            ))\n",
    "            for col in columns_to_analyze\n",
    "        },\n",
    "        **{\n",
    "            f'{col}_negative': (col, lambda x: sum(\n",
    "                1 for val in x if val == 0\n",
    "            ))\n",
    "            for col in columns_to_analyze\n",
    "        }\n",
    "    ).reset_index()\n",
    "\n",
    "    for col in columns_to_analyze:\n",
    "        summary[f'{col}_positive_pct'] = (summary[f'{col}_positive'] / summary['total_reviews'] * 100).round(1)\n",
    "        summary[f'{col}_negative_pct'] = (summary[f'{col}_negative'] / summary['total_reviews'] * 100).round(1)\n",
    "        summary[f'{col}_no_info_pct'] = (\n",
    "            (summary['total_reviews'] - summary[f'{col}_positive'] - summary[f'{col}_negative']) \n",
    "            / summary['total_reviews'] * 100\n",
    "        ).round(1)\n",
    "    \n",
    "    summary = summary[~summary['Medicine'].isin(medicines_to_exclude)]\n",
    "    \n",
    "    transposed_data = {\n",
    "        ' ': ['<b>Total Reviews</b>'] + \n",
    "            sum([[f'<b>{col}</b>', \n",
    "                 '    Yes', \n",
    "                 '    No', \n",
    "                 '    No information'] \n",
    "                for col in columns_to_analyze], []),\n",
    "        **{medicine_mapping.get(row['Medicine'], row['Medicine']): [\n",
    "            row['total_reviews']] + \n",
    "            sum([[\n",
    "                '',\n",
    "                row[f'{col}_positive_pct'],\n",
    "                row[f'{col}_negative_pct'],\n",
    "                row[f'{col}_no_info_pct']\n",
    "            ] for col in columns_to_analyze], [])\n",
    "           for _, row in summary.iterrows()}\n",
    "    }\n",
    "    \n",
    "    display_df = pd.DataFrame(transposed_data).set_index(' ')\n",
    "    return display_df"
   ]
  },
  {
   "cell_type": "code",
   "execution_count": 19,
   "metadata": {},
   "outputs": [],
   "source": [
    "def style_dataframe(df):\n",
    "    \"\"\"Apply consistent styling to the dataframe.\"\"\"\n",
    "    return df.style\\\n",
    "        .set_table_styles([\n",
    "            {'selector': '',\n",
    "             'props': [('color', get_text_color())]},\n",
    "        ])\\\n",
    "        .format(lambda x: f'{x:,.0f}' if isinstance(x, (int, float)) and str(x).isdigit() \n",
    "                else (f'{x:.0f}%' if isinstance(x, float) and x.is_integer() \n",
    "                else f'{x:.1f}%' if isinstance(x, float) \n",
    "                else x))"
   ]
  },
  {
   "cell_type": "markdown",
   "metadata": {},
   "source": [
    "# 1. WebMD reviews"
   ]
  },
  {
   "cell_type": "code",
   "execution_count": 20,
   "metadata": {},
   "outputs": [
    {
     "name": "stdout",
     "output_type": "stream",
     "text": [
      "Successfully loaded 1572 rows of data\n"
     ]
    }
   ],
   "source": [
    "df = pd.read_csv('csv-files/Kidney Stone Reviews - Master Sheet - WebMD.csv')\n",
    "print(f\"Successfully loaded {len(df)} rows of data\")"
   ]
  },
  {
   "cell_type": "code",
   "execution_count": 21,
   "metadata": {},
   "outputs": [
    {
     "data": {
      "application/vnd.plotly.v1+json": {
       "config": {
        "plotlyServerURL": "https://plot.ly"
       },
       "data": [
        {
         "alignmentgroup": "True",
         "customdata": [
          [
           "Allopurinol Oral",
           "[1,2)"
          ],
          [
           "Allopurinol Oral",
           "[2,3)"
          ],
          [
           "Allopurinol Oral",
           "[3,4)"
          ],
          [
           "Allopurinol Oral",
           "[4,5)"
          ],
          [
           "Allopurinol Oral",
           "5"
          ]
         ],
         "hovertemplate": "%{customdata[0]}<br>Rating: %{customdata[1]}<br>Percentage: %{y:.1f}%<extra></extra>",
         "legendgroup": "Allopurinol Oral",
         "marker": {
          "color": "#636efa",
          "pattern": {
           "shape": ""
          }
         },
         "name": "Allopurinol Oral",
         "offsetgroup": "Allopurinol Oral",
         "orientation": "v",
         "showlegend": true,
         "textposition": "auto",
         "type": "bar",
         "x": [
          1,
          2,
          3,
          4,
          5
         ],
         "xaxis": "x",
         "y": [
          35.714285714285715,
          7.142857142857142,
          7.142857142857142,
          7.142857142857142,
          42.857142857142854
         ],
         "yaxis": "y"
        },
        {
         "alignmentgroup": "True",
         "customdata": [
          [
           "Ashwagandha",
           "[1,2)"
          ],
          [
           "Ashwagandha",
           "[2,3)"
          ],
          [
           "Ashwagandha",
           "[3,4)"
          ],
          [
           "Ashwagandha",
           "[4,5)"
          ],
          [
           "Ashwagandha",
           "5"
          ]
         ],
         "hovertemplate": "%{customdata[0]}<br>Rating: %{customdata[1]}<br>Percentage: %{y:.1f}%<extra></extra>",
         "legendgroup": "Ashwagandha",
         "marker": {
          "color": "#EF553B",
          "pattern": {
           "shape": ""
          }
         },
         "name": "Ashwagandha",
         "offsetgroup": "Ashwagandha",
         "orientation": "v",
         "showlegend": true,
         "textposition": "auto",
         "type": "bar",
         "x": [
          1,
          2,
          3,
          4,
          5
         ],
         "xaxis": "x",
         "y": [
          17.712177121771216,
          14.022140221402212,
          11.07011070110701,
          23.616236162361623,
          33.579335793357934
         ],
         "yaxis": "y"
        },
        {
         "alignmentgroup": "True",
         "customdata": [
          [
           "Black Seed",
           "[1,2)"
          ],
          [
           "Black Seed",
           "[2,3)"
          ],
          [
           "Black Seed",
           "[3,4)"
          ],
          [
           "Black Seed",
           "[4,5)"
          ],
          [
           "Black Seed",
           "5"
          ]
         ],
         "hovertemplate": "%{customdata[0]}<br>Rating: %{customdata[1]}<br>Percentage: %{y:.1f}%<extra></extra>",
         "legendgroup": "Black Seed",
         "marker": {
          "color": "#00cc96",
          "pattern": {
           "shape": ""
          }
         },
         "name": "Black Seed",
         "offsetgroup": "Black Seed",
         "orientation": "v",
         "showlegend": true,
         "textposition": "auto",
         "type": "bar",
         "x": [
          1,
          2,
          3,
          4,
          5
         ],
         "xaxis": "x",
         "y": [
          11.688311688311687,
          7.792207792207792,
          6.493506493506493,
          25.97402597402597,
          48.05194805194805
         ],
         "yaxis": "y"
        },
        {
         "alignmentgroup": "True",
         "customdata": [
          [
           "Chanca Piedra",
           "[1,2)"
          ],
          [
           "Chanca Piedra",
           "[2,3)"
          ],
          [
           "Chanca Piedra",
           "[3,4)"
          ],
          [
           "Chanca Piedra",
           "[4,5)"
          ],
          [
           "Chanca Piedra",
           "5"
          ]
         ],
         "hovertemplate": "%{customdata[0]}<br>Rating: %{customdata[1]}<br>Percentage: %{y:.1f}%<extra></extra>",
         "legendgroup": "Chanca Piedra",
         "marker": {
          "color": "#ab63fa",
          "pattern": {
           "shape": ""
          }
         },
         "name": "Chanca Piedra",
         "offsetgroup": "Chanca Piedra",
         "orientation": "v",
         "showlegend": true,
         "textposition": "auto",
         "type": "bar",
         "x": [
          1,
          2,
          3,
          4,
          5
         ],
         "xaxis": "x",
         "y": [
          0,
          6.593406593406594,
          2.197802197802198,
          12.087912087912088,
          79.12087912087912
         ],
         "yaxis": "y"
        },
        {
         "alignmentgroup": "True",
         "customdata": [
          [
           "Flomax Oral",
           "[1,2)"
          ],
          [
           "Flomax Oral",
           "[2,3)"
          ],
          [
           "Flomax Oral",
           "[3,4)"
          ],
          [
           "Flomax Oral",
           "[4,5)"
          ],
          [
           "Flomax Oral",
           "5"
          ]
         ],
         "hovertemplate": "%{customdata[0]}<br>Rating: %{customdata[1]}<br>Percentage: %{y:.1f}%<extra></extra>",
         "legendgroup": "Flomax Oral",
         "marker": {
          "color": "#FFA15A",
          "pattern": {
           "shape": ""
          }
         },
         "name": "Flomax Oral",
         "offsetgroup": "Flomax Oral",
         "orientation": "v",
         "showlegend": true,
         "textposition": "auto",
         "type": "bar",
         "x": [
          1,
          2,
          3,
          4,
          5
         ],
         "xaxis": "x",
         "y": [
          36.36363636363637,
          27.27272727272727,
          9.090909090909092,
          13.636363636363635,
          13.636363636363635
         ],
         "yaxis": "y"
        },
        {
         "alignmentgroup": "True",
         "customdata": [
          [
           "Garcinia",
           "[1,2)"
          ],
          [
           "Garcinia",
           "[2,3)"
          ],
          [
           "Garcinia",
           "[3,4)"
          ],
          [
           "Garcinia",
           "[4,5)"
          ],
          [
           "Garcinia",
           "5"
          ]
         ],
         "hovertemplate": "%{customdata[0]}<br>Rating: %{customdata[1]}<br>Percentage: %{y:.1f}%<extra></extra>",
         "legendgroup": "Garcinia",
         "marker": {
          "color": "#19d3f3",
          "pattern": {
           "shape": ""
          }
         },
         "name": "Garcinia",
         "offsetgroup": "Garcinia",
         "orientation": "v",
         "showlegend": true,
         "textposition": "auto",
         "type": "bar",
         "x": [
          1,
          2,
          3,
          4,
          5
         ],
         "xaxis": "x",
         "y": [
          34.753363228699556,
          28.139013452914796,
          10.986547085201794,
          13.004484304932735,
          13.11659192825112
         ],
         "yaxis": "y"
        },
        {
         "alignmentgroup": "True",
         "customdata": [
          [
           "HCTZ",
           "[1,2)"
          ],
          [
           "HCTZ",
           "[2,3)"
          ],
          [
           "HCTZ",
           "[3,4)"
          ],
          [
           "HCTZ",
           "[4,5)"
          ],
          [
           "HCTZ",
           "5"
          ]
         ],
         "hovertemplate": "%{customdata[0]}<br>Rating: %{customdata[1]}<br>Percentage: %{y:.1f}%<extra></extra>",
         "legendgroup": "HCTZ",
         "marker": {
          "color": "#FF6692",
          "pattern": {
           "shape": ""
          }
         },
         "name": "HCTZ",
         "offsetgroup": "HCTZ",
         "orientation": "v",
         "showlegend": true,
         "textposition": "auto",
         "type": "bar",
         "x": [
          1,
          2,
          3,
          4,
          5
         ],
         "xaxis": "x",
         "y": [
          15,
          20,
          20,
          25,
          20
         ],
         "yaxis": "y"
        },
        {
         "alignmentgroup": "True",
         "customdata": [
          [
           "Melatonin",
           "[1,2)"
          ],
          [
           "Melatonin",
           "[2,3)"
          ],
          [
           "Melatonin",
           "[3,4)"
          ],
          [
           "Melatonin",
           "[4,5)"
          ],
          [
           "Melatonin",
           "5"
          ]
         ],
         "hovertemplate": "%{customdata[0]}<br>Rating: %{customdata[1]}<br>Percentage: %{y:.1f}%<extra></extra>",
         "legendgroup": "Melatonin",
         "marker": {
          "color": "#B6E880",
          "pattern": {
           "shape": ""
          }
         },
         "name": "Melatonin",
         "offsetgroup": "Melatonin",
         "orientation": "v",
         "showlegend": true,
         "textposition": "auto",
         "type": "bar",
         "x": [
          1,
          2,
          3,
          4,
          5
         ],
         "xaxis": "x",
         "y": [
          14.906832298136646,
          14.906832298136646,
          19.875776397515526,
          23.60248447204969,
          26.70807453416149
         ],
         "yaxis": "y"
        },
        {
         "alignmentgroup": "True",
         "customdata": [
          [
           "Potassium Citrate Oral",
           "[1,2)"
          ],
          [
           "Potassium Citrate Oral",
           "[2,3)"
          ],
          [
           "Potassium Citrate Oral",
           "[3,4)"
          ],
          [
           "Potassium Citrate Oral",
           "[4,5)"
          ],
          [
           "Potassium Citrate Oral",
           "5"
          ]
         ],
         "hovertemplate": "%{customdata[0]}<br>Rating: %{customdata[1]}<br>Percentage: %{y:.1f}%<extra></extra>",
         "legendgroup": "Potassium Citrate Oral",
         "marker": {
          "color": "#FF97FF",
          "pattern": {
           "shape": ""
          }
         },
         "name": "Potassium Citrate Oral",
         "offsetgroup": "Potassium Citrate Oral",
         "orientation": "v",
         "showlegend": true,
         "textposition": "auto",
         "type": "bar",
         "x": [
          1,
          2,
          3,
          4,
          5
         ],
         "xaxis": "x",
         "y": [
          20.833333333333336,
          25,
          20.833333333333336,
          8.333333333333332,
          25
         ],
         "yaxis": "y"
        }
       ],
       "layout": {
        "bargap": 0.15,
        "bargroupgap": 0.1,
        "barmode": "group",
        "height": 400,
        "legend": {
         "orientation": "h",
         "title": {},
         "tracegroupgap": 0,
         "x": 0.5,
         "xanchor": "center",
         "y": -0.25,
         "yanchor": "top"
        },
        "margin": {
         "b": 50,
         "l": 50,
         "r": 50,
         "t": 50
        },
        "template": {
         "data": {
          "bar": [
           {
            "error_x": {
             "color": "#2a3f5f"
            },
            "error_y": {
             "color": "#2a3f5f"
            },
            "marker": {
             "line": {
              "color": "white",
              "width": 0.5
             },
             "pattern": {
              "fillmode": "overlay",
              "size": 10,
              "solidity": 0.2
             }
            },
            "type": "bar"
           }
          ],
          "barpolar": [
           {
            "marker": {
             "line": {
              "color": "white",
              "width": 0.5
             },
             "pattern": {
              "fillmode": "overlay",
              "size": 10,
              "solidity": 0.2
             }
            },
            "type": "barpolar"
           }
          ],
          "carpet": [
           {
            "aaxis": {
             "endlinecolor": "#2a3f5f",
             "gridcolor": "#C8D4E3",
             "linecolor": "#C8D4E3",
             "minorgridcolor": "#C8D4E3",
             "startlinecolor": "#2a3f5f"
            },
            "baxis": {
             "endlinecolor": "#2a3f5f",
             "gridcolor": "#C8D4E3",
             "linecolor": "#C8D4E3",
             "minorgridcolor": "#C8D4E3",
             "startlinecolor": "#2a3f5f"
            },
            "type": "carpet"
           }
          ],
          "choropleth": [
           {
            "colorbar": {
             "outlinewidth": 0,
             "ticks": ""
            },
            "type": "choropleth"
           }
          ],
          "contour": [
           {
            "colorbar": {
             "outlinewidth": 0,
             "ticks": ""
            },
            "colorscale": [
             [
              0,
              "#0d0887"
             ],
             [
              0.1111111111111111,
              "#46039f"
             ],
             [
              0.2222222222222222,
              "#7201a8"
             ],
             [
              0.3333333333333333,
              "#9c179e"
             ],
             [
              0.4444444444444444,
              "#bd3786"
             ],
             [
              0.5555555555555556,
              "#d8576b"
             ],
             [
              0.6666666666666666,
              "#ed7953"
             ],
             [
              0.7777777777777778,
              "#fb9f3a"
             ],
             [
              0.8888888888888888,
              "#fdca26"
             ],
             [
              1,
              "#f0f921"
             ]
            ],
            "type": "contour"
           }
          ],
          "contourcarpet": [
           {
            "colorbar": {
             "outlinewidth": 0,
             "ticks": ""
            },
            "type": "contourcarpet"
           }
          ],
          "heatmap": [
           {
            "colorbar": {
             "outlinewidth": 0,
             "ticks": ""
            },
            "colorscale": [
             [
              0,
              "#0d0887"
             ],
             [
              0.1111111111111111,
              "#46039f"
             ],
             [
              0.2222222222222222,
              "#7201a8"
             ],
             [
              0.3333333333333333,
              "#9c179e"
             ],
             [
              0.4444444444444444,
              "#bd3786"
             ],
             [
              0.5555555555555556,
              "#d8576b"
             ],
             [
              0.6666666666666666,
              "#ed7953"
             ],
             [
              0.7777777777777778,
              "#fb9f3a"
             ],
             [
              0.8888888888888888,
              "#fdca26"
             ],
             [
              1,
              "#f0f921"
             ]
            ],
            "type": "heatmap"
           }
          ],
          "heatmapgl": [
           {
            "colorbar": {
             "outlinewidth": 0,
             "ticks": ""
            },
            "colorscale": [
             [
              0,
              "#0d0887"
             ],
             [
              0.1111111111111111,
              "#46039f"
             ],
             [
              0.2222222222222222,
              "#7201a8"
             ],
             [
              0.3333333333333333,
              "#9c179e"
             ],
             [
              0.4444444444444444,
              "#bd3786"
             ],
             [
              0.5555555555555556,
              "#d8576b"
             ],
             [
              0.6666666666666666,
              "#ed7953"
             ],
             [
              0.7777777777777778,
              "#fb9f3a"
             ],
             [
              0.8888888888888888,
              "#fdca26"
             ],
             [
              1,
              "#f0f921"
             ]
            ],
            "type": "heatmapgl"
           }
          ],
          "histogram": [
           {
            "marker": {
             "pattern": {
              "fillmode": "overlay",
              "size": 10,
              "solidity": 0.2
             }
            },
            "type": "histogram"
           }
          ],
          "histogram2d": [
           {
            "colorbar": {
             "outlinewidth": 0,
             "ticks": ""
            },
            "colorscale": [
             [
              0,
              "#0d0887"
             ],
             [
              0.1111111111111111,
              "#46039f"
             ],
             [
              0.2222222222222222,
              "#7201a8"
             ],
             [
              0.3333333333333333,
              "#9c179e"
             ],
             [
              0.4444444444444444,
              "#bd3786"
             ],
             [
              0.5555555555555556,
              "#d8576b"
             ],
             [
              0.6666666666666666,
              "#ed7953"
             ],
             [
              0.7777777777777778,
              "#fb9f3a"
             ],
             [
              0.8888888888888888,
              "#fdca26"
             ],
             [
              1,
              "#f0f921"
             ]
            ],
            "type": "histogram2d"
           }
          ],
          "histogram2dcontour": [
           {
            "colorbar": {
             "outlinewidth": 0,
             "ticks": ""
            },
            "colorscale": [
             [
              0,
              "#0d0887"
             ],
             [
              0.1111111111111111,
              "#46039f"
             ],
             [
              0.2222222222222222,
              "#7201a8"
             ],
             [
              0.3333333333333333,
              "#9c179e"
             ],
             [
              0.4444444444444444,
              "#bd3786"
             ],
             [
              0.5555555555555556,
              "#d8576b"
             ],
             [
              0.6666666666666666,
              "#ed7953"
             ],
             [
              0.7777777777777778,
              "#fb9f3a"
             ],
             [
              0.8888888888888888,
              "#fdca26"
             ],
             [
              1,
              "#f0f921"
             ]
            ],
            "type": "histogram2dcontour"
           }
          ],
          "mesh3d": [
           {
            "colorbar": {
             "outlinewidth": 0,
             "ticks": ""
            },
            "type": "mesh3d"
           }
          ],
          "parcoords": [
           {
            "line": {
             "colorbar": {
              "outlinewidth": 0,
              "ticks": ""
             }
            },
            "type": "parcoords"
           }
          ],
          "pie": [
           {
            "automargin": true,
            "type": "pie"
           }
          ],
          "scatter": [
           {
            "fillpattern": {
             "fillmode": "overlay",
             "size": 10,
             "solidity": 0.2
            },
            "type": "scatter"
           }
          ],
          "scatter3d": [
           {
            "line": {
             "colorbar": {
              "outlinewidth": 0,
              "ticks": ""
             }
            },
            "marker": {
             "colorbar": {
              "outlinewidth": 0,
              "ticks": ""
             }
            },
            "type": "scatter3d"
           }
          ],
          "scattercarpet": [
           {
            "marker": {
             "colorbar": {
              "outlinewidth": 0,
              "ticks": ""
             }
            },
            "type": "scattercarpet"
           }
          ],
          "scattergeo": [
           {
            "marker": {
             "colorbar": {
              "outlinewidth": 0,
              "ticks": ""
             }
            },
            "type": "scattergeo"
           }
          ],
          "scattergl": [
           {
            "marker": {
             "colorbar": {
              "outlinewidth": 0,
              "ticks": ""
             }
            },
            "type": "scattergl"
           }
          ],
          "scattermapbox": [
           {
            "marker": {
             "colorbar": {
              "outlinewidth": 0,
              "ticks": ""
             }
            },
            "type": "scattermapbox"
           }
          ],
          "scatterpolar": [
           {
            "marker": {
             "colorbar": {
              "outlinewidth": 0,
              "ticks": ""
             }
            },
            "type": "scatterpolar"
           }
          ],
          "scatterpolargl": [
           {
            "marker": {
             "colorbar": {
              "outlinewidth": 0,
              "ticks": ""
             }
            },
            "type": "scatterpolargl"
           }
          ],
          "scatterternary": [
           {
            "marker": {
             "colorbar": {
              "outlinewidth": 0,
              "ticks": ""
             }
            },
            "type": "scatterternary"
           }
          ],
          "surface": [
           {
            "colorbar": {
             "outlinewidth": 0,
             "ticks": ""
            },
            "colorscale": [
             [
              0,
              "#0d0887"
             ],
             [
              0.1111111111111111,
              "#46039f"
             ],
             [
              0.2222222222222222,
              "#7201a8"
             ],
             [
              0.3333333333333333,
              "#9c179e"
             ],
             [
              0.4444444444444444,
              "#bd3786"
             ],
             [
              0.5555555555555556,
              "#d8576b"
             ],
             [
              0.6666666666666666,
              "#ed7953"
             ],
             [
              0.7777777777777778,
              "#fb9f3a"
             ],
             [
              0.8888888888888888,
              "#fdca26"
             ],
             [
              1,
              "#f0f921"
             ]
            ],
            "type": "surface"
           }
          ],
          "table": [
           {
            "cells": {
             "fill": {
              "color": "#EBF0F8"
             },
             "line": {
              "color": "white"
             }
            },
            "header": {
             "fill": {
              "color": "#C8D4E3"
             },
             "line": {
              "color": "white"
             }
            },
            "type": "table"
           }
          ]
         },
         "layout": {
          "annotationdefaults": {
           "arrowcolor": "#2a3f5f",
           "arrowhead": 0,
           "arrowwidth": 1
          },
          "autotypenumbers": "strict",
          "coloraxis": {
           "colorbar": {
            "outlinewidth": 0,
            "ticks": ""
           }
          },
          "colorscale": {
           "diverging": [
            [
             0,
             "#8e0152"
            ],
            [
             0.1,
             "#c51b7d"
            ],
            [
             0.2,
             "#de77ae"
            ],
            [
             0.3,
             "#f1b6da"
            ],
            [
             0.4,
             "#fde0ef"
            ],
            [
             0.5,
             "#f7f7f7"
            ],
            [
             0.6,
             "#e6f5d0"
            ],
            [
             0.7,
             "#b8e186"
            ],
            [
             0.8,
             "#7fbc41"
            ],
            [
             0.9,
             "#4d9221"
            ],
            [
             1,
             "#276419"
            ]
           ],
           "sequential": [
            [
             0,
             "#0d0887"
            ],
            [
             0.1111111111111111,
             "#46039f"
            ],
            [
             0.2222222222222222,
             "#7201a8"
            ],
            [
             0.3333333333333333,
             "#9c179e"
            ],
            [
             0.4444444444444444,
             "#bd3786"
            ],
            [
             0.5555555555555556,
             "#d8576b"
            ],
            [
             0.6666666666666666,
             "#ed7953"
            ],
            [
             0.7777777777777778,
             "#fb9f3a"
            ],
            [
             0.8888888888888888,
             "#fdca26"
            ],
            [
             1,
             "#f0f921"
            ]
           ],
           "sequentialminus": [
            [
             0,
             "#0d0887"
            ],
            [
             0.1111111111111111,
             "#46039f"
            ],
            [
             0.2222222222222222,
             "#7201a8"
            ],
            [
             0.3333333333333333,
             "#9c179e"
            ],
            [
             0.4444444444444444,
             "#bd3786"
            ],
            [
             0.5555555555555556,
             "#d8576b"
            ],
            [
             0.6666666666666666,
             "#ed7953"
            ],
            [
             0.7777777777777778,
             "#fb9f3a"
            ],
            [
             0.8888888888888888,
             "#fdca26"
            ],
            [
             1,
             "#f0f921"
            ]
           ]
          },
          "colorway": [
           "#636efa",
           "#EF553B",
           "#00cc96",
           "#ab63fa",
           "#FFA15A",
           "#19d3f3",
           "#FF6692",
           "#B6E880",
           "#FF97FF",
           "#FECB52"
          ],
          "font": {
           "color": "#2a3f5f"
          },
          "geo": {
           "bgcolor": "white",
           "lakecolor": "white",
           "landcolor": "white",
           "showlakes": true,
           "showland": true,
           "subunitcolor": "#C8D4E3"
          },
          "hoverlabel": {
           "align": "left"
          },
          "hovermode": "closest",
          "mapbox": {
           "style": "light"
          },
          "paper_bgcolor": "white",
          "plot_bgcolor": "white",
          "polar": {
           "angularaxis": {
            "gridcolor": "#EBF0F8",
            "linecolor": "#EBF0F8",
            "ticks": ""
           },
           "bgcolor": "white",
           "radialaxis": {
            "gridcolor": "#EBF0F8",
            "linecolor": "#EBF0F8",
            "ticks": ""
           }
          },
          "scene": {
           "xaxis": {
            "backgroundcolor": "white",
            "gridcolor": "#DFE8F3",
            "gridwidth": 2,
            "linecolor": "#EBF0F8",
            "showbackground": true,
            "ticks": "",
            "zerolinecolor": "#EBF0F8"
           },
           "yaxis": {
            "backgroundcolor": "white",
            "gridcolor": "#DFE8F3",
            "gridwidth": 2,
            "linecolor": "#EBF0F8",
            "showbackground": true,
            "ticks": "",
            "zerolinecolor": "#EBF0F8"
           },
           "zaxis": {
            "backgroundcolor": "white",
            "gridcolor": "#DFE8F3",
            "gridwidth": 2,
            "linecolor": "#EBF0F8",
            "showbackground": true,
            "ticks": "",
            "zerolinecolor": "#EBF0F8"
           }
          },
          "shapedefaults": {
           "line": {
            "color": "#2a3f5f"
           }
          },
          "ternary": {
           "aaxis": {
            "gridcolor": "#DFE8F3",
            "linecolor": "#A2B1C6",
            "ticks": ""
           },
           "baxis": {
            "gridcolor": "#DFE8F3",
            "linecolor": "#A2B1C6",
            "ticks": ""
           },
           "bgcolor": "white",
           "caxis": {
            "gridcolor": "#DFE8F3",
            "linecolor": "#A2B1C6",
            "ticks": ""
           }
          },
          "title": {
           "x": 0.05
          },
          "xaxis": {
           "automargin": true,
           "gridcolor": "#EBF0F8",
           "linecolor": "#EBF0F8",
           "ticks": "",
           "title": {
            "standoff": 15
           },
           "zerolinecolor": "#EBF0F8",
           "zerolinewidth": 2
          },
          "yaxis": {
           "automargin": true,
           "gridcolor": "#EBF0F8",
           "linecolor": "#EBF0F8",
           "ticks": "",
           "title": {
            "standoff": 15
           },
           "zerolinecolor": "#EBF0F8",
           "zerolinewidth": 2
          }
         }
        },
        "title": {
         "font": {
          "size": 14
         },
         "text": "Distribution of ratings by treatment (%)"
        },
        "width": 800,
        "xaxis": {
         "anchor": "y",
         "domain": [
          0,
          1
         ],
         "range": [
          0.5,
          5.5
         ],
         "tickmode": "array",
         "ticktext": [
          "[1,2)",
          "[2,3)",
          "[3,4)",
          "[4,5)",
          "5"
         ],
         "tickvals": [
          1,
          2,
          3,
          4,
          5
         ],
         "title": {
          "text": "Rating"
         }
        },
        "yaxis": {
         "anchor": "x",
         "domain": [
          0,
          1
         ],
         "title": {
          "text": "Percentage of Reviews"
         }
        }
       }
      }
     },
     "metadata": {},
     "output_type": "display_data"
    }
   ],
   "source": [
    "# for medicine in df['Medicine'].unique():\n",
    "#     fig = create_rating_distribution(df, medicine)\n",
    "#     fig.show()\n",
    "\n",
    "# Create grouped rating distribution\n",
    "fig = create_grouped_rating_distribution(df)\n",
    "fig.show()\n",
    "figname = \"webmd-treatment-distribution-rating\"\n",
    "fig.write_html(figfolder+figname+\".html\")\n",
    "fig.write_image(figfolder+figname+\".png\", scale=4)"
   ]
  },
  {
   "cell_type": "code",
   "execution_count": 22,
   "metadata": {},
   "outputs": [
    {
     "data": {
      "text/html": [
       "<style type=\"text/css\">\n",
       "#T_79db8  {\n",
       "  color: black;\n",
       "}\n",
       "</style>\n",
       "<table id=\"T_79db8\">\n",
       "  <thead>\n",
       "    <tr>\n",
       "      <th class=\"blank level0\" >&nbsp;</th>\n",
       "      <th id=\"T_79db8_level0_col0\" class=\"col_heading level0 col0\" >Allopurinol</th>\n",
       "      <th id=\"T_79db8_level0_col1\" class=\"col_heading level0 col1\" >Black Seed</th>\n",
       "      <th id=\"T_79db8_level0_col2\" class=\"col_heading level0 col2\" >Chanca Piedra</th>\n",
       "      <th id=\"T_79db8_level0_col3\" class=\"col_heading level0 col3\" >Flomax</th>\n",
       "      <th id=\"T_79db8_level0_col4\" class=\"col_heading level0 col4\" >Garcinia</th>\n",
       "      <th id=\"T_79db8_level0_col5\" class=\"col_heading level0 col5\" >HCTZ</th>\n",
       "      <th id=\"T_79db8_level0_col6\" class=\"col_heading level0 col6\" >Potassium Cit.</th>\n",
       "    </tr>\n",
       "    <tr>\n",
       "      <th class=\"index_name level0\" > </th>\n",
       "      <th class=\"blank col0\" >&nbsp;</th>\n",
       "      <th class=\"blank col1\" >&nbsp;</th>\n",
       "      <th class=\"blank col2\" >&nbsp;</th>\n",
       "      <th class=\"blank col3\" >&nbsp;</th>\n",
       "      <th class=\"blank col4\" >&nbsp;</th>\n",
       "      <th class=\"blank col5\" >&nbsp;</th>\n",
       "      <th class=\"blank col6\" >&nbsp;</th>\n",
       "    </tr>\n",
       "  </thead>\n",
       "  <tbody>\n",
       "    <tr>\n",
       "      <th id=\"T_79db8_level0_row0\" class=\"row_heading level0 row0\" ><b>Total Reviews</b></th>\n",
       "      <td id=\"T_79db8_row0_col0\" class=\"data row0 col0\" >14</td>\n",
       "      <td id=\"T_79db8_row0_col1\" class=\"data row0 col1\" >77</td>\n",
       "      <td id=\"T_79db8_row0_col2\" class=\"data row0 col2\" >91</td>\n",
       "      <td id=\"T_79db8_row0_col3\" class=\"data row0 col3\" >22</td>\n",
       "      <td id=\"T_79db8_row0_col4\" class=\"data row0 col4\" >892</td>\n",
       "      <td id=\"T_79db8_row0_col5\" class=\"data row0 col5\" >20</td>\n",
       "      <td id=\"T_79db8_row0_col6\" class=\"data row0 col6\" >24</td>\n",
       "    </tr>\n",
       "    <tr>\n",
       "      <th id=\"T_79db8_level0_row1\" class=\"row_heading level0 row1\" ><b>Helps overall with kidney stones</b></th>\n",
       "      <td id=\"T_79db8_row1_col0\" class=\"data row1 col0\" ></td>\n",
       "      <td id=\"T_79db8_row1_col1\" class=\"data row1 col1\" ></td>\n",
       "      <td id=\"T_79db8_row1_col2\" class=\"data row1 col2\" ></td>\n",
       "      <td id=\"T_79db8_row1_col3\" class=\"data row1 col3\" ></td>\n",
       "      <td id=\"T_79db8_row1_col4\" class=\"data row1 col4\" ></td>\n",
       "      <td id=\"T_79db8_row1_col5\" class=\"data row1 col5\" ></td>\n",
       "      <td id=\"T_79db8_row1_col6\" class=\"data row1 col6\" ></td>\n",
       "    </tr>\n",
       "    <tr>\n",
       "      <th id=\"T_79db8_level0_row2\" class=\"row_heading level0 row2\" >    Yes</th>\n",
       "      <td id=\"T_79db8_row2_col0\" class=\"data row2 col0\" >35.7%</td>\n",
       "      <td id=\"T_79db8_row2_col1\" class=\"data row2 col1\" >0%</td>\n",
       "      <td id=\"T_79db8_row2_col2\" class=\"data row2 col2\" >84.6%</td>\n",
       "      <td id=\"T_79db8_row2_col3\" class=\"data row2 col3\" >4.5%</td>\n",
       "      <td id=\"T_79db8_row2_col4\" class=\"data row2 col4\" >0%</td>\n",
       "      <td id=\"T_79db8_row2_col5\" class=\"data row2 col5\" >30%</td>\n",
       "      <td id=\"T_79db8_row2_col6\" class=\"data row2 col6\" >41.7%</td>\n",
       "    </tr>\n",
       "    <tr>\n",
       "      <th id=\"T_79db8_level0_row3\" class=\"row_heading level0 row3\" >    No</th>\n",
       "      <td id=\"T_79db8_row3_col0\" class=\"data row3 col0\" >7.1%</td>\n",
       "      <td id=\"T_79db8_row3_col1\" class=\"data row3 col1\" >0%</td>\n",
       "      <td id=\"T_79db8_row3_col2\" class=\"data row3 col2\" >3.3%</td>\n",
       "      <td id=\"T_79db8_row3_col3\" class=\"data row3 col3\" >13.6%</td>\n",
       "      <td id=\"T_79db8_row3_col4\" class=\"data row3 col4\" >0%</td>\n",
       "      <td id=\"T_79db8_row3_col5\" class=\"data row3 col5\" >20%</td>\n",
       "      <td id=\"T_79db8_row3_col6\" class=\"data row3 col6\" >4.2%</td>\n",
       "    </tr>\n",
       "    <tr>\n",
       "      <th id=\"T_79db8_level0_row4\" class=\"row_heading level0 row4\" >    No information</th>\n",
       "      <td id=\"T_79db8_row4_col0\" class=\"data row4 col0\" >57.1%</td>\n",
       "      <td id=\"T_79db8_row4_col1\" class=\"data row4 col1\" >100%</td>\n",
       "      <td id=\"T_79db8_row4_col2\" class=\"data row4 col2\" >12.1%</td>\n",
       "      <td id=\"T_79db8_row4_col3\" class=\"data row4 col3\" >81.8%</td>\n",
       "      <td id=\"T_79db8_row4_col4\" class=\"data row4 col4\" >100%</td>\n",
       "      <td id=\"T_79db8_row4_col5\" class=\"data row4 col5\" >50%</td>\n",
       "      <td id=\"T_79db8_row4_col6\" class=\"data row4 col6\" >54.2%</td>\n",
       "    </tr>\n",
       "    <tr>\n",
       "      <th id=\"T_79db8_level0_row5\" class=\"row_heading level0 row5\" ><b>Works as a prophylactic</b></th>\n",
       "      <td id=\"T_79db8_row5_col0\" class=\"data row5 col0\" ></td>\n",
       "      <td id=\"T_79db8_row5_col1\" class=\"data row5 col1\" ></td>\n",
       "      <td id=\"T_79db8_row5_col2\" class=\"data row5 col2\" ></td>\n",
       "      <td id=\"T_79db8_row5_col3\" class=\"data row5 col3\" ></td>\n",
       "      <td id=\"T_79db8_row5_col4\" class=\"data row5 col4\" ></td>\n",
       "      <td id=\"T_79db8_row5_col5\" class=\"data row5 col5\" ></td>\n",
       "      <td id=\"T_79db8_row5_col6\" class=\"data row5 col6\" ></td>\n",
       "    </tr>\n",
       "    <tr>\n",
       "      <th id=\"T_79db8_level0_row6\" class=\"row_heading level0 row6\" >    Yes</th>\n",
       "      <td id=\"T_79db8_row6_col0\" class=\"data row6 col0\" >35.7%</td>\n",
       "      <td id=\"T_79db8_row6_col1\" class=\"data row6 col1\" >0%</td>\n",
       "      <td id=\"T_79db8_row6_col2\" class=\"data row6 col2\" >13.2%</td>\n",
       "      <td id=\"T_79db8_row6_col3\" class=\"data row6 col3\" >0%</td>\n",
       "      <td id=\"T_79db8_row6_col4\" class=\"data row6 col4\" >0%</td>\n",
       "      <td id=\"T_79db8_row6_col5\" class=\"data row6 col5\" >0%</td>\n",
       "      <td id=\"T_79db8_row6_col6\" class=\"data row6 col6\" >37.5%</td>\n",
       "    </tr>\n",
       "    <tr>\n",
       "      <th id=\"T_79db8_level0_row7\" class=\"row_heading level0 row7\" >    No</th>\n",
       "      <td id=\"T_79db8_row7_col0\" class=\"data row7 col0\" >0%</td>\n",
       "      <td id=\"T_79db8_row7_col1\" class=\"data row7 col1\" >0%</td>\n",
       "      <td id=\"T_79db8_row7_col2\" class=\"data row7 col2\" >0%</td>\n",
       "      <td id=\"T_79db8_row7_col3\" class=\"data row7 col3\" >0%</td>\n",
       "      <td id=\"T_79db8_row7_col4\" class=\"data row7 col4\" >0%</td>\n",
       "      <td id=\"T_79db8_row7_col5\" class=\"data row7 col5\" >0%</td>\n",
       "      <td id=\"T_79db8_row7_col6\" class=\"data row7 col6\" >4.2%</td>\n",
       "    </tr>\n",
       "    <tr>\n",
       "      <th id=\"T_79db8_level0_row8\" class=\"row_heading level0 row8\" >    No information</th>\n",
       "      <td id=\"T_79db8_row8_col0\" class=\"data row8 col0\" >64.3%</td>\n",
       "      <td id=\"T_79db8_row8_col1\" class=\"data row8 col1\" >100%</td>\n",
       "      <td id=\"T_79db8_row8_col2\" class=\"data row8 col2\" >86.8%</td>\n",
       "      <td id=\"T_79db8_row8_col3\" class=\"data row8 col3\" >100%</td>\n",
       "      <td id=\"T_79db8_row8_col4\" class=\"data row8 col4\" >100%</td>\n",
       "      <td id=\"T_79db8_row8_col5\" class=\"data row8 col5\" >100%</td>\n",
       "      <td id=\"T_79db8_row8_col6\" class=\"data row8 col6\" >58.3%</td>\n",
       "    </tr>\n",
       "    <tr>\n",
       "      <th id=\"T_79db8_level0_row9\" class=\"row_heading level0 row9\" ><b>Side effects mentioned</b></th>\n",
       "      <td id=\"T_79db8_row9_col0\" class=\"data row9 col0\" ></td>\n",
       "      <td id=\"T_79db8_row9_col1\" class=\"data row9 col1\" ></td>\n",
       "      <td id=\"T_79db8_row9_col2\" class=\"data row9 col2\" ></td>\n",
       "      <td id=\"T_79db8_row9_col3\" class=\"data row9 col3\" ></td>\n",
       "      <td id=\"T_79db8_row9_col4\" class=\"data row9 col4\" ></td>\n",
       "      <td id=\"T_79db8_row9_col5\" class=\"data row9 col5\" ></td>\n",
       "      <td id=\"T_79db8_row9_col6\" class=\"data row9 col6\" ></td>\n",
       "    </tr>\n",
       "    <tr>\n",
       "      <th id=\"T_79db8_level0_row10\" class=\"row_heading level0 row10\" >    Yes</th>\n",
       "      <td id=\"T_79db8_row10_col0\" class=\"data row10 col0\" >50%</td>\n",
       "      <td id=\"T_79db8_row10_col1\" class=\"data row10 col1\" >26%</td>\n",
       "      <td id=\"T_79db8_row10_col2\" class=\"data row10 col2\" >5.5%</td>\n",
       "      <td id=\"T_79db8_row10_col3\" class=\"data row10 col3\" >77.3%</td>\n",
       "      <td id=\"T_79db8_row10_col4\" class=\"data row10 col4\" >48.7%</td>\n",
       "      <td id=\"T_79db8_row10_col5\" class=\"data row10 col5\" >0%</td>\n",
       "      <td id=\"T_79db8_row10_col6\" class=\"data row10 col6\" >54.2%</td>\n",
       "    </tr>\n",
       "    <tr>\n",
       "      <th id=\"T_79db8_level0_row11\" class=\"row_heading level0 row11\" >    No</th>\n",
       "      <td id=\"T_79db8_row11_col0\" class=\"data row11 col0\" >0%</td>\n",
       "      <td id=\"T_79db8_row11_col1\" class=\"data row11 col1\" >0%</td>\n",
       "      <td id=\"T_79db8_row11_col2\" class=\"data row11 col2\" >0%</td>\n",
       "      <td id=\"T_79db8_row11_col3\" class=\"data row11 col3\" >0%</td>\n",
       "      <td id=\"T_79db8_row11_col4\" class=\"data row11 col4\" >0%</td>\n",
       "      <td id=\"T_79db8_row11_col5\" class=\"data row11 col5\" >0%</td>\n",
       "      <td id=\"T_79db8_row11_col6\" class=\"data row11 col6\" >0%</td>\n",
       "    </tr>\n",
       "    <tr>\n",
       "      <th id=\"T_79db8_level0_row12\" class=\"row_heading level0 row12\" >    No information</th>\n",
       "      <td id=\"T_79db8_row12_col0\" class=\"data row12 col0\" >50%</td>\n",
       "      <td id=\"T_79db8_row12_col1\" class=\"data row12 col1\" >74%</td>\n",
       "      <td id=\"T_79db8_row12_col2\" class=\"data row12 col2\" >94.5%</td>\n",
       "      <td id=\"T_79db8_row12_col3\" class=\"data row12 col3\" >22.7%</td>\n",
       "      <td id=\"T_79db8_row12_col4\" class=\"data row12 col4\" >51.3%</td>\n",
       "      <td id=\"T_79db8_row12_col5\" class=\"data row12 col5\" >100%</td>\n",
       "      <td id=\"T_79db8_row12_col6\" class=\"data row12 col6\" >45.8%</td>\n",
       "    </tr>\n",
       "    <tr>\n",
       "      <th id=\"T_79db8_level0_row13\" class=\"row_heading level0 row13\" ><b>Asserts significant pain reduction</b></th>\n",
       "      <td id=\"T_79db8_row13_col0\" class=\"data row13 col0\" ></td>\n",
       "      <td id=\"T_79db8_row13_col1\" class=\"data row13 col1\" ></td>\n",
       "      <td id=\"T_79db8_row13_col2\" class=\"data row13 col2\" ></td>\n",
       "      <td id=\"T_79db8_row13_col3\" class=\"data row13 col3\" ></td>\n",
       "      <td id=\"T_79db8_row13_col4\" class=\"data row13 col4\" ></td>\n",
       "      <td id=\"T_79db8_row13_col5\" class=\"data row13 col5\" ></td>\n",
       "      <td id=\"T_79db8_row13_col6\" class=\"data row13 col6\" ></td>\n",
       "    </tr>\n",
       "    <tr>\n",
       "      <th id=\"T_79db8_level0_row14\" class=\"row_heading level0 row14\" >    Yes</th>\n",
       "      <td id=\"T_79db8_row14_col0\" class=\"data row14 col0\" >28.6%</td>\n",
       "      <td id=\"T_79db8_row14_col1\" class=\"data row14 col1\" >0%</td>\n",
       "      <td id=\"T_79db8_row14_col2\" class=\"data row14 col2\" >62.6%</td>\n",
       "      <td id=\"T_79db8_row14_col3\" class=\"data row14 col3\" >9.1%</td>\n",
       "      <td id=\"T_79db8_row14_col4\" class=\"data row14 col4\" >0%</td>\n",
       "      <td id=\"T_79db8_row14_col5\" class=\"data row14 col5\" >0%</td>\n",
       "      <td id=\"T_79db8_row14_col6\" class=\"data row14 col6\" >29.2%</td>\n",
       "    </tr>\n",
       "    <tr>\n",
       "      <th id=\"T_79db8_level0_row15\" class=\"row_heading level0 row15\" >    No</th>\n",
       "      <td id=\"T_79db8_row15_col0\" class=\"data row15 col0\" >0%</td>\n",
       "      <td id=\"T_79db8_row15_col1\" class=\"data row15 col1\" >0%</td>\n",
       "      <td id=\"T_79db8_row15_col2\" class=\"data row15 col2\" >1.1%</td>\n",
       "      <td id=\"T_79db8_row15_col3\" class=\"data row15 col3\" >9.1%</td>\n",
       "      <td id=\"T_79db8_row15_col4\" class=\"data row15 col4\" >0%</td>\n",
       "      <td id=\"T_79db8_row15_col5\" class=\"data row15 col5\" >0%</td>\n",
       "      <td id=\"T_79db8_row15_col6\" class=\"data row15 col6\" >12.5%</td>\n",
       "    </tr>\n",
       "    <tr>\n",
       "      <th id=\"T_79db8_level0_row16\" class=\"row_heading level0 row16\" >    No information</th>\n",
       "      <td id=\"T_79db8_row16_col0\" class=\"data row16 col0\" >71.4%</td>\n",
       "      <td id=\"T_79db8_row16_col1\" class=\"data row16 col1\" >100%</td>\n",
       "      <td id=\"T_79db8_row16_col2\" class=\"data row16 col2\" >36.3%</td>\n",
       "      <td id=\"T_79db8_row16_col3\" class=\"data row16 col3\" >81.8%</td>\n",
       "      <td id=\"T_79db8_row16_col4\" class=\"data row16 col4\" >100%</td>\n",
       "      <td id=\"T_79db8_row16_col5\" class=\"data row16 col5\" >100%</td>\n",
       "      <td id=\"T_79db8_row16_col6\" class=\"data row16 col6\" >58.3%</td>\n",
       "    </tr>\n",
       "    <tr>\n",
       "      <th id=\"T_79db8_level0_row17\" class=\"row_heading level0 row17\" ><b>Mentions breaking of stones</b></th>\n",
       "      <td id=\"T_79db8_row17_col0\" class=\"data row17 col0\" ></td>\n",
       "      <td id=\"T_79db8_row17_col1\" class=\"data row17 col1\" ></td>\n",
       "      <td id=\"T_79db8_row17_col2\" class=\"data row17 col2\" ></td>\n",
       "      <td id=\"T_79db8_row17_col3\" class=\"data row17 col3\" ></td>\n",
       "      <td id=\"T_79db8_row17_col4\" class=\"data row17 col4\" ></td>\n",
       "      <td id=\"T_79db8_row17_col5\" class=\"data row17 col5\" ></td>\n",
       "      <td id=\"T_79db8_row17_col6\" class=\"data row17 col6\" ></td>\n",
       "    </tr>\n",
       "    <tr>\n",
       "      <th id=\"T_79db8_level0_row18\" class=\"row_heading level0 row18\" >    Yes</th>\n",
       "      <td id=\"T_79db8_row18_col0\" class=\"data row18 col0\" >0%</td>\n",
       "      <td id=\"T_79db8_row18_col1\" class=\"data row18 col1\" >0%</td>\n",
       "      <td id=\"T_79db8_row18_col2\" class=\"data row18 col2\" >4.4%</td>\n",
       "      <td id=\"T_79db8_row18_col3\" class=\"data row18 col3\" >0%</td>\n",
       "      <td id=\"T_79db8_row18_col4\" class=\"data row18 col4\" >0%</td>\n",
       "      <td id=\"T_79db8_row18_col5\" class=\"data row18 col5\" >0%</td>\n",
       "      <td id=\"T_79db8_row18_col6\" class=\"data row18 col6\" >0%</td>\n",
       "    </tr>\n",
       "    <tr>\n",
       "      <th id=\"T_79db8_level0_row19\" class=\"row_heading level0 row19\" >    No</th>\n",
       "      <td id=\"T_79db8_row19_col0\" class=\"data row19 col0\" >0%</td>\n",
       "      <td id=\"T_79db8_row19_col1\" class=\"data row19 col1\" >0%</td>\n",
       "      <td id=\"T_79db8_row19_col2\" class=\"data row19 col2\" >6.6%</td>\n",
       "      <td id=\"T_79db8_row19_col3\" class=\"data row19 col3\" >0%</td>\n",
       "      <td id=\"T_79db8_row19_col4\" class=\"data row19 col4\" >0%</td>\n",
       "      <td id=\"T_79db8_row19_col5\" class=\"data row19 col5\" >0%</td>\n",
       "      <td id=\"T_79db8_row19_col6\" class=\"data row19 col6\" >0%</td>\n",
       "    </tr>\n",
       "    <tr>\n",
       "      <th id=\"T_79db8_level0_row20\" class=\"row_heading level0 row20\" >    No information</th>\n",
       "      <td id=\"T_79db8_row20_col0\" class=\"data row20 col0\" >100%</td>\n",
       "      <td id=\"T_79db8_row20_col1\" class=\"data row20 col1\" >100%</td>\n",
       "      <td id=\"T_79db8_row20_col2\" class=\"data row20 col2\" >89%</td>\n",
       "      <td id=\"T_79db8_row20_col3\" class=\"data row20 col3\" >100%</td>\n",
       "      <td id=\"T_79db8_row20_col4\" class=\"data row20 col4\" >100%</td>\n",
       "      <td id=\"T_79db8_row20_col5\" class=\"data row20 col5\" >100%</td>\n",
       "      <td id=\"T_79db8_row20_col6\" class=\"data row20 col6\" >100%</td>\n",
       "    </tr>\n",
       "    <tr>\n",
       "      <th id=\"T_79db8_level0_row21\" class=\"row_heading level0 row21\" ><b>Mentions shrinking of the stones</b></th>\n",
       "      <td id=\"T_79db8_row21_col0\" class=\"data row21 col0\" ></td>\n",
       "      <td id=\"T_79db8_row21_col1\" class=\"data row21 col1\" ></td>\n",
       "      <td id=\"T_79db8_row21_col2\" class=\"data row21 col2\" ></td>\n",
       "      <td id=\"T_79db8_row21_col3\" class=\"data row21 col3\" ></td>\n",
       "      <td id=\"T_79db8_row21_col4\" class=\"data row21 col4\" ></td>\n",
       "      <td id=\"T_79db8_row21_col5\" class=\"data row21 col5\" ></td>\n",
       "      <td id=\"T_79db8_row21_col6\" class=\"data row21 col6\" ></td>\n",
       "    </tr>\n",
       "    <tr>\n",
       "      <th id=\"T_79db8_level0_row22\" class=\"row_heading level0 row22\" >    Yes</th>\n",
       "      <td id=\"T_79db8_row22_col0\" class=\"data row22 col0\" >7.1%</td>\n",
       "      <td id=\"T_79db8_row22_col1\" class=\"data row22 col1\" >0%</td>\n",
       "      <td id=\"T_79db8_row22_col2\" class=\"data row22 col2\" >11%</td>\n",
       "      <td id=\"T_79db8_row22_col3\" class=\"data row22 col3\" >0%</td>\n",
       "      <td id=\"T_79db8_row22_col4\" class=\"data row22 col4\" >0%</td>\n",
       "      <td id=\"T_79db8_row22_col5\" class=\"data row22 col5\" >0%</td>\n",
       "      <td id=\"T_79db8_row22_col6\" class=\"data row22 col6\" >0%</td>\n",
       "    </tr>\n",
       "    <tr>\n",
       "      <th id=\"T_79db8_level0_row23\" class=\"row_heading level0 row23\" >    No</th>\n",
       "      <td id=\"T_79db8_row23_col0\" class=\"data row23 col0\" >0%</td>\n",
       "      <td id=\"T_79db8_row23_col1\" class=\"data row23 col1\" >0%</td>\n",
       "      <td id=\"T_79db8_row23_col2\" class=\"data row23 col2\" >6.6%</td>\n",
       "      <td id=\"T_79db8_row23_col3\" class=\"data row23 col3\" >0%</td>\n",
       "      <td id=\"T_79db8_row23_col4\" class=\"data row23 col4\" >0%</td>\n",
       "      <td id=\"T_79db8_row23_col5\" class=\"data row23 col5\" >0%</td>\n",
       "      <td id=\"T_79db8_row23_col6\" class=\"data row23 col6\" >0%</td>\n",
       "    </tr>\n",
       "    <tr>\n",
       "      <th id=\"T_79db8_level0_row24\" class=\"row_heading level0 row24\" >    No information</th>\n",
       "      <td id=\"T_79db8_row24_col0\" class=\"data row24 col0\" >92.9%</td>\n",
       "      <td id=\"T_79db8_row24_col1\" class=\"data row24 col1\" >100%</td>\n",
       "      <td id=\"T_79db8_row24_col2\" class=\"data row24 col2\" >82.4%</td>\n",
       "      <td id=\"T_79db8_row24_col3\" class=\"data row24 col3\" >100%</td>\n",
       "      <td id=\"T_79db8_row24_col4\" class=\"data row24 col4\" >100%</td>\n",
       "      <td id=\"T_79db8_row24_col5\" class=\"data row24 col5\" >100%</td>\n",
       "      <td id=\"T_79db8_row24_col6\" class=\"data row24 col6\" >100%</td>\n",
       "    </tr>\n",
       "    <tr>\n",
       "      <th id=\"T_79db8_level0_row25\" class=\"row_heading level0 row25\" ><b>Mentions softening of stones</b></th>\n",
       "      <td id=\"T_79db8_row25_col0\" class=\"data row25 col0\" ></td>\n",
       "      <td id=\"T_79db8_row25_col1\" class=\"data row25 col1\" ></td>\n",
       "      <td id=\"T_79db8_row25_col2\" class=\"data row25 col2\" ></td>\n",
       "      <td id=\"T_79db8_row25_col3\" class=\"data row25 col3\" ></td>\n",
       "      <td id=\"T_79db8_row25_col4\" class=\"data row25 col4\" ></td>\n",
       "      <td id=\"T_79db8_row25_col5\" class=\"data row25 col5\" ></td>\n",
       "      <td id=\"T_79db8_row25_col6\" class=\"data row25 col6\" ></td>\n",
       "    </tr>\n",
       "    <tr>\n",
       "      <th id=\"T_79db8_level0_row26\" class=\"row_heading level0 row26\" >    Yes</th>\n",
       "      <td id=\"T_79db8_row26_col0\" class=\"data row26 col0\" >0%</td>\n",
       "      <td id=\"T_79db8_row26_col1\" class=\"data row26 col1\" >0%</td>\n",
       "      <td id=\"T_79db8_row26_col2\" class=\"data row26 col2\" >3.3%</td>\n",
       "      <td id=\"T_79db8_row26_col3\" class=\"data row26 col3\" >0%</td>\n",
       "      <td id=\"T_79db8_row26_col4\" class=\"data row26 col4\" >0%</td>\n",
       "      <td id=\"T_79db8_row26_col5\" class=\"data row26 col5\" >0%</td>\n",
       "      <td id=\"T_79db8_row26_col6\" class=\"data row26 col6\" >0%</td>\n",
       "    </tr>\n",
       "    <tr>\n",
       "      <th id=\"T_79db8_level0_row27\" class=\"row_heading level0 row27\" >    No</th>\n",
       "      <td id=\"T_79db8_row27_col0\" class=\"data row27 col0\" >0%</td>\n",
       "      <td id=\"T_79db8_row27_col1\" class=\"data row27 col1\" >0%</td>\n",
       "      <td id=\"T_79db8_row27_col2\" class=\"data row27 col2\" >2.2%</td>\n",
       "      <td id=\"T_79db8_row27_col3\" class=\"data row27 col3\" >0%</td>\n",
       "      <td id=\"T_79db8_row27_col4\" class=\"data row27 col4\" >0%</td>\n",
       "      <td id=\"T_79db8_row27_col5\" class=\"data row27 col5\" >0%</td>\n",
       "      <td id=\"T_79db8_row27_col6\" class=\"data row27 col6\" >0%</td>\n",
       "    </tr>\n",
       "    <tr>\n",
       "      <th id=\"T_79db8_level0_row28\" class=\"row_heading level0 row28\" >    No information</th>\n",
       "      <td id=\"T_79db8_row28_col0\" class=\"data row28 col0\" >100%</td>\n",
       "      <td id=\"T_79db8_row28_col1\" class=\"data row28 col1\" >100%</td>\n",
       "      <td id=\"T_79db8_row28_col2\" class=\"data row28 col2\" >94.5%</td>\n",
       "      <td id=\"T_79db8_row28_col3\" class=\"data row28 col3\" >100%</td>\n",
       "      <td id=\"T_79db8_row28_col4\" class=\"data row28 col4\" >100%</td>\n",
       "      <td id=\"T_79db8_row28_col5\" class=\"data row28 col5\" >100%</td>\n",
       "      <td id=\"T_79db8_row28_col6\" class=\"data row28 col6\" >100%</td>\n",
       "    </tr>\n",
       "    <tr>\n",
       "      <th id=\"T_79db8_level0_row29\" class=\"row_heading level0 row29\" ><b>Stone passed with no or almost no pain</b></th>\n",
       "      <td id=\"T_79db8_row29_col0\" class=\"data row29 col0\" ></td>\n",
       "      <td id=\"T_79db8_row29_col1\" class=\"data row29 col1\" ></td>\n",
       "      <td id=\"T_79db8_row29_col2\" class=\"data row29 col2\" ></td>\n",
       "      <td id=\"T_79db8_row29_col3\" class=\"data row29 col3\" ></td>\n",
       "      <td id=\"T_79db8_row29_col4\" class=\"data row29 col4\" ></td>\n",
       "      <td id=\"T_79db8_row29_col5\" class=\"data row29 col5\" ></td>\n",
       "      <td id=\"T_79db8_row29_col6\" class=\"data row29 col6\" ></td>\n",
       "    </tr>\n",
       "    <tr>\n",
       "      <th id=\"T_79db8_level0_row30\" class=\"row_heading level0 row30\" >    Yes</th>\n",
       "      <td id=\"T_79db8_row30_col0\" class=\"data row30 col0\" >0%</td>\n",
       "      <td id=\"T_79db8_row30_col1\" class=\"data row30 col1\" >0%</td>\n",
       "      <td id=\"T_79db8_row30_col2\" class=\"data row30 col2\" >24.2%</td>\n",
       "      <td id=\"T_79db8_row30_col3\" class=\"data row30 col3\" >9.1%</td>\n",
       "      <td id=\"T_79db8_row30_col4\" class=\"data row30 col4\" >0%</td>\n",
       "      <td id=\"T_79db8_row30_col5\" class=\"data row30 col5\" >0%</td>\n",
       "      <td id=\"T_79db8_row30_col6\" class=\"data row30 col6\" >0%</td>\n",
       "    </tr>\n",
       "    <tr>\n",
       "      <th id=\"T_79db8_level0_row31\" class=\"row_heading level0 row31\" >    No</th>\n",
       "      <td id=\"T_79db8_row31_col0\" class=\"data row31 col0\" >0%</td>\n",
       "      <td id=\"T_79db8_row31_col1\" class=\"data row31 col1\" >0%</td>\n",
       "      <td id=\"T_79db8_row31_col2\" class=\"data row31 col2\" >0%</td>\n",
       "      <td id=\"T_79db8_row31_col3\" class=\"data row31 col3\" >0%</td>\n",
       "      <td id=\"T_79db8_row31_col4\" class=\"data row31 col4\" >0%</td>\n",
       "      <td id=\"T_79db8_row31_col5\" class=\"data row31 col5\" >0%</td>\n",
       "      <td id=\"T_79db8_row31_col6\" class=\"data row31 col6\" >0%</td>\n",
       "    </tr>\n",
       "    <tr>\n",
       "      <th id=\"T_79db8_level0_row32\" class=\"row_heading level0 row32\" >    No information</th>\n",
       "      <td id=\"T_79db8_row32_col0\" class=\"data row32 col0\" >100%</td>\n",
       "      <td id=\"T_79db8_row32_col1\" class=\"data row32 col1\" >100%</td>\n",
       "      <td id=\"T_79db8_row32_col2\" class=\"data row32 col2\" >75.8%</td>\n",
       "      <td id=\"T_79db8_row32_col3\" class=\"data row32 col3\" >90.9%</td>\n",
       "      <td id=\"T_79db8_row32_col4\" class=\"data row32 col4\" >100%</td>\n",
       "      <td id=\"T_79db8_row32_col5\" class=\"data row32 col5\" >100%</td>\n",
       "      <td id=\"T_79db8_row32_col6\" class=\"data row32 col6\" >100%</td>\n",
       "    </tr>\n",
       "    <tr>\n",
       "      <th id=\"T_79db8_level0_row33\" class=\"row_heading level0 row33\" ><b>Promotes specific brand</b></th>\n",
       "      <td id=\"T_79db8_row33_col0\" class=\"data row33 col0\" ></td>\n",
       "      <td id=\"T_79db8_row33_col1\" class=\"data row33 col1\" ></td>\n",
       "      <td id=\"T_79db8_row33_col2\" class=\"data row33 col2\" ></td>\n",
       "      <td id=\"T_79db8_row33_col3\" class=\"data row33 col3\" ></td>\n",
       "      <td id=\"T_79db8_row33_col4\" class=\"data row33 col4\" ></td>\n",
       "      <td id=\"T_79db8_row33_col5\" class=\"data row33 col5\" ></td>\n",
       "      <td id=\"T_79db8_row33_col6\" class=\"data row33 col6\" ></td>\n",
       "    </tr>\n",
       "    <tr>\n",
       "      <th id=\"T_79db8_level0_row34\" class=\"row_heading level0 row34\" >    Yes</th>\n",
       "      <td id=\"T_79db8_row34_col0\" class=\"data row34 col0\" >0%</td>\n",
       "      <td id=\"T_79db8_row34_col1\" class=\"data row34 col1\" >14.3%</td>\n",
       "      <td id=\"T_79db8_row34_col2\" class=\"data row34 col2\" >6.6%</td>\n",
       "      <td id=\"T_79db8_row34_col3\" class=\"data row34 col3\" >0%</td>\n",
       "      <td id=\"T_79db8_row34_col4\" class=\"data row34 col4\" >17.6%</td>\n",
       "      <td id=\"T_79db8_row34_col5\" class=\"data row34 col5\" >0%</td>\n",
       "      <td id=\"T_79db8_row34_col6\" class=\"data row34 col6\" >0%</td>\n",
       "    </tr>\n",
       "    <tr>\n",
       "      <th id=\"T_79db8_level0_row35\" class=\"row_heading level0 row35\" >    No</th>\n",
       "      <td id=\"T_79db8_row35_col0\" class=\"data row35 col0\" >0%</td>\n",
       "      <td id=\"T_79db8_row35_col1\" class=\"data row35 col1\" >0%</td>\n",
       "      <td id=\"T_79db8_row35_col2\" class=\"data row35 col2\" >0%</td>\n",
       "      <td id=\"T_79db8_row35_col3\" class=\"data row35 col3\" >0%</td>\n",
       "      <td id=\"T_79db8_row35_col4\" class=\"data row35 col4\" >0%</td>\n",
       "      <td id=\"T_79db8_row35_col5\" class=\"data row35 col5\" >0%</td>\n",
       "      <td id=\"T_79db8_row35_col6\" class=\"data row35 col6\" >0%</td>\n",
       "    </tr>\n",
       "    <tr>\n",
       "      <th id=\"T_79db8_level0_row36\" class=\"row_heading level0 row36\" >    No information</th>\n",
       "      <td id=\"T_79db8_row36_col0\" class=\"data row36 col0\" >100%</td>\n",
       "      <td id=\"T_79db8_row36_col1\" class=\"data row36 col1\" >85.7%</td>\n",
       "      <td id=\"T_79db8_row36_col2\" class=\"data row36 col2\" >93.4%</td>\n",
       "      <td id=\"T_79db8_row36_col3\" class=\"data row36 col3\" >100%</td>\n",
       "      <td id=\"T_79db8_row36_col4\" class=\"data row36 col4\" >82.4%</td>\n",
       "      <td id=\"T_79db8_row36_col5\" class=\"data row36 col5\" >100%</td>\n",
       "      <td id=\"T_79db8_row36_col6\" class=\"data row36 col6\" >100%</td>\n",
       "    </tr>\n",
       "  </tbody>\n",
       "</table>\n"
      ],
      "text/plain": [
       "<pandas.io.formats.style.Styler at 0x1258ca930>"
      ]
     },
     "metadata": {},
     "output_type": "display_data"
    }
   ],
   "source": [
    "columns_to_analyze = [\n",
    "    'Helps overall with kidney stones',\n",
    "    'Works as a prophylactic',\n",
    "    'Side effects mentioned',\n",
    "    'Asserts significant pain reduction',\n",
    "    'Mentions breaking of stones',\n",
    "    'Mentions shrinking of the stones',\n",
    "    'Mentions softening of stones',\n",
    "    'Stone passed with no or almost no pain',\n",
    "    'Promotes specific brand',\n",
    "]\n",
    "\n",
    "webmd_medicine_mapping = {\n",
    "    'Allopurinol Oral': 'Allopurinol',\n",
    "    'Flomax Oral': 'Flomax',\n",
    "    'Hydrochlorothiazide': 'HCTZ',\n",
    "    'Potassium Citrate Oral': 'Potassium Cit.'\n",
    "}\n",
    "\n",
    "webmd_medicines_to_exclude = ['Ashwagandha', 'Melatonin']\n",
    "\n",
    "# Generate and display statistics\n",
    "display_df = calculate_stats(\n",
    "    df, \n",
    "    columns_to_analyze,\n",
    "    medicines_to_exclude=webmd_medicines_to_exclude,\n",
    "    medicine_mapping=webmd_medicine_mapping\n",
    ")\n",
    "display(style_dataframe(display_df))\n",
    "\n",
    "tablename = \"webmd-table-full-analysis\"\n",
    "display_df.to_html(figfolder + tablename + \".html\")"
   ]
  },
  {
   "cell_type": "markdown",
   "metadata": {},
   "source": [
    "# 2. Amazon Reviews Analysis"
   ]
  },
  {
   "cell_type": "code",
   "execution_count": 23,
   "metadata": {},
   "outputs": [
    {
     "name": "stdout",
     "output_type": "stream",
     "text": [
      "Successfully loaded 1456 rows of data\n"
     ]
    }
   ],
   "source": [
    "dfa = pd.read_csv('csv-files/Kidney Stone Reviews - Master Sheet - Amazon.csv')\n",
    "print(f\"Successfully loaded {len(dfa)} rows of data\")"
   ]
  },
  {
   "cell_type": "code",
   "execution_count": 24,
   "metadata": {},
   "outputs": [
    {
     "data": {
      "text/html": [
       "<style type=\"text/css\">\n",
       "#T_499ff  {\n",
       "  color: black;\n",
       "}\n",
       "</style>\n",
       "<table id=\"T_499ff\">\n",
       "  <thead>\n",
       "    <tr>\n",
       "      <th class=\"blank level0\" >&nbsp;</th>\n",
       "      <th id=\"T_499ff_level0_col0\" class=\"col_heading level0 col0\" >Phosfood</th>\n",
       "      <th id=\"T_499ff_level0_col1\" class=\"col_heading level0 col1\" >Potassium Cit.</th>\n",
       "      <th id=\"T_499ff_level0_col2\" class=\"col_heading level0 col2\" >Rowatinex</th>\n",
       "    </tr>\n",
       "    <tr>\n",
       "      <th class=\"index_name level0\" > </th>\n",
       "      <th class=\"blank col0\" >&nbsp;</th>\n",
       "      <th class=\"blank col1\" >&nbsp;</th>\n",
       "      <th class=\"blank col2\" >&nbsp;</th>\n",
       "    </tr>\n",
       "  </thead>\n",
       "  <tbody>\n",
       "    <tr>\n",
       "      <th id=\"T_499ff_level0_row0\" class=\"row_heading level0 row0\" ><b>Total Reviews</b></th>\n",
       "      <td id=\"T_499ff_row0_col0\" class=\"data row0 col0\" >40</td>\n",
       "      <td id=\"T_499ff_row0_col1\" class=\"data row0 col1\" >133</td>\n",
       "      <td id=\"T_499ff_row0_col2\" class=\"data row0 col2\" >90</td>\n",
       "    </tr>\n",
       "    <tr>\n",
       "      <th id=\"T_499ff_level0_row1\" class=\"row_heading level0 row1\" ><b>Helps overall with kidney stones</b></th>\n",
       "      <td id=\"T_499ff_row1_col0\" class=\"data row1 col0\" ></td>\n",
       "      <td id=\"T_499ff_row1_col1\" class=\"data row1 col1\" ></td>\n",
       "      <td id=\"T_499ff_row1_col2\" class=\"data row1 col2\" ></td>\n",
       "    </tr>\n",
       "    <tr>\n",
       "      <th id=\"T_499ff_level0_row2\" class=\"row_heading level0 row2\" >    Yes</th>\n",
       "      <td id=\"T_499ff_row2_col0\" class=\"data row2 col0\" >75%</td>\n",
       "      <td id=\"T_499ff_row2_col1\" class=\"data row2 col1\" >91%</td>\n",
       "      <td id=\"T_499ff_row2_col2\" class=\"data row2 col2\" >90%</td>\n",
       "    </tr>\n",
       "    <tr>\n",
       "      <th id=\"T_499ff_level0_row3\" class=\"row_heading level0 row3\" >    No</th>\n",
       "      <td id=\"T_499ff_row3_col0\" class=\"data row3 col0\" >10%</td>\n",
       "      <td id=\"T_499ff_row3_col1\" class=\"data row3 col1\" >0%</td>\n",
       "      <td id=\"T_499ff_row3_col2\" class=\"data row3 col2\" >2.2%</td>\n",
       "    </tr>\n",
       "    <tr>\n",
       "      <th id=\"T_499ff_level0_row4\" class=\"row_heading level0 row4\" >    No information</th>\n",
       "      <td id=\"T_499ff_row4_col0\" class=\"data row4 col0\" >15%</td>\n",
       "      <td id=\"T_499ff_row4_col1\" class=\"data row4 col1\" >9%</td>\n",
       "      <td id=\"T_499ff_row4_col2\" class=\"data row4 col2\" >7.8%</td>\n",
       "    </tr>\n",
       "    <tr>\n",
       "      <th id=\"T_499ff_level0_row5\" class=\"row_heading level0 row5\" ><b>Works as a prophylactic</b></th>\n",
       "      <td id=\"T_499ff_row5_col0\" class=\"data row5 col0\" ></td>\n",
       "      <td id=\"T_499ff_row5_col1\" class=\"data row5 col1\" ></td>\n",
       "      <td id=\"T_499ff_row5_col2\" class=\"data row5 col2\" ></td>\n",
       "    </tr>\n",
       "    <tr>\n",
       "      <th id=\"T_499ff_level0_row6\" class=\"row_heading level0 row6\" >    Yes</th>\n",
       "      <td id=\"T_499ff_row6_col0\" class=\"data row6 col0\" >22.5%</td>\n",
       "      <td id=\"T_499ff_row6_col1\" class=\"data row6 col1\" >66.9%</td>\n",
       "      <td id=\"T_499ff_row6_col2\" class=\"data row6 col2\" >25.6%</td>\n",
       "    </tr>\n",
       "    <tr>\n",
       "      <th id=\"T_499ff_level0_row7\" class=\"row_heading level0 row7\" >    No</th>\n",
       "      <td id=\"T_499ff_row7_col0\" class=\"data row7 col0\" >5%</td>\n",
       "      <td id=\"T_499ff_row7_col1\" class=\"data row7 col1\" >0%</td>\n",
       "      <td id=\"T_499ff_row7_col2\" class=\"data row7 col2\" >1.1%</td>\n",
       "    </tr>\n",
       "    <tr>\n",
       "      <th id=\"T_499ff_level0_row8\" class=\"row_heading level0 row8\" >    No information</th>\n",
       "      <td id=\"T_499ff_row8_col0\" class=\"data row8 col0\" >72.5%</td>\n",
       "      <td id=\"T_499ff_row8_col1\" class=\"data row8 col1\" >33.1%</td>\n",
       "      <td id=\"T_499ff_row8_col2\" class=\"data row8 col2\" >73.3%</td>\n",
       "    </tr>\n",
       "    <tr>\n",
       "      <th id=\"T_499ff_level0_row9\" class=\"row_heading level0 row9\" ><b>Side effects mentioned</b></th>\n",
       "      <td id=\"T_499ff_row9_col0\" class=\"data row9 col0\" ></td>\n",
       "      <td id=\"T_499ff_row9_col1\" class=\"data row9 col1\" ></td>\n",
       "      <td id=\"T_499ff_row9_col2\" class=\"data row9 col2\" ></td>\n",
       "    </tr>\n",
       "    <tr>\n",
       "      <th id=\"T_499ff_level0_row10\" class=\"row_heading level0 row10\" >    Yes</th>\n",
       "      <td id=\"T_499ff_row10_col0\" class=\"data row10 col0\" >7.5%</td>\n",
       "      <td id=\"T_499ff_row10_col1\" class=\"data row10 col1\" >3.8%</td>\n",
       "      <td id=\"T_499ff_row10_col2\" class=\"data row10 col2\" >5.6%</td>\n",
       "    </tr>\n",
       "    <tr>\n",
       "      <th id=\"T_499ff_level0_row11\" class=\"row_heading level0 row11\" >    No</th>\n",
       "      <td id=\"T_499ff_row11_col0\" class=\"data row11 col0\" >0%</td>\n",
       "      <td id=\"T_499ff_row11_col1\" class=\"data row11 col1\" >0%</td>\n",
       "      <td id=\"T_499ff_row11_col2\" class=\"data row11 col2\" >0%</td>\n",
       "    </tr>\n",
       "    <tr>\n",
       "      <th id=\"T_499ff_level0_row12\" class=\"row_heading level0 row12\" >    No information</th>\n",
       "      <td id=\"T_499ff_row12_col0\" class=\"data row12 col0\" >92.5%</td>\n",
       "      <td id=\"T_499ff_row12_col1\" class=\"data row12 col1\" >96.2%</td>\n",
       "      <td id=\"T_499ff_row12_col2\" class=\"data row12 col2\" >94.4%</td>\n",
       "    </tr>\n",
       "    <tr>\n",
       "      <th id=\"T_499ff_level0_row13\" class=\"row_heading level0 row13\" ><b>Asserts significant pain reduction</b></th>\n",
       "      <td id=\"T_499ff_row13_col0\" class=\"data row13 col0\" ></td>\n",
       "      <td id=\"T_499ff_row13_col1\" class=\"data row13 col1\" ></td>\n",
       "      <td id=\"T_499ff_row13_col2\" class=\"data row13 col2\" ></td>\n",
       "    </tr>\n",
       "    <tr>\n",
       "      <th id=\"T_499ff_level0_row14\" class=\"row_heading level0 row14\" >    Yes</th>\n",
       "      <td id=\"T_499ff_row14_col0\" class=\"data row14 col0\" >27.5%</td>\n",
       "      <td id=\"T_499ff_row14_col1\" class=\"data row14 col1\" >9%</td>\n",
       "      <td id=\"T_499ff_row14_col2\" class=\"data row14 col2\" >47.8%</td>\n",
       "    </tr>\n",
       "    <tr>\n",
       "      <th id=\"T_499ff_level0_row15\" class=\"row_heading level0 row15\" >    No</th>\n",
       "      <td id=\"T_499ff_row15_col0\" class=\"data row15 col0\" >7.5%</td>\n",
       "      <td id=\"T_499ff_row15_col1\" class=\"data row15 col1\" >0%</td>\n",
       "      <td id=\"T_499ff_row15_col2\" class=\"data row15 col2\" >3.3%</td>\n",
       "    </tr>\n",
       "    <tr>\n",
       "      <th id=\"T_499ff_level0_row16\" class=\"row_heading level0 row16\" >    No information</th>\n",
       "      <td id=\"T_499ff_row16_col0\" class=\"data row16 col0\" >65%</td>\n",
       "      <td id=\"T_499ff_row16_col1\" class=\"data row16 col1\" >91%</td>\n",
       "      <td id=\"T_499ff_row16_col2\" class=\"data row16 col2\" >48.9%</td>\n",
       "    </tr>\n",
       "    <tr>\n",
       "      <th id=\"T_499ff_level0_row17\" class=\"row_heading level0 row17\" ><b>Mentions breaking of stones</b></th>\n",
       "      <td id=\"T_499ff_row17_col0\" class=\"data row17 col0\" ></td>\n",
       "      <td id=\"T_499ff_row17_col1\" class=\"data row17 col1\" ></td>\n",
       "      <td id=\"T_499ff_row17_col2\" class=\"data row17 col2\" ></td>\n",
       "    </tr>\n",
       "    <tr>\n",
       "      <th id=\"T_499ff_level0_row18\" class=\"row_heading level0 row18\" >    Yes</th>\n",
       "      <td id=\"T_499ff_row18_col0\" class=\"data row18 col0\" >5%</td>\n",
       "      <td id=\"T_499ff_row18_col1\" class=\"data row18 col1\" >1.5%</td>\n",
       "      <td id=\"T_499ff_row18_col2\" class=\"data row18 col2\" >7.8%</td>\n",
       "    </tr>\n",
       "    <tr>\n",
       "      <th id=\"T_499ff_level0_row19\" class=\"row_heading level0 row19\" >    No</th>\n",
       "      <td id=\"T_499ff_row19_col0\" class=\"data row19 col0\" >0%</td>\n",
       "      <td id=\"T_499ff_row19_col1\" class=\"data row19 col1\" >0%</td>\n",
       "      <td id=\"T_499ff_row19_col2\" class=\"data row19 col2\" >3.3%</td>\n",
       "    </tr>\n",
       "    <tr>\n",
       "      <th id=\"T_499ff_level0_row20\" class=\"row_heading level0 row20\" >    No information</th>\n",
       "      <td id=\"T_499ff_row20_col0\" class=\"data row20 col0\" >95%</td>\n",
       "      <td id=\"T_499ff_row20_col1\" class=\"data row20 col1\" >98.5%</td>\n",
       "      <td id=\"T_499ff_row20_col2\" class=\"data row20 col2\" >88.9%</td>\n",
       "    </tr>\n",
       "    <tr>\n",
       "      <th id=\"T_499ff_level0_row21\" class=\"row_heading level0 row21\" ><b>Mentions shrinking of the stones</b></th>\n",
       "      <td id=\"T_499ff_row21_col0\" class=\"data row21 col0\" ></td>\n",
       "      <td id=\"T_499ff_row21_col1\" class=\"data row21 col1\" ></td>\n",
       "      <td id=\"T_499ff_row21_col2\" class=\"data row21 col2\" ></td>\n",
       "    </tr>\n",
       "    <tr>\n",
       "      <th id=\"T_499ff_level0_row22\" class=\"row_heading level0 row22\" >    Yes</th>\n",
       "      <td id=\"T_499ff_row22_col0\" class=\"data row22 col0\" >5%</td>\n",
       "      <td id=\"T_499ff_row22_col1\" class=\"data row22 col1\" >1.5%</td>\n",
       "      <td id=\"T_499ff_row22_col2\" class=\"data row22 col2\" >7.8%</td>\n",
       "    </tr>\n",
       "    <tr>\n",
       "      <th id=\"T_499ff_level0_row23\" class=\"row_heading level0 row23\" >    No</th>\n",
       "      <td id=\"T_499ff_row23_col0\" class=\"data row23 col0\" >2.5%</td>\n",
       "      <td id=\"T_499ff_row23_col1\" class=\"data row23 col1\" >1.5%</td>\n",
       "      <td id=\"T_499ff_row23_col2\" class=\"data row23 col2\" >3.3%</td>\n",
       "    </tr>\n",
       "    <tr>\n",
       "      <th id=\"T_499ff_level0_row24\" class=\"row_heading level0 row24\" >    No information</th>\n",
       "      <td id=\"T_499ff_row24_col0\" class=\"data row24 col0\" >92.5%</td>\n",
       "      <td id=\"T_499ff_row24_col1\" class=\"data row24 col1\" >97%</td>\n",
       "      <td id=\"T_499ff_row24_col2\" class=\"data row24 col2\" >88.9%</td>\n",
       "    </tr>\n",
       "    <tr>\n",
       "      <th id=\"T_499ff_level0_row25\" class=\"row_heading level0 row25\" ><b>Mentions softening of stones</b></th>\n",
       "      <td id=\"T_499ff_row25_col0\" class=\"data row25 col0\" ></td>\n",
       "      <td id=\"T_499ff_row25_col1\" class=\"data row25 col1\" ></td>\n",
       "      <td id=\"T_499ff_row25_col2\" class=\"data row25 col2\" ></td>\n",
       "    </tr>\n",
       "    <tr>\n",
       "      <th id=\"T_499ff_level0_row26\" class=\"row_heading level0 row26\" >    Yes</th>\n",
       "      <td id=\"T_499ff_row26_col0\" class=\"data row26 col0\" >7.5%</td>\n",
       "      <td id=\"T_499ff_row26_col1\" class=\"data row26 col1\" >0%</td>\n",
       "      <td id=\"T_499ff_row26_col2\" class=\"data row26 col2\" >5.6%</td>\n",
       "    </tr>\n",
       "    <tr>\n",
       "      <th id=\"T_499ff_level0_row27\" class=\"row_heading level0 row27\" >    No</th>\n",
       "      <td id=\"T_499ff_row27_col0\" class=\"data row27 col0\" >0%</td>\n",
       "      <td id=\"T_499ff_row27_col1\" class=\"data row27 col1\" >0%</td>\n",
       "      <td id=\"T_499ff_row27_col2\" class=\"data row27 col2\" >3.3%</td>\n",
       "    </tr>\n",
       "    <tr>\n",
       "      <th id=\"T_499ff_level0_row28\" class=\"row_heading level0 row28\" >    No information</th>\n",
       "      <td id=\"T_499ff_row28_col0\" class=\"data row28 col0\" >92.5%</td>\n",
       "      <td id=\"T_499ff_row28_col1\" class=\"data row28 col1\" >100%</td>\n",
       "      <td id=\"T_499ff_row28_col2\" class=\"data row28 col2\" >91.1%</td>\n",
       "    </tr>\n",
       "    <tr>\n",
       "      <th id=\"T_499ff_level0_row29\" class=\"row_heading level0 row29\" ><b>Stone passed with no or almost no pain</b></th>\n",
       "      <td id=\"T_499ff_row29_col0\" class=\"data row29 col0\" ></td>\n",
       "      <td id=\"T_499ff_row29_col1\" class=\"data row29 col1\" ></td>\n",
       "      <td id=\"T_499ff_row29_col2\" class=\"data row29 col2\" ></td>\n",
       "    </tr>\n",
       "    <tr>\n",
       "      <th id=\"T_499ff_level0_row30\" class=\"row_heading level0 row30\" >    Yes</th>\n",
       "      <td id=\"T_499ff_row30_col0\" class=\"data row30 col0\" >7.5%</td>\n",
       "      <td id=\"T_499ff_row30_col1\" class=\"data row30 col1\" >0%</td>\n",
       "      <td id=\"T_499ff_row30_col2\" class=\"data row30 col2\" >21.1%</td>\n",
       "    </tr>\n",
       "    <tr>\n",
       "      <th id=\"T_499ff_level0_row31\" class=\"row_heading level0 row31\" >    No</th>\n",
       "      <td id=\"T_499ff_row31_col0\" class=\"data row31 col0\" >2.5%</td>\n",
       "      <td id=\"T_499ff_row31_col1\" class=\"data row31 col1\" >0%</td>\n",
       "      <td id=\"T_499ff_row31_col2\" class=\"data row31 col2\" >2.2%</td>\n",
       "    </tr>\n",
       "    <tr>\n",
       "      <th id=\"T_499ff_level0_row32\" class=\"row_heading level0 row32\" >    No information</th>\n",
       "      <td id=\"T_499ff_row32_col0\" class=\"data row32 col0\" >90%</td>\n",
       "      <td id=\"T_499ff_row32_col1\" class=\"data row32 col1\" >100%</td>\n",
       "      <td id=\"T_499ff_row32_col2\" class=\"data row32 col2\" >76.7%</td>\n",
       "    </tr>\n",
       "    <tr>\n",
       "      <th id=\"T_499ff_level0_row33\" class=\"row_heading level0 row33\" ><b>Promotes specific brand</b></th>\n",
       "      <td id=\"T_499ff_row33_col0\" class=\"data row33 col0\" ></td>\n",
       "      <td id=\"T_499ff_row33_col1\" class=\"data row33 col1\" ></td>\n",
       "      <td id=\"T_499ff_row33_col2\" class=\"data row33 col2\" ></td>\n",
       "    </tr>\n",
       "    <tr>\n",
       "      <th id=\"T_499ff_level0_row34\" class=\"row_heading level0 row34\" >    Yes</th>\n",
       "      <td id=\"T_499ff_row34_col0\" class=\"data row34 col0\" >17.5%</td>\n",
       "      <td id=\"T_499ff_row34_col1\" class=\"data row34 col1\" >2.3%</td>\n",
       "      <td id=\"T_499ff_row34_col2\" class=\"data row34 col2\" >35.6%</td>\n",
       "    </tr>\n",
       "    <tr>\n",
       "      <th id=\"T_499ff_level0_row35\" class=\"row_heading level0 row35\" >    No</th>\n",
       "      <td id=\"T_499ff_row35_col0\" class=\"data row35 col0\" >0%</td>\n",
       "      <td id=\"T_499ff_row35_col1\" class=\"data row35 col1\" >0%</td>\n",
       "      <td id=\"T_499ff_row35_col2\" class=\"data row35 col2\" >0%</td>\n",
       "    </tr>\n",
       "    <tr>\n",
       "      <th id=\"T_499ff_level0_row36\" class=\"row_heading level0 row36\" >    No information</th>\n",
       "      <td id=\"T_499ff_row36_col0\" class=\"data row36 col0\" >82.5%</td>\n",
       "      <td id=\"T_499ff_row36_col1\" class=\"data row36 col1\" >97.7%</td>\n",
       "      <td id=\"T_499ff_row36_col2\" class=\"data row36 col2\" >64.4%</td>\n",
       "    </tr>\n",
       "  </tbody>\n",
       "</table>\n"
      ],
      "text/plain": [
       "<pandas.io.formats.style.Styler at 0x135b48a70>"
      ]
     },
     "metadata": {},
     "output_type": "display_data"
    }
   ],
   "source": [
    "amazon_medicine_mapping = {\n",
    "    'Potassium citrate': 'Potassium Cit.'\n",
    "}\n",
    "\n",
    "amazon_medicines_to_exclude = ['Chanca piedra']\n",
    "\n",
    "# Generate and display statistics\n",
    "display_df = calculate_stats(\n",
    "    dfa, \n",
    "    columns_to_analyze,\n",
    "    medicines_to_exclude=amazon_medicines_to_exclude,\n",
    "    medicine_mapping=amazon_medicine_mapping\n",
    ")\n",
    "display(style_dataframe(display_df))"
   ]
  },
  {
   "cell_type": "code",
   "execution_count": 25,
   "metadata": {},
   "outputs": [],
   "source": [
    "def calculate_stats_by_rating(df, columns_to_analyze, medicine_name, ratings, sources_to_exclude=None):\n",
    "    \"\"\"Calculate statistics for specific ratings of a medicine.\"\"\"\n",
    "    rating_dfs = {}\n",
    "    \n",
    "    for rating in ratings:\n",
    "        filtered_df = df[(df['Medicine'] == medicine_name) & (df['Stars'] == rating)]\n",
    "        \n",
    "        if sources_to_exclude:\n",
    "            filtered_df = filtered_df[~filtered_df['Source'].isin(sources_to_exclude)]\n",
    "        \n",
    "        summary = pd.DataFrame({\n",
    "            'Medicine': [f'{medicine_name} ({rating}-star reviews)'],\n",
    "            'total_reviews': [len(filtered_df)]\n",
    "        })\n",
    "        \n",
    "        for col in columns_to_analyze:\n",
    "            summary[f'{col}_positive'] = [sum(\n",
    "                1 for val in filtered_df[col] if val == 1 or (isinstance(val, str) and val.strip())\n",
    "            )]\n",
    "            summary[f'{col}_negative'] = [sum(\n",
    "                1 for val in filtered_df[col] if val == 0\n",
    "            )]\n",
    "            \n",
    "            total = summary['total_reviews'].iloc[0]\n",
    "            if total > 0:\n",
    "                summary[f'{col}_positive_pct'] = (summary[f'{col}_positive'] / total * 100).round(1)\n",
    "                summary[f'{col}_negative_pct'] = (summary[f'{col}_negative'] / total * 100).round(1)\n",
    "                summary[f'{col}_no_info_pct'] = (\n",
    "                    (total - summary[f'{col}_positive'] - summary[f'{col}_negative']) \n",
    "                    / total * 100\n",
    "                ).round(1)\n",
    "            else:\n",
    "                summary[f'{col}_positive_pct'] = 0\n",
    "                summary[f'{col}_negative_pct'] = 0\n",
    "                summary[f'{col}_no_info_pct'] = 0\n",
    "                \n",
    "        rating_dfs[rating] = summary\n",
    "    \n",
    "    transposed_data = {\n",
    "        ' ': ['<b>Total Reviews</b>'] + \n",
    "            sum([[f'<b>{col}</b>', \n",
    "                 '    Yes', \n",
    "                 '    No', \n",
    "                 '    No information'] \n",
    "                for col in columns_to_analyze], [])\n",
    "    }\n",
    "    \n",
    "    for rating in ratings:\n",
    "        summary = rating_dfs[rating]\n",
    "        transposed_data[summary['Medicine'].iloc[0]] = [\n",
    "            summary['total_reviews'].iloc[0]] + sum([[\n",
    "                '',\n",
    "                summary[f'{col}_positive_pct'].iloc[0],\n",
    "                summary[f'{col}_negative_pct'].iloc[0],\n",
    "                summary[f'{col}_no_info_pct'].iloc[0]\n",
    "            ] for col in columns_to_analyze], [])\n",
    "    \n",
    "    return pd.DataFrame(transposed_data).set_index(' ')\n"
   ]
  },
  {
   "cell_type": "code",
   "execution_count": 26,
   "metadata": {},
   "outputs": [
    {
     "data": {
      "text/html": [
       "<style type=\"text/css\">\n",
       "#T_ec6ad  {\n",
       "  color: black;\n",
       "}\n",
       "</style>\n",
       "<table id=\"T_ec6ad\">\n",
       "  <thead>\n",
       "    <tr>\n",
       "      <th class=\"blank level0\" >&nbsp;</th>\n",
       "      <th id=\"T_ec6ad_level0_col0\" class=\"col_heading level0 col0\" >Chanca piedra (1-star reviews)</th>\n",
       "      <th id=\"T_ec6ad_level0_col1\" class=\"col_heading level0 col1\" >Chanca piedra (5-star reviews)</th>\n",
       "    </tr>\n",
       "    <tr>\n",
       "      <th class=\"index_name level0\" > </th>\n",
       "      <th class=\"blank col0\" >&nbsp;</th>\n",
       "      <th class=\"blank col1\" >&nbsp;</th>\n",
       "    </tr>\n",
       "  </thead>\n",
       "  <tbody>\n",
       "    <tr>\n",
       "      <th id=\"T_ec6ad_level0_row0\" class=\"row_heading level0 row0\" ><b>Total Reviews</b></th>\n",
       "      <td id=\"T_ec6ad_row0_col0\" class=\"data row0 col0\" >200</td>\n",
       "      <td id=\"T_ec6ad_row0_col1\" class=\"data row0 col1\" >590</td>\n",
       "    </tr>\n",
       "    <tr>\n",
       "      <th id=\"T_ec6ad_level0_row1\" class=\"row_heading level0 row1\" ><b>Helps overall with kidney stones</b></th>\n",
       "      <td id=\"T_ec6ad_row1_col0\" class=\"data row1 col0\" ></td>\n",
       "      <td id=\"T_ec6ad_row1_col1\" class=\"data row1 col1\" ></td>\n",
       "    </tr>\n",
       "    <tr>\n",
       "      <th id=\"T_ec6ad_level0_row2\" class=\"row_heading level0 row2\" >    Yes</th>\n",
       "      <td id=\"T_ec6ad_row2_col0\" class=\"data row2 col0\" >0.5%</td>\n",
       "      <td id=\"T_ec6ad_row2_col1\" class=\"data row2 col1\" >86.3%</td>\n",
       "    </tr>\n",
       "    <tr>\n",
       "      <th id=\"T_ec6ad_level0_row3\" class=\"row_heading level0 row3\" >    No</th>\n",
       "      <td id=\"T_ec6ad_row3_col0\" class=\"data row3 col0\" >87.5%</td>\n",
       "      <td id=\"T_ec6ad_row3_col1\" class=\"data row3 col1\" >0.3%</td>\n",
       "    </tr>\n",
       "    <tr>\n",
       "      <th id=\"T_ec6ad_level0_row4\" class=\"row_heading level0 row4\" >    No information</th>\n",
       "      <td id=\"T_ec6ad_row4_col0\" class=\"data row4 col0\" >12%</td>\n",
       "      <td id=\"T_ec6ad_row4_col1\" class=\"data row4 col1\" >13.4%</td>\n",
       "    </tr>\n",
       "    <tr>\n",
       "      <th id=\"T_ec6ad_level0_row5\" class=\"row_heading level0 row5\" ><b>Works as a prophylactic</b></th>\n",
       "      <td id=\"T_ec6ad_row5_col0\" class=\"data row5 col0\" ></td>\n",
       "      <td id=\"T_ec6ad_row5_col1\" class=\"data row5 col1\" ></td>\n",
       "    </tr>\n",
       "    <tr>\n",
       "      <th id=\"T_ec6ad_level0_row6\" class=\"row_heading level0 row6\" >    Yes</th>\n",
       "      <td id=\"T_ec6ad_row6_col0\" class=\"data row6 col0\" >0%</td>\n",
       "      <td id=\"T_ec6ad_row6_col1\" class=\"data row6 col1\" >21%</td>\n",
       "    </tr>\n",
       "    <tr>\n",
       "      <th id=\"T_ec6ad_level0_row7\" class=\"row_heading level0 row7\" >    No</th>\n",
       "      <td id=\"T_ec6ad_row7_col0\" class=\"data row7 col0\" >1.5%</td>\n",
       "      <td id=\"T_ec6ad_row7_col1\" class=\"data row7 col1\" >0.5%</td>\n",
       "    </tr>\n",
       "    <tr>\n",
       "      <th id=\"T_ec6ad_level0_row8\" class=\"row_heading level0 row8\" >    No information</th>\n",
       "      <td id=\"T_ec6ad_row8_col0\" class=\"data row8 col0\" >98.5%</td>\n",
       "      <td id=\"T_ec6ad_row8_col1\" class=\"data row8 col1\" >78.5%</td>\n",
       "    </tr>\n",
       "    <tr>\n",
       "      <th id=\"T_ec6ad_level0_row9\" class=\"row_heading level0 row9\" ><b>Side effects mentioned</b></th>\n",
       "      <td id=\"T_ec6ad_row9_col0\" class=\"data row9 col0\" ></td>\n",
       "      <td id=\"T_ec6ad_row9_col1\" class=\"data row9 col1\" ></td>\n",
       "    </tr>\n",
       "    <tr>\n",
       "      <th id=\"T_ec6ad_level0_row10\" class=\"row_heading level0 row10\" >    Yes</th>\n",
       "      <td id=\"T_ec6ad_row10_col0\" class=\"data row10 col0\" >16%</td>\n",
       "      <td id=\"T_ec6ad_row10_col1\" class=\"data row10 col1\" >1.9%</td>\n",
       "    </tr>\n",
       "    <tr>\n",
       "      <th id=\"T_ec6ad_level0_row11\" class=\"row_heading level0 row11\" >    No</th>\n",
       "      <td id=\"T_ec6ad_row11_col0\" class=\"data row11 col0\" >0%</td>\n",
       "      <td id=\"T_ec6ad_row11_col1\" class=\"data row11 col1\" >0%</td>\n",
       "    </tr>\n",
       "    <tr>\n",
       "      <th id=\"T_ec6ad_level0_row12\" class=\"row_heading level0 row12\" >    No information</th>\n",
       "      <td id=\"T_ec6ad_row12_col0\" class=\"data row12 col0\" >84%</td>\n",
       "      <td id=\"T_ec6ad_row12_col1\" class=\"data row12 col1\" >98.1%</td>\n",
       "    </tr>\n",
       "    <tr>\n",
       "      <th id=\"T_ec6ad_level0_row13\" class=\"row_heading level0 row13\" ><b>Asserts significant pain reduction</b></th>\n",
       "      <td id=\"T_ec6ad_row13_col0\" class=\"data row13 col0\" ></td>\n",
       "      <td id=\"T_ec6ad_row13_col1\" class=\"data row13 col1\" ></td>\n",
       "    </tr>\n",
       "    <tr>\n",
       "      <th id=\"T_ec6ad_level0_row14\" class=\"row_heading level0 row14\" >    Yes</th>\n",
       "      <td id=\"T_ec6ad_row14_col0\" class=\"data row14 col0\" >1.5%</td>\n",
       "      <td id=\"T_ec6ad_row14_col1\" class=\"data row14 col1\" >40.8%</td>\n",
       "    </tr>\n",
       "    <tr>\n",
       "      <th id=\"T_ec6ad_level0_row15\" class=\"row_heading level0 row15\" >    No</th>\n",
       "      <td id=\"T_ec6ad_row15_col0\" class=\"data row15 col0\" >18.5%</td>\n",
       "      <td id=\"T_ec6ad_row15_col1\" class=\"data row15 col1\" >0.2%</td>\n",
       "    </tr>\n",
       "    <tr>\n",
       "      <th id=\"T_ec6ad_level0_row16\" class=\"row_heading level0 row16\" >    No information</th>\n",
       "      <td id=\"T_ec6ad_row16_col0\" class=\"data row16 col0\" >80%</td>\n",
       "      <td id=\"T_ec6ad_row16_col1\" class=\"data row16 col1\" >59%</td>\n",
       "    </tr>\n",
       "    <tr>\n",
       "      <th id=\"T_ec6ad_level0_row17\" class=\"row_heading level0 row17\" ><b>Mentions breaking of stones</b></th>\n",
       "      <td id=\"T_ec6ad_row17_col0\" class=\"data row17 col0\" ></td>\n",
       "      <td id=\"T_ec6ad_row17_col1\" class=\"data row17 col1\" ></td>\n",
       "    </tr>\n",
       "    <tr>\n",
       "      <th id=\"T_ec6ad_level0_row18\" class=\"row_heading level0 row18\" >    Yes</th>\n",
       "      <td id=\"T_ec6ad_row18_col0\" class=\"data row18 col0\" >1%</td>\n",
       "      <td id=\"T_ec6ad_row18_col1\" class=\"data row18 col1\" >12.4%</td>\n",
       "    </tr>\n",
       "    <tr>\n",
       "      <th id=\"T_ec6ad_level0_row19\" class=\"row_heading level0 row19\" >    No</th>\n",
       "      <td id=\"T_ec6ad_row19_col0\" class=\"data row19 col0\" >11%</td>\n",
       "      <td id=\"T_ec6ad_row19_col1\" class=\"data row19 col1\" >0.2%</td>\n",
       "    </tr>\n",
       "    <tr>\n",
       "      <th id=\"T_ec6ad_level0_row20\" class=\"row_heading level0 row20\" >    No information</th>\n",
       "      <td id=\"T_ec6ad_row20_col0\" class=\"data row20 col0\" >88%</td>\n",
       "      <td id=\"T_ec6ad_row20_col1\" class=\"data row20 col1\" >87.5%</td>\n",
       "    </tr>\n",
       "    <tr>\n",
       "      <th id=\"T_ec6ad_level0_row21\" class=\"row_heading level0 row21\" ><b>Mentions shrinking of the stones</b></th>\n",
       "      <td id=\"T_ec6ad_row21_col0\" class=\"data row21 col0\" ></td>\n",
       "      <td id=\"T_ec6ad_row21_col1\" class=\"data row21 col1\" ></td>\n",
       "    </tr>\n",
       "    <tr>\n",
       "      <th id=\"T_ec6ad_level0_row22\" class=\"row_heading level0 row22\" >    Yes</th>\n",
       "      <td id=\"T_ec6ad_row22_col0\" class=\"data row22 col0\" >0%</td>\n",
       "      <td id=\"T_ec6ad_row22_col1\" class=\"data row22 col1\" >5.9%</td>\n",
       "    </tr>\n",
       "    <tr>\n",
       "      <th id=\"T_ec6ad_level0_row23\" class=\"row_heading level0 row23\" >    No</th>\n",
       "      <td id=\"T_ec6ad_row23_col0\" class=\"data row23 col0\" >18.5%</td>\n",
       "      <td id=\"T_ec6ad_row23_col1\" class=\"data row23 col1\" >0.2%</td>\n",
       "    </tr>\n",
       "    <tr>\n",
       "      <th id=\"T_ec6ad_level0_row24\" class=\"row_heading level0 row24\" >    No information</th>\n",
       "      <td id=\"T_ec6ad_row24_col0\" class=\"data row24 col0\" >81.5%</td>\n",
       "      <td id=\"T_ec6ad_row24_col1\" class=\"data row24 col1\" >93.9%</td>\n",
       "    </tr>\n",
       "    <tr>\n",
       "      <th id=\"T_ec6ad_level0_row25\" class=\"row_heading level0 row25\" ><b>Mentions softening of stones</b></th>\n",
       "      <td id=\"T_ec6ad_row25_col0\" class=\"data row25 col0\" ></td>\n",
       "      <td id=\"T_ec6ad_row25_col1\" class=\"data row25 col1\" ></td>\n",
       "    </tr>\n",
       "    <tr>\n",
       "      <th id=\"T_ec6ad_level0_row26\" class=\"row_heading level0 row26\" >    Yes</th>\n",
       "      <td id=\"T_ec6ad_row26_col0\" class=\"data row26 col0\" >0%</td>\n",
       "      <td id=\"T_ec6ad_row26_col1\" class=\"data row26 col1\" >2%</td>\n",
       "    </tr>\n",
       "    <tr>\n",
       "      <th id=\"T_ec6ad_level0_row27\" class=\"row_heading level0 row27\" >    No</th>\n",
       "      <td id=\"T_ec6ad_row27_col0\" class=\"data row27 col0\" >0.5%</td>\n",
       "      <td id=\"T_ec6ad_row27_col1\" class=\"data row27 col1\" >0.2%</td>\n",
       "    </tr>\n",
       "    <tr>\n",
       "      <th id=\"T_ec6ad_level0_row28\" class=\"row_heading level0 row28\" >    No information</th>\n",
       "      <td id=\"T_ec6ad_row28_col0\" class=\"data row28 col0\" >99.5%</td>\n",
       "      <td id=\"T_ec6ad_row28_col1\" class=\"data row28 col1\" >97.8%</td>\n",
       "    </tr>\n",
       "    <tr>\n",
       "      <th id=\"T_ec6ad_level0_row29\" class=\"row_heading level0 row29\" ><b>Stone passed with no or almost no pain</b></th>\n",
       "      <td id=\"T_ec6ad_row29_col0\" class=\"data row29 col0\" ></td>\n",
       "      <td id=\"T_ec6ad_row29_col1\" class=\"data row29 col1\" ></td>\n",
       "    </tr>\n",
       "    <tr>\n",
       "      <th id=\"T_ec6ad_level0_row30\" class=\"row_heading level0 row30\" >    Yes</th>\n",
       "      <td id=\"T_ec6ad_row30_col0\" class=\"data row30 col0\" >0%</td>\n",
       "      <td id=\"T_ec6ad_row30_col1\" class=\"data row30 col1\" >7.6%</td>\n",
       "    </tr>\n",
       "    <tr>\n",
       "      <th id=\"T_ec6ad_level0_row31\" class=\"row_heading level0 row31\" >    No</th>\n",
       "      <td id=\"T_ec6ad_row31_col0\" class=\"data row31 col0\" >4.5%</td>\n",
       "      <td id=\"T_ec6ad_row31_col1\" class=\"data row31 col1\" >1.2%</td>\n",
       "    </tr>\n",
       "    <tr>\n",
       "      <th id=\"T_ec6ad_level0_row32\" class=\"row_heading level0 row32\" >    No information</th>\n",
       "      <td id=\"T_ec6ad_row32_col0\" class=\"data row32 col0\" >95.5%</td>\n",
       "      <td id=\"T_ec6ad_row32_col1\" class=\"data row32 col1\" >91.2%</td>\n",
       "    </tr>\n",
       "    <tr>\n",
       "      <th id=\"T_ec6ad_level0_row33\" class=\"row_heading level0 row33\" ><b>Promotes specific brand</b></th>\n",
       "      <td id=\"T_ec6ad_row33_col0\" class=\"data row33 col0\" ></td>\n",
       "      <td id=\"T_ec6ad_row33_col1\" class=\"data row33 col1\" ></td>\n",
       "    </tr>\n",
       "    <tr>\n",
       "      <th id=\"T_ec6ad_level0_row34\" class=\"row_heading level0 row34\" >    Yes</th>\n",
       "      <td id=\"T_ec6ad_row34_col0\" class=\"data row34 col0\" >4.5%</td>\n",
       "      <td id=\"T_ec6ad_row34_col1\" class=\"data row34 col1\" >10.8%</td>\n",
       "    </tr>\n",
       "    <tr>\n",
       "      <th id=\"T_ec6ad_level0_row35\" class=\"row_heading level0 row35\" >    No</th>\n",
       "      <td id=\"T_ec6ad_row35_col0\" class=\"data row35 col0\" >0%</td>\n",
       "      <td id=\"T_ec6ad_row35_col1\" class=\"data row35 col1\" >0%</td>\n",
       "    </tr>\n",
       "    <tr>\n",
       "      <th id=\"T_ec6ad_level0_row36\" class=\"row_heading level0 row36\" >    No information</th>\n",
       "      <td id=\"T_ec6ad_row36_col0\" class=\"data row36 col0\" >95.5%</td>\n",
       "      <td id=\"T_ec6ad_row36_col1\" class=\"data row36 col1\" >89.2%</td>\n",
       "    </tr>\n",
       "  </tbody>\n",
       "</table>\n"
      ],
      "text/plain": [
       "<pandas.io.formats.style.Styler at 0x12756ffe0>"
      ]
     },
     "metadata": {},
     "output_type": "display_data"
    }
   ],
   "source": [
    "ratings_display_df = calculate_stats_by_rating(\n",
    "    dfa, \n",
    "    columns_to_analyze, \n",
    "    'Chanca piedra', \n",
    "    [1, 5]\n",
    ")\n",
    "display(style_dataframe(ratings_display_df))"
   ]
  },
  {
   "cell_type": "code",
   "execution_count": null,
   "metadata": {},
   "outputs": [],
   "source": []
  }
 ],
 "metadata": {
  "kernelspec": {
   "display_name": "chanca-env",
   "language": "python",
   "name": "python3"
  },
  "language_info": {
   "codemirror_mode": {
    "name": "ipython",
    "version": 3
   },
   "file_extension": ".py",
   "mimetype": "text/x-python",
   "name": "python",
   "nbconvert_exporter": "python",
   "pygments_lexer": "ipython3",
   "version": "3.12.8"
  }
 },
 "nbformat": 4,
 "nbformat_minor": 4
}
